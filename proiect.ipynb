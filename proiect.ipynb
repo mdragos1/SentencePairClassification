{
 "cells": [
  {
   "cell_type": "markdown",
   "metadata": {},
   "source": [
    "#### Data PreProcess"
   ]
  },
  {
   "cell_type": "code",
   "execution_count": 1,
   "metadata": {},
   "outputs": [
    {
     "name": "stdout",
     "output_type": "stream",
     "text": [
      "d:\\Master\\PracticalMachineLearning\\Proiect1\n"
     ]
    }
   ],
   "source": [
    "import pandas as pd\n",
    "import os\n",
    "print(os.getcwd())"
   ]
  },
  {
   "cell_type": "code",
   "execution_count": 2,
   "metadata": {},
   "outputs": [
    {
     "name": "stdout",
     "output_type": "stream",
     "text": [
      "58114\n"
     ]
    },
    {
     "data": {
      "text/html": [
       "<div>\n",
       "<style scoped>\n",
       "    .dataframe tbody tr th:only-of-type {\n",
       "        vertical-align: middle;\n",
       "    }\n",
       "\n",
       "    .dataframe tbody tr th {\n",
       "        vertical-align: top;\n",
       "    }\n",
       "\n",
       "    .dataframe thead th {\n",
       "        text-align: right;\n",
       "    }\n",
       "</style>\n",
       "<table border=\"1\" class=\"dataframe\">\n",
       "  <thead>\n",
       "    <tr style=\"text-align: right;\">\n",
       "      <th></th>\n",
       "      <th>sentence1</th>\n",
       "      <th>sentence2</th>\n",
       "      <th>label</th>\n",
       "      <th>guid</th>\n",
       "    </tr>\n",
       "  </thead>\n",
       "  <tbody>\n",
       "    <tr>\n",
       "      <th>0</th>\n",
       "      <td>Primul taragotist român a fost Nicolae Luță Io...</td>\n",
       "      <td>Colegiul de arhitectură, artă și planificare (...</td>\n",
       "      <td>3.0</td>\n",
       "      <td>7cec5ac4-c115-4976-8d2a-9badfe9b63b9</td>\n",
       "    </tr>\n",
       "    <tr>\n",
       "      <th>1</th>\n",
       "      <td>Lupta revoluționarilor este condusă de Avram I...</td>\n",
       "      <td>Schiul nordic face parte din programul olimpic...</td>\n",
       "      <td>3.0</td>\n",
       "      <td>bc2fa29f-cf22-4a7c-8b55-9b1ed019f6ac</td>\n",
       "    </tr>\n",
       "    <tr>\n",
       "      <th>2</th>\n",
       "      <td>Locuitorii liberi au devenit „''iobagiones cas...</td>\n",
       "      <td>În anii 1960, ea a apărut în drame realizate l...</td>\n",
       "      <td>3.0</td>\n",
       "      <td>8547b1ef-7bfe-43a9-aedf-bad0c0fbc049</td>\n",
       "    </tr>\n",
       "    <tr>\n",
       "      <th>3</th>\n",
       "      <td>În anul 2002 are loc lansarea în domeniul turi...</td>\n",
       "      <td>Se lansează primul hotel al grupului în otopen...</td>\n",
       "      <td>2.0</td>\n",
       "      <td>0ad1ce19-7aa9-4ddd-b8d6-822072a723b0</td>\n",
       "    </tr>\n",
       "    <tr>\n",
       "      <th>4</th>\n",
       "      <td>Zillich a mijlocit, prin revista ''Klingsor'',...</td>\n",
       "      <td>Au apărut lucrări ale lui ion luca caragiale, ...</td>\n",
       "      <td>2.0</td>\n",
       "      <td>50c44ffa-b0c1-4d98-bc6c-3bbf95f50896</td>\n",
       "    </tr>\n",
       "    <tr>\n",
       "      <th>...</th>\n",
       "      <td>...</td>\n",
       "      <td>...</td>\n",
       "      <td>...</td>\n",
       "      <td>...</td>\n",
       "    </tr>\n",
       "    <tr>\n",
       "      <th>2995</th>\n",
       "      <td>*Totemurile misterioase (Mysetry totems) - sun...</td>\n",
       "      <td>Operațiunea aliată a redus capul de pod german...</td>\n",
       "      <td>NaN</td>\n",
       "      <td>74ca470e-d28a-42dc-bfcc-7f1e57ff042b</td>\n",
       "    </tr>\n",
       "    <tr>\n",
       "      <th>2996</th>\n",
       "      <td>Univers, 1986\\n* ''Ore de dans pentru vârstnic...</td>\n",
       "      <td>Alexandru Ivanovici Tolstoi (1770 — 1857) - ve...</td>\n",
       "      <td>NaN</td>\n",
       "      <td>fc0b744e-c69c-4e8f-9ec8-1495e7a3725c</td>\n",
       "    </tr>\n",
       "    <tr>\n",
       "      <th>2997</th>\n",
       "      <td>Vena hemiazygos și vena accesorie hemiazygos, ...</td>\n",
       "      <td>Vena azygos servește la drenarea majorității v...</td>\n",
       "      <td>NaN</td>\n",
       "      <td>538041fd-c1b7-481a-8a40-272b851ff3c7</td>\n",
       "    </tr>\n",
       "    <tr>\n",
       "      <th>2998</th>\n",
       "      <td>În fapt, arestările din cadrul grupului încep ...</td>\n",
       "      <td>Acesta își propunea doar îngenunchierea credin...</td>\n",
       "      <td>NaN</td>\n",
       "      <td>9b8dcd8c-fef9-4a2d-a170-b972461103d0</td>\n",
       "    </tr>\n",
       "    <tr>\n",
       "      <th>2999</th>\n",
       "      <td>În a doua jumătate a secolului XX, instanțele ...</td>\n",
       "      <td>A apărut noțiunea de interes superior al copil...</td>\n",
       "      <td>NaN</td>\n",
       "      <td>648141bd-447d-437f-8706-81a909b48337</td>\n",
       "    </tr>\n",
       "  </tbody>\n",
       "</table>\n",
       "<p>64173 rows × 4 columns</p>\n",
       "</div>"
      ],
      "text/plain": [
       "                                              sentence1  \\\n",
       "0     Primul taragotist român a fost Nicolae Luță Io...   \n",
       "1     Lupta revoluționarilor este condusă de Avram I...   \n",
       "2     Locuitorii liberi au devenit „''iobagiones cas...   \n",
       "3     În anul 2002 are loc lansarea în domeniul turi...   \n",
       "4     Zillich a mijlocit, prin revista ''Klingsor'',...   \n",
       "...                                                 ...   \n",
       "2995  *Totemurile misterioase (Mysetry totems) - sun...   \n",
       "2996  Univers, 1986\\n* ''Ore de dans pentru vârstnic...   \n",
       "2997  Vena hemiazygos și vena accesorie hemiazygos, ...   \n",
       "2998  În fapt, arestările din cadrul grupului încep ...   \n",
       "2999  În a doua jumătate a secolului XX, instanțele ...   \n",
       "\n",
       "                                              sentence2  label  \\\n",
       "0     Colegiul de arhitectură, artă și planificare (...    3.0   \n",
       "1     Schiul nordic face parte din programul olimpic...    3.0   \n",
       "2     În anii 1960, ea a apărut în drame realizate l...    3.0   \n",
       "3     Se lansează primul hotel al grupului în otopen...    2.0   \n",
       "4     Au apărut lucrări ale lui ion luca caragiale, ...    2.0   \n",
       "...                                                 ...    ...   \n",
       "2995  Operațiunea aliată a redus capul de pod german...    NaN   \n",
       "2996  Alexandru Ivanovici Tolstoi (1770 — 1857) - ve...    NaN   \n",
       "2997  Vena azygos servește la drenarea majorității v...    NaN   \n",
       "2998  Acesta își propunea doar îngenunchierea credin...    NaN   \n",
       "2999  A apărut noțiunea de interes superior al copil...    NaN   \n",
       "\n",
       "                                      guid  \n",
       "0     7cec5ac4-c115-4976-8d2a-9badfe9b63b9  \n",
       "1     bc2fa29f-cf22-4a7c-8b55-9b1ed019f6ac  \n",
       "2     8547b1ef-7bfe-43a9-aedf-bad0c0fbc049  \n",
       "3     0ad1ce19-7aa9-4ddd-b8d6-822072a723b0  \n",
       "4     50c44ffa-b0c1-4d98-bc6c-3bbf95f50896  \n",
       "...                                    ...  \n",
       "2995  74ca470e-d28a-42dc-bfcc-7f1e57ff042b  \n",
       "2996  fc0b744e-c69c-4e8f-9ec8-1495e7a3725c  \n",
       "2997  538041fd-c1b7-481a-8a40-272b851ff3c7  \n",
       "2998  9b8dcd8c-fef9-4a2d-a170-b972461103d0  \n",
       "2999  648141bd-447d-437f-8706-81a909b48337  \n",
       "\n",
       "[64173 rows x 4 columns]"
      ]
     },
     "execution_count": 2,
     "metadata": {},
     "output_type": "execute_result"
    }
   ],
   "source": [
    "df_train = pd.read_json(f'{os.getcwd()}/train.json', lines=False)\n",
    "df_valid = pd.read_json(f'{os.getcwd()}/validation.json', lines=False)\n",
    "df_test = pd.read_json(f'{os.getcwd()}/test.json', lines=False)\n",
    "\n",
    "print(len(df_train))\n",
    "df = pd.concat([df_train, df_valid, df_test])\n",
    "df"
   ]
  },
  {
   "cell_type": "code",
   "execution_count": 3,
   "metadata": {},
   "outputs": [
    {
     "data": {
      "text/plain": [
       "['Primul taragotist român a fost Nicolae Luță Ioviță, originar din Banat. \\n Colegiul de arhitectură, artă și planificare (College of Architecture, Art and Planning) are asigurate studiouri și spații pentru seminare pentru studenți și cadre didactice  pe strada West 17th, lângă Union Square.',\n",
       " 'Lupta revoluționarilor este condusă de Avram Iancu, Ioan Ciurileanu, frații Ioan Rațiu (viitorul memorandist) și Partenie Rațiu, verii lor Ioan Rațiu \"Tribunul\" și Nicolae Mureșan, viitor martir alături de Alexandru Arpadi. \\n Schiul nordic face parte din programul olimpic începând cu Jocurile Olimpice de iarnă din 1924.',\n",
       " \"Locuitorii liberi au devenit „''iobagiones castri''” (iobagi ai cetății) cu certe obligații militare în apărarea marginilor feudei de la Lotru, Turnu Roșu și Tălmaciu. \\n În anii 1960, ea a apărut în drame realizate la televiziune și în trei filme, ultimul fiind „The Pleasure Seekers”, în 1964 și la televiziune, în 1980, ultimul fiind „Scruples”.\",\n",
       " 'În anul 2002 are loc lansarea în domeniul turistic-hotelier. \\n Se lansează primul hotel al grupului în otopeni, la data de 25 august 2003, a cărui investiție s-a ridicat la 3 milioane de euro.',\n",
       " \"Zillich a mijlocit, prin revista ''Klingsor'', debutul multor tineri autori încă necunoscuți, precum și publicarea de traduceri din scriitorii care creau în alte limbi. \\n Au apărut lucrări ale lui ion luca caragiale, barbu ștefănescu delavrancea și lucian blaga într-o publicație de limba germană.\",\n",
       " '[45] [46] Legile adoptate în Statele Unite după ce Palestina a solicitat aderarea la UNESCO și la OMS în aprilie 1989 [47] [48] înseamnă că SUA nu poate contribui financiar la nicio organizație a ONU care acceptă Palestina ca membru cu drepturi depline. \\n 49] [50] drept urmare, sua și-au retras finanțarea, care a reprezentat aproximativ 22% din bugetul unesco.',\n",
       " 'Susținătorii relativismului cultural sugerează că drepturile omului nu sunt toate universale și, într-adevăr, intra în conflict cu unele culturi. \\n Potrivit CV-ului afișat pe site-ul Camerei Deputaților, Ciolacu a absolvit în 1995 Facultatea de Drept a Universității Ecologice din București, cu toate că respectiva facultate a primit autorizare provizorie în mai 1995.',\n",
       " 'Forța aplicată electronului de câmpul electric duce la o accelerație conform formulei : \\n:  \\\\bar  = - e \\\\cdot \\\\bar  = m \\\\cdot \\\\frac } \\n: \\\\;d\\\\bar = - \\\\frac } m \\\\cdot dt\\nAceasta ar duce totuși la o accelerare constantă și, în final, la o viteză infinită. \\n Presupunerea suplimentară este că electronii se confruntă cu obstacole (cum ar fi defecte sau fononi ), care le limitează mișcarea liberă.',\n",
       " 'Securitatea urmărea familiile înstărite din perioada interbelică și căuta orice motiv pentru a le prelua proprietățile și pentru a trimite la închisoare diferiți oameni din această categorie socială. \\n Titlul este justificat deoarece sunt enumerate clădiri care prezintă stilul folosit cu precădere de către arhitect.',\n",
       " \"Tesseractul standard în 4-spațiul euclidian este dat de anvelopa convexă a punctelor (± 1, ± 1, ± 1, ± 1). \\n Constă din puncte:\\n: \\\\ \\nun tesseract este delimitat de opt hiperplane (''x''<sub>i</sub> = ±1).\",\n",
       " 'Pe 3 martie a marcat de două ori într-o victorie scor 5-1 cu Hanovra 96, dând primele sale goluri ca fotbalist profesionist. \\n La vârsta de 18 ani, 11 luni și 7 zile, a devenit cel mai tânăr jucător turc și cel de-al treilea cel mai tânăr jucător de la stuttgart care a reușit să înscrie de două ori într-un singur meci din bundesliga.',\n",
       " 'Sensul acestor noțiuni poate diferi de la la un sistem de drept la altul. \\n Autorizația necesară pentru încheierea unui act juridic poate fi considerată o condiție de formă a actelor sau o condiție de capacitate?',\n",
       " \"A fost un mare fan al sportului, din aceasta cauza a înființat aceste cluburi cu o istorie bogată. \\n * ''Anne Frank: the Biography'', Melissa Muller, postfață de Miep Gies, Bloomsbury 1999.\",\n",
       " \"Podhojni Hrib este o localitate din comuna Velike Lašče,&#32;Slovenia, cu o populație de 37 de locuitori. \\n Instituția a devenit în 1922 ''Conservator de Muzică'' și a fost condus de Albert Metz, urmat de Costin Maximilian.\",\n",
       " \"Vie monastique et confession dogmatique'' (teză de doctorat), Paris 1972,\\n* ''Die charismatische Erneuerung und die Kirchen'', Regensburg 1977,\\n* ''Die Christus-Ikone. \\n Stana Izbașa (n. 5 februarie 1969, Cornea, județul Caraș-Severin) este o cântăreață română de muzică populară și de petrecere din zona Banatului.\",\n",
       " 'Mai poate fi benefică pentru ameliorarea durerii injectarea locală de xilină+steroizi. \\n În 866, l-a însoțit personal pe Ludovic în atacurile acestuia asupra Capuei, Salerno și Amalfi.',\n",
       " 'Ugrešić consideră că literatura nu ar trebui pusă în slujba unui partid sau a unei mișcări politice, ci să se poată dezvolta liber. \\n Este vorba despre o concepție asupra literaturii de tipul „artă pentru artă“.',\n",
       " \"El se trage din familiile unor venerați învățați din lumea hasidismului, fiind unul din nepoții marelui rabin Mordehai din Nadvorna (Nadvirna) (localitate din Galiția, Ucraina) și al rabinului Israel din Hust (localitate din Transcarpatia). \\n Se trasează dreptele ''VC'' și ''VD'': unghiul ''DVC'' este un unghi înscris.\",\n",
       " 'Per etnii, erau 1.528 de moldoveni (37,8%), 982 ucraineni (24,3%), 693 ruși (17,2%, inclusiv 504 rascolnici), 241 bulgari, 165 armeni, 159 evrei, 154 țigani, 66 greci, 15 sârbi și 32 persoane de alte etnii. \\n Stâncile pot să imite forme recunoscute prin procesele aleatoare de formare, intemperii și eroziune.',\n",
       " 'În anul 1513, Biserica Mirăuți (catedrala mitropolitană a Sucevei din acel moment) a fost puternic devastată de un incendiu. \\n A devastării catedralei mitropolitane, domnitorul bogdan al iii-lea al moldovei (1504-1517), fiul lui ștefan cel mare, a început în anul 1514 construirea unei noi biserici cu rol de catedrală mitropolitană.',\n",
       " 'Deținerea unui sortiment mai mare de produse expune comerciantul la riscuri mai mari legate de ritmul de vânzare a unor produse sau cota scăzută de vânzări pe metru pătrat de magazin. \\n Reducerea numărului de linii de produse poate genera o reducere a costurilor grație rulajului mai mare obținut prin eliminarea liniilor greu de vândut și a situațiilor în care unele stocuri sunt epuizate, o reducere a costurilor asociate cu pierderile și inventarul, dar și obținerea unei cote mai mari de vânzări pe metru pătrat, care înseamnă că spațiul este utilizat într-un mod mai eficient.',\n",
       " \"Cărți (33 de volume publicate):\\n* ''Opera românească'' (2 volume, 1962)\\n* ''Oedipul enescian'' (1967) (carte recompensată cu Premiul Academiei Române)\\n* ''Hronicul muzicii românești'' (9 volume, publicate între 1973-1991)\\n* ''Hronicul Operei Române din București'' (3 volume: 2003, 2017, 2017)\\n* ''Universul muzicii românești - Uniunea Compozitorilor și Muzicologilor din România (1920-1995)'' - două ediții diferite, în 1995 și în 2020. \\n ''Anoploscelus'' este un gen de păianjeni din familia Theraphosidae.\",\n",
       " 'Daniel Lambru - Mișcarea Legionară în perioada 23 august 1944 – 15 mai 1948. \\n Aurul Brad a câștigat Cupa României, faza pe județ, în sezonul 2012-2013.',\n",
       " 'Istoricul Dinu C. Giurescu afirmă că  a fost o fraudă minuțios pregătită. \\n Saint-Genis-Laval este o comună în departamentul Rhône din sud-estul Franței.',\n",
       " \"Cu toate acestea, tehnica de pliere a petalelor a devenit un hobby popular, datorită cărților de instrucțiuni, seturilor educative și lecțiilor din surse precum Muzeul Tsumami Kanzashi din Shinjuku. \\n Unii studenți au ocolit sistemul tradițional de ucenicie pentru a se stabili ca artizani profesioniști independenți ai ''tsumami kanzashi'' din japonia.\",\n",
       " 'Cifra include fondurile aprobate pentru construcția ce urma să fie terminată în 2013. \\n Suma nu include costurile de construcție legate de segmentul lučko–bosiljevo&nbsp;2 întrucât acea secțiune a fost finanțată ca parte a proiectului autostrăzii rijeka–zagreb prin , operatorul actual al acelui sector.',\n",
       " 'Membrii Primei Fundații cred că locația celei de-A Doua Fundații este tot pe Terminus, deoarece interpretează amplasarea ei \"la celălalt capăt al galaxiei\" ca un indiciu că, după ce a înconjurat discul galactic, călătorul își va termina periplul în punctul de plecare. \\n După ce îi prind pe cei 50 e agenți mentaliști de pe terminus, pentru contracararea cărora inventează un dispozitiv care le bruiază abilitățile telepatice și le cauzează chinuri groaznice, ei consideră rezolvată problema celei de-a doua fundații.',\n",
       " 'I-a urmat ca dirijor lui Hans von Bülow la conducerea orchestrei din Meiningen. \\n * aer lichid - lichid obținut prin răcirea aerului până sub temperatura de -183°C la presiune normală, care este folosit pentru separarea elementelor sale componente.',\n",
       " 'Conform sunniților, Profetul nu a numit nici un succesor al său, iar această decizie va rămâne în mâinile lor. \\n Șiiții mergeau pe idea că imamul, că succesor al profetului trebuie să îndeplinească cele două roluri menționate mai sus, să aplica shari’a și  să îi conducă pe oameni la rugăciune, ca un călăuzitor spiritual.',\n",
       " 'Pe parcursul seriei, aceasta începe să se îndoiască de faptul că acțiunile lui Ai ar fi greșite. \\n Projan este o comună în departamentul Gers din sudul Franței.',\n",
       " 'Petrescu poezia se înscrie în etapa a treia a creației eminesciane, perioada marilor antume bazate pe sinteza între filosofia lui Hegel și cea a lui Schopenhauer. \\n Poetul care odinioară era un orfeu, un profet înțeles ca mesia care putea reînvia, devine acum un christ vândut diavolului, „alungat din orizont, în orizont”,un „geniu pustiu” marcat de viziunea tragică asupra existenței prin „categoriile negativiste” (hugo friedrich): alienare, dedublare, sciziunea eului, transcendență goală, angoasă, melancolie etc.',\n",
       " 'Cu toate acestea, extensia mărcii are și anumite dezavantaje. \\n În 20 martie 2021 papa Francisc l-a numit episcop titular de Truentum și episcop auxiliar al Diecezei de Roma.',\n",
       " '* Soldații turci au „ghidat” focul prin cartierele grec și european ale Smirnei turnând lichide inflamabile pe străzi. \\n De lichide au fost turnate în fața consulatului american, după cum depun mărturie c. clafun david, președintele comitetului de ajutorare în caz de dezastru al crucii roșii, și alți martori prezenți în fața consulatului american.',\n",
       " 'În anul 1737 episcopul Inocențiu Micu-Klein a efectuat un schimb de proprietăți cu fiscul imperial, cedând în schimbul domeniului și castelului din Blaj domeniile Gherlei și Sâmbetei de Jos. \\n A reușit mutarea sediului episcopal de la făgăraș la blaj, păstrând pentru sine și pentru succesorii săi titlul de „episcop de făgăraș”.',\n",
       " \"Albastru Meldola este un colorant de tip fenoxazinic, utilizat ca mediator redox în determinările amperometrice ale NADH, a substratelor pentru dehidrogenază de tipul anionului NH<sub>4</sub><sup>+</sup>, lactat și pentru determinarea secvențelor specifice din molecula de ADN. \\n Aius;\\n* 2007 - ''Salata: aperitiv pentru un festin teatral cu Polifemi și Parangheliști'', teatru.\",\n",
       " 'Dar noile adaptări legate de condițiile de viață într-un regim comunist totalitar, așa cum se vede acum după dispariția lui, a lăsat urmări grave, foarte multe dăunătoare mentalității oamenilor. \\n Principala concluzie: celibatarul fără resurse este perceput în mod negativ în comparație cu cel care este cap de familie și primește o remunerație considerabilă care este apreciat.',\n",
       " 'Lichidul din fluxul sanguin se scurge în cavitățile organismului, prin pereții vaselor sanguine mici. \\n În organism circulă mai puțin sânge, prin intermediul vaselor sanguine.',\n",
       " 'Cu toate că, pentru Little Boy s-a folosit același sistem de detonare în aer folosit și pentru Fat Man (\"Grăsanul\"), bomba continua să fie periculoasă pentru cei care o manevrau. \\n Capitanul william “deke” parsons, a hotărât ca explozibilul convențional (cordită), urma să fie pus în bombă după decolarea avionului.',\n",
       " 'Schimbul de particule din sistemul cu două particule identice (care este echivalent matematic cu rotația fiecărei particule cu 180 de grade) are ca rezultat schimbarea semnului funcției de undă a sistemului (când particulele au spin semiîntreg) sau nu (când particulele au spin întreg). \\n Două particule identice cu spin semiîntreg nu pot fi în același loc cuantic - pentru că funcția de undă a unui astfel de sistem ar trebui să fie egală cu opusul său - și singura funcție de undă care satisface această condiție este funcția de undă nulă.',\n",
       " \"Desenele în tus se bazează pe siguranța și fluența liniei. \\n Conform Catalogue of Life specia ''Lispocephala lanaiensis'' nu are subspecii cunoscute.\",\n",
       " 'Similar, conform neliniarității teoriei, specia poate evolua foarte puțin pentru o lungă perioadă de timp până la următoarea \"\\'\\'punctuație\\'\\'\". \\n A fost abolită de guvernul Vichy în 1941, care a creat o nouă Croix de Guerre.',\n",
       " 'Pierderea femeii iubite în timpul acelei misiuni și vizitarea locului în care Boutin și-a pierdut fiica, pe Zoë, trezesc în Dirac conștiința latentă a lui Boutin. \\n El își dă seama unde se ascunde trădătorul - pe o planetă aflată chiar în sistemul de baștină al obinilor.',\n",
       " 'În 1913, după ce a fost învinsă în al doilea război balcanic, Bulgaria a pierdut mare parte din teritoriul cucerit în primul război. \\n A celor decise prin tratatul de la bucurești (1913), românia a obținut și partea de sud a dobrogei (cadrilaterul).',\n",
       " \"Au existat și multe alte revizii mai nesemnificative în amploare: în 1815, 1840, 1884 iar, în secolul XX, au fost peste treisprezece revizii, ultima în 1999 însoțite de alte două în anii 2002 și 2005. \\n * 20px ''Ordinul „Coroana României”'' în gradul de Comandor cu însemne militare (9 mai 1941)\",\n",
       " 'A devenit culoarea purtată de poeți, oamenii de afaceri și oameni de stat englezi în secolul al XIX-lea, și o culoare vestimentară în secolul XX. \\n A fost primul exercițiu NATO la care au luat parte  Statele Unite, Regatul Unit, Canada, Franța, Danemarca, Norvegia, Portugalia, Țările de Jos și Belgia.',\n",
       " 'Începând cu data de 12 mai 1830, „slujitorii” din Muntenia au fost înlocuiți de „dorobanți” (miliție retribuită), iar cei din Moldova, cu „Corpul slujitorilor”, începând cu 12 septembrie 1830. \\n A susținut ideea transmiterii ereditare a asociațiilor fixate prin experiența individului precum și a stărilor de conștiință prin această idee îndepărtându-se puțin de postulatele inițiale ale asociaționismului.',\n",
       " 'Mărimea lor depinde în funcție de varietate și condițiile de cultivare. \\n Există pepeni galbeni de 400 g și alții mari, care pot cântări 20&nbsp;kg sau chiar mai mult.',\n",
       " \"Orașe ca&nbsp;Apulum și Ulpia Traiana Sarmizegetusa, și zonele înconjurătoare au continuat să fie locuite, dar zonele urbane s-au diminuat.&nbsp;Existența comunităților creștine locale poate fi presupusă în Porolissum, Potaissa și în alte localități. \\n Dovezile arheologice în special ceramică cu semne „hi-ro” ''(χ-ρ)''&nbsp;și alte simboluri creștine sunt „obscure și slab înțelese”, potrivit arheologilor haynes și hanson.\",\n",
       " 'Studii: Institutul de Arte Plastice „Nicolae Grigorescu” București, specializarea sculptură, promoția 1977. \\n „Eficiența lui Ilie era proverbială în rândurile puținilor oameni care știau adevărata lui misiune”, a afirmat Pacepa.',\n",
       " \"Dudley cade în depresie și rătăcește prin oraș până când se întâlnește cu bețivul Darling, care îi oferă adăpost în peștera lui subteran din pădure. \\n Pentru același loc, în 1680, a pictat tabloul ''Moise distruge vițelul de aur''.\",\n",
       " 'La 3 mai 1563, regele Mathia dă Marinul, Bathoreștilor. \\n Se află aici o inscripție convexă în relief pe trei linii: \"Приднестровская Молдавская Республика\", orientată înspre partea dreaptă.',\n",
       " '„Juventus”. \\n Din vara lui 2018 partea este cunoscută sub numele de asc daco-getica bucurești,',\n",
       " 'La începutul lui 1966, a părăsit grupul și Jones, nemulțumit de faptul că trebuia să împartă secția ritmică cu Rashied Ali, amândoi muzicienii exprimându-și nemulțumirea ulterior, după decesul lui Coltrane, privind noua orientare pe care acesta dorea s-o dea muzicii cvartetului, încorporând elemente de free jazz în propriile lor proiecte muzicale. \\n În prezent, ipoteza cea mai plauzibilă, acceptată de cei mai mulți sistematicieni, este cea a euantiei.',\n",
       " 'Divizia a 3-a de infanterie americană se mutase în Munții Vosgi la mijlocul lunii decembrie, înlocuind militarii epuizații ai Diviziei a 36-a de infanterie. \\n Divizia a 3-a era deja pe pozițiile care îi permiteau sprijinirea atacului împotriva pozițiilor germane.',\n",
       " '* 2009: Guvernul din Zimbabwe a anunțat tăierea a 12 zerouri din dolarul zimbabwian. \\n Un trilion de dolari zimbabwieni au fost reevaluați la un dolar zimbabwian nou.',\n",
       " 'În 1987, IPS Eftimie, pe atunci Episcop al Romanului și Hușilor, voind să regenereze monahismul în eparhia sa, a cerut de la mitropolitul Moldovei și Sucevei, Teoctist Arăpașu, pe Părintele Arsenie de la Putna. \\n Cel ce avea să devină părintele duhovnicesc al acestei zone pitorești hușilor, voind să revigoreze monahismul în această eparhie cerută, a fost trimis, de ascultare, ca paznic, în acest loc care atunci se numea schitul savu.',\n",
       " '400.000 de oameni, intercalate între trei armate rusești însumând aproape 1.000.000 de militari. \\n Ofensiva românească de la mărăști (la 11 iulie), condusă de generalul alexandru averescu, și cea a generalilor constantin cristescu și eremia grigorescu, de la mărășești (1-24 iulie) dejoacă planurile de luptă germane de ocupare a moldovei și de cucerire a portului odessa.',\n",
       " 'În ciuda distrugerii totale a Armatei a II-a, înainte de prima bătălie de pe Lacurile Mazurice din septembrie, contra Armatei a VIII-a germane, rușii aveau un minimum de 428 de batalioane de infanterie, adică echivalentul a 27 de divizii de infanterie peste 560.000 de soldați, plus peste 250 de escadrile de cavalerie; un număr mare de unități de suport în general mult peste 600.000 de oameni; și aceasta în ciuda pierderii a 200.000 de soldați în bătăliile de la Stallupönen, Gumbinnen și Tannenberg. \\n Numărul minim de soldați ruși ce se opuneau armatei a viii-a germane a fost de cel puțin 800.000.',\n",
       " 'Vineri, 14 august, ora 21:00,\\xa0„Gala Premiilor Callatis”\\xa0a avut ca misiune, recunoașterea valorilor din diferitele domenii ale vieții cultural-artistice dar și sociale. \\n Printre laureații care au urcat pe scenă în cea de-a treia seară a festivalului pentru a-și primi omagiile, s-au numărat: actorul\\xa0mitică popescu, directorul observatorului vasile urseanu,\\xa0adrian șonka\\xa0– pentru succesele din acest an ale astronomiei romanești pe plan mondial, (amintim descoperirea unei supernove facută de ciprian vântdevară din bârlad), actrița\\xa0stela popescu, care a încantat miile de spectatori cu un minirecital de excepție, andrei roșu\\xa0– locul 6 mondial la triatlon,\\xa0corul de copii callatis din mangalia\\xa0– laureat a numeroase concursuri internaționale, profesorul\\xa0anton hadăr\\xa0– premiul la categoria “inventică”,\\xa0manfred - „dragon of transylvania”– pentru prima muzică dusă în spațiu de centrul european de astronautică.',\n",
       " 'În 2003, DRP a fost transferat în subordinea Secretariatului General al Guvernului, iar în martie 2004, în subordinea Cancelariei primului-ministru. \\n Asteroidul prezintă o orbită caracterizată de o semiaxă mare de 3,04 ua, o excentricitate de 0,15 și o înclinație de 8,7° în raport cu ecliptica.',\n",
       " \"După ce a absolvit școala primară din comuna natală și Liceul N. Bălcescu din Pitești, a urmat cursurile Academiei de Arte Frumoase Nicolae Grigorescu din București, secția Sculptură, la clasa profesorului Corneliu Medrea, pe care a absolvit-o în promoția 1959. \\n Printre acestea sunt de menționat următoarele:\\n* ''Marianna'' (1565), o piesă de teatru italiană a lui Lodovico Dolce\\n* ''The Tragedy of Mariam, the Faire Queene of Jewry'' (1613), o piesă de teatru engleză scrisă de Elizabeth Tanfield Cary\\n* ''Herod and Antipater, with the Death of Faire Mariam'' (1622), o dramă engleză scrisă de Gervase Markham și William Sampson\\n* ''Mariamne'' (1636), o dramă franceză a lui François Tristan l'Hermite\\n* ''La mort des enfants d'Hérode; ou, Suite de Mariamne'' (1639), o dramă franceză scrisă de Gathier de Costes de la Calprenède\\n* ''Herod and Mariamne'' (1673), o dramă engleză a lui Samuel Pordage\\n* ''Herodes en Mariamne'' (1685), o traducere olandeză a piesei lui Tristan l'Hermit realizată de Katharina Lescailje\\n* ''La Mariamne'' (1696), o operă italiană elaborată de Giovanni Maria Ruggeri (muzică) și Lorenzo Burlini (libret)\\n* ''Mariamne'' (1723), o dramă engleză scrisă de Elijah Fenton\\n* ''Mariamne'' (1723), o dramă franceză scrisă de Voltaire\\n* ''Mariamne'' (1725), o dramă franceză de Augustin Nadal\\n* ''La Marianna'' (1785), un balet italian al lui Giuseppe Banti (chor.)\",\n",
       " 'A fost lansat în România pe data de 26 iunie 2004, înlocuind canalul Atomic TV. \\n A fost descoperit pe  la Caussols de Eric Walter Elst.',\n",
       " 'Regele Carol I cere să fie arestați semnatarii documentului dar acest ordin nu a fost respectat. \\n În 1642, este începută a doua fază a revoluției engleze, faza militară, marcată de plecarea regelui împreună cu armata din londra, pe motivul nerespectării ordinului dat cu privire la arestarea semnatarilor.',\n",
       " 'Sovieticii nu au fost impresionați de această ultimă inițiativă și, pe 8 septembrie au declarata război bulgarilor. \\n Pentru câteva zile, bulgaria s-a aflat în stare de război atât cu germania cât și cu urss.',\n",
       " 'Oamenii basci au trăit mereu în izolare din cauza munților și coastelor. \\n Limba a supraviețuit chiar și după invazia indo-europeană.',\n",
       " 'Bolșevicii considerau că proletariatul în alianță cu țărănimea trebuiau să conducă revoluția, având ca țel instaurarea dictaturii proletariatului. \\n Menșevicii aveau viziunea unei revoluții burghezo-democratice prin victoria căreia ei ar fi avut acces la fotolii ministeriale într-un guvern democratic de coaliție.',\n",
       " 'Reformele inițiate la Varșovia au provocat reacția vecinilor Poloniei, care se temeau de renașterii puterii Rzeczpospolitei. \\n A celei de-a doua împărțiri, rusia și prusia au ocupat teritorii uriașe, puternic populate.',\n",
       " \"Un an mai târziu în decembrie 1990 mișcarea separatistă Gagauz Halkı („poporul găgăuz”), cu sprijinul tacit al autorităților centrale din Moscova, proclamă în raioanele Comrat, Ceadîr-Lunga și Vulcănești ale RSSM, așa-numita ''Republica Găgăuză'' cu Stepan Topal în funcția de guvernator. \\n Autoritățile de la chișinău organizează marșul spre găgăuzia.\",\n",
       " 'Morgan Stanley este una dintre cele mai mari și importante bănci de investiții din lume. \\n Cunoscută și sub denumirea de „boală a somnului” sau „boala somnului” (distinctă de boala somnului transmisă de musca țețe), a fost descrisă pentru prima dată în 1917 de neurologul Constantin von Economo și de patologul Jean-René Cruchet.',\n",
       " 'Cel de-al doilea album al formației a început să fie comercializat în Europa la data de 14 aprilie, 2003. \\n După un asediu de circa șapte luni, Borilă a fost nevoit să fugă, însă a fost capturat de către noul țar, Ioan Asan al II-lea, care l-a orbit și l-a închis într-o mănăstire.',\n",
       " '706 din 29 mai 1995. \\n Asociația română de hemofilie a ajuns să reprezinte interesele hemofilicilor pe plan național.',\n",
       " 'Chiar dacă a fost repartizată în serie împreună cu Building Vânju Mare (retrogradată din Liga a II-a), aceasta părea în prag de destrămare. \\n Singurii adversari care puteau emite pretenții la promovare ar fi fost fc internațional curtea de argeș (echipă mutată din pitești în curtea de argeș) și oltchim râmnicu vâlcea.',\n",
       " 'Căsătoria a unificat casele aflate în conflict și-a dat copiilor săi o bază solidă de a pretinde tronul. \\n 19392 Oyamada este un asteroid din centura principală de asteroizi.',\n",
       " \"* k înlocuia uneori qu din latină, pentru numele proprii. \\n Se scria: „kiriniu“ (''quirinius'').\",\n",
       " 'Revolta artiștilor a proclamat libertatea creatoare absolută și primatul expresiei asupra formei. \\n O artă spectaculoasă din punct de vedere cromatic și o estetică revoluționară.',\n",
       " 'ele fiind construite de romani, datorita existenței în regiune a apelor termale. \\n Nori Mammatus în Regina, Saskatchewan\\nMammatus, cunoscut și ca mammatocumulus (cu sensul de \"nor mamar\" sau \"nor-sân\"), este un termen meteorologic aplicat unui model celular de pungi suspendate dedesubtul bazei unui nor.',\n",
       " \"După ce învață în casă limba greacă și franceză, își însușește limba română cu un dascăl de la Seminarul de la Socola, episod povestit cu mult umor în ''Cum am învățat românește''. \\n Adevărata românească o învață după cărțile populare ''floarea darurilor'' și ''istoria lui arghir și a prea-frumoasei elene'' și după cartea lui petru maior ''despre începutul românilor'' &ndash; ''„astfel petru maior m-a învățat românește.“''\\n* 1809 - moare mama sa, sofia hermeziu.\",\n",
       " 'Frecvența întrunirii congresului a variat. \\n În deceniul al treilea al secolului trecut, erau convocate congrese anuale, pentru ca în perioada 1939 – 1952 să nu mai fie ținut nici o astfel de întrunire.',\n",
       " 'Asteroidul prezintă o orbită caracterizată de o semiaxă mare de 3,18 ua, o excentricitate de 0,13 și o înclinație de 16,7° în raport cu ecliptica. \\n #Georg Rudolf, Prinț Ereditar de Anhalt-Zerbst (n. 8 septembrie 1651, Zerbst – d. 26 februarie 1652, Zerbst).',\n",
       " \"* În anul 1963 a fost ales ''membru corespondent al Academiei Române'', iar în 1974 ''membru titular''. \\n Este considerată a fi cea mai rară dintre toate berzele, și se estimează că numără mai puțin de 500 de indivizi sălbatici în toată aria sa geografică.\",\n",
       " 'Demetrescu-Buzău), scriitor român (d. 1923)\\n* 1886: Prințesa Patricia de Connaught (d. 1974)\\n* 1906: Brigitte Helm, actriță germană (d. 1996)\\n* 1919: Nat King Cole, pianist, compozitor, interpret de jazz, cântăreț și actor de film american (d. 1965)\\n* 1930: James Irwin, astronaut american (d. 1991)\\n* 1938: Rudolf Nureev, balerin și coregraf rus (d. 1993)\\n* 1939: Giovanni Trapattoni, fotbalist și antrenor italian\\n* 1943: Tony Newman, baterist englez\\n* 1944: Dan Nuțu, actor român\\n* 1949: Brândușa Prelipceanu, jurnalistă și traducătoare română (d. 2002)\\n* 1951: Kurt Russell, actor american\\n* 1951: Sydne Rome, actriță americană\\n* 1969: Ilie Bolojan, politician român, fost primar al municipiului Oradea\\n* 1976: Iulian Arhire, fotbalist român\\n* 1981: Liviu Vârciu, actor, cântăreț, prezentator de televiziune român, fondator al trupei L.A.\\n* 1985: Iulia Biriukova, scrimeră rusă\\n* 1991: George Alexandru Palamariu,  canotor român \\n La sfârșitul lunii august, crabii maturi încep să migreze în aval spre mare, îndepărtându-se de locurile de hrănire situate în habitate dulcicole.',\n",
       " 'Singura excepție este pentru unitățile unghiurilor: °, \\' și \", care se scriu imediat după valoarea numerică. \\n Mayose este o vraja foarte puternica, care necesita o ramura si poate fi executata doar de preotesele foarte experimentate, care au cele mai puternice puteri spirituale.',\n",
       " 'Pentru suprafețele mari a folosit tonuri de griuri colorate, care nu au niciun fel de stridențe cromatice. \\n Culoare pură a ajuns să fie foarte expresivă, individualizând cu succes suprafețele mici.',\n",
       " '</span><span class=\"citation book\">ISBN&nbsp;978-0-19-505835-2.</span><span class=\"Z3988\" title=\"ctx_ver=Z39.88-2004&rfr_id=info%3Asid%2Fen.wikipedia.org%3ASalmon+P.+Chase&rft.aufirst=Kermit+L.%2C+ed.&rft.au=Hall%2C+Kermit+L.%2C+ed.&rft.aulast=Hall&rft.btitle=The+Oxford+Companion+to+the+Supreme+Court+of+the+United+States&rft.date=1992&rft.genre=book&rft.isbn=978-0-19-505835-2&rft.place=New+York&rft.pub=Oxford+University+Press&rft_val_fmt=info%3Aofi%2Ffmt%3Akev%3Amtx%3Abook\">&nbsp;</span>\\n* <span class=\"citation book\">Martin, Fenton S.; Goehlert, Robert U. \\n Prezintă culoarea verde închis (însă, uneori în treimea inferioară ele pot fi și vișiniu-roșcate pe aversul frunzei dar uneori și pe partea superioară), cu margini dințate.',\n",
       " 'Cu toate acestea, în perioada de la începutul Evului Mediu, Albania își păstra înca independența relativă și structurile feudale proprii, luptând împotriva împaraților sasanizi și chiar bizantini. \\n A dezvoltării ulterioare a economiei în sec.',\n",
       " \"''Goethe-Institut'' este finanțat de guvernul național al Germaniei. \\n Muzeul de Artă din Iași are între exponatele sale pictura ''Dragoș Vodă la vânătoare'', lucrare care a fost donată de către Ministerul Școalelor în data de 15 iulie 1868.\",\n",
       " \"Aït Oumalou (în ) este o comună din provincia Tizi Ouzou, Algeria. \\n ''Profu' de engleză'' (titlu original: ''Renaissance Man'', cu sensul de ''Omul renascentist'') este un film american de comedie din 1994 regizat de Penny Marshall.\",\n",
       " 'În încercarea de a stabiliza frontul, Comandamentul Suprem rus, a decis unilateral retragerea Corpului 40 armată rus de pe frontul românesc și transferarea acestuia pe frontul din Bucovina. \\n La cererea generalului rus d.g.',\n",
       " \"Revista nu a avut succes, iar Blackwood i-a concediat pe Pringle și Cleghorn și a relansat jurnalul ca Blackwood's Edinburgh Magazine sub propria redacție. \\n De asemenea, tehnica folosește la desfășurarea reacțiilor din sinteza organică, pe perioade îndelungate de timp.\",\n",
       " 'Începând din anul 1991, satul Stârcea face parte din raionul Adâncata al regiunii Cernăuți din cadrul Ucrainei independente. \\n Era, potrivit biografiei sale, omul cel mai decorat din Rusia, până la decesul său survenit la 23 decembrie 2013, (Ordinul Lenin, premiul Stalin 1949, de două medalii Erou al Muncii Socialiste).',\n",
       " \"Un minut de arc este împărțit în 60 de secunde de arc, având simbolul ′′ (simbolul se numește ''secund''). \\n Unghiul în jurul unui punct („cercul”) are 360°=21600‘=1.296.000“.\",\n",
       " 'După finalizarea proiectului, noul circuit a devenit centrul sporturilor cu motor din Golful Persic. \\n El a luat locul circuitului kuweitului, organizând nenumărate curse de formula 3, curse gt, dragster și v8 supercars.',\n",
       " \":''Articol principal Cupa Davis baraj 2009\\nCele 8 echipe din grupa mondială care au pierdut în primul tur al Cupei Davis și cele 8 echipe câștigătoare ale grupei I susțin în perioada 18-20 septembrie meciuri de baraj pentru grupa mondială 2010. \\n Patria Bank este o bancă românească, fondată în anul 1993 sub denumirea de Banca Romexterra, redenumită ulterior Nextebank.\",\n",
       " 'Grant Park Music Festival și jocurile de lumini spectaculoase fac din Millennium Park cea mai râvnită atracție a orașului. \\n Împreună sunt de neoprit, iar totul devine mult mai ușor și amuzant.',\n",
       " 'Pentru a limita efectele acestui lucru, în sat s-a format un grup de croitorese care folosea bucăți de piele pentru a \"întări\" zonele cele mai sensibile la presiunea oaselor: articulațiile, creșteștul capului, burta. \\n Acesta este străbătut de râul Volynka, un afluent de dreapta al râului Ubid, care izvorăște la periferia sud-estică a satului, oferind astfel o panoramă impresionantă.',\n",
       " 'În septembrie, Chamberalin și Daladier au decis să nu amenințe cu un război pentru Cehoslovacia și astfel planul de îndepărtare a lui Hitler nu putea fi justificat. \\n Acordul de la münchen l-a ajutat pe hitler să-și păstreze puterea.',\n",
       " 'Moscheea lui Ahmed I, cunoscută în toată lumea ca Moscheea Albastră din Istanbul, datorită celor aproximativ 21.000 de panouri interioare de faianță  în majoritate de culoare bleu, este impresionantă prin mărime. \\n Clădirea are o capacitate de 10.000 de persoane, are 260 de ferestre, și adăpostește o școală religioasă, un spital, un caravanserai și o cantină gratuită.',\n",
       " 'Procesoarele PowerPC au fost proiectate pentru o scară largă de sisteme cum ar fi: calculatoare personale, controllere intregrate, stații de lucru, multiprocesare, procesoare pentru sisteme mainframe. \\n Rezervațiile locale naturale sunt situate la Hall Lee Bank Park, Cunningham Clough și Eatock Lodge la Daisy Hill.',\n",
       " 'Decretul inițial prevedea crearea unei medalii cu trei clase de formă circulară având pe avers efigia regelui Carol I și pe revers o cruce și cuvintele „Răsplata Muncii pentru biserică”. \\n A raportului ministrului secretar de stat la departamentul cultelor și instrucțiunii publice, decretul regal no.',\n",
       " 'Zidurile cetății erau în stare proastă din cauza lipsei de întreținere după partiția Poloniei. \\n Împăratul francisc i al imperiului austriac a dispus demolarea vechilor fortificații.',\n",
       " 'Cuvântul a fost inițial introdus pentru a descrie un stil de mâncare legat de tradiția catolică, care spune că anumiți sfinți au putut supraviețui fără mâncare și fără băutură pe perioade extinse, așa cum reiese și din Biblie. \\n Novi Ozereanî (în ) este o comună în raionul Brusîliv, regiunea Jîtomîr, Ucraina, formată numai din satul de reședință.',\n",
       " \"Hibridarea somatică la plante se realizează cu ajutorul ''protoplaștilor'', celule în care s-a distrus peretele celular prin tratamente enzimatice (exemple: celulaza, pectinaza). \\n Fiecare celulă va fi perfect izolată de celelalte, permițând efectuarea experimentelor.\",\n",
       " 'Alexandra Iosifovna nu a dat-o afară pe Anna Kuznețova și pe copiii acesteia din casa dăruită de Constantin, însă s-a asigurat că însoțitorii soțului ei nu-l vor duce niciodată acolo . \\n Într-un interviu pentru EurActiv, președintele partidului, Dan Barna, declara că „căsătoria gay nu este un subiect pe agenda publică” și că, „pentru moment, aceasta nu este o prioritate”.',\n",
       " 'Povestea acestui sezon pare să se concentreze mai mult pe protagonista seriei, Bloom, care va afla de legătura sa cu Valtor și ce rol a jucat acesta în viața acesteia. \\n Principalele efecte adverse asociate tratamentului cu racecadotril sunt: cefalee, urticarie, eritem cutanat și angioedem.',\n",
       " 'În viziunea lui Stimer nu există nici o obligație morală legată de proprietate sau orice altceva în ceea ce privește. \\n El consideră ambele concepții ale lui proudhon, \"propretatea individuală ca furt\"(parafrazat) \\'\\'și\\'\\' ideea libertariană de proprietate ca un principiu natural fondat pe superstiții.',\n",
       " 'Un chatbot (de multe ori cunoscut ca smartbot, talkbot, chatterbot, IM bot, interfață conversațională sau entitate artificială conversațională) este un program sau o formă de inteligență artificială care desfășoară conversații prin diferite metode precum analiză sau text. \\n De programe sunt concepute de cele mai multe ori pentru a simula într-un mod realist comportamentul unui partener de conversație, trecând testul turing.',\n",
       " \"Pe care sunt ciopliți Titien, Rembrandt, Veronese și Raphael''”. \\n După trecerea la periheliu, cometa a fost observată cu ochiul liber pe cerul de seară, cu o magnitudine de „0” la începutul lui ianuarie 1974, diminuând la magnitudinea 4 la 14 ianuarie, apoi la 7 la sfârșitul lunii.\",\n",
       " 'cu un corp de studenți mare. \\n Grandes écoles au dimensiuni mult mai mici și își recrutează studenții cu procese mai selective (de obicei câteva sute de studenți pe an pe instituție și câteva mii de studenți pe an la nivel de țară).',\n",
       " \"De exemplu, ''$Box01'' returnează un obiect denumit ''Box01''. \\n Când i se spune să intre în cameră pentru a se împăca cu ea, spadasinul refuză, afirmându-și intenția de a se întoarce acasă și de a se împăca cu fosta sa soție.\",\n",
       " 'Cifra de 12.000 de angajați fiind avansată începând cu 2006 . \\n Prima moară fusese construită încă în 1908 de către frații Levinzon cu utilaj adus din Franța și funcționează și în zilele noastre.',\n",
       " 'După moartea împăratului a urmat o perioadă tulbure cu lupte interne în care rudenii multe de ale împăratului vor fi ucise de soldați. \\n Va muri și dalmatius cu fratele său, fiind controversat faptul dacă fiii lui constantin să fie omorâți sau lăsați în viață.',\n",
       " \"Înainte de o vacanță între tată și fiică, Neil este răpit de niște fani pasionați seria ''Zoome'', Wheeze (David Henrie), fratele său mai mic, André (Moises Arias), și prietenul lor (Denzel Whitaker), pentru a câștiga competiția „Ești cel mai Zoome?”. \\n Melissa pornește în căutarea lui.\",\n",
       " 'Pentru aceasta se presupune că f(x) este definită pentru orice x care se apropie de x<sub>o</sub>. \\n Se presupune că domeniul de definiție a conține o  mulțime de forma (x_0-r, x_0) \\\\cup (x_0, x_0+r) \\\\!',\n",
       " \"Din acest motiv, flota turistică maritimă nu s-a putut dezvolta în România ca în țările vest- sau sud-europene cu litoral, unde este un sector economic înfloritor, cerința internațională de locuri la cheu depășind cu mult oferta, cu termeni de așteptare depășind zece ani. \\n Distrugătorul italian ''Borea'' era și el prin zonă, escortând un mic convoi către Valona.\",\n",
       " 'Fiind elaborat în concordanță cu teoriile clasice, presupunea că electronii aflați în mișcare circulară, deci accelerată, emit constant radiație electromagnetică pierzând energie. \\n În timp, electronii nu ar mai avea suficientă energie pentru a se menține pe orbită și ar \"cădea\" pe nucleu.',\n",
       " 'Deși majoritatea limbilor indo-europene tind să folosească prepoziții, există totuși printre ele limbi în care sunt și câteva postpoziții. \\n Sunt, de pildă, latina clasică (ex.',\n",
       " '* \"Türk yurducularına\" (Türk Yurdu 1: 190-95, 1328 1912)\\n* \"Hind yolundan\" (Türk Yurdu 1: 307-10, 1328, 1912) \\n* \"Hind\\'den dönerken\" (Türk Yurdu 1: 369-71, 1328, 1912)\\n* \"Muhaceret muntazama\" (Türk Yurdu 1: 706-13, 1328, 1913) \\n A jucat alături de Toni Collette, Liev Schreiber și Anthony LaPaglia.',\n",
       " 'Tăblițele de la Tărtăria ar fi însă mai vechi cu un mileniu decât monumentele scrierii sumeriene, fiind datate (este adevărat, prin metode indirecte; este de văzut ce se înțelege prin metode indirecte) din prima jumătate a mileniului IV î.Hr. \\n Dacă se admite că ele reprezintă într-adevăr scrieri, tăblițele de la tărtăria sunt cele mai vechi scrieri din lume găsite până-n prezent.',\n",
       " 'A fost laureat cu bronz la Jocurile Olimpice de vară din 2008 după ce a fost învins de italianul Matteo Tagliariol în semifinală, dar a trecut la o tușă de maghiarul Gábor Boczkó în „finala mică”. \\n A devenit primul scrimer spaniol care a cucerit o medalie olimpică și a adus spaniei cea de-a o sută medalie olimpică, indiferent ca au fost jocuri olimpice de vară sau de iarnă.',\n",
       " 'Activitatea meșteșugărească devine tot mai însemnată în viața economică a orașului, având loc și o importantă creștere a numărului de meșteșugari, pe măsură ce se dezvoltă breslele meșteșugărești. \\n Un recensământ al locuitorilor maghiari, efectuat în 1453 relevă peste 500 de capi de familie, dintre care circa 30 % (160 de persoane) aveau în numele propriu și denumirea meșteșugului practicat.',\n",
       " 'Gărzile românești au contribuit și la acte de nesupunere față de guvernul de la Budapesta. \\n În chișineu-criș, garda locală a oprit de la încorporare în noiembrie 1918 contingentele de români și a interzis expunerea afișelor sosite de la budapesta, fără aprobarea ei.',\n",
       " \"La începutul anilor 1980 Christian Bourgois a decis să-și concentreze eforturile pe publicarea de traduceri ale romanelor scrise în limbi străine. \\n Sub conducerea lui jean-claude zylberstein, au fost lansate noi colecții:\\n* ''domaine étranger'' în 1980, care se axează pe descoperirea și publicarea celor mai valoroase opere literare internaționale contemporane; a fost redenumită ''littérature étrangère'' în iulie 2011.\",\n",
       " \"''Faza 2'', de analiză economico-financiară sau ''studiu de caz'' este un plan schematic care oferă justificarea financiară, concurențială și de piață pentru produs și în acest scop se realizează studii de piață detaliate, evaluarea fezabilității tehnice, definirea produsului, analiza economico-financiară, planificarea proiectului (evenimente, sarcini, acțiuni pentru faza următoare de dezvoltare). \\n Se fundamentează deciziile de angajare a resurselor în fazele următoare ale procesului.\",\n",
       " 'Încercarea de a o lua cu el pe Julia, este împiedicată de femeile vânător înarmate. \\n Lyonel răvășit sufletește, nu își gasește liniștea (aria „oh, atât de evlavioasă, oh, atât de încrezătoare” / „ach!',\n",
       " 'În semn de recunoaștere a contribuției pe care oamenii din Mediterană o aduc civilizației de milenii, Ziua Mediteranei este un mijloc de a canaliza aceasta bogăție și diversitate a culturii în contextul secolului 21. \\n Această dimensiune culturală este o componentă importantă, întrucât scopul zilei mediteranei este să sărbătoreasca identitatea mediteraneeană unică, dar diversă.',\n",
       " ':În prima jumătate a secolului XIX, în domeniul învățământului artistic, apar și în România, primele inițiative. \\n Gheorghe asachi inaugurează „clasul de zugrăvie” de la academia mihăileană din iași recomandându-le pictorilor, realizarea „tabloanelor istorice”.',\n",
       " 'Insulele aparținătoare au fost anexate în secolul XIX Rusiei, constituind un motiv de conflict cu Japonia. \\n Deoarece în zonele temperate, vânturile predominante sunt cele care bat dinspre vest, climatul maritim este tipic pentru marginea vestică continentelor din emisfera nordică.',\n",
       " 'În ograda unui locuitor a fost descoperit un disc de gresie de mărime neobișnuită (1,2 m diametru și 20 cm grosime) a cărui utilitate nu a fost stabilită. \\n La Openul Statelor Unite a fost desemnată cap de serie numărul doi.',\n",
       " 'Științifică și Enciclopedică, București, 1978); \\n* \"Hundert Jahre Unabhängigkeit Rumäniens, 1877-1977, mit Beiträgen von Alexandru Zub und Gerhard Ernst\" (Osteuropainstitut, Regensburg, 1978);\\n* \"A scrie și a face istorie. \\n Cabinetul a decis, cu patru voturi contra trei, să recomande ratificarea tratatului de către Dáil la .',\n",
       " 'Din țara sa adoptivă, Charlotte Aglaé a primit un trusou format din diamante și portrete cu viitorul ei soț. \\n Zakynthos (1479–1797),  care a făcut parte parte din Comitatul Palatin din Cefalonia și Zakynthos și Despotatul Epirului, condus de Orsini, a intrat sub stăpânire venețiană din 1479.',\n",
       " \"Cu toate greutățile acestea nedrepte și ingrate, administrația comunală pe care am cinstea să o conduc este în prezent pe punctul culminant al sforțărilor sale de a înființa apeductul și canalizarea. \\n Îmi fac o prea placută datorie să arăt că numai grație înțelegerii pe care am găsit-o la membrii guvernului în frunte cu primul ministru și ministrul de interne gheorghe tătărascu și ministrul agriculturii prof. dr. iancu nistor, am primit cel mai larg concurs ca în următorii trei ani apeductul și canalizarea să fie realizate.”'' în acest fel orașul vatra dornei și stațiunea balneară intră în perioada lor de emancipare edilitară modernă.\",\n",
       " \"Printre autori polonezi notabili ca scriitori de fantezie se numără Andrzej Sapkowski (seria ''Wiedźmin'') și Feliks W. Kres (Lumea ''Szerer''). \\n Acest lucru l-ar face dificil de detectat, deoarece s-ar pierde în strălucirea lui Makemake în cea mai mare parte a timpului, ceea ce, împreună cu suprafața sa întunecată, ar contribui la eșecul căutărilor anterioare în a-l observa.\",\n",
       " 'După meci, mai mulți reporteri englezi au călătorit în Elveția și au amplasat un imens steag al Angliei pe un câmp din apropierea casei lui Meier. \\n De notat că dacă \\\\alpha = \\\\sqrt  atunci acțiunea Galois pe \\\\sqrt  stabilizează \\\\alpha.',\n",
       " '= 1 Ah – amper oră\\nQ (coulomb) = 1 A x 3600 s = 3600 coulomb. \\n O baterie cu capacitatea de 1 ah  poate stoca o sarcină electrică de 3600 coulombi.',\n",
       " \"Partidul Comunist al Venezuela (''Partido Comunista de Venezuela'') este un partid comunist din Venezuela. \\n Studiul lor este o practică milenară, însă în perioada micii ere glaciare, petele solare au fost mult mai rare și au existat ani în care nu s-a înregistrat nicio pată solară.\",\n",
       " 'Savantul Stancio Vaklinov consideră că identificarea Bisericii Rotunde cu „noua biserică de aur” din literatură este „incontestabilă”, pe când în opinia istoricului de artă Nikola Mavrodinov, acest lucru este doar probabil. \\n Istoricul a. p. vlasto crede că această identificare nu este „absolut sigură”.',\n",
       " 'Publică articole originale și alte lucrări nepublicate de interes deosebit; articole de sinteză privitoare la rezultate semnificative ale unor cercetări cu caracter vast sau la dezvoltări relevante în domenii esențiale ale fizicii; note de cercetare scurte cu scopul publicării rapide de rezultate noi și interesante. \\n Epitetele se referă la coloritul (posibil) al cuticulei.',\n",
       " 'Construit din lemn, izolat și insalubru, Dawson a suferit de pe urma incendiilor, a prețurilor ridicate și a epidemiilor. \\n Cei mai bogați prospectori petreceau extravagant acolo, jucând jocuri de noroc și consumând alcool în saloonuri.',\n",
       " 'Având în vedere vârsta galaxiei, Harrison presupune că există mai multe „cluburi galactice”, grupuri de civilizații multiple din întreaga galaxie. \\n De cluburi ar putea fi ca un fel de confederații sau alianțe, care se vor dezvolta în cele din urmă în uniuni puternice ale mai multor civilizații.',\n",
       " \"Marshall a identificat figura ca o formă timpurie a zeului hindus Shiva (sau Rudra), care este asociat cu asceză, yoga și linga; considerat un stăpân al animalelor; și adesea descris ca având trei ochi. \\n Sigiliul a devenit cunoscut ca sigiliul pashupati, după ''pashupati'' (stăpânul tuturor animalelor), un epitet al lui shiva.\",\n",
       " \"Alte tipuri, precum poemul bahic sau ''ḫamriyya'' și poemul de vânătoare sau ''ṭaradiyya'', au adus în prim-plan plăcerea consumării vinului, respectiv a exersării artei vânătorii. \\n Deși poezia modernă cultiva numeroase forme de desfătare cotidiană – amorul, vinul, vânătoarea, acestea se dovedeau a fi de scurtă durată, ceea ce a impulsionat apariția unui gen poetic care să le deplângă efemeritatea – poezia ascetică sau ''zuhdiyya''.\",\n",
       " 'Conform mai multor autori, se pare că manifestările delirante ar avea legătură cu personalitatea bolnavilor. \\n Anumite persoane ar fi predispuse la delir atunci când au loc tulburări de dispoziție.',\n",
       " 'Jurnalul său, publicat postum, într-o selecție foarte redusă, numără aproape 5000 de pagini, grosul acestui jurnal a rămas inedit. \\n Revolta de la Radomir a fost înăbușită de forțele bulgare, până pe 2 octombrie, în timp ce Țarul Ferdinand I al Bulgariei a abdicat și a plecat în exil în ziua următoare.',\n",
       " '\"Dantalion va merge din nou: furios înapoi țara de jos.\" \\n Alimentele de bază sunt derivate fie din legume, fie din produse de origine animală, iar alimentele de bază obișnuite includ cerealele (cum ar fi orezul, grâul, [[porumbul, meiul și sorgul), tuberculii cu amidon sau rădăcinoasele (cum ar fi cartofii, manioc, cartofii dulci, ignamele sau taro), carne, pește, ouă, lapte și brânză și leguminoase uscate, cum ar fi linte și fasole.',\n",
       " 'Dimensiunile scoicii sunt direct proporționale cu concentrația în săruri a apei marine. \\n La concentrații mari de săruri în apa de mare (33%) scoicile pot atinge (8 - 11) cm lungime.',\n",
       " 'Pentru a-și recupera paguba, lui Adrian îi vine o idee: va folosi pielea maimuței pentru a se deghiza  și a ucide oameni, pentru a le extrage lichidul spinal. \\n Maimuța va fi acuzată de toate crimele iar el va evita orice suspiciune.',\n",
       " 'Până la sfârșitul domniei sale Maximilian va fi situat între fronturile confesiunilor religioase. \\n N-a reușit să-și consolideze poziția chiar după moartea sultanului soliman i cu care se afla în război, el va încheia pacea de la adrianopol, cu selim, succesorul lui soliman.',\n",
       " '* bromic, acid ~ - acid oxigenat al bromului; lichid incolor cu proprietăți oxidante. \\n Altitudinile sunt obținute prin interpolare de pe modelul 3D al planetei Pamânt, date puse la dispoziția utilizatorilor de către Google API Console.',\n",
       " '830 prin care Grupului Etnic German din România i se acorda o largă autonomie în domenii precum învățământul, presa sau biserica. \\n A reprimării rebeliunii legionare din 21-23 ianuarie 1941, antonescu i-a dat la semnat regelui mihai „înaltul decret regal nr.',\n",
       " 'Elementele decorative ale barocului și rococo-ului european au influențat chiar și arhitectura religioasă otomană. \\n Mellin, un arhitect francez, a fost invitat de sora sultanului selim al iii-lea la istanbul, acesta a descris țărmurile bosforului și conacele de pe malul mării numite yali.',\n",
       " \"În 1957 Ganea a publicat  împreună cu Samuel Eilenberg în ''Annals of Mathematics'' o lucrare în care au demonstrat teorema Eilenberg–Ganea și au formulat conjectura Eilenberg–Ganea, care rămâne și la această dată (2012) nedemonstrată. \\n Prin mama lui, Julie Noémi Doynel de Saint-Quentin, descendentă a unei familii aristocratice, Georges Guynemer era un descendent al regilor Franței Ludovic al XIII-lea și Ludovic al XIV-lea, prin Balthilde d'Orléans (1750-1822), mama ducelui de Enghien.\",\n",
       " 'Neanderthalii au suferit o rată ridicată de leziuni traumatice, se estimează că aproximativ 79% din specimene prezintă dovezi de traumatisme majore vindecate. \\n S-a teoretizat că neanderthalii au folosit o strategie de vânătoare mai riscantă și posibil mai puțin sofisticată.',\n",
       " \"Căsătoria părinților săi a fost una morganatică, Julia nefiind considerată o soție potrivită pentru un prinț, având doar rangul de contesă. \\n În momentul nașterii sale, henric nu a putut prelua titlurile tatălui său ci pe cel de ''contele henric (heinrich) maurice de battenberg''.\",\n",
       " 'Clăcașii au fost împroprietăriți în 1864, din moșiile boierilor dar și ale mânăstirilor ca urmare a legii secularizării averilor acestora. \\n A acestei împroprietăriri 25 de familii de clăcași au primit circa 150 pogoane, deci cam 6 pogoane (3ha) de familie.',\n",
       " \"Starea de urgență din India a amânat lansarea mai multor filme ale lui Manmohan Desai. \\n Patru dintre filmele lui desai: ''dharam veer'', ''chacha bhatija'', ''parvarish'' și ''amar akbar anthony'' au fost lansate în 1977.\",\n",
       " 'Pentru municipalitățile cu mai puțin de 10.000 de locuitori, se efectuează un sondaj de recensământ al întregii populații la fiecare cinci ani, populațiile legale ale anilor intermediari fiind estimate prin interpolare sau extrapolare. \\n Ministerul Afacerilor Externe și Integrării Europene are următoarele atribuții:\\n* realizează drepturile suverane ale Republicii Moldova în cadrul relațiilor internaționale.',\n",
       " \"A debutat în volum la sfârșitul anilor '60, fără a fi publicat texte în nicio revistă. \\n Acest lucru i-a determinat pe unii la concluzia că nu face parte din dinozauri propriu-zis, ci este un arhozaur strâns înrudit .\",\n",
       " 'Așezarea geografică a localităților populate de sași precum și locul de origine al coloniștilor și-a pus amprenta asupra limbii localnicilor. \\n K.rein după lungi investigații a stabilit că influența limbii vorbite în sudul germaniei asupra graiurilor din nordul transilvaniei constituie diferența principală față de graiurile vorbite în sudul transilvaniei.',\n",
       " 'Aflându-se de apropierea vizitei în Bucovina de către principele de coroană Rudolf, unicul fiu al împăratului Franz Joseph al Austriei și moștenitor al tronului, s-a procedat la urgentarea lucrărilor în scopul de a se face sfințirea temeliei bisericii noi în prezența înaltului oaspete. \\n La 3/15 iunie 1887, parohul tit onciul de la parohia „adormirea maicii domnului” a predat cheia bisericii filiale cu hramul „nașterea domnului” parohului vasile cocorean de la parohia „sfântul nicolae”, fiind de față vicarul protopresviterial george balmoș, precum și epitropii de la ambele parohii.',\n",
       " 'FSMA are sarcina de a contribui la o mai bună educație financiară a deponenților și investitorilor, care va permite deponenților individuali, persoanelor asigurate, acționarilor și investitorilor să se afle într-o poziție mai bună în relațiile cu instituțiile financiare. \\n Vor avea mai puține șanse să achiziționeze produse care nu sunt potrivite profilului lor.',\n",
       " \"Unitatea de aviație combinată Bălți, devenită ''Întreprinderea de aviație Bălți'', reorganizată în întreprinderea de stat ''Moldaviaserice'' în 1994, a fost redenumită în anul 1996 în ''„Moldaeroservice”''. \\n Întreprinderea devine sine-stătătoare ca î.s.„moldaeroservice” cu propriul bilanț, având în administrare: aeroportul internațional bălți-leadoveni (145 ha), aeroportul bălți-oraș (136 ha), personal profesional, construcții și încăperi necesare pentru procesul tehnologic și productiv, aeronave de tip antonov an-2 și helicoptere mil mi-2.\",\n",
       " 'Exista de asemenea referințe în Upasakasila Sutra, în particular:\\n\\nFraza „sexul legat de corpul propriu” se referă în general la masturbare și este definită de adâncirea preceptelor ca nefiind imoralitate sexuală pentru Upāsaka și Upāsikā în budismul chinez. \\n În budism masturbarea și permiterea ei depind cel mai adesea de circumstanțe, depinzând de nivelul propriu de urmare a preceptelor și de a avea sau nu statut de monah.',\n",
       " 'Procesele tectonice ce au avut loc în trecut, și anume procesele neotectonice lente de ridicare au dus la formarea reliefului actual. \\n Teritoriul satului colibași reprezintă o cîmpie slab fragmentată.',\n",
       " 'Un exemplu este capacitatea acestora de a fixa azotul gazos, utilizând enzima denumită nitrogenază. \\n Au loc procese importante din punct de vedere ecologic, precum denitrificarea, fixarea sulfaților și obținerea de acetat.',\n",
       " 'Planurile care conțin răspunsul recapitulează în general evenimentele petrecute în planul ”întrebător” care îi corespunde, dar dintr-o perspenctivă diferită, schimbănd protagonistul pentru a elucida misterele și a veni cu concluzii diferite. \\n <center> Harta comitatului Monroe a statului  indicând Arhipelagul Key West în întregime.',\n",
       " 'Inițial, în septembrie 2011. \\n Cei patru condamnați, ion dumitru și ceilalți trei complici, sunt nevoiți să plătească suma de 614.322,74 lei despăgubiri către romsilva, doar complicii având de achitat în plus peste un milion de lei către regie.',\n",
       " 'În cei 10 ani în care a funcționat, se estimează că Murder Inc. a comis mii de crime, mare parte din ele nefiind soluționate. \\n A acțiunilor sale în calitate de lider al grupului, anastasia a primit poreclele „pălărierul nebun” și „lord high executioner”.',\n",
       " 'În felul acesta, este foarte probabil ca cel care apelează la această tactică să câștige, iar ceilalți să renunțe. \\n Chiar dacă semi-bluful eșuează (adică ceilalți adversari plusează și ei, având certitudinea că jucătorul nu are a 5-a carte de culoare în mână), jucătorul încă mai are șansa ca a 5-a carte de culoare să fie afișată pe masă, ceea ce îi dă ocazia de a juca din nou la cacealma, de data aceasta, bluf-ul fiind considerat unul pur în comparație cu cel din runda precedentă care era considerat un semi-bluf deoarece ultima carte nu se împărțise încă.',\n",
       " \"Vremea, 2006\\n* Pia Pillat Edwards, ''Zbor spre libertate. \\n Se știe doar din spusele descendenților celei de a doua familii, fostă proprietară a ansamblului funerar, familia Beldiman, că artistul era vienez.\",\n",
       " 'Recrearea interioarelor și a casei în întregime este o idee extraordinară și o plăcere pentru vizitatori. \\n Opera celui mai important artist român este mai ușor de urmărit și privit, de înțeles și plăcut.',\n",
       " 'În ziua de 22 mai 1922 însă, acoperișul bisericii a luat foc. \\n S-a luat hotărârea de a se reconstrui biserica după modelul vechi inițial de către același preot.',\n",
       " 'Acesta a domnit după moartea tatălui său începând din 1378 și s-a concentrat în anii următori mai mult asupra regatului Boemiei. \\n El nu a fost prezent în celelalte zone ale imperiului și la dietele curții.',\n",
       " 'Între timp, el a terminat cursul „GSA Advanced Level” în engleză și a urmat un curs profesionist de jurnalism. \\n David Villa era chemat ocazional la naționala Spaniei Under-21.',\n",
       " 'Calitatea picturii s-a degradat considerabil de-a lungul timpului trecut de când fusese pictată. \\n Criticul peter schjeldahl scria în 1999:',\n",
       " \"Datorită scriitorului, Afacerea Dreyfus a căpătat în scurt timp o dimensiune națională, împărțind societatea între susținătorii armatei reacționare sau ai bisericii și ''dreyfusarzii'' liberali și reformiști. \\n Din 1946 membru al Consiliului științific al Medicinalstyrelsen.\",\n",
       " \"La 30 decembrie, Gerrard a început pe bancă meciul cu Newcastle United, dar a intrat pe teren în repriza secundă și a marcat un gol. \\n Conform Catalogue of Life specia ''Polyalthia kanchanaburiana'' nu are subspecii cunoscute.\",\n",
       " 'I-II, Editura Academiei Române, București, 2005, ISBN 973-27-1258-9 (vol. \\n Cu toate acestea, Mikio Naruse dezvăluie în ultima scenă că personajul are potențial de schimbare.',\n",
       " 'Miclosu este un sat în comuna Bolboși din județul Gorj, Oltenia, România. \\n Mama lui a fost model, iar tatăl a servit în Forțele Aeriene Americane (U.S. Air Force).Și-a început cariera de rapper în 1997.',\n",
       " 'Peste 900 de manuscrise s-au păstrat, unele decorate cu miniaturi și caligrafii deosebite. \\n În 1986 a fost înființată o misiune in Brazilia pentru care au fost hirotoniți mai mulți preoți brazilieni convertiți la ortodoxie în trecut.',\n",
       " \"Cântarea a 9-a: \\nIrmosul: \\nCu adevărat, Născătoare de Dum-nezeu te mărturisim pe tine, Fecioară Curată, noi cei izbăviți prin tine, slăvindu-te cu cetele cele fără de trup. \\n Versiunea originală a ''Obsessed by Cruelty'' a fost relansat împreună cu extended play-ul '''' în 1988 și sub formă de vinil de Vinyl Maniacs în 2005.\",\n",
       " 'Potrivit credincioșilor, akasha este colecția tuturor evenimentelor și răspunsurilor privind conștiința din toate realitățile. \\n Toate formele de viață contribuie și au acces la înregistrările akashice.',\n",
       " \"Când în 1685 ramura ''Simmern'' aparținând Casei de Wittelsbach a dispărut în linia de sex masculin, odată cu moartea fratelui lui Liselotte, Carol al II-lea, Ludovic al XIV-lea a trimis trupe pentru a revendica Palatinatul în numele cumnatei sale. \\n A început ''războiul marii alianțe''(1688-1697).\",\n",
       " '* 90.000 RON - societatea pe acțiuni și societatea în comandită pe acțiuni\\nPrin legi speciale se pot institui alte plafoane minime necesare constituirii și funcționării altor tipuri de societăți. \\n În conformitate cu legislația bancară în vigoare o societate bancară, deși se constituie sub forma unei societăți pe acțiuni, trebuie să dispună de un capital social de minim 37.000.000 ron.',\n",
       " \"Din punct de vedere matematic, un cifru pe blocuri este o funcție E:V_n \\\\times K \\\\rightarrow V_n care are proprietatea că pentru orice k \\\\in K, E_k(p)\\\\,=\\\\,E(p, k) este o funcție bijectivă definită pe ''V<sub>n</sub>'' cu valori în ''V<sub>n</sub>''. \\n Ample lucrări de reabilitare au fost demarate în anul 2008, care au culminat cu pictarea bisericii în tehnica frescă.\",\n",
       " 'Deseori erau agresivi și brutali, nu ezitau să folosească amenințările sau forța directă pentru a acapara regiuni aflate în litigiu sau pentru a rezolva conflictele în favoarea lor. \\n Nu este surprinzător faptul că multe rase, chiar și cele care au continuat să tranzacționeze cu narn, în ciuda nemulțumirilor lor cu politicile și acțiunile narn, au avut opinii ambivalente sau negative despre regimul narn și despre narni în general.',\n",
       " 'Căsătoria a fost sugerată ca o modalitate de a crea o relație de prietenie între Danemarca și Suedia. \\n În 2001 s-a mutat la Universitatea Georgetown, devenind profesorul Peter F. Krogh de geopolitică și justiție globală în Școala de servicii străine Edmund A. Walsh.',\n",
       " \"Richard, cu toate acestea, a amânat în mod repetat încoronarea. \\n Conform Catalogue of Life specia ''Utricularia huntii'' nu are subspecii cunoscute.\",\n",
       " 'Audofleda era fiică a regelui franc Childeric I cu soția sa, principesa Basina, originară din Thuringia. \\n Ea a fost sora regelui clovis i al francilor.',\n",
       " 'În finala Cupei Stanley din 2022, Avalanche a învins-o pe Tampa Bay Lightning în șase meciuri pentru a câștiga al treilea titlu. \\n Rămâne singura echipă activă din nhl care a câștigat de fiecare dată când a ajuns în finală.',\n",
       " \"Emil Bobu a fost deputat în Marea Adunare Națională în 1961. \\n Printre cele mai mari realizări ale sale se află cercetările în domeniul teoriei numerelor: găsirea (în 1850) a formulei pentru determinarea aproximativă a numărului Li(x), de numere prime cuprinse intre 1 și un număr dat ''x'': demonstrarea așa-numitului postulat al lui Joseph Bertrand (1842); transformându-l așadar în teoremă.\",\n",
       " '11981 Boncompagni este un asteroid din centura principală de asteroizi. \\n Regimentul a făcut parte din organica Brigăzii 32 Infanterie.',\n",
       " 'Chiar și atunci când o pereche de poliedre nu poate fi obținută prin formele inversate ale unuia față de celălalt, ele pot fi numite duale între ele atâta timp cât vârfurile unuia corespund fețelor celuilalt, iar muchiile unuia corespund muchiilor celuilalt într-un mod care conservă incidența. \\n De perechi de poliedre sunt duale topologice sau abstracte.',\n",
       " 'Anonimatul participanților se realizează prin metode specifice de rutare cu rețele suprapuse, care ascund locația fizică a fiecărui nod de alți participanți. \\n Fiecare participant neavând cunoștință de ceilalți participanți din rețea.',\n",
       " 'Consumul de putere în cazul memoriilor SRAM depinde în mare parte de cât de des este aceasta accesată; la frecvențe mari poate fi la fel de consumatoare de curent ca RAM-ul dinamic și unele Controllere de Interfață pot consuma foarte mult la capacitate maximă. \\n Sram-ul folosit la frecvențe mai mici, cum ar fi în aplicații cu microprocesoare mai lente, consumă foarte puțin, putând ajunge chiar foarte aproape de consum zero în modul idle - consum de ordinul microwatt.',\n",
       " 'De aici Sigismund Báthory a asistat în 1594 la execuția membrilor partidei filoturcești. \\n În ciuda greutăților cu care se confruntă, familia Masen ezită să își părăsească locuința, dar este forțată să o facă de sosirea unui grup de soldați care reprezintă un nou guvern despotic, care își stabilește enclave feudale pe tot cuprinsul țării.',\n",
       " 'Lupul marsupial era un vânător nocturn și crepuscular, petrecând ziua în peșteri mici sau trunchiuri goale de copaci. \\n Textul acestui amendament își are originea în Declarația drepturilor din 1689.',\n",
       " \"S-a afirmat, că, specia ''Leccinum scabrum'', consumată crudă, poate să genereze incompatibilități la copii precum persoane cu un aparat digestiv sensibil, chiar și intoxicații ușoare de natură gastrointestinală. \\n Ciupercile acestui soi ar trebui să fie consumate numai bine prăjite sau gătite.\",\n",
       " 'Charles Roger Hargreaves (n. 9 mai 1935 - d. 11 septembrie 1988) a fost un autor englez și ilustrator de cărți pentru copii, este cunoscut în special pentru seria „Mr. \\n Astfel, Snagov Club continuă tradiția Vilei Muntenia în a găti și servi cele mai fine feluri de mâncare.',\n",
       " 'La începutul anului următor se consemnează un alt pretendent, doctorul Rosso. \\n Localitatea Papča (obec) este atestată documentar din 1332.',\n",
       " 'Mulți nu au primit nimic de mâncare dimineața, iar moralul scăzuse semnificativ. \\n După eliberarea Bulgariei, a participat la Adunarea Constituantă în 1879 ca susținător al Partidului Conservator.',\n",
       " 'Transportul se face cu avionul sau cu vaporul. \\n Există 3 aeroporturi și 1 port.',\n",
       " 'Aprecierile și critica de specialitate de atunci și până astăzi suferă de ambiguitate în a aprecia valoarea artistică a picturilor murale pe care Lecca le-a realizat. \\n El a fost angajat să realizeze pictura de la biserica sfântul nicolae din scheii brașovului deoarece contractul pe care biserica îl avea cu neugass picase, din cauză că s-a considerat că acesta din urmă se depărtase de pictura românească prin introducerea de canoane occidentale.',\n",
       " \"''Cyclocorus'' este un gen de șerpi din familia Colubridae. \\n * 30 august: Generalul Corpului de marină Kenneth McKenzie Jr. anunță că ultimele trupe americane au părăsit Afganistanul, încheind implicarea SUA în războiul din Afganistan.\",\n",
       " 'România, împreună cu alte națiuni care, la semnalul de start, în Franța, au participat cu primele autoturisme concepute și construite cu convingerea tenace că viitorul este rezervat locomoției mecanice pe căile rutiere, lansând primele automobile, s-a grăbit să importe și să popularizeze utilizarea noilor vehicule. \\n Orășenii și țăranii dunăreni “ au început să mâne încă din 1896 ,,carele de foc” ,, mergând  fără a folosi șinele de cale ferată “.',\n",
       " '\\'\\'Good News\\'\\' a debutat ca numărul 1 în Topul German în prima săptămână a lansării.Totodată a debutat ca numărul 1 în Topul German de Descărcări.În a doua săptămână,albumul a căzut pe locul 2,ca urmare a lansării albumului Charm School,lansat de trupa rock Roxette.În a doua săptămână,albumul a fost certificat cu aur pentru vânzări de peste 100.000 de copii În a treia săptămână,albumul a revenit pe prima poziție în top.În Austria,albumul a debutat ca numărul 8,dar a urcat până pe locul 7 În Elveția,albumul a debutat ca numărul 27,înainte să urce în top până pe locul 15. \\n A finalei selecției naționale a germaniei la eurovision,cântecul câștigător \"taken by a stranger\" a debutat ca numărul 2 în topul german.cântecul a debutat in topul din austria și elveția ca numărul 32,respectiv 45.melodia care a terminat pe locul 2 concursul,\"push forward\",a atins poziția 15 în top.',\n",
       " 'I-a fost dat numele Marilyn după actrița Marilyn Miller, și i-a fost sugerat numele de fată al mamei sale, Monroe, ca nume de familie. \\n Norma jeane baker, la numai 20 de ani, devine „marilyn monroe”.',\n",
       " \"Azi, este locuit de 25 de călugări de origine română și urmează principiul cenobitic al vieții monastice ortodoxe. \\n Conform revistei  a Institutului Britanic de Film, ''Căutătorii'' ocupă locul 6 într-un top al celor mai bune filme din toate timpurile realizat în baza unui sondaj internațional din 2012 la care au participat doar critici de film, iar în 2008, în lista celor mai bune 100 de filme ale tuturor timpurilor realizată de revista franceză  a ocupat locul 10.\",\n",
       " 'O listă a afinităților pentru electroni a fost folosită de Robert S. Mulliken pentru dezvoltarea unei scale de electronegativitate. \\n Scala mulliken pentru electronegativitate este definită în funcție de afinitatea pentru electroni și energia primară de ionizare a atomului respectiv implicat într-o legătură chimică.',\n",
       " 'A fost reconstruit în stil baroc începând din 1710, după proiectul lui Johann Lukas von Hildebrandt. \\n În Danemarca, Finlanda, Norvegia, Portugalia și Suedia a avut cea mai bună premieră pentru un film cu supereroi.',\n",
       " 'Exact la un an după moartea fiului ei, cu venituri din albumele sale lansat postum, Afeni a fondat în Georgia Fundația Tupac Amaru Shakur, care oferă programe de artă pentru tineri, și Amaru Entertainment, compania care deține toate materialele nelansate ale lui Tupac. \\n Este important să actualizați fișele cu date de securitate (cea mai recentă versiune).',\n",
       " 'Reînființarea Parohiei Boian după revoluția din 1989 a avut loc in anul 1996, sub directa îngrijire a monseniorului George Surdu, fost rector al Misiunii Greco-Catolice din Paris, fiu al satului Boian și cu sprijinul preotului Ioan Muntean, protopopul de atunci al Mediașului. \\n Proclamarea Regatului Italiei\\n* 1862: \\xa0\\xa0Garibaldi a condus expediția pentru cucerirea Romei– ‘ Roma o morte’.',\n",
       " \"Momentul găsirii ieșirii presupune experimentarea unei senzații amestecate de teamă și de beatitudine, după cum afirmă Onofrei în finalul nuvelei. \\n A cunoașterii directe a locotenentului, onofrei se află în plin proces de inițiere, el coborând într-o localitate necunoscută din trenul ce se îndrepta spre via de la gorgani: ''„și, ca din întâmplare, când a ajuns la capătul culoarului, trenul s-a oprit și a coborât.\",\n",
       " \"Parcul Național Góry Stołowe a fost înființat în anul 1993 și reprezintă o zonă montană cu stâncării (roci stratificate constituite din gresii și marne sub formă de turnuri, ace, ciuperci, labirinturi), cu păduri, pajiști și văii ce conferă locului o priveliște aparte. \\n ; Albumuri de studio\\n* ''Slave Design'' (2004)\\n* ''Antares'' (2007)\\n* ''The Pulse of Awakening'' (2009)\\n* ''God Is An Automaton'' (2012)\\n; Extended play\\n* ''A.E.O.N.''\",\n",
       " \"Realizează pentru Realitatea TV, săptămânal, timp de doi ani, 2004–2005, emisiunea ''Un metru cub de cultură'' (Premiul APTR pentru talk-show-uri pe 2004). \\n Cambridge: Polity Press and Chicago: University of Chicago Press.\",\n",
       " 'Tarth a evoluat pe Korga, o lume extrem de ostilă vieții organice, cu o treime din dimensiunea lui Jupiter. \\n Sunt giganți (aproximativ 180 de centimetri lățime, înălțimea și greutatea nu sunt specificate) cu o piele groasă, portocalie, acoperită cu plăci asemănătoare solzilor.',\n",
       " 'În mod ideal, cerul ar trebui să fie foarte clar, observarea  fiind de la o altitudine mare și cu Soarele care apune spre orizont. \\n Satul este situat la o altitudine de 192 metri, în partea de vest a raionului Chelmenți.',\n",
       " 'A scris cărți consacrate dezvoltării teoriei evoluției, bazate pe genetica lui Gregor Mendel. \\n * biocomplex - ansamblu de specii de organisme animale și vegetale instalate într-o navă spațială pentru cercetări în cosmos.',\n",
       " 'Conform recensământului din 2001, majoritatea populației localității Zarubînți era vorbitoare de ucraineană (%), existând în minoritate și vorbitori de rusă (%). \\n După încoronarea lui Carol Ioan în 1818, el a încercat să aducă cele două țări într-o uniune mai strânsă și să întărească puterea executivă.',\n",
       " 'Divizia (în ) este o comună în raionul Cetatea Albă, regiunea Odesa, Ucraina, formată din satele Divizia (reședința) și Hagider. \\n Moshe Dayan a fost numit să administreze proprietățile arabe abandonate din oraș.',\n",
       " 'Această lume era de fapt o țară unde nu exista boală, bătrânețe sau moarte, unde fericirea dăinuia pentru totdeauna și unde o sută de ani erau doar o singură zi. \\n Unul dintre voluntarii proiectului a fost și Ken Kesey, autorul cărții „Zbor deasupra unui cuib de cuci”.',\n",
       " 'Disperată, Alexandra a căutat ajutor pretutindeni; l-a găsit la un mistic, Grigori Rasputin. \\n După ce iese din pielea umană, tăietorul de lemne o urmărește și aruncă pe ea o canistră de benzină și îi dă foc de vie.',\n",
       " 'În mijlocul discului clar se află membrana Z întunecată care solidarizează miofibrilele în timpul contracției musculare. \\n Rolurile principale au fost interpretate de actorii Steve Reeves, Sylva Koscina, Gianna Maria Canale, Fabrizio Mioni, Arturo Dominici, Mimmo Palmara, Lidia Alfonsi și Gina Rovere.',\n",
       " 'În urma fiasco-ului de la München a diplomației occidentale, s-au îmbunătățit mai întîi relațiile comerciale și economice dintre Germania și URSS , evoluție însoțită de conștientizarea, de către ambele părți, a beneficiilor reciproce politice rezultînd din dezvoltarea acestei relații. \\n Zisele raporturi au cunoscut o ascendentă ce a dus la acordul molotov-ribentrop.',\n",
       " \"Există patru valori proprii diferite ale transformării Fourier (±1 and ±''i'') și orice combinație de funcții proprii cu aceeași valoare proprie generează atlă funcție proprie. \\n Este posibil ca să descompunem spațiul ''l''<sup>2</sup>(r) ca o sumă directă a patru spații ''h''<sub>0</sub>, ''h''<sub>1</sub>, ''h''<sub>2</sub> și ''h''<sub>3</sub>, în care transformarea fourier să acționeze simplu pe ‚’h’’<sub>’’k’’</sub> prin înmulțirea cu ''i''<sup>''k''</sup>.\",\n",
       " 'A fost o lucrare bizară, derivată dintr-una a lui Tirso de Molina și inspirată de viața lui Giovanni Tenorio, scrisă într-o proză ce pare încă actuală; ea descrie povestea unui ateist care devine un ipocrit religios și pentru aceasta este pedepsit de Dumnezeu. \\n Imperiul otoman a adoptat mai multe steaguri roșii diferite pe parcursul celor șase secole ale guvernării sale, iar Turcia ca succesoare continuă drapelul otoman din 1844.',\n",
       " 'În 1996 Albania, Belarus, Bulgaria, Republica Moldova, România și Ucraina au aderat la ICE ca membri cu drepturi depline. \\n O formă a enzimei de conversie a angiotensinei 2, un studiu de fază II este în curs de desfășurare cu 200 de pacienți care urmează să fie recrutați din cazuri grave, spitalizate în Danemarca, Germania și Austria pentru a determina eficacitatea tratamentului.',\n",
       " \"*''Din pana suferinței'' (1888), \\n*''Novele'' (1890), \\n*''Veronica Micle'' (1892), \\n*''Corbul cu pene de aur'' (1897), \\n*''Mozaicuri'' (1897). \\n Pe perioada în care el a fost închis, două fetițe de 12 ani răpite de el au murit de foame.\",\n",
       " \"Acest număr, lingvista Aurora Pețan îl consideră ''foarte plauzibil, pentru că știm, tot de la oameni din Sinaia, că unele copii în plumb au ajuns la prof. Nicolăescu Plopșor, altele la Dimitrie Pippidi, iar altele la Institutul de Studii Politice, de pe vremea comuniștilor.'' \\n Piesele de aur, fie s-au salvat și au ajuns în tezaurul de la moscova, vreo 40 ar exista încă în banca națională, fie au fost topite.\",\n",
       " 'Județele nu mai au rol de circumscripție financiară, ci devin unități administrativ-teritoriale. \\n După întemeierea județelor argeș și dâmbovița și desființarea județului brăila de definitivează organizarea administrativă a țării românești în 17 județe.',\n",
       " 'Ca urmare a faptului că orașul se afla la granița României cu Austro-Ungaria, comerțul s-a dezvoltat, iar comunitatea evreiască din Fălticeni a crescut numeric. \\n Dacă în 1803 erau 1.500 locuitori evrei, în 1831 numărul lor crescuse la 3.200 (și pe fundalul sosirii de evrei din basarabia și bucovina) și în 1838 la 4.152.',\n",
       " 'Caracteristica acestei săli este modulul format din doi pilaștri din lemn de stejar, care se repetă la fiecare 6 m pe întregul perimetru al sălii, element întâlnit în arhitectura Renașterii italiene. \\n Au fost dezvoltate de  și au fost utilizate pe scară largă pe nave, în special pe navele militare.',\n",
       " \"198-204;\\nPintilii, Ionel – ''„Căldură” bucovineană în ultimele zvâcniri ale iernii ieșene'', în „Crai Nou”, Suceava, an XXIX, nr. \\n Curând Hristina este acuzată de complicitate la crimă, dar deși vinovăția ei nu a fost dovedită, toate încercările ei de a obține un loc de muncă au fost în zadar.\",\n",
       " 'Cu toate acestea, PublishAmerica a continuat să folosească adresa site-ului pe hârtiile cu antet până în 2008. \\n cele două variabile au comportamente opuse), covarianța este negativă.',\n",
       " 'Totuși, această perioadă a adus și anumite beneficii regiunii. \\n Au fost realizate primele hărți topografice ale olteniei.',\n",
       " 'În august 2014, Jovičić a semnat un contract pe un an cu o opțiune de prelungire pe încă doi În sezonul său de debut cu Amkar, Jovičić a jucat 21 de meciuri și a marcat în total trei goluri. \\n Amkar i-a acordat lui jovičić o majorare de salariu după ce a fost de acord să-și prelungească contractul cu doi ani.',\n",
       " 'Ar trebui știut că Dreiser nu este apreciat pentru stilul său, ci pentru realismul lucrărilor sale, dezvoltarea caracterelor și punctele sale de vedere privind viața americană. \\n Rebelii, ajutați de trupele sovietice, și-au consolidat controlul peste cea mai mare parte din zona disputată.',\n",
       " 'În ziua următoare (în calendarul roman erau Idele lui Marte), s-a dus pe jos pentru a-l avertiza pe dictator, dar complotiștii au ajuns primii lângă Cezar. \\n Dictatorul a fost asasinat pe 15 martie 44 î.hr.. în tulburările care au urmat acestui eveniment antoniu a evadat din roma îmbrăcat ca un sclav, temându-se că asasinarea dictatorului ar fi începutul unei băi de sânge în rândul suporterilor săi.',\n",
       " 'În anul 1998, acesta și-a înființat prima formație cu care interpreta cântece în limba maghiară; a făcut apoi parte dintr-o altă trupă, numită Relax, alături de care cânta piese în maghiară, română și engleză. \\n Nu a fost folosit ca termen exclusiv pentru sclavi africanii în rândul oamenilor de munte din această perioadă, deoarece indienii, mexicanii, francezii și chiar englezii erau adesea numiți \"niggur\".',\n",
       " 'Dintr-un total de 4.285.323 de persoane înscrise cu dreptul de vot, la referendum au participat 3.623.344 de persoane, ceea ce constituie 84,59%, dintre care 55,3% au votat „Nu”, iar 44,7% – „Da”. \\n Scoția a rămas în componența regatului unit al marii britanii și al irlandei de nord.',\n",
       " 'De asemenea, o cetate naturală cum este Transilvania (ca relief), asigura Daciei Superioare - mai apoi Apulensis - și Daciei Porolissensis liniștea necesară unei evoluții remarcabile. \\n Ca urmare a înțelegerilor de dezangajare a forțelor din Sinai, Israelul s-a retras de pe malul vestic al Suezului și de pe o fâșie de-a lungul Suezului, permințând egiptenilor să redeschidă Canalul.',\n",
       " 'Conform recensământului efectuat în 2011, populația comunei Ivești se ridică la  locuitori, în scădere față de recensământul anterior din 2002, când se înregistraseră &nbsp;de&nbsp;locuitori. \\n Relațiile încordate cu arendașul și împilarea țăranilor l-au determinat să plece la București pentru a propovădui morala și omenia.',\n",
       " 'Barbelian a împărțit textul piesei pe scene, aproximându-le la lungimea unei bobine de film (60 m). \\n La un semnal prestabilit, actorii rămâneau nemișcați până când era reîncărcat aparatul.',\n",
       " 'La 6 martie 2017, în cadrul unei conferințe de presă, Vlad Plahotniuc a inițiat proiectul de reformare a sistemului electoral din Republica Moldova, declarând că partidul pe care îl conduce propune și susține ca sistemul electoral să fie uninominal și să ofere „posibilitatea reală cetățenilor să decidă pe cine trimit în Parlament”, dar și să demită deputatul înainte de termen, dacă acesta îi va dezamăgi sau va comite acte de corupție. \\n La această inițiativă, partidul democrat din moldova lansează o campanie de informare și promovare a reformei propuse de plahotniuc.',\n",
       " 'Popularitatea partidelor de stânga a scăzut în urma revoltelor politice care au urmat, iar în 2010, Fidesz, partidul naționalist-conservator al lui Viktor Orbán, a fost  cu o  parlamentară. \\n Legislativul a aprobat o nouă constituție, printre alte modificări guvernamentale și legale radicale.',\n",
       " \"''Koinophilia'' este un termen englez, care desemnează în genetică ipoteza conform căreia animalele dintr-o specie preferă să se împerecheze cu parteneri cu trăsături comune. \\n Ființele sexuale evită să se împerecheze cu parteneri care au trăsături neobișnuite, necomune sau deviante.\",\n",
       " 'Chiar temeni consacrați în propagandă sunt eliminați uneori, din cauza schimbării împrejurărilor politice. \\n Joseph goebbels, ideologul nazismului, a renunțat la termenul „arisch” (arian), considerat discutabil, și l-a înlocuit cu mai concretul „deutschblütig” (cu sânge german); la fel și „drittes reich” (cel de-al treilea reich, unde reich înseamnă „imperiu” sau „împărăție”) a fost înlocuit cu „großdeutsches reich” (marele imperiu german), deoarece formularea inițială avea o conotație prea religioasă, ea apărând în biblie (daniel 2:24-45 ntr) ca „a treia împărăție” (în biblia ortodoxă apare tradus ca „un al treilea regat“).',\n",
       " 'Cântecul a obținut clasări de top 20 în Bulgaria, Irlanda, Noua Zeelandă și Regatul Unit și s-a poziționat pe locul 42 în Billboard Hot 100. \\n Al doilea single oficial al albumului a fost piesa „good good”, realizată de jermaine dupri.',\n",
       " 'Indiferent de criticile aduse activității sale politice, colaborării sale cu regimul comunist și punerii în practică a liniei naționalist-comuniste în cinematografie sau neajunsurilor sale ca regizor, multe din filmele sale au păstrat o veritabilă popularitate la public, impunând în folclorul urban citate repetate și parodiate precum „Un fleac, m-au ciuruit.” sau „Nu trage dom Semaca, sunt eu Lăscărică” și personaje memorabile ca legionarul Paraipan (jucat de Gheorghe Dinică) și țiganul Limbă (Jean Constantin). \\n În limbile slave „dub” (stejar) este un sinonim cunoscut pentru o persoană proastă și anostă.',\n",
       " 'EDGE reprezintă o dezvoltare a tehnologiei GSM, care se integrează cu efort moderat în rețelele de telefonie mobilă fără a modifica sau substitui infrastructura existentă. \\n Este necesar să se actualizeze software-ul de stație de bază gsm și, după caz, eventual înlocuirea unor componente individuale.',\n",
       " 'Dar această cerință va necesita o schimbare a Constituției din 1996, precum și o validare a Curții Constituționale. \\n Cyril ramaphosa, președintele africii de sud (2018-prezent)\\nca urmare a acestei perioade sub jacob zuma, popularitatea partidului anc a scăzut, și la alegerile din 2019 a obținut cel mai mic câștig din istoria sa electorală.',\n",
       " 'scripts) sau programe, in general orice tip de informație permisă de interfață. \\n Putem diversifica conținutul nostru de o formă dinamică și statică, în același timp.',\n",
       " 'Între timp, sovieticii au suportat costuri ridicate pentru  propriile intervențil militare în străinătate. \\n A tradus și fragmente ale cronicilor arabe și turcești, ce făceau referire la evenimente și personalități românești.',\n",
       " 'În cei doi ani care au urmat ambele tabere vor depune eforturi intense pentru atragerea României de partea lor. \\n Nici noul rege ferdinand nici primul-ministru ion i.c.',\n",
       " 'Acest comunicat a mai afirmat că practica legării mâinilor prizonierilor a fost folosită și la Dieppe. \\n Pe 9 octombrie berlinul a anunțat că 1.376 de prizonieri aliați (în cea mai mare parte canadieni de la dippe) vor fi încătușați.',\n",
       " 'Cu posibilități materiale precare, părinții săi l-au îndrumat spre cariera militară. \\n După ce a urmat cursurile școlii de cadeți de pe lângă regimentul 31 k.u.k.',\n",
       " \"Pe 3 februarie 2020 procurorii DNA au dispus clasarea în acest dosar pe motivul că fapta nu există. \\n Ea a fost inclusă apoi în volumul ''Tales of the Grotesque and Arabesque'' (1840), fiind publicată mai apoi în mai multe antologii.\",\n",
       " 'Acest unghi mare se întinde în mod semnificativ, și, astfel, demonstrează flexibilitatea excelentă a tendoanelor de la genunchi și a mușchilor iliopsoas. \\n Șpagatul este adesea folosit ca un exercițiu care să întindă și să  încălzească mușchii picioarelor pentru a le spori flexibilitatea.',\n",
       " 'Pentru 3,47% din populație, nu este cunoscută apartenența confesională. \\n În mod similar, un spațiu vectorial cu o seminormă se numește spațiu vectorial seminormat.',\n",
       " 'În 1951 a fost avansat în grad și mutat din funcție în funcție în diferite zone ale țării. \\n A îndeplinit funcții de conducere în cadrul organelor de securitate: șef secție și șef serviciu la regionala de securitate arad și vâlcea (1951-1952); șef secție la regionala de securitate pitești (1952-1953); șef serviciu la direcția cadre a ministerului de interne (1953-1956); locțiitor șef serviciu la direcția regională de securitate pitești (1956-1961).',\n",
       " 'Tatăl insistă ca fiul să primească o educație umanistă, astfel încât acesta dobândește cunoștințe temeinice de greacă, ebraică și arabă. \\n Marele savant de mai târziu va putea studia avicenna direct în original, adică în arabă.',\n",
       " 'Guvernul român pro-german condus de Alexandru Marghiloman demisionează. \\n Nicefor al II-lea Focas (sau Nichifor II Phocas) a fost un împărat bizantin din dinastia macedoneană.',\n",
       " 'Portugalia a fost ajutată de către Franța, însă prin Tratatul de la Pyrenees din 1659, Portugalia a fost abandonată de către aliatul său francez. \\n La începutului anului 2006, imamii Abu Laban și Ahmed Akkari au întocmit un dosar care cuprindea și cele 12 caricaturi daneze.',\n",
       " 'Primul contact s-a produs la orele 12:35 UTC / 14:35 TLR\\nPlaneta Mercur a apărut ca un mic disc negru care s-a deplasat peste discul Soarelui, pe o traiectorie aproape dreaptă, în câteva ore. În timpul tranzitului din noiembrie, Mercur este aproape de periheliu și are un diametru unghiular de 10 secunde de arc.De aceea, imaginea planetei Mercur este prea mică pentru a putea fi văzută cu ochiul liber trecând prin fața Soarelui. \\n Este necesară mărirea imaginii cu ajutorul unei lunete sau a unui telescop, sau chiar a unui binoclu, pentru a detecta trecerea micului disc negru prin fața fotosferei stelei noastre.',\n",
       " 'În timpul acestei operațiuni, Sihanouk nu a spus nimic despre ea, în speranța că SUA vor reuși să îndepărteze trupele APV și FEN din țara lui. \\n Echipa din Florești a învins în meciul de baraj pe FC Hunedoara (câștigătoarea ligii a IV-a din județul Hunedoara), disputat în data de 15 iunie, la Blaj, cu scorul de 2-0 și a promovat în liga a III-a.',\n",
       " 'Difuzia explică fluxul net al moleculelor dintr-o regiune de concentrație mai mare la una dintre concentrație mai mică, dar este important de remarcat faptul că difuzia, de asemenea, apare atunci când nu există nici un gradient al concentrației. \\n O amestecare treptată a particulelor.',\n",
       " 'În acest sens, dedică studii asupra dramaturgiei concepute de William Shakespeare, Moliere, Carlo Gozzi, Alfred Jarry, Eugene Ionesco, Samuel Beckett. \\n Întreprinde cercetări riguroase asupra dramaturgiei lui eugenio barba care tratează dramaturgia ca munca acțiunilor scenice și identifică trei nivele de organizare a acesteia: dramaturgia actorului, dramaturgia narativă și dramaturgia evocativă din care face parte și dramaturgia spectatorului.',\n",
       " 'În cazul sezonului ploios, aspersorul nu ar fi în uz. \\n A avut loc ploaia.',\n",
       " \"Totuși, intervenția din Ungaria a făcut rău relațiilor Moscovei cu Belgradul, pe care Hrușciov a încercat timp de mai mulți ani să le repare. \\n Dunedainii îi numeau Nimir (Cei frumoși), în timp ce numele lor Sindarian era ''Eledhrim''.\",\n",
       " '==Distincții== \\nPentru Cantata Cântecele anotimpurilor primește în anul 1987 premiul Uniunii Compozitorilor, iar un an mai târziu dobândește același premiu pentru lucrarea Țeapa lui Dracula. \\n Întoarcerea foștilor actori Maguire și Garfield a fost subiect de speculație și, atât Sony cât și Marvel au încercat să țină acest lucru secret cât mai mult timp posibil.',\n",
       " 'La acest important eveniment au participat și reprezentanții Casei Regale a României, Principele Ferdinand și Principesa Maria, verișoară primară a țarul Nicolae al II-lea al Rusiei. \\n Ferdinand, viitorul rege al româniei și maria, viitoarea regină a româniei, vor fi primele personalități românești imortalizate pe pelicula cinematografică.',\n",
       " 'Preoții lui Amon dețineau două treimi din toate pământurile templelor din Egipt și 90% din navele sale și multe alte resurse. \\n Preoții lui amon erau la fel de puternici ca și faraonul, dacă nu chiar mai puternici.',\n",
       " 'Probabil Anastasia ar fi transmis  copiilor ei daca trăia. \\n Este endemică în Africa și se numără printre cele mai vechi dintre păsările galinacee.',\n",
       " '* 19 noiembrie: Începe Congresul al XII-lea al PCR, la care Constantin Pârvulescu, unul din fondatorii partidului, a protestat în plen față de cultul personalitații creat în jurul familiei Ceaușescu. \\n În aceeași noapte, pârvulescu a fost evacuat din casa în care locuia.',\n",
       " 'În același timp, armata germană avea pe frontul de răsărit 6.200.000 de soldați, 3.229 de tancuri, 57.000 de tunuri și 3.395 avioane de luptă. \\n În intervalul 2011-2012  a fost instalat și pus în funcțiune sistemul de aterizare instrumentală ILS (Instrument Landing System) necesar pentru ghidarea aeronavelor la aterizarea în condiții meteo grele., dar ritmul lucrărilor a fost încetinit o perioadă din cauza contestațiilor privind licitația pentru executare lucrărilor apoi a lipsei surselor de finanțare și a diferitelor aprobări, avize și permise necesare astfel că termenul de finalizare a investiției care era 31 iulie 2016 a fost depășit.',\n",
       " 'Spre deosebire de alte bombardiere în picaj, avioanele Stuka se îndreptau spre sol sub un unghi real de 90° accelerând de la 410&nbsp;km/h la 540/h (maximum de viteză era de 600&nbsp;km/h) și parcurgând astfel 1.370 m. Avionul era dotat cu un sistem prin care, în funcție de distanța față de pământ, se semnala pilotului (prin aprinderea pe bord a unui indicator) că va ieși automat din picaj. \\n Coborând încă 450 m, pilotul era supus unei accelerații care îl făcea să fie expus la o forță de 6 ori mai mare decât greutatea sa (forță de 6g).',\n",
       " '*Ælfheah din Canterbury călătorește la Roma pentru a primi paliul său - simbol al statutului său de arhiepiscop - de la Papa Ioan al XVIII-lea. \\n Scopul principal al asociației în Franța era și politic, și anume obținerea unei constituții în care concepția despre suveranitatea poporului să poată găsi expresie.',\n",
       " 'În august, Osama bin Laden a înființat organizația teroristă al-Qaida, cu scopul de a extinde mișcarea de rezistență contra forțelor sovietice în Afganistan într-o mișcare pan-islamică. \\n În timpul elaborării Recviemului, Mozart s-a îmbolnăvit grav.',\n",
       " 'Printre rabinii care au activat la acest templu sunt de menționat Reb Burstyn, Dr. Samuel Freifeld și Reb Baruch Hager (din dinastia hasidică de Vijnița). \\n La începutul anului 1969, Warren a aflat că Fortas încheiase un contract secret pe viață în valoare de 20.000 de dolari pe an pentru a oferi consiliere juridică privată lui , un prieten și finanțator care avea mari probleme legale.',\n",
       " 'Apis mellifera scutellata este o subspecie a albinei melifere europene (\\'\\'Apis mellifera\\'\\'). \\n Acesta a făcut studii la Bukhara și Samarkand și a locuit o perioadă lungă în Bagdad, dar și la Mecca, unde a fost supranumit „vecinul lui Dumnezeu\".',\n",
       " 'La acea vreme își pregătea lucrarea de doctorat, așa că s-a temut că povestirea îi va afecta negativ obținerea doctoratului și a cerut editurii să-i publice textul sub un pseudonim. \\n Această amenințare i-a obligat pe italieni să păstreze un mare număr de luptători blocați în regiunea de litoral.',\n",
       " 'Chiar dacă condițiile politice ale momentului permiteau ridicarea bisericii în centrul istoric al orașului, terenul unde afla în trecut Biserica Cântătoare lui Péter Bodor era relativ mic. \\n Construcția are o formă în cruce greacă, o cupolă centrală care acoperă traveea principală și patru cupole mai mici amplasate deasupra turnurilor de pe colțuri.',\n",
       " \"Primele surse de inspirație pe care Führich le-a avut, au fost litografiile lui Albrecht Dürer și Peter von Cornelius cu care s-a ilustrat opera ''Faust'' a lui Goethe. \\n A studiilor pe care führich le-a făcut după aceste litografii a rezultat seria de lucrări intitulate ''genofeva''.\",\n",
       " 'A fost căsătorit cu Agnes Hegan, fiica lui Joseph Hegan, în ianuarie 1868. \\n Aceste obiecte au proprietăți asociate, de exemplu, poziții, viteze și mase.',\n",
       " 'Turnarea filmului urma inițial să înceapă în noiembrie 2014, dar a fost amânată pentru începutul lui 2015. \\n La începutul lui septembrie 2014, se știa că se va începe filmarea în ianuarie 2015.',\n",
       " 'Dacă devin membri ai Colegiului Cardinalilor, arhiepiscopii majori intră în rândul cardinalilor-preoți, și nu în rândul cardinalilor-episcopi, cum este cazul patriarhilor. \\n Aceste mutații ale liniei germinale sunt indicate într-o casetă din stânga figurii cu o săgeată care indică contribuția lor la deficiența de reparare a ADN-ului.',\n",
       " 'Această structură figurativă poate viza un sistem de trimiteri cu caracter istoric sau se concentrează asupra unor evocări autobiografice. \\n NGC 100 este o galaxie spirală localizată în constelația Peștii, la aproximativ 60 de milioane de ani-lumină de sistemul nostru solar.',\n",
       " 'Funcționează mici întreprinderi de prelucrare a materiei prime industriale și agricole. \\n Localitatea se află la , se întinde pe o suprafață de  și în 2017 număra 761 de locuitori.',\n",
       " 'În 1996, s-a teoretizat că urme ale fostelor supernove ar putea fi detectabile pe Pământ sub formă de izotopi metalici aflați în straturile de rocă. \\n S-a observat creșterea cantității de fier-60 în rocile de pe fundul oceanului pacific.',\n",
       " \"* Homer, ''Odysseia'', tradusă în hexametri de Dan Slușanschi și ilustrată de Alexandru Rădvan, Editura Humanitas, București, 2012, ISBN 978-973-50-3701-7. \\n S-a alăturat proiectului muzical Inelul nibelungilor după Richard Wagner la Opera Națională Letonă cu ''Walkiria'' în 2007.\",\n",
       " 'Homininii timpurii nu au petrecut prea mult timp, cel mai probabil, în căutarea cărnii, ca bază a nutriției lor de zi cu zi. \\n De concluzii sunt bazate pe progresele extraordinare realizate în studierea vieții de zi cu zi a cimpanzeilor (efectuate în ultimii 50 - 60 de ani, a se vedea jane goodall și trimatele), care sunt cei mai apropiați, din toate punctele de vedere, de hominini, hominide și de homo.',\n",
       " 'Partea de nord a teritoriului comunei este situată în zona cîmpiei subcolinare a Vingăi iar partea sudică în lunca propriu-zisă a râului Bega. \\n (2008) arbori filogenetici reconstruiți cu agroecomyrmecines în interiorul grupului de subfamilii \"poneroid\", aproape de Paraponerinae, și a sprijinit excluderea genului din Myrmicinae, o subfamilie situată în interiorul cladei \"formicoid\".',\n",
       " 'Două obiective din comuna Bogdănești sunt incluse în lista monumentelor istorice din județul Bacău ca monumente de interes local. \\n A urmat între anii 1979-1983 cursurile Facultății de Drept din cadrul Universității din București, după ce a studiat la liceul \"George Enescu\" din Sinaia.',\n",
       " 'La 18 august 1941, tuturor evreilor din localitate li s-a ordonat să poarte steaua galbenă. \\n La 17 ani s-a înscris la Școala de Belle Arte din București (1924-1930), unde a urmat în paralel gravura cu Gabriel Popescu, desenul cu Constantin Artachino și Frederic Storck iar pictura cu George Demetrescu Mirea și Camil Ressu.',\n",
       " 'Concertul în re minor pentru vioară, orchestră de coarde și cembalo – se găsește în op.8 ¬– este considerat ca fiind primul concert solistic cu acompaniament din istoria genului. \\n Sawyer explorează deseori și noțiunea conștiinței umane copiate sau încărcate, în principal în romanul \\'\\'Mindscan\\'\\', dar și în \\'\\'Flashforward\\'\\', \\'\\'Golden Fleece\\'\\', \\'\\'Alegerea lui Hobson\\'\\', \"Identity Theft\", \"Biding Time\" și \"Shed Skin\".',\n",
       " 'Atenția sa a început să se concentreze pe compoziție și, în special, pe crearea unui nou gen muzical, poemul simfonic. \\n Dintre aceștia 59.802 mii nu aveau istoric de migrație,  iar 22.400 mii (27,2%) erau imigranți și descendenți ai lor cât și \"repatriați târziu\" (2.680 mii, 3,3%), adica persoane de etnie germană din fostul bloc comunist care au primit cetățenie germană (de exemplu sașii din România) plus soții și copiii lor.',\n",
       " 'Domnia Capețienilor indirecți a început cu Filip al VI-lea (1328-1350), începând astfel o nouă serie de 13 regi (primii 7 vor domni din tată în fiu), perioadă marcată de profunde zguduiri, produse de Ciuma Neagră și de Războiul de 100 de ani, care s-a desfășurat în mare parte pe teritoriul Franței și a adus o instabilitate politică cronică, ilustrată de două regențe și o perioadă de 6 ani în care Franța nu are un rege încoronat conform tradiției. \\n În timpul bătăliei de la poities (1356), regele ioan al ii-lea cel bun (1350-1364) este făcut prizonier de prințul negru, moștenitorul tronului angliei, astfel că este necesară instituirea celei de-a doua regențe din istoria franței.',\n",
       " 'Cu toate acestea vântul este destul de puternic, datorită musonului \"Enshū no Karakaze\". \\n Este autorul unor lucrări de referință în domeniul istoriei moderne a Chinei, inclusiv: \\n*[ Biblus]\\n* Роль революционной армии на первом этапе китайской революции.',\n",
       " 'La fel ca și clorul, bromul este un foarte puternic și bun dezinfectant la pH ridicat. \\n Mari este limba oficială a Republicii Mari El, alături de limba rusă.',\n",
       " \"Atunci M. Alphand mi-a spus: „Aveți dreptate să ne vorbiți de utilitatea metroului; iată o lucrare bine gândită și ar fi ușor să facem la fel la Paris” [...] Credeam că nimic nu va împiedica execuția metroului nostru; nu luasem în calcul rutina pariziană.'' \\n Măsurători mai precise va efectua mai târziu Joule.\",\n",
       " 'După cum se știe, Nae Bassarabescu a fost un dușman înrăit al lui Titu Maiorescu și Mihai Eminescu, fără ca posteritatea să-i fi identificat motivația. \\n El a fost foarte bun prieten cu nicolae grigorescu.',\n",
       " 'A doua perioadă în încercarea de rusificare a Marelui Ducat al Finlandei a început anul urmator și împaratul rus a dizolvat Parlamentul Finlandei în mai multe rânduri între anii 1908-1917.În timpul primului război mondial, Parlamentul European nu s-a convocat pentru o lungă perioadă de timp. \\n Social-democrații nu au putut împinge multe dintre reformele dorite în timpul acestor ani spre sfârșitul perioadei de autonomie a finlandei, în ciuda faptului ca au fost în măsură să-și păstreze poziția ca cea mai mare parte în toate alegerile din această \\nperioadă.',\n",
       " 'O altă informație care plasează existența localității Hândrești mai de timpuriu este cea referitoare la hotarul Rucsanilor (Buznea) „unde se împreuna cu hotarul Cristeștilor și în codru până unde se împreuna cu hotarul Hândreștilor [...] l-am dat acest hotar, la Ruscani, sub anul 7181 (1673)”. \\n După datele pe care le susține autorul această localitate deja exista și în anul 1673.',\n",
       " \"Din cuvintele pe care i le adresează temutului ei soț, reies bunătatea și compasiunea față de cei aflați în suferință. \\n Întrebată fiind care este pricina pentru care și-a lăsat lucrul, blânda doamnă invocă „''lacrimile jupâneselor văduve care se varsă la ușa mea''”.\",\n",
       " 'Din totalul pămînturilor arabile (4.163 hectare) o mare importanță revine cultivării cerealelor, circa 600 hectare grîu, 894 hectare porumb, 120 hectare orz de toamnă, 125 hectare orz de primăvară, 6 hectare ovăz. \\n Este cultivată și floarea-soarelui pe o suprafață de 968 hectare.',\n",
       " \"Pentru întreaga sa activitate de creație, exegeză și promovare a SF-ului, i s-au decernat ''Marele Premiu al Ministerului Culturii și Artei din Polonia'' (1973), Premiul Special ''Aripile de aur ale fanteziei'' (1980) și Premiul ''World SF'' (Brighton, 1984). \\n * mortier - gură de foc de calibru mare sau mijlociu, cu țeavă scurtă și cu traiectoria de curbură mare, cu care se trage asupra obiectivelor din spatele unor obstacole.\",\n",
       " 'Defectele de câmp, țesutul normal care apare cu alterații multiple (și discutate în secțiunea de mai jos), sunt precursori obișnuiți ai dezvoltării unei clone de țesut dezordonate și care proliferează necorespunzător într-un neoplasm malign. \\n De defecte de câmp (al doilea nivel din partea de jos a figurii) pot avea mutații multiple și modificări epigenetice.',\n",
       " 'Aceste temperaturi nu puteau fi obținute în laboratoarele din acel moment. \\n Măsurarea undelor aflate în zona infraroșu s-a putut realiza doar după ce au fost puse la punct tehnici experimentale noi.',\n",
       " 'În această calitate a contribuit la următoarele proiecte realizate de această antrepriză. \\n * ^ Jump up to:\\'\\'<sup>a</sup>\\'\\' \\'\\'<sup>b</sup>\\'\\' \\'\\'<sup>c</sup>\\'\\' Michael \"Who is Sarah?\"',\n",
       " 'Din punct de vedere confesional, majoritatea locuitorilor sunt ortodocși (96,81%). \\n Marginea înotătoarei dorsale este dreaptă sau ușor rotunjită.',\n",
       " 'Cu toate acestea, japonezii erau adepții teoriei superiorității rasiale și au înființat lagăre de concentrare, așa cum a fost Unitatea 731 din China. \\n Conform recensământului din 2001, toată populația localității Mala Doci era vorbitoare de ucraineană (100%).',\n",
       " \"Râul Bedeu sau Râul Băgaciu este un curs de apă, afluent al râului Târnava Mică. \\n Este una dintre primele lucrări ale lui Manet care s-a calificat pe deplin ca o operă impresionistă, datorită subiectului său naturalist și a paletei sale îndrăznețe, cum ar fi albastrul râului, ridiculizată de jurnalistul de la ''Figaro'' Jean Rousseau ca „în prim plan, blocajul Argenteuil pe un râu indigo”.\",\n",
       " 'Aceasta a dus la neîncrederea în metodele practice de găsire a adevărului, metode experimentale în care rezultatul nu este niciodată exact același, în contrast cu legile care stau la baza observațiilor experimentale și care sunt în mod necesar inflexibile. \\n Rezultatul unui experiment era considerat puțin mai mult decât o iluzie și un mod greșit din start de investigație în căutarea răspunsului la o problemă specifică (similar problemelor morale, care nu pot fi judecate după aparențe).',\n",
       " 'Moncton capturează Fortul Beausejour, iar trupele maiorului Eduard Braddock sunt învinse în Bătălia de la Monogahela. \\n Al-Hamah (în ; ortografiat și al-Hameh) este un sat pe râul Barada în districtul Qudsaya din Guvernoratul Rif Dimashq (Damasc Rural) în sudul Siriei.',\n",
       " 'În 2018, Jean-Dominique Senard a anunțat că nu va solicita realegerea sa la reuniunea acționarilor în 2019. \\n Acționarii au ales-o pe florent menegaux să preia conducerea după senard începând cu anul 2019.',\n",
       " 'EcoSport urma să primească un facelift pentru piața indiană, dar a fost anulat brusc, deoarece uzina din Sanand se va închide în al patrulea trimestru al anului 2021 împreună cu uzina din Chennai în a doua jumătate a anului 2022. \\n A fost emisă o oprire a producției ecosport prin ford din india.',\n",
       " 'Atât Kennedy cât și Hrușciov au adoptat o linie mai dură, Hrușciov cerând un tratat prin care să fie recunoscute cele două state germane și refuzând să cedeze pe restul aspectelor ce mai stăteau în calea unui tratat de interzicere a testelor nucleare. \\n Kennedy fusese făcut să creadă că tratatul de interzicere a testelor nucleare poate fi agreat la summit, și considera că o înțelegere pe tema berlinului trebuie să aștepte reducerea tensiunilor est–vest.',\n",
       " 'Profeți ca Moise și Muhammad aduc cu ei o nouă lege divină, dar nu și Isus și Mirzā Ġulām Aḥmad . \\n Poate exista un alt profet după muhammad, dar fără a aduce cu sine o nouă lege divină.',\n",
       " 'Deshidratarea și hipertermia pot fi, și ele, fatale. \\n Koala sunt vulnerabile la efectele schimbărilor climatice.',\n",
       " 'Relieful câmpului de luptă făcea să le fie dificil comandanților să evalueze evenimente din afara sectoarelor lor, și cartierul general al lui McClellan era la aproape 2 km în urmă (la casa Philip Pry, la est de pârâu), și îi era și lui greu să-și controleze corpurile de armată. \\n Bătălia s-a desfășurat în ziua următoare, în esență, sub forma a trei lupte, în cea mai mare parte necoordonate: dimineața, în capătul de nord al câmpului de luptă, la prânz, în centru, și după-amiaza în sud.',\n",
       " 'Pentru a crea puternice efecte emoționale în rândul publicului, erau folosite tot felul de metode, la fel de bizare ca și spectacolele în sine. \\n Abstinența de a mânca sau de a bea apă, obosirea intenționată a audienței și chiar folosirea de droguri au fost menționate ca fiind parte a „arsenalului” realizatorilor spectacolelor.',\n",
       " \"În document se menționează hotarele moșiei și faptul că: „''această mai sus-numită ocină ei au hotărnicit-o din zilele lui Mircea voievod cel Bătrân și din zilele răposatului Basarab voievod''” (Leonăchescu – Năndrașu, 1971). \\n Cele trei documente denotă și multi-culturalitatea stroeștenilor știut fiind faptul că cetățile brașovului și sibiului în secolul xvi erau locuite predominant de către sași.\",\n",
       " 'Cu toate acestea, tirajul lucrărilor tipărite va ajunge să depășească ceea ce fusese sub Hrușciov. \\n Nu a existat o pauză în propaganda antireligioasă, deși documentele de partid din acea vreme foloseau un limbaj mai puțin direct în critica religiei.',\n",
       " 'Pe 8 mai 1192 la moartea lui Otakar, tratatul a intrat în vigoare, însă înfeudarea putea fi făcută doar de împăratul Henric al VI-lea, ceea ce s-a întâmplat pe 24 mai 1192  la Worms. \\n Ducatul stiriei și cel al austriei s-au unit sub cârmuirea familiei de babenberg formând baza a ceea ce a devenit sub stăpânirea familiei de habsburg, austria .',\n",
       " 'După aceasta, turcii au reocupat terenurile pierdute. \\n Campania catalană a fost o victorie bizantină pe termen scurt, dar un beneficiu pe termen lung al turcilor.',\n",
       " 'Chiar și în această situație, Allmusic încearcă să răspundă exigențelor publicului prin diverse mijloace care să grăbească creșterea capacității bazei de date. \\n Sunt organizate campanii adresate muzicologilor de pe toate continentele, pentru ocuparea de posturi în echipa redacțională, dar mai ales pentru completarea cu informații despre muzica din țara lor.',\n",
       " \"Cristian Tudor Popescu, doctor în cinematografie și profesor asociat la UNATC, considera ''Primăvara bobocilor'' drept un film cu caracter politic și propagandistic al epocii comuniste, realizat la comanda politică a conducerii statului. \\n La sfârșitul deceniului 7 al secolului al xx-lea, tinerii absolvenți de facultate au început să primească repartiții la țară, refuzându-li-se posturi în orașele mari, în urma unui decret al președintelui țării.\",\n",
       " 'Același fenomen explică comportamentul și la animalele sociale. \\n Imunoglobulina A (IgA, notată și sIgA în forma sa secretorie) este un anticorp care joacă un rol crucial în funcția imună a membranelor mucoase.',\n",
       " '# \"Quietus (Silent Reverie)\" - single version\\n# \"Linger\" - previously unreleased track \\n Întrucât se consideră că domeniul planar se extinde de la infinitul negativ până la cel pozitiv, observarea atentă arată apariția a două plane paralele sau în oglindă în sensul că dacă este trasată panta unui plan, coplanul poate fi văzut ca fiind ocolit sau sărit, deși în realitate co-planul este urmărit și din perspectivă opusă.',\n",
       " \"În 2013 se întoarce în Belgia (unde solicitase azil politic în 1991) și este primit favorabil de presă și de oamenii politici. \\n Publicația flamandă ''knack'' îl consideră al patrulea om influent din belgia, dar de altă etnie.\",\n",
       " 'Cel mai important lucru rămâne însă faptul că nu toată lumea vrea să vorbească despre costuri, iar medicul trebuie să fie conștient de acest fapt. \\n ), fiul și succesorul lui Darius, încearcă în 480 î.Hr, cu forțe impresionante, să transforme Elada<nowiki/>în provincie persană.',\n",
       " 'Primele programe ale gimnaziului de 4 clase au fost impuse de Legea învățământului din 1864. \\n Fiecare materie de curs avea câte 3 ore de curs pe săptămână, cu excepția latinei și limbii române, ce întruneau 6 ore. istoria și geografia se făceau împreună iar greaca, numai în ultima clasă.',\n",
       " 'A cercetat în colaborare cu István Imreh aspecte economice și sociale ale satelor secuiești din secolele XVI-XVII, agricultura Scaunului Odorhei în secolul al XVI-lea, studiile rezultate fiind publicate în limbile română și maghiară. \\n A mai multor decenii de cercetare, pataki józsef a publicat în anul 1981 volumul \"kolozsvári emlékírók 1603-1720\" [memorialiști clujeni 1603-1720], care este lucrare de referință pentru istoria clujului.',\n",
       " 'A fost decorată cu Ordinul Imperiului Britanic și Venerabilul Ordin al lui St John. \\n Apoi, cu fosta cântărețului Marc Anthony în septembrie 2017, Shannon de Lima.',\n",
       " \"Numerele de înmatriculare sunt compuse din patru cifre, două litere și o cifră. \\n * Agrippa d'Aubigné (1552–1630)\\n** ''Les Aventures du baron de Faeneste'' (1617, 1619, 1630)\\n* Béroalde de Verville (1556–1626)\\n** ''Le Moyen de parvenir'' (c.1610)\\n* François du Souhait (c.1570/1580 –1617)\\n** ''Histoires comiques'' (1612)\\n* Molière d'Essertine (c.1600–1624)\\n** ''Semaine amoureuse'' (1620)\\n* Charles Sorel (1602–1674)\\n** ''L'histoire comique de Francion'' (1622)\\n** ''Nouvelles françoises'' (1623)\\n** ''Le Berger extravagant'' (1627)\\n* Jean de Lannel (c.1550-c.1630)\\n** ''Le Roman satyrique'' (1624)\\n* Antoine-André Mareschal\\n** ''La Chrysolite'' (1627)\\n* Paul Scarron (1610–1660)\\n** ''Virgile travesti'' (1648–1653)\\n** ''Le Roman comique'' (1651–1657)\\n* Cyrano de Bergerac (Hector Savinien) (1619–1655)\\n** ''Histoire comique des Etats et Empires de la Lune'' (1657)\\n** ''Histoire comique des Etats et Empires du Soleil'' (1662)\",\n",
       " 'Ramses II a construit monumente mărețe precum Marele Coridor din templul lui Amon de la Karnak și multe dintre templele de la Abu Simbel, statuile de aici ale faraonului având dimensiuni uriașe. \\n Soldații află că tânăra Chloe trăiește împreună cu fratele său de 8 ani, Paul, și cu mătușa ei, care a fost desfigurată de experimentele naziste care au loc în biserică.',\n",
       " 'La Charleston, Carolina de Sud, în 1865, sclavii africani eliberați au sărbătorit la Washington Race Course, unde astăzi se află Hampton Park. \\n * În capitolul XVII din „Doi ani înainte de catarg” (1840), Richard Henry Dana, Jr. relatează o anecdotă despre bucătarul navei, care se atașase nespus de mult de o scroafă, „Bătrâna Bess”, ce se aflase la bordul vasului în primele luni ale călătoriei, iar după ce scroafa a fost dusă la țărm în San Diego, bucătarul „cu greu ar fi putut fi mai grijuliu, căci, de fapt, mai multe nopți, după lăsarea întunericului, când credea că nimeni nu îl vede, se ducea la mal într-o barcă cu o găleată de îmbucături zdravene și se întorcea precum Leandru de la trecerea Hellespontului”.',\n",
       " \"Teritoriul primit de la Stjepan cuprindea și limanul\\xa0, unde astăzi se află portul comercial Dubrovnik. \\n Teritoriul de bază al comunității ragusane (''districtul ragusa'', în\\xa0italiană\\xa0''distretto di ragusa'') cuprindea orașul\\xa0ragusa, župa dubrovačka, gruž, ombla, zaton, insulele\\xa0\\xa0(šipan, lopud și\\xa0koločep) și alte câteva insulițe de lângă oraș.\",\n",
       " 'Acesta a mai fost auzit pe melodia lui Beyoncé \"Baby Boy\" și melodia lui Blu Cantrell \"Breathe\". \\n Malurile estice și vestice ale lacului sunt mai înalte și abrupte, presărate cu ravene (râpi adânci), cele sudice sunt joase și nisipoase, iar cele nordice sunt mlăștinoase și acoperite cu tufișuri de stuf.',\n",
       " 'Gâtul și membrele inferioare erau lungi și subțiri. \\n Asteroidul prezintă o orbită caracterizată de o semiaxă mare de 2,29 ua, o excentricitate de 0,18 și o înclinație de 3,4° în raport cu ecliptica.',\n",
       " 'Procese:sufoziune si tasare\\nCirculația lesnicioasă a apei în loess, determina levigarea și deplasarea CO3Ca către baza rocii, mai umedă și mai puțin permeabilă, favorizând apariția unor concrețiuni calcaroase denumite păpuși de loess sau broboane. \\n Al sufoziunii urmată de tasare, pe loess iau naștere mici excavații închise având contururi circulare sau ovale denumite crovuri sau găvane.',\n",
       " 'Existența orașului Câmpulung Moldovenesc ca reședință de județ este întreruptă de către noua împărțire administrativă legiferată în anul 1950, după model sovietic. \\n Fostul județ câmpulung este înglobat în regiunea suceava, iar orașul devine reședința raionului câmpulung, unul dintre cele douăsprezece raioane ale regiunii nou formate.',\n",
       " '* etnoiatria: studiază conceptele și practicile medicale ale unor populații aflate în prezent pe treptele inferioare ale dezvoltării sociale (triburi din Amazonia, Australia, Polinezia). \\n Prin metodele specifice etnologiei, studiindu-se anumite grupuri și populații așa-zis \"primitive\", putem deduce informații privind practicile medicale preistorice.',\n",
       " 'Interesant este faptul că domnitorii nu sunt reprezentați cu familia ca la alte tablouri votive. \\n S-a retras 19 ani mai târziu la Cupa Laver 2022, după ce a câștigat 20 de titluri de Grand Slam.',\n",
       " \"Configurația electronică a moleculei are doi electroni nepereche care ocupă doi orbitali moleculari degenerați. \\n Tamnava trece pe lângă satul Miličinica, face o cotitură ascuțită spre nord-vest de-a lungul muntelui Vlašić, trece prin satul Donje Crniljevo și face o altă cotitură ascuțită, spre est, în jurul dealului Braznik (chirilică: ''Бразник''), lângă satul Gradojević.\",\n",
       " 'Deși există o mare diversitate confesională, oamenii de aici trăiesc în bună înțelegere unul cu altul și nu există conflicte pe această temă. \\n În localitate sunt 20 de gospodării, iar numărul mediu de membri în gospodărie este de 2,90.',\n",
       " 'Posibilitatea acestei neglijări depinde de condițiile concrete ale diferitelor probleme studiate. \\n Planetele pot fi considerate puncte materiale când se studiază mișcarea lor în jurul soarelui, dar nu și când se studiază mișcarea lor în jurul axei proprii.',\n",
       " \"Hipocrate îl menționează ca medicament, în amestec cu ou. \\n :<big>OOOOO</big> este descrisă ca X.Ens<sub>2</sub> (X.X)\\n:X.X.X.X.X reprezintă un „șir” de cinci sloturi cu poziții bine determinate (''numărul ordinal cinci''), în care pot fi puse obiecte distincte, \\n:iar Ens<sub>5</sub> reprezintă un sac în care pot fi puse cinci obiecte distincte, (''numărul cardinal cinci'') fără ca acestea să poată avea poziții precizate.\",\n",
       " '* Orso de Benevento, principe longobard de Benevento (890-891), (n. \\n Astfel, caracterizarea fizică a culorii unui obiect se face printr-o funcție care dă, pentru fiecare lungime de undă (sau frecvență), raportul dintre puterea radiației reflectate și puterea radiației incidente.',\n",
       " 'În timpul liceului a început să fie interesat de a participa la cât mai multe activități culturale și se implică în asociațiile studențești care erau foarte populare în acea vreme. \\n A ajuns să frecventeze ședințele societății de lectură a elevilor, acolo unde i-a fost insuflat și mai mult gustul pentru lectură.',\n",
       " 'Prin acest statut, Parlamentul Britanic a renunțat voluntar la capacitatea sa de a legifera în numele dominioanelor fără consimțământul acestora. \\n Guvernul statului liber irlandez a fost liber să modifice orice legi adoptate anterior de parlamentul britanic în numele lui.',\n",
       " 'Catolică fiind, ea nu putea face acest lucru și clerul a refuzat să o lase să țină Liturghii catolice. \\n Conform recensământului din 2001, toată populația localității Plaskivșciîna era vorbitoare de ucraineană (100%).',\n",
       " 'Acesta din urma a fost in cele din urma detronat în jurul anilor 530 de către Abraha, un general etiopian, în circumstanțele unei răscoale. \\n Prin anul 535 abraha s-a proclamat independent de imperiul axumit și a ales sanaa drept capitală.în acest fel, el a depășit izolarea politică-geografică ce caracteriza zafarul, s-a detașat de tradiția himyarită de până atunci și a profitat de înflorirea cetătii sanaa care era un animat centru de pelerinaj.',\n",
       " 'Thomson a primit în 1906 Premiul Nobel în Fizică pentru acest lucru. \\n El a răsturnat credința că atomii sunt particulele finale, indivizibile, de materie.',\n",
       " \"Lista acestora este una actualizată, în raport cu cea a Legiunii interbelice. \\n Se alătură inamicilor drepturile omului, „genocidul” provocat de democrație și „internaționalismul”, care, ''„globalizează națiunea și distruge frontierele românești”''.\",\n",
       " 'Ulterior, datorită meritelor sale deosebite, Georges a devenit secretarul personal al regelui Carol de Hohenzollern. \\n A funcției deosebite pe care a avut-o, georges se remarcă în activități de reprezentare oficiale precum și în cele particulare ale casei regale a româniei.',\n",
       " 'Cunoaștere prin ardoare\\'\\'). \\n Pe 29 sept. are loc la galleria la pigna - palazzo marescotti serata \"130 anni dalla nascita del simbolista romeno george bacovia\" ce s-a bucurat de eseurile critice aparținând poetului și criticului roberto piperno și mioarei moraru, coordonator h.c. cicortaș, președintele firi; pe 30 sept. accademia di romania a găzduit contribuțiile critice la opera poetică a lui mario luzi, semnate de scriitorul francesco baldassi, poeta și prozatoarea rossella pompeo, de prof.lidia gargiulo și dante fasciolo, coordonatoare fiind poeta și animatoarea culturală tatiana ciobanu.',\n",
       " \"Documentele privind desfășurarea lucrărilor au fost distruse în perioada când s-a restabilit cultul icoanelor, dar s-au păstrat concluziile dogmatice sintetizate într-un ''horos'' (definiție dogmatică), combătute mai târziu la Sinodul al VII-lea Ecumenic din 787. \\n Atlas este cel mai apropiat satelit de marginea exterioară a inelului A și a fost mult timp considerat a fi un satelit păstor pentru acest inel.\",\n",
       " \"Pentru meciurile din faza grupelelor se pot modifica orele de începere datorită televiziunilor. \\n ''Delia virgithorax'' este o specie de muște din genul ''Delia'', familia Anthomyiidae.\",\n",
       " 'ExxonMobil este organizată într-un număr de divizii globale de operațiuni. \\n În ultimii doi ani de facultate a predat ca profesor de fizică, iar după absolvire a lucrat ca inginer în cadrul Institutului de Reactori Nucleari Energetici din Pitești.',\n",
       " \"Iată ce spunea despre execuția măiastră a pridvorului sfântului lăcaș marele istoric al neamului, Nicolae Iorga: ''„Frumos pridvor pe stâlpi lucrați cu o mare bogăție de podoabe... cu un rând de stâlpi tot așa meșteșugiți sculptați... flori de piatră în jurul ușii celei mari și a tuturor ferestrelor“''. \\n Dezvoltarea trompei a dus la retragerea oaselor și cartilajelor de pe față în timpul evoluției tapirului și chiar a provocat pierderea unor cartilaje și mușchi faciali și a peretelui osos al camerei nazale.\",\n",
       " 'În România, pasărea a dispărut pentru 50 de ani, pentru a apărea din nou în anul 2016. \\n În timp ce unele ființe din rândul devașilor poate fi ființe de o mare autoritate morală și prestigiu și, astfel, demni de un mare respect, niciun Deva nu poate arăta cale de scăpare de saṃsāra sau controlul renașterii cuiva.',\n",
       " \"Adâncimea de desfășurare a bătăliilor a crescut în timp, existând în zonele din spatele frontului unități de aprovizionare, artilerie, medicale, etc, care în zilele noastre depășesc numărul luptătorilor din linia întâi. \\n Când a fost lansată ancheta, grupurile colonilor de dreapta au susținut că bomba a fost pusă de ''agenți provocatori''.\",\n",
       " 'Suprafața totală este de 11,9&nbsp;km² (4.6&nbsp;mi²). \\n Mondadori este deținută de Fininvest, holdingul controlat de Silvio Berlusconi.',\n",
       " 'Inițial, a vrut să-și extindă imperiul în est, dar a fost învins de sciți. \\n S-a hotărât să-și extindă imperiul spre vest, cucerind state mici, precum iudeea și fenicia.',\n",
       " '2984 Chaucer este un asteroid din centura principală, descoperit pe 30 decembrie 1981 de Edward Bowell. \\n A dispărut din Irlanda de 200 de ani, dar în mod natural s-au întors să se reproducă acolo.',\n",
       " 'Pentru % din locuitori nu este cunoscută apartenența etnică. \\n A fost recunoscut ca unul din principalii specialiști mondiali în tratamentul ; în acest sens, a primit, printre altele, două distincții universitare în 2010.',\n",
       " 'Clădirea impresionează și prin peronul acoperit, dar și prin feroneria lucrată artistic de meșterii timpului. \\n Din 2009 este deputat în Parlamentul Republicii Moldova, în cadrl fracțiunii Partidului Liberal Democrat din Moldova.',\n",
       " 'Este tatăl lui Mihăiță el a lucrat prima dată cu Lili la un magazin apoi, a lucrat cu Nelu Curcă la o firmă de livrări N&C deși inițial nu voia să facă afaceri cu Nelu Curcă pentru că voia să devină șef dar a pierdut postul în favoarea lui Lili Jurcă care a devenit ea șefa apoi Costel Jurcă decide că nu are nimic de pierdut și lucrează împreună cu Nelu Curcă la firma N&C livrari acasă, apoi ca polițist comunitar fiind și ultima lui ocupație în semn de respect pentru ce a făcut pentru poliția comunitară i-a fost făcută o statuie cu numele său atât lui cât și lui Nelu Curcă, dar Nelu Curcă văzând niște copii ce vizitau muzeul îl considerau pe Costel adevăratul erou și îi spărsese statuia lui Nelu Curcă, apoi de gelozie, etc. \\n Aceste imagini au fost bazate pe Ubuntu 15.10, dar în aprilie 2016, upgrade-uri la Ubuntu 16.04, care avea să devină în cele din urmă baza pentru prima versiune generală, care a avut loc pe 8 iunie 2016.',\n",
       " 'De exemplu, în cazul unui termometru cu rezistența din platină, schimbările de temperatură sunt translatate în schimbări ale rezistenței. \\n Prt-ul trebuie să aibă o sursă de energie electrică.',\n",
       " 'Se întâlnește după traumatisme testiculare grave, după tratarea acestei regiuni cu raze X, în urma manevrării îndelungate a unor cantități mari de substanțe radioactive, în unele forme de sifilis, tuberculoză, precum și în unele boli endocrine. \\n Åmot se poate referi la:\\n*Åmot, o comună din provincia Innlandet, Norvegia\\n*Åmot, Buskerud, un sat din comuna Modum, Buskerud, Norvegia\\n*Åmot (Seljord), un sat din comuna Seljord, Telemark, Norvegia\\n*Åmot (Skien), un sat din comuna Skien, Telemark, Norvegia\\n*Åmot (Vinje), un sat din comuna Vinje, Telemark, Norvegia\\n*Åmot, Suedia, un sat din comuna Ockelbo, Suedia\\n*Åmodt bro, pod din Oslo, Norvegia',\n",
       " 'Turul al doilea al alegerilor va avea loc pe 3 octombrie, în circumscripțiile electorale unde niciun candidat nu a obținut majoritatea absolută în primul tur. \\n În a doua rundă de scrutin vor participa primii doi candidați în ordinea descrescătoare a rezultatelor obținute în primul tur.',\n",
       " 'A marcat și 13 goluri în toate competițiile pentru Feyenoord (dintre care 11 în campionat), aducând un aport decisiv în câștigarea eventului campionat - cupă în fața fostei sale formații, Ajax Amsterdam. \\n În vara anului 1984, la vârsta de 37 de ani și câteva săptămâni, johan cruijff se retrăgea din activitatea de fotbalist profesionist, după ce arătase un fotbal extrem de tehnic și rapid prestat de el la fiecare echipă la care a evoluat.',\n",
       " 'și pe Vladislav I Vlaicu să recucerească Vidinul de la Ungaria. \\n Coandă\\n* George Coandă (* 1937, Șimian), un istoric, prozator, poet și critic literar, istoric al culturii și ziarist român',\n",
       " 'Sultanul cere principelui Transilvaniei și pașei de Buda să împiedice refugierea domnului Moldovei pe teritoriul lor și pregătește schimbarea chiar și forțată a domniei în Moldova. \\n Grigore ureche, consemna: \\nastfel, ioan vodă a reușit să strângă o „armată mare de băștinași și locuitori ai granițelor care vin din toate părțile” (raportul trimisului austriac la poartă): 20.000 de pedestrași (formați din răzeși, stăpâni de ocini), 10.000 de călăreți (steagurile de curteni și boierești), la care se adaugă cei 1.200 de cazaci, conduși de hatmanul sverceavski.',\n",
       " 'În ultima lui calitate de la Sibiu, a inițiat apariția revistei Studii și comunicări de arheologie și istorie, ea fiind considerată astăzi, una dintre referințele istoriografiei românești. \\n A premiului acordat de academia română în 1995, iuliu paul a devenit un eminent arheolog, rector al universității din alba iulia.',\n",
       " 'Ajunși în apele reziduale, aceștia nu se descompun sub influența microorganismelor din apă în substanțe nenocive. \\n Aceste două tipuri au acțiune poluantă puternică.',\n",
       " \"Prefixele formează verbe perfective de la imperfective. \\n De prefixe sunt:\\n* по- ''po-'': звати ''zvaty'' – позвати „a chema”;\\n* на- ''na-'': писати ''pysaty'' – написати „a scrie”;\\n* про- ''pro-'': чистити '' прочистити „a curăța”;\\n* з- ''z-'': їсти ''jisti'' – з’їсти „a mânca”.\",\n",
       " 'În total, aproximativ 17.000 de oameni din Oświęcim și satele din jur au fost forțați să își părăsească locuințele, iar opt sate au fost desființate. \\n Până în aprilie 1941, populația a oświęcim s-a redus la 7.600 de locuitori.',\n",
       " 'Legatul este numit direct de către papă (episcopul Romei, șeful Bisericii Catolice și (istoric) șeful statului papal). \\n Un legat este de obicei trimis unui guvern, suveran sau unui număr mare de credincioși (cum ar fi o altă biserică) sau pentru a se ocupa cu un efort religios major, cum ar fi, istoric: un conciliu (ecumenic), o cruciadă spre țara sfântă, sau chiar împotriva unei ereziei, cum ar fi catarismul.',\n",
       " '2015\\n \\n\\n\\n\\n \\n \\n \\n \\n \\n \\n\\n \\n \\n \\n \\n \\n\\n \\n \\n\\n \\n \\n \\n \\n{| style=\"width:100%;\"\\n|-\\n|  style=\"width:25%; vertical-align:top;\"| \\n „Degețica” este, în esență, o creație a lui Andersen, dar se inspiră din povești tradiționale similare, ca \\'\\'Tom Degețel\\'\\'.',\n",
       " 'Un număr de 111 fibule se aflau într-o stare de conservare satisfăcătoare, putând fi incluse în opt tipuri, din care unele cu variante: \\n*Tip 1. \\n În România Dombrowski a găsit cuibul de cele mai multe ori pe sălcii ori plopi; în două rânduri pe salcâmi, în două pe ulmi, în șase pe arini, odată pe frasin și în fine odată pe un fir de trestie, la  înălțime de la trei până la nouă metri de la pământ.',\n",
       " 'S-a născut la Jasim (Josem), localitate aflată la nord-est de Lacul Tiberiada situată astăzi în guvernoratul sirian Alep. \\n Serviciile de pompieri voluntari sunt complet integrate cu sistemul de urgență.',\n",
       " 'Cariera lui Pompei și înfrângerea sa sunt semnificative pentru transformarea ulterioară a Romei, de la Republică la Principat și apoi în Imperiu. \\n Diferite obiecte, printre care o carte, un echer, două taburete și un ou plutesc în jurul figurii principale.',\n",
       " 'Una dintre ele presupune că giganții de gheață nu s-au format prin acreția nucleului, ci din instabilitățile apărute în cadrul discului protoplanetar inițial, atmosfera lor fiind spulberată ulterior de radiația unei stele OB din apropiere. \\n Apartenența etnică nu este cunoscută în cazul a % din locuitori.',\n",
       " 'Sintagma \"Fiu al lui Dumnezeu\" trebuie înțeleasă aici în sensul dat ei de către creștini, căci ea este veche, precedând creștinismul. \\n Despre împăratul roman augustus se spunea că este fiul lui dumnezeu pentru că era fiul adoptat al lui iulius cezar, împărat zeificat de către romani.',\n",
       " 'Determinarea soluției optime a VRP este NP-hard, astfel că mărimea problemelor care pot fi rezolvate, optim, folosind optimizarea sau optimizarea combinatorială poate fi limitată. \\n Programele comerciale de soluționare tind să utilizeze euristica datorită mărimii și frecvenței vrp-urilor reale pe care trebuie să le rezolve.',\n",
       " \"Centura  cuirasată avea o grosime de 229&nbsp;mm, iar blindajul frontal al turelelor era de 325&nbsp;mm. \\n La ceremonie, liderul tribului Jabari, M'Baku, îl provoacă pe T'Challa pentru coroană într-o luptă ceremonială.\",\n",
       " 'Termenul Halahá este derivat din verbul ebraic halakh הלך, ceea ce înseamnă \"a merge\". \\n O traducere literală nu conține explicit ideea de \"lege\", ci, mai degrabă \"calea de mers\".',\n",
       " 'Kirk decide că trebuie să afle ce s-a întâmplat cu nava Valiant. \\n Enterprise traversează marginea galaxiei unde întâlnește o barieră ciudată, care cauzează daune grave sistemelor electrice, iar nava este obligată să se întoarcă din drum.',\n",
       " 'Pe 26 iulie 2014, PDL a format o alianță împreună cu PNL, numintă Alianța Creștin Liberală (ACL). \\n Fuziunea efectivă dintre cele două partide a avut loc pe 17 noiembrie 2014.',\n",
       " 'Privit izolat, dinamica sistemului este ne-unitară (cu toate că sistemul combinat cu mediul evoluează într-un mod unitar). \\n Dinamica sistemului singur, tratat izolat de mediul său, este ireversibilă.',\n",
       " 'Conexiunile au greutăți numerice care se adaptează în funcție de experiență. \\n Rețelele neuronale se adaptează la un impuls și sunt capabile să învețe.',\n",
       " 'A urmat școala primară din localitatea natală (1940 - 1944), apoi studii liceale la Colegiul Național „Unirea” din Focșani (1944 - 1951). \\n În Transilvania, 63% din cei împroprietăriți în urma reformei agrare aveau naționalitate română, în timp ce 37% aveau o altă naționalitate.',\n",
       " 'Ioan, igienizarea Bahluiului pe întreg parcursul din municipiul Iași și recuperarea pentru dezvoltare a Șesului Bahluiului până la Lețcani. \\n A fost descrisă pentru prima dată de Tiensuu în anul 1939.',\n",
       " 'Ele sunt ceea ce a fost Tokio-ul înainte de reforma administrativă din 1943. \\n De sectoare speciale nu există în japonia decât la tokio.',\n",
       " 'Transferul de energie are loc prin interacțiunea radiațiilor de căldură cu particulele care formează plasma; ionii de hidrogen și heliu emit fotoni care parcurg doar o scurtă distanță înainte de a fi reabsorbiți de alți ioni. \\n Conform recensământului din 2001, majoritatea populației comunei Mareanivka era vorbitoare de ucraineană (%), existând în minoritate și vorbitori de rusă (%).',\n",
       " 'Aceasta este problema cunoscută sub numele de \"free rider\" (blatist). \\n Unii beneficiază de servicii (serviciile sindicale) fără a plăti nimic în schimb.',\n",
       " 'Un subgrup  al unui grup topologic  este un subgrup discret dacă  este discret atunci când este dotat cu o topologie de subspațiu din . \\n Există o vecinătate a identității în  care nu conține niciun alt element din .',\n",
       " \"(1969)\\n* ''That's the Way Love Is'' (1970)\\n* ''What's Going On'' (1971)\\n* ''Trouble Man'' (1972)\\n* ''Let's Get It On'' (1973)\\n* ''I Want You'' (1976)\\n* ''Here, My Dear'' (1978)\\n* ''In Our Lifetime'' (1981)\\n* ''Midnight Love'' (1982) \\n 6255 Kuma este un asteroid din centura principală de asteroizi.\",\n",
       " \"* ''Nume de oameni, nume de animale, nume de locuri în satul Alunis, județul Sălaj'',Ciprian Napradean, editura E.D.U. \\n În acel an, nu exista o versiune în engleză sau ebraică a raportului Vrba–Wetzler la Yad Vashem, Autoritatea de Comemorare a Martirilor și Eroilor Holocaustului din Ierusalim, o problemă pe care muzeul a pus-o pe seama lipsei de finanțare.\",\n",
       " '* G2S\\n* FU\\n* Twist of fate Extrem ori Simplu\\n* Ladrop Extrem\\n* SwetchinMusic\\n* Pedigree\\n* SwantomBomb \\n Chiar dacă nu toate speciile o folosesc la construcția pânzelor, majoritatea păianjenilor au capacitatea de a produce mătase, numai că este aplicată în diferite moduri.',\n",
       " 'În unele cazuri, aceste ideologii pot contribui într-o anumită măsură la dezumanizarea indivizilor. \\n În domeniul medicinei, de exemplu, dezumanizarea permite o anumită distanță în relația medic-pacient, care poate fi uneori benefică.',\n",
       " 'În provincia Zhejiang a avut o atitudine intransigentă față de corupție, fapt care a atras atenția liderilor chinezi. \\n A demiterii secretarului de partid chen liangyu din shanghai în septembrie 2006 ca urmare a unui scandal legat de pensiile sociale, xi a fost numit în locul lui în martie 2007.',\n",
       " 'Nașterea este un fenomen strâns legat de umanitate, de societate. \\n Procesul de naștere și toate aspectele însoțitoare din jur, variază în funcție de istoric, geografic, social și cultural.',\n",
       " 'Satele care compun în prezent această comună, sunt și ele atestate prin diferite documente. \\n Avem: satul vlăduleni este atestat în 1558, satul greci în 1787, satul ostrov este atestat odată cu biserica de aici, iar satul tomeni este atestat în 1489.',\n",
       " 'A fost eliberat din închisoare printr-o hotărâre judecătorească la 31 decembrie 1993. \\n Testele de depistare sunt recomandate de către Comisia de servicii preventive din Statele Unite în cazul adulților care nu prezintă simptome, dar a căror tensiune arterială este mai mare de 135/80&nbsp;mmHg.',\n",
       " 'Din simetria tablourilor se poate trage concluzia că pictorul a lucrat deodată pe două pânze ridicate una lângă cealaltă. \\n Fiul său, Alexandru Șumski, a fost de asemenea compozitor.',\n",
       " 'În 2002 supraviețuiește unui accident vascular cerebral, însă devine afazic. \\n Îi era imposibil să se exprime atât oral, cât și în scris.',\n",
       " 'Între 1957 și 2013 Regatul Unit a acumulat 3800 de puncte, fiind țara cu cel mai mare punctaj din istorie. \\n Trupa a continuat să cânte în SUA, Australia și Japonia, totodată deschizând show-urile pentru Iron Maiden și Aerosmith.',\n",
       " 'Prin urmare, deși evaziunea fiscală nu este legală, este un fenomen popular deoarece are foarte multe avantaje economice pentru consumator. \\n Deși evaziunea fiscală este un fenomen deplorabil, este și adevărat că acesta se bucură de o anumită susținere în condițiile în care consumatorul are avantaje economice considerabile în a nu solicita factura fiscală.',\n",
       " \"Un astfel de exemplu este apărarea Catherinei de Aragon în fața  acuzațiilor lui Henry, prezentate în fața curții de justiție numită ''Legatine Court''. \\n De fapt, shakespeare nu doar prezenta condensat evenimente petrecute într-un interval de două decade, ci amesteca (probabil intenționat) ordinea lor cronologică, ca atare implicând alte concluzii decât cele „oficiale.” astfel, în piesă se sugerează, fără a se spune direct, că acuzațiile de trădare împotriva ducelui de buckingham erau umflate bine și false; menținând în tot decursul evenimentelor din piesă un anumit nivel de ambiguitate față de toate evenimentele „sensibile.” \\nrușinea suferită și decapitarea annei boleyn (în piesă ortografiat ''bullen'') sunt evitate cu mare grijă.\",\n",
       " 'Există însă ipoteze contradictorii în privința datării acestui document, unii cercetători plasându-l cu două secole mai târziu. \\n Ioan bianu l-a datat în anii 1560-1580, informație preluată și de „istoria literaturii române” editată de către academia română.',\n",
       " \"''De Virginitate'' ( ''Despre virginitate'' ) a fost deosebit de influent, iar în anii 980 un savant englez a cerut permisiunea de la Arhiepiscopul Æthelgar să meargă la Winchester pentru a-l studia, plângându-se că a murit de foame de hrană intelectuală. \\n 19] un pasaj din ''de virginitate'' spune:\\n: așadar, împotriva înfricoșătoarei fiare a mândriei și împotriva acestor șapte brute ale viciilor otrăvitoare, care se străduiesc cu cruzime să sfâșie cu dinții lor turbați și colții virulenți pe toți cei neînarmați, prădați de cuirasa fecioriei și dezbrăcați de scutul castității, fecioarele lui hristos și tinerii campioni ai bisericii trebuie să lupte cu mușchi și forță.\",\n",
       " \"Deși casa de discuri Interscope a planificat inițial să lanseze o versiune a albumului ''The Fame'' cu două discuri, materializarea nu a fost posibilă din punct de vedere financiar. \\n În țări precum statele unite, ''the fame monster'' a fost lansat și drept un extended play separat.\",\n",
       " 'Pe 8 noiembrie 1926 s-a născut fiul lor, Peter van Pels, care a rămas singurul copil al cuplului. \\n A ascensiunii la putere a naziștilor și a instituirii unor legi cu caracter rasial, familia van pels a fugit pe 26 iunie 1937 în țările de jos și s-a mutat la amsterdam, într-un apartament de pe zuider amstellaan.',\n",
       " '* Membru al „Cenaclului Literar al Cadrelor Didactice Octavian Goga” din Cluj-Napoca, din anul 1998\\n* Membru colaborator în „Fundația Copiilor cu Handicap Motor” din Cluj-Napoca între anii 2004 – 2007 \\n* Membru în Consiliul de Conducere a Ligii Scriitorilor, Cluj-Napoca, din anul 2009\\n* Colaborator  permanent Radio-TV  Cluj-Napoca și Tg. \\n Cuibul este făcut din iarbă uscată de graminee, rămurele uscate, fâșii de coajă, alte fibre vegetale lungi, mușchi verzi, frunze de copaci și lichen, iar deasupra este făcut un acoperiș înclinat către trunchi.',\n",
       " 'O variantă a cântecului „Time to say goodbye” numită „Time to say Hello” este încă în lucru și se pare că urmează să fie lansată în 2009. \\n Membrii Adunării Populare Supreme sunt aleși pentru un termen de cinci ani, și se întâlnesc la intrunirile Adunării Supreme a Poporului  până la zece zile pe an.',\n",
       " 'Însă, cu ajutorul Pietrei Bolii Pământului, necorporalii \"proroci deliranți\" i-au posedat pe cei trei frați, care și-au măcelărit restul neamului. \\n Tărâmul a pierdut unul dintre cei mai puternici aliați în lupta împotriva lui foul.',\n",
       " '( Enciclopedia județului \\nAnul 1874 aduce o nouă organizare administrativă prin care se urmărea subordonarea comunelor autorităților moșierești. \\n Satele băești, diaconești, dobricea, grădiștea, obislavul, străchinești și turburea ajung sub administrația comunei tina; autoritățile nu au ținut cont de avizul negativ dat de  consiliile comunale ale comunelor băești, grădiștea și obislavul față de această lege.',\n",
       " 'Scoarța terestră are în componență o multitudine de minerale, unde metalele și metaloizii reprezintă o parte însemnată. \\n 24% din scoarță este constituită din doar 6 metale: fier, aluminiu, sodiu, calciu, potasiu și magneziu.',\n",
       " \"Pentru concretizarea dorinței sale îl cheamă de la Biserica română din Sofia pe Ioan Popescu-Runcu,preot cu „practică corală de peste 20 de ani, între care 17 numai la Sofia”. \\n Charlton Heston jucase rolul Marc Antoniu în două filme anterioare, ambele adaptări ale piesei shakespeariene ''Iulius Caesar'', primul în 1950 și al doilea în 1970 (produs tot de Peter Snell).\",\n",
       " 'Cuiburile scurmate în pământ sunt mici gropi, uneori, acoperite de fân, paie, puf și uneori înconjurate cu pietre pentru ca ouăle să nu se rostogolească afară din cuib. \\n De cuiburi construiesc: multe specii de rațe, struții, rândunicile de mare, potârnichi, prepelițe, fazani, etc.',\n",
       " \"Mănăstirea Curtea de Argeș, nișă peste intrare cu mozaic semnat de arh. \\n Lecomte du noüy în 1885\\nașadar, ginerele voievodului, radu de la afumați (1522-1529), odată urcat pe scaun, a consfințit continuarea decorării așezământului, prin pisania din 10 septembrie 1526, care menționează și numele lui ''dobromir zugravul''.\",\n",
       " \"Astronomia este considerată ca una dintre științele cele mai vechi, practicarea ei ținea mai mult, până în secolul al XVII-lea și crearea primelor observatoare naționale, de o ''astronomie de amator'' decât de un demers științific coordonat. \\n Astronomi de renume, care și-au construit propriul lor observator, cum sunt william herschel (1738-1822) sau william parsons, al treilea conte de rosse (1800-1867) sunt uneori considerați drept strămoși ai astronomilor amatori.\",\n",
       " 'Mai recent, valoarea sa istorică a fost serios pusă sub semnul întrebării, dat fiind că lucrarea include numeroase elemente legendare și că autorul nu ar fi fost niciodată în Țara Sfântă. \\n Se pare că albert ar fi discutat cu mai mulți cruciați reveniți din palestina și că ar fi avut acces la corespondența altora.',\n",
       " 'Hawking a propus o soluție care are ca scop formularea unui model care este autosuficient. \\n Programul de cercetare pentru modelul cosmologic standard este un program unificator în sensul metodologiei programelor de cercetare a lui lakatos, incluzând mai multe programe unificate (precum cel pentru big bang, evoluția stelară și a galaxiilor, singularitățile gravitaționale, etc.).',\n",
       " 'Antipsihoticele sunt utilizate în mod obișnuit, adesea împreună cu stabilizatori de dispoziție, cum este cazul litiu/valproat, ca tratament de primă linie pentru episoadele maniacale și mixte asociate cu tulburarea bipolară. \\n 3537 Jürgen este un asteroid din centura principală, descoperit pe 15 noiembrie 1982, de Edward Bowell.',\n",
       " 'Nakovo (, , ) este o localitate în Districtul Banatul de Nord, Voivodina, Serbia. \\n Polonia Mică se întinde între Munții Carpați la sud și râurile Pilica și Liwiec la nord.',\n",
       " '* Narcis Crețulescu (1835 - 1913), episcop;\\n* Iacob Iacobovici (1879 - 1959), medic chirurg. \\n FRAS dispune de un colectiv de peste 290 de arbitri legitimați în 12 colegii județene pentru realizarea arbitrajului și cronometrajului în competițiile din Calendarul Sportiv.',\n",
       " 'Curtea nu a putut admite ca reclamanții să fie considerați răspunzători de ineficiența hotărârilor sau a măsurilor luate de autorități în vederea stabilirii unor contacte efective. \\n Curtea a considerat că autoritățile competente nu au depus eforturi rezonabile pentru a facilita contactele regulate între reclamanți și minor, în condițiile existenței unei hotărâri judecătorești de stabilire a unui program de vizitare.',\n",
       " 'Documentul de capitulare spunea:\\n\\nCelelalte posturi s-au predat numai după ce ordinul de capitulare al lui Pearse, transmis de asistenta medicală , a ajuns la ei. \\n Luptele sporadice au continuat până duminică, când vestea despre capitulare a ajuns și la celelalte garnizoane rebele.',\n",
       " \"*26 noiembrie &ndash; NASA raportează că landerul ''InSight'' a aterizat cu succes pe planeta Marte. \\n Armata Germană de ocupație aruncă în aer clădirile orașului, transformând capitala Poloniei într-un morman uriaș de ruine.\",\n",
       " 'Pe data de 26 decembrie 1976 a avut loc dechiderea acesteia. \\n Kobeliarovo este o comună slovacă, aflată în districtul Rožňava din regiunea Košice.',\n",
       " \"Proiecție ortogonală a unui 10-simplex cu 11 vârfuri și 55 de laturi\\n''11-celule'' abstract conține același număr de vârfuri și laturi ca și 10-simplexul 10 dimensional și conține 1/3 din cele 165 de fețe ale sale. \\n Poate fi desenat ca o figură regulată într-un 11-spațiu, deși atunci celulele sale hemiicosaedrice sunt „strâmbe”, adică o celulă nu este conținută într-un subspațiu plan tridimensional.\",\n",
       " \"Termenul ne dă o serie de informații pentru identificare, putând furniza și o informație despre unele caractere ale elementului denumit. \\n Se pot enumera unele categorii:\\n*''nume de persoane care cuprinde: \\n** numele de familie și \\n** numele de botez'' (numele onomastic)\\n*''numele proprii'' care sunt caracterizate prin scriere cu majuscule (nume de persoane, ca și denumiri din alte domenii)''\\n*''nume de firme, mărci comerciale''\\n*''denumiri geografice'' (continente, țări, regiuni, localități, ape, forme de relief etc.)\",\n",
       " 'Definitorie era portretisca, dominantă fiind expresivitatea în limitele asemănării, totul ducând spre un stil realist. \\n Știubei a realizat de-a lungul carierei portrete de factură realistă, precum și un singur nud cunoscut până astăzi.',\n",
       " 'Spectacolele de pe JFK și întreg concertul s-a încheiat la ora 04:05 (11:05 la Philadelphia). \\n Cu o populație de 499.600 de locuitori și o suprafață totală de 3.859,0 km<sup>2</sup>, Nong Bua Lamphu este a 51-a provincie din Thailanda ca mărime după numărul populației și a 55-a după mărimea suprafeței.',\n",
       " 'După cinci ani de martiriu, și-a regăsit pământul natal, dar a fost imediat închis începând cu 1 iulie în închisoarea militară din Rennes. \\n Populația comunei este de 17.359 de locuitori (2008).',\n",
       " \"Revista a debutat cu un studiu al lui Urechia despre Miron Costin, cu niște ''Suvenire despre poetul Conaki'' de Gheorghe Sion și o nuvelă istorică a lui Pantazi Ghica, ''Marele vistier Cândescu'', toate aceste scrieri fiind criticate de Maiorescu în celebrul său eseu ''Beția de cuvinte''. \\n *dpr laminare a pulberilor de ferotitan în foi, cu grad de umplere între 50 - 90%.\",\n",
       " 'Sprijină cu lucrări muzicale diferite fanfare de tineret (Sighișoara). \\n Populația comunei este de 8.071 de locuitori (2008).',\n",
       " 'Rezultatul a fost, că la început multe avioane sovietice au fost distruse la sol sau în lupte aeriene, unde șansele sovieticilor erau minime. \\n Pe frontul de est au putut să apară ași ca erich hartmann (352 victorii aeriene) și gerhard barkhorn (301 victorii aeriene), în bătălia angliei succesele germane fiind mult mai modeste.',\n",
       " 'Acesta a fost imediat trimis la Petersburg și este expus în prezent în secția meteoritică a Muzeului Mineralogic „A. \\n USR PLUS a criticat dur programul \"Anghel Saligny\" (referindu-se la el ca \"un nou abuz marca OUG 13\") și concedierea ministrului justiției Stelian Ion, cu USR PLUS depunând o moțiune de cenzură împotriva Cabinetului Cîțu împreună cu partidul de opoziție Alianța pentru Unirea Românilor (AUR) denumită „Demiterea guvernului Cîțu, singura șansă a României de a trăi!\"',\n",
       " 'Sarcinile feudale erau riguros formulate, prin autoritatea statului. \\n Ungaria, mult slăbită de răscoală, a suferit în 1526 o înfrângere zdrobitoare în fața turcilor în bătălia de la mohács, după care a urmat o perioadă de 160 de ani de ocupație turcească a unei mari părți a teritoriului ungariei.',\n",
       " 'Naveta a lansat sonda Ulysses și trei sateliți TDRS. \\n Let That Be Your Last Battlefield este un episod din sezonul al III-lea al serialului original Star Trek.',\n",
       " \"Franța metropolitană se întinde de la Marea Mediterană la Canalul Mânecii și Marea Nordului și de la Munții Alpi și Râul Rin până la Oceanul Atlantic. \\n Multe lacuri și râuri sunt afectate de speciile invazive, a căror creștere este favorizată de abundența de nutrienți, cum ar fi planta cu flori plutitoare jacintul de apă (''Eichhornia crassipes''), feriga plutitoare (''Salvinia molesta'') sau crapul (''Cyprinus carpio'').\",\n",
       " 'Măsura zero este definită ca μ(X)=0 pentru orice X.\\nOrice spațiu de probabilități are o măsură cu valoarea 1 pentru tot spațiul. \\n Valorile posibile ale acestei măsuri sunt în intervalul [0,1].',\n",
       " 'Dörner și alții au scris în studiul lor devenit clasic (1978): „Autosatisfacerea este deci un bun neprețuit pentru reușita plăcerii sexuale, dar și pentru alte relații de parteneriat și sexuale: căci numai dacă pot să-mi ofer mie ceva, pot să-i ofer și altuia. \\n 260x260pxPe vârful lui Teofil se găsește un turn (Arutela) care merită o atenție deosebită.',\n",
       " 'La 2 noiembrie, președintele H.Aliev s-a adresat în direct poporului azer prin televiziunea și radioul național și l-a chemat ca, “unindu-se în numele apărării și libertății țării, să lupte cu dușmanul”. \\n A acestui fapt, în noiembrie-decembrie 1993 au fost organizate 40 de batalioane noi, compuse din 16 700 soldați și s-au suspendat trupele voluntare aflate sub influența diferitelor forțe politice din țară.',\n",
       " \"Memorialul Jacques Goddet, aflat în vârful cățărării Tourmalet\\nÎn anul 1944, ca urmare a publicării unor articole favorabile nemților, ''L'Auto'' a fost închis,&nbsp;– porțile i-au fost bătute în cuie&nbsp;– iar toate proprietățile sale, inclusiv Turul Franței, au fost sechestrate de stat. \\n Drepturile asupra turului au revenit guvernului.\",\n",
       " \"\\\\! \\n Varphi \\\\in fg - \\\\int f'g.\",\n",
       " 'La bătălia de la Northampton din 1460, armata lancastriană a fost învinsă iar Henric a fost capturat. \\n Richard a încercat să obțină tronul, dar susținătorii lui nu erau gata să facă acest pas, impunând în schimb legea de acord, prin care fiul lui henric era dezmoștenit, iar richard avea să devină rege după moartea lui henric.',\n",
       " 'Această eroare logică are următoarea formă de raționament:\\n: Afirmația A este făcută cu intenția de a provoca ranchiună. \\n Prin urmare, a este falsă (sau adevărată).',\n",
       " 'Noutati mari se inregistreaza in planurile de invatamant care prevad noi discipline. \\n La clasele bilingve se predau in limbile respective ore de geografie, istorie si civilizatie a angliei, frantei si germaniei, pe langa un numar important de ore de limba si literatura straina.',\n",
       " 'Multe din temele abordate în Secolul de aur provin din bogata tradiție pluriculturală medievală, de inspirație arabă și evreiască, din Romancero sau din cultura italiană, asta datorită prezenței politice a regatului spaniol în Peninsula Italică. \\n Specii dramatice precum intermediul sau nuvela cortezană au introdus estetica realistă în comedii, în timp ce comediile de „mantie și spadă” aveau succes la popor datorită figurii „glumețului” (în general un servitor care se remarcă datorită spiritului său).',\n",
       " 'Printre primii care l-au felicitat cu prilejul numirii în noua funcție, a fost scriitorul Ion Agârbiceanu. \\n În anii 1909 și 1911 îl întâlnim ca notar al districtului protopopesc al sibiului iar în 1910, alături de octavian goga, ion preda și i. beu, ca delegat din partea cercului cisnădie, la conferința electorală a partidului național român ținută la sibiu.',\n",
       " 'În momentul urcării sale pe tron, regele George era trecut de cincizeci de ani, nu cunoștea limba engleză și nici legile Angliei. \\n Se naște o nouă formă de guvernământ: consiliul de cabinet, alcătuit dintr-un grup de consilieri particulari și miniștri, un cabinet răspunzător în fața camerei comunelor.',\n",
       " \"În pilierul SEE AELS mai există două organisme importante:\\n* ''Autoritatea de Supraveghere AELS'', cu sediul la Bruxelles, asigură îndeplinirea de către statele SEE AELS a obligațiilor stabilite de Acordul SEE. \\n Între timp, Valmont reușește să câștige inima lui Tourvel, dar cu un preț: autoproclamatul burlac se îndrăgostește de aceasta.\",\n",
       " 'Mozart se simte în sfârșit independent și își creează un cerc de relații, conștient de faptul de a fi un virtuoz fără egal al pianului. \\n Sesiunea comună a făcut ravagii în cercetarea practică în neuroștiințe și psihiatrie pentru anii următori Pseudo-știința a devenit în mod oficial „știință” materialistă, care respecta canoanele politice ale epocii.',\n",
       " \"Wite[n]bergae'' 1601\\n* ''De anima et corpore universi. \\n Este de remarcat faptul că pe reversul acestei monede sunt gravate ambele devize ale Statelor Unite ale Americii: „E pluribus unum” și „In God We Trust.\",\n",
       " 'Această situație este, de regulă, descrisă drept hegemonie globală a SUA într-o lume unipolară, deși unii autori consideră că lumea actuală este multipolară. \\n * Carnea: este nu foarte compactă, mai degrabă elastică, de culoare albicioasă, găbuind deseori repede în contact cu aerul.',\n",
       " 'Jake distruge bombele înainte ca acestea să ajungă la \"Arborele vieții\". \\n Este un os scurt, cu o formă neregulată cuboidală; este așezat pe partea laterală a piciorului.',\n",
       " 'Biserica nu are turlă, acoperișul fiind înalt, cu pante repezi și o streașină largă. \\n A adăugării pridvorului de către alexandru lăpușneanu, acoperișul a trebuit și el modificat pentru a cuprinde și pridvorul.',\n",
       " 'Excreția urinară de urobilinogen nu depășește, în condiții normale, 4 mg în 24 de ore. \\nNivelul de urobilinogen poate fi folosit ca marker pentru identificarea etiopatogeniei icterului. \\n Un nivel scăzut de urobilinogen, corelat cu un nivel crescut de bilirubină, poate fi un indicator pentru o obstrucție intestinală (care împedică transformarea bilirubinei în urobilinogen).',\n",
       " 'În perioada noiembrie 2019 - decembrie 2020, MDLPA s-a numit Ministerul Lucrărilor Publice, Dezvoltării și Administrației (MLPDA). \\n La recensământul din 2011, populația satului Radovți era de  locuitori.',\n",
       " 'Rostan (în ) este localitatea de reședință a comunei Rostan din raionul Șațk, regiunea Volînia, Ucraina. \\n Un proxy invers transmite cererile către unul sau mai multe servere obișnuite, care rezolvă cererile.',\n",
       " 'Între timp însă, grecii pregăteau războiul împotriva Troiei. \\n Conceptul de \"ganglion/nodul santinelă\" are o istorie lungă, însă prima descriere a procedurii a fost publicată de Morton și Cochrane în 1992 la pacienți diagnosticați cu melanom cutanat.',\n",
       " 'Pe câmpia panonică de la est și nord-est, spre granițele cu Croația și Ungaria, peisajul este în esență șes. \\n Din acest motiv, toți au primit o educație care implica să lucreze cât mai departe de Pământ.',\n",
       " \"Philip French de la ''The Observer'' a recomandat filmul, comparând rivalitatea dintre cele două personaje principale cu cea dintre Mozart și Salieri din extrem de apreciatul ''Amadeus''. \\n Dennis harvey de la ''variety'' a criticat filmul ca ínșelător, deși el a simțit că actorii și-au jucat bine rolurile.\",\n",
       " 'A înființat formații, a scris scenarii de teatru și a obținut alte numeroase premii naționale. \\n Mirosul este aproape imperceptibil, poate ceva neplăcut uleios, gustul fiind blând și dulceag.',\n",
       " 'În particular, stilul simplu și aerisit al lui Richard Parkes Bonington. \\n Râul mai mic, Ballona Creek se varsă în Golful Santa Monica la Playa del Ray.',\n",
       " 'Curcanul feliat este frecvent folosit ca carne sandwich sau servit ca mezeluri; în unele cazuri, în care rețetele necesită pui, curcanul poate fi folosit ca înlocuitor. \\n Contractul era limitat în timp și ulterior a fost prelungit de trei ori.',\n",
       " 'Datorită activității ei militante a devenit ținta amenințărilor și a telefoanelor anonime, care au cauzat îmbolnăvirea soțului ei, Raymond Parks. \\n Familia parks se mută la detroit, michigan, însă rosa își continuă activitatea militantă.',\n",
       " '\"Această noțiune poate fi definită ca autoritate aparținând atât tatălui, cât și mamei în vederea \\nasigurării protecției copilului, părinții având îndatorirea de a educa un copil sănătos și de a-i dezvolta \\no conduită morală adecvată până la atingerea majoratului. \\n Părinții au dreptul de a gestiona și \\nfolosi bunurile deținute de copii lor, acceptând, în schimb, responsabilitatea de a garanta educația și \\nsiguranța acestora.',\n",
       " 'Pe termen lung se constată menținerea unei structuri etnice stabile la nivelul localităților, fără înregistrarea de fluxuri migratorii semnificative. \\n United Launch Alliance (ULA)  este un furnizor american de servicii de lansare de nave spațiale, care produce și operează o serie de rachete capabile să lanseze nave spațiale pe orbitele din jurul Pământului și către alte corpuri din Sistemul Solar.',\n",
       " 'Heterosexualitatea este apoi privită ca înclinația sau obligația naturală de către ambele sexe. \\n Oricine diferă de normalitatea heterosexualității este considerat deviant sau scârbos.',\n",
       " 'Porțiunile acestui drum, utilizate în Formula 1,  au fost reconstruite înainte de cursa inaugurală din 1996, pentru a-i asigura o mai bună consistență și netezime. \\n Comparându-l cu alte circuite stradale, albert park are cu adevărat o pistă netedă.',\n",
       " 'Timpul nu este relevat—Danny Antonucci afirmă că dorea ca show-ul să se potrivească fiecărei generații. \\n Dacă este nevoie de un vcr sau calculator, el va apărea.',\n",
       " 'Aici au fost înhumați 1306 morți de război de șapte naționalități diferite, provenind din mai multe armate: austro-ungară, germană, rusă și română din Primul Război Mondial și din armata germană din cel de-al Doilea Război Mondial. \\n Pe lângă majoritatea formată din militari maghiari și germani, au fost înmormântați aici militari ruși, români, sârbi, austrieci și italieni.',\n",
       " 'Ocuparea Tunisiei de către Franța în 1881 a fost evenimentul care a declanșat un conflict de cincizeci de ani cu Italia, care avea la rândul ei pretenții asupra acestei țări. \\n Italienii au pornit un război comercial cu francezii și s-au orientat spre o alianță cu germanii.',\n",
       " 'În timp ce țarul făcea economii în ceea ce privește cheltuielile de uz casnic, el a adăugat noi obiecte de artă colecției imperiale de la Palatul de Iarnă și din Ermitaj. \\n La început, capitala RSSB urma să fie mutată la\\xa0Vilna.',\n",
       " 'Mediocritatea sa îl inspiră pe Regele Solomon (personajul lui Heym) să-l condamne pe Etan la următoarea sentință: să se șteargă din istorie, din memoria viitoare, orice scriiere a sa, dar să se păstreze acest psalm. \\n Etan din ezrah este condamnat la veșnic dispreț literar.',\n",
       " 'Clericii nu voiau să se compromită colaborând cu o persoană excomunicată, baronii erau bănuitori, căci nu uitaseră purtarea împăratului față de Jean de Brienne, apoi îl suspectau de o plitică islamofilă și chiar de a fi tratat cu Malik al Kamil. \\n Decenii la rând, Prunner a condus compartimentul de contrabași din orchestrele în care a activat, contribuind substanțial la performanța lor muzicală.',\n",
       " 'Pentru ambele motive, aceasta este considerată ca fiind o mai cuprinzătoare colecție de opinii disponibile. \\n Pentru că perioada de reeditare între versiunea din ierusalim și cea din babilon, opiniile timpurii ale amoraimilor (prima generație de compilatori) ar putea fi mai aproape de forma lor originală în talmudul ierusalimic.',\n",
       " \"*\\xa0„Pictura – Câteva tablouri de Campigli la Librăria Italiană. \\n Conform Catalogue of Life specia ''Liolaemus molinai'' nu are subspecii cunoscute.\",\n",
       " 'În ceea ce privește toponimul „Ciocâlteni”, există mai multe versiuni. \\n Anastasia teodor boiescu, născută în ciocâlteni în 1911, afirmă: „străbunica mea, pe linia mamei, parascovia stratu, mi-a povestit că satul l-ar fi înființat un răzeș, pe nume câltea, care mereu ciocănea tare.',\n",
       " 'Evită solurilor uscate și tari de toate tipurile; preferă pe cele răscolite recent sau care pot fi scormonite ușor în căutarea hranei. \\n Evită tot felul de terenuri întinse deschise, naturale sau cultivate, dar și zonele umede, cu excepția celor acoperite cu vegetație lemnoasă.',\n",
       " 'Convenția Constituțională Sequoyah s-a întrunit la Muskogee, la 21 august 1905. \\n Din această căsătorie au rezultat trei copii:\\n* Maria (n. 1261) călugăriță în Mănăstirea Marienberg de la Boppard;\\n* Agnes (1262–1269);\\n* Ludovic Elegans (1267–1290) căsătorit în 1288 cu Isabella (1272–1335), fiica ducelui Frederic al III-lea de Lorena (1238–1302) și a soției sale Margareta de Navarra.',\n",
       " 'Cel de-al cincilea fiu, Christoph, a fost un susținător fervent al efortului de război german, dar după bătălia de la Stalingrad, el a devenit frustrat de limitările rolul său în acest conflict și a devenit tot mai critic față de conducerea germană. \\n 597/2010 pentru întocmirea studiilor hidrologice, hidrogeologice, studiilor de gospodărire a apelor și elaborarea documentațiilor pentru obținerea avizului/autorizației de gospodărire a apelor.',\n",
       " 'Sârma de lipit conține 37-40% plumb și 60-63% staniu (cositor) și are temperatura de topire de 183º, respectiv de 187º Celsius. \\n Asteroidul prezintă o orbită caracterizată de o semiaxă mare de 3,02 ua, o excentricitate de 0,27 și o înclinație de 10,4° în raport cu ecliptica.',\n",
       " 'Într-un monolog de final, explică că este dispus să se mintă singur pentru a se răzbuna împotriva oricui i-a greșit. \\n El începe să-l urmărească pe teddy făcându-și un tatuaj cu numărul plăcuței de înmatriculare a mașinii lui teddy și scriindu-și o notă (un memento) că teddy nu este de încredere, astfel încât să-l confunde pe teddy cu john g și să-l omoare.',\n",
       " 'Decizia a venit după ce Taiwanul a respins cererea lui Maamau de „asistență financiară masivă pentru achiziționarea de avioane aeriene comerciale”. \\n Partidul său de guvernare a pierdut majoritatea la alegerile parlamentare din 2020 de la 34 de locuri la 22.',\n",
       " 'România implementează, începând cu anul 2007, schema de plată unică pe suprafață - SAPS, care va contribui la practicarea unei agriculturi competitive, durabile și orientată către piață. \\n Agricultorii primesc subvenții acordate de uniunea europeană, pentru care trebuie să îndeplinească condițiile de eligibilitate.',\n",
       " \"Biserica de lemn de la Schitul Foltea a fost vechea biserică a schitului până la începutul secolului XX când în locul acestei bisericuțe a fost construită actuala biserică a schitului cu scopul de a comemora memoria eroilor din primul război mondial. \\n Unul din cele două hramuri ale noii bisericii ridicată în perioada 1922-1923 este ''sf.\",\n",
       " 'Constituția conferă, de asemenea, „direcția generală și controlul guvernului” în cadrul Cabinetului, președintele fiind aproape întotdeauna obligat să acționeze la sfatul Cabinetului sau al oricărui ministru care acționează sub autoritatea Cabinetului. \\n În practică, cea mai mare parte a muncii efective de guvernare este realizată de prim-ministru și de cabinet.',\n",
       " 'Alexandr Soljenițîn cu Vladimir Putin\\nDupă 1989, în România au apărut volumele:\\n* \\'\\'Căderea imperiului comunist sau cum să reîntemeiem Rusia\\'\\', Ed. \\n La momentul lansării \\'\\'Chill Out\\'\\'\\', revista \\'\\'Q Magazine\\'\\' l-au numit o \"coloană sonoră impresionistă \" al cărei \"eforturi electronice spartane dar melodice se domolesc ușor prin spațiile larg deschise\", și au conchis prin a spune că album este \" în sine atât imaginativ cît și de succes în inducerea unei fericite stări de pace și relaxare (cel puțin noaptea).\"',\n",
       " 'După încheierea războiului, URSS a pretins ca membrii acestui batalion să-i fie predați. \\n Pentru % din locuitori nu este cunoscută apartenența etnică.',\n",
       " 'Un îndrumător spiritual i-a făcut posibilă înscrierea la liceu. \\n A urmat liceul arhiducal din fulda și după acea seminarul teologic tot acolo, fiind hirotonit în anul 1873.',\n",
       " 'În prima serie de fapte lipsește orice reproducere, în cea de-a doua, ea este doar consecința operațiunilor logice, judecăților și raționamentelor, implicite sau formale, care constituie elementul esențial al fenomenului. \\n Reproducerea deplină nu este decât în al treilea caz, acolo, noul act fiind doar ecoul celui inițial.”\\nașadar, imitația apare atunci când între un act comis de o persoană și reprezentarea și execuția acelui act de altă persoană nu există nici o operație intelectuală.',\n",
       " 'În anul 2004, Uniunea Europeană l-a inclus pe o listă a transnistrenilor cărora li s-a interzis călătoria în spațiul UE, fiind considerat răspunzător de împiedicarea progresului în vederea unei soluționări politice a conflictului transnistrean din Republica Moldova . \\n Jayat este o comună în departamentul Ain din estul Franței.',\n",
       " 'La începutul secolului al XX-lea, din cauza faptului că protestanții voiau să rămână singuri în biserica pe care o aveau împreună cu catolicii, ei au dat catolicilor cota-parte cu care aceștia contribuiseră la construcția bisericii. \\n Comunitatea germanilor de religie catolică din satul prisaca dornei, aflat pe atunci în ducatul bucovinei, a construit în anul 1911 o biserică proprie, din lemn.',\n",
       " 'Indicatorul de viraj indică viteza de girație (de rotire în jurul axei verticale) a avionului. \\n După victoriile în Bătălia de la Tannenberg, în Prima bătălie de pe Lacurile Mazuriene și în Bătălia de iarnă de pe Lacurile Mazuriene din anii 1914-1915, Imperiul German a înlăturat pericolul unui atac rus asupra Prusiei Răsăritene și a ocupat, în același timp, zone semnificative ale statelor baltice (ce fuseseră ocupate anterior de ruși).',\n",
       " \"3753 Cruithne este un asteroid din apropierea Pământului și o planetă minoră, care parcurge o orbită în jurul Soarelui în rezonanță orbitală 1:1 cu Pământul. \\n ''Walckenaeria serrata'' este o specie de păianjeni din genul ''Walckenaeria'', familia Linyphiidae, descrisă de Millidge, 1983.\",\n",
       " 'Bocholt este un oraș din landul Renania de Nord-Westfalia, Germania. \\n Principalele exponate sunt Altarul Pergamon Altar din secolul 2 î.Hr., cu o friză sculpturală lungă de 113 metri care prezintă lupta dintre zei și giganți, și Poarta din Milet ce datează din Epoca Romană.',\n",
       " 'Cuvântul \"orhei\" a fost atestat și în limba populației locale, cu sensul de „deal întărit, cetățuie sau curte boierească părăsită” \\nÎn epoca sovietică, se căutau pentru toate denumirile moldovenești etimologii turco-tătare (iar când existau, ele erau oficializate în locul celor moldovenești, precum Bender sau Cahul, în loc de Tighina sau Frumoasa). \\n Și pentru orhei s-a presupus o origine tătărească, mai ales că tătarii au stăpânit o vreme cetatea, astfel că în epoca sovietică, etimologia maghiară nu putea fi luată în seamă.',\n",
       " 'Împăratul Frederic al II-lea a confirmat privilegiile acordate principilor imperiali un an mai târziu, când se afla la Cividale del Friuli pentru negocieri. \\n A acestei confirmări împăratul a pretins ca principii să poarte mai multă responsabilitate în ceea ce privea imperiul.',\n",
       " \"În literatura cultă, reprezentări ale știmei apelor se întâlnesc în creațiile lui Mihail Sadoveanu („Zâna lacului”), Vasile Voiculescu („Lostrița”), Cezar Petrescu („Aranca, știma lacurilor”). \\n Prin intermediul germanei au intrat în franceză și câteva cuvinte din limbi central-europene, precum ''calèche'' „caleașcă” și ''pistolet'' din limba cehă, ''coche'' „diligență” și ''sabre'' „sabie” din limba maghiară, ''cravate'' „cravată” din limba croată (etnonimul ''hrvat'' „croat”), ''uhlan'' „ulan” (militar cavalerist) din limba poloneză (care l-a preluat din limba turcă).\",\n",
       " 'La sfârșitul său, Tratatul de la Paris din 1763 ceda Marii Britanii teritorii franceze din America de Nord; victoria generalului Wolfe în Quebec ajutase la obținerea Canadei pentru coroana britanică. \\n A acestei demonstrații de putere militară britanică în canada, cetățenii celor 13 colonii americane se simțeau mai în siguranță decât până atunci în privința oricărei amenințări teritoriale din partea francezilor.',\n",
       " 'Cu ajutorul telecomenzii oamenii pot reduce \\ninstantaneu sonorul televizorului în timpul difuzării reclamelor sau pot \\ncomuta pe alte canale. \\n Dată fiind existența a sute de alte mesaje care \\ncaută să atragă atenția și ca urmare a faptului că un mesaj este puțin \\nprobabil să rețină atenția un timp îndelungat, specialiștii în publicitate se \\nconfruntă cu sarcina provocatoare de a concepe mesaje care să acapareze \\nși să mențină atenția audienței, dar să o și motiveze să raspundă, fie într-un mod perceptual, fie comportamental.',\n",
       " 'A câștigat în 2008 Liga I și Cupa României cu CFR Cluj, chiar dacă a fost împrumutat în sezonul 2007-2008 la Oțelul Galați. \\n Primele trenuri care au circulat pe această rută aveau în componența lor numai câteva vagoane de călători.',\n",
       " '* femeile care au jurat să slujească credința lor o viață întreagă și să rămână necăsătorite (celibatare) sunt numite maici sau monahii. \\n Din punct de vedere etnic, majoritatea locuitorilor (%) erau turci.',\n",
       " 'Pe baza analogiei cu gravitația newtoniană geometrică, se poate presupune că ecuația de câmp a gravitației leagă acest tensor de tensorul Ricci, care descrie o clasă particulară de efecte mareice: schimbarea volumului unui nor mic de particule de test aflate inițial în repaus, și apoi puse în mișcare geodezică (cădere liberă) în raport cu un sistem de referință inerțial. \\n Numele orașului vine de la cuvântul „tamra” care în araba vorbită înseamnă „curmală”.',\n",
       " 'A contribuit la formarea unor cadre de înaltă calificare în administrația de stat prin conducerea lucrărilor de doctorat, din care multe au văzut lumina tiparului. \\n Alex Ștefănescu în numărul 24/2008 al revistei România literară, după citirea volumului „Ecologia iubirii” spune:\\n„O carte fantezistă și excentrică, sociologie a iubirii, dar și antologie de reflecții și paradoxuri pe tema dragostei, colecție de biografii erotice ale unor celebrități și, în același timp, istorie a formelor de sexualitate practicate de-a lungul secolelor, a publicat Cezar Straton, sub titlul inofensiv Ecologia iubirii.',\n",
       " 'Trebuind să facă față luptei pe două fronturi, guvernul polonez a decis că apărarea în zona capului de pod românesc nu mai era posibilă și a ordonat evacuarea trupelor și tezaurului Băncii Naționale prin România neutră. \\n Iosif Șilimon () a fost un proiectant de aeronave român.',\n",
       " \"El este considerat a fi unul dintre cei mai citiți autori contemporani în Georgia. \\n Thomas Chamberlain\\n*''Young Bess'' (1953) - Mr. Parry\\n*''The Beast from 20,000 Fathoms'' (1953) - Dr. Thurgood Elson\\n*''Cruisin' Down the River'' (1953) - Thadeus Jackson\\n*''Paris Model'' (1953) - Patrick J.\",\n",
       " 'Astfel, tratatul a fost încălcat de la început și, după mai multe eșecuri, a fost abandonat formal în 414 î.Hr. \\n Războiul peloponesiac a fost reluat, în a doua sa etapă.',\n",
       " 'Aportul științific al lui Mihai Ciucă acoperă o arie foarte vastă. \\n Pornind de la studiile sale asupra malariei, a fost un pionier al tratamentului prin infectarea malarică al paraliziei generale progresive.',\n",
       " 'Ribaute-les-Tavernes este o comună în departamentul Gard din sudul Franței. \\n Amândoi aveau un caracter rebel și iubeau trucurile copilărești.',\n",
       " 'Grație asistenței medicale excelente, sistemul de sănătate austriac este unul dintre cele mai bune din lume. \\n A investițiilor masive și a progreselor în medicină, instituțiile de sănătate autohtone sunt dotate cu tehnologie modernă.',\n",
       " 'Partidul a prezentat un program electoral cu titlul “ 10 puncte împotriva  unei schimbări spre stânga în Austria”  . \\n La 7 octombrie 1941 Sponeck a ordonat diviziei sale să colaboreze îndeaproape cu unitățile SS și Sicherheitsdienst (SD) pentru capturarea, identificarea și predarea civililor evrei.',\n",
       " 'Începe prin a spune că oamenii prin sinea lor sunt plictisitori, însă unul anume, Light, care a dorit să-și realizeze cu ajutorul Death Note-ului un statut de zeitate a fost destul de interesant. \\n Începe povestea, cu scene concentrate și uneori săriri peste unele aspecte ale poveștii, cât și dezvoltarea uneori necronologică a evenimentelor și introducerea unor scene noi, neprezente în anime.',\n",
       " 'Ar fi o idee ca în loc de formatul NNNE+XX (unde N sunt cifrele mantisei și XX ale exponentului) să scriem NNN &times; 10<sup>XX</sup>.&nbsp;&mdash;Andrei<sup>discuție</sup> 16 martie 2018 16:45 (EET)\\n:Dacă nu sunt probleme cu exponenții, ar fi foarte natural. \\n În cele din urmă, Don Condor și Pashka îl descoperă pe Rumata însuși, stând singur într-o baltă doar în  cămașă.',\n",
       " 'După câștigarea unei oarecare popularități locale, ei au susținut în 2003 un spectacol pentru Warner Bros. Nu au fost acceptați la casa de discuri, dar un reprezentant al acesteia i-a recomandat unui prieten ce lucra la casa de discuri Lizard King. \\n În vara anului 2003, the killers au ajuns să semneze primul lor contract, iar în septembrie același an au început înregistrările pentru primul album.',\n",
       " 'Omul, în calitatea sa de ființă, are totdeauna o reprezentare asupra ideii de existență, idee care poate fi asimilată cu cunoștința pe care o are asupra obiectelor. \\n A avut expoziții personale la București în 1964 și 1973.',\n",
       " \"Acuzativul se formează adăugând terminația ''-n'' (la plural, după sufixul ''-j''). \\n Un substantiv din esperanto are patru forme, după cum se vede în tabelul următor:\",\n",
       " 'Are sensul de Suferință Continuă. \\n Și numele.” filmul se încheie și cu un alt citat din buddha, care afirmă că „cel care este în iad continuu nu moare niciodată.',\n",
       " \"Conform recensământului din 2001, toată populația localității Serebreanîțea era vorbitoare de ucraineană (100%). \\n Pârâul face parte din bazinul hidrografic ''Nistrul Vechi-Știubei-Liman'', are o lungime de 18 km și străbate teritoriile satelor Cîrnățeni, Popeasca și se revarsă în Nistru în satul Cioburciu, raionul Ștefan Vodă.\",\n",
       " \"''Atypus affinis'' este un păianjen migalomorf comun în Europa. \\n Conform Catalogue of Life specia ''Xylopia humbertii'' nu are subspecii cunoscute.\",\n",
       " 'Folosirea de către utilizatorii obișnuiți a acestor adrese este dificilă și poate genera erori. \\n Este necesar un protocol care să facă corespondența dintre numele diverselor componente de rețea și adresele lor ip.',\n",
       " '* Locuri de muncă mai bine plătite – Atunci când economia devine mai eficientă, profiturile cresc, subvențiile guvernamentale sunt eliminate iar necesarul de taxe care să alimenteze bugetul de stat scade, mai mulți bani vor fi disponibili companiilor pentru investiții și consum. \\n Locurile de muncă vor fi mai bine plătite și mai multe locuri de muncă vor fi create decât în cazul unor economii mai restrictive.',\n",
       " 'Concursul a avut loc în Frankfurt pe Main, care, pe vremea aceea, era unul dintre cele mai mari orașe din Germania de Vest. \\n Un topograf este un specialist în topografie, ramură a geodeziei care se ocupă cu tehnica măsurătorilor unei porțiuni a scoarței Pământului, cu determinarea poziției elementelor scoarței terestre pe suprafețe mici (considerate plane), precum și cu tehnica reprezentării grafice sau numerice a suprafețelor măsurate, în scopul întocmirii de hărți și planuri topografice.',\n",
       " 'Gigantele roșii sunt stele care, după ce și-au epuizat hidrogenul din nucleu, încep să consume hidrogenul aflat în pătura din jurul nucleului, acum bogat în heliu. \\n Raimond a răspuns furios că orașul trebuie predat împăratului bizantin, așa cum se căzuse de acord la Constantinopol în 1097, însă Godfrey, Tancred, Robert și alți lideri creștini au fost de acord cu pretențiile lui Bohemund.',\n",
       " 'În matematică, un șir Cauchy este un șir (x_n) ale cărui elementele se apropie arbitrar de mult când n \\\\to \\\\infty. \\n Pentru orice număr dat \\\\epsilon > 0, se poate renunța la termenii de la începutul șirului astfel încât diferență între oricare doi termeni dintre cei rămași să fie mai mică decât \\\\epsilon.',\n",
       " 'Urartienii sunt strămoșii cel mai ușor de identificat ai armenilor. \\n Prima versiune a siglei din 1975 reprezintă Maison de la Radio, inaugurată în 1963.',\n",
       " 'Regele a folosit relativ des puterea sa de dizolvare a camerelor Parlamentului. \\n În perioada interbelică, numai două guverne au reușit să ducă la capăt mandatul constituțional de patru ani, respectiv guvernele liberale conduse de ion i. c. brătianu (1922 – 1926) și gheorghe tătărescu (1934 – 1937).',\n",
       " 'Culoarea apoteciilor variază, fiind de obicei diferită de cea a talului pe care se formează. \\n Din 2010 până în 2013 a lucrat la Paris ca director of Innovation & New Markets pentru GDF Suez Energie France, cu accent pe producția de energie regenerabilă.',\n",
       " 'În 1806, Napoleon Bonaparte a provocat disoluția Sfântului Imperiu Roman. \\n În 1968, la desființarea raioanelor, comunele nu au revenit la județul Prahova, fiind transferate județului Dâmbovița.',\n",
       " 'Acestea includ teatre private și nationale în care se performează forme tradiționale de dramă japoneză. \\n Părinții Genevièvei s-au cunoscut în atelierul pictorului Ingres (1780-1867), ai cărui ucenici au fost în tinerețe.',\n",
       " 'Feira Nova  este un oraș în Pernambuco (PE), Brazilia. \\n La momentul la care Kaye a părăsit formația Yes a găsit deja un înlocuitor - Rick Wakeman, un claviaturist educat clasic care a părăsit formația folk The Strawbs.',\n",
       " \"Fenomenul ''stagflării'' a fost definit pentru prima dată la sfârșitul anilor '60. \\n În 1970, șomajul și inflația din sua au atins un nivel record de 6% și 5,5% în perioada postbelică (până la mijlocul anilor 1960, inflația nu a depășit 1–1,5%, iar șomajul - 2-2,5%).\",\n",
       " \"Aduse de populațiile de coloniști apuseni și la români, unele din aceste superstiții au prins pe alocuri, ca de pildă ce după care buha ar vesti, prin cântecul ei, moartea cuiva. \\n ;Albume\\n* ''Zen'' (1994)\\n* ''Ten'' (1995)\\n;EP-uri\\n* ''Hi'' (1993)\\n* ''Liveacid'' (1994)\\n* ''Fat Shrimp'' (1995)\",\n",
       " \"Acum\\n:\\\\left | q-\\\\left (\\\\frac  , 0 \\\\right ) \\\\right |^2 = \\\\left ( \\\\cos^2 a - \\\\frac   \\\\right )^2 + \\\\cos^2 a \\\\sin^2 a = \\\\frac  \\nastfel încât ''q'' se află pe semicercul ''Z'' de rază 1/4 și centru (1/2, 0). \\n Raza tangentă la (1, 0) este aplicată pe ''z'' prin a treia deplasare hiperbolică fundamentală.\",\n",
       " \"În 1991 face parte din grupul de ziariști invitat de președintele României, Ion Iliescu, în prima sa vizită oficială peste hotare. \\n Premiile au fost acordate pentru prima oară în 1976 de către ''Society of London Theatre'' sub numele ales atunci de ''Society of West End Awards'' fiind designate de artistul plastic Tom Merrifield.\",\n",
       " 'Patru luni mai târziu, acesta a fost recuperat de către autoritățile care apoi l-au ținut ascuns pentru următorii unsprezece ani. \\n Similar, în timpul perioadelor glaciare, linia climatică a zăpezii a fost mai coborâtă cu orice între 600 și 1.200 de metri.',\n",
       " 'Ergotismul natural practic a dispărut. \\n A descoperirii efectelor farmacologice ale alcaloizilor din cornul secarei, aceștia sunt astăzi utilizați în farmacoterapie, fapt care determină uneori apariția de cazuri de ergotism medicamentos.',\n",
       " 'Tacticile atacurilor de șoc aveau să joace un rol de maximă importanță în ofensivele blitzkriegului german de la începutul celui de-al Doilea Război Mondial, ca și în planificarea atacurilor Armatei Roșii sovietice și a armatelor Aliaților occidentali care aveau să învingă Germania Nazistă. \\n În 1939 Barzani a intrat în legătură cu partidul național kurd Hiwa (Speranța), înființat atunci de intelectuali și orășeni din generația mai tânără, care se opunea panarabismului și era interesat să-și lărgească sfera de influență în rândurile triburilor.',\n",
       " 'Von Münnich i-a oferit lui Kolceak condiții onorabile de predare a cetății. \\n A capitulării la 30 august (19 august s.v.)',\n",
       " \"Conform recensământului din 2002, în acest sat erau 58 de persoane, toți români . \\n * ''Mi ne estas Mona Lisa'', 2001\\n* ''Kiam mi estis la plej feliĉa en la vivo'', 2008\\n* ''Dialogo''; Exit, Cluj-Napoca, 2012\\n* ''Dialogo''; 2. jav.\",\n",
       " 'Într-adevăr, în 1922, într-o evaluare a generalilor polonezi, Józef Piłsudski scrisese despre el: „în operațiuni la scară limitată, dă dovadă de un bun simț al realității și de multă tenacitate. \\n *1979 Campion Clasa VI, Dacia Pitești\\n*1980 Campion Grupa 5, Dacia Pitești\\n*1980 Campion Grupa 5 Națională, Dacia Pitești\\n*1981 Campion Grupa 5, Dacia Pitești\\n*1982 Campion Grupa C, Dacia Pitești\\n*1983 Campion Grupa C, Dacia Pitești\\n*1984 Campion Grupa C, Dacia Pitești\\n*1985 Campion Grupa C, Dacia Pitești\\n*1986 Campion Grupa C, Dacia Pitești\\n*1987 Campion Grupa C7, DaciaPitesti\\n*1988 Campion Grupa C1, Dacia Pitești\\n}}',\n",
       " 'Acestea se divid la rândul lor în 37 de departamente. \\n Printre semnatari s-au aflat doi viitori președinți ai Lituaniei, Antanas Smetona și Aleksandras Stulginskis.',\n",
       " '83/2004, împreună cu alte trei localități din județul Maramureș: Tăuții-Măgherăuș, Șomcuta Mare și Ulmeni. \\n Din punct de vedere confesional, nu există o religie majoritară, locuitorii fiind ortodocși (47,7%), reformați (34,74%), adventiști de ziua a șaptea (6,38%), romano-catolici (2,73%) și penticostali (1,82%).',\n",
       " \"Foto: aprilie 2010\\n\\nBiserica de lemn din Oncești, din satul Oncești, localitatea Gemenea-Brătulești, comuna Voinești, județul Dâmbovița, poartă hramul „Duminica Tuturor Sfinților” și „Sfântul Ioan”. \\n * claustrum gutturis (sau claustrum oris) - vezi ''vălul palatin''.\",\n",
       " \"Sălăjan, A. Mocanu, M. Tomoaia-Cotișel, ''Progrese în termodinamica, hidrodinamica și biofizica straturilor subțiri'', Presa Universitară Clujeană, 2004\\n* Dima, Ion și alții: ''Dicționar de fizică'', Editura enciclopedică română, București, 1980, (pag.46-47, 448-449)\\n* Florea, J. și Panaitescu, V.: ''Mecanica Fluidelor'', Editura didactică și pedagogică, București, 1986, capitolul I: ''Statica fluidelor'', (pag.34-45)\\n* Friș, S.E. \\n ''Harpactea indistincta'' este o specie de păianjeni din genul ''Harpactea'', familia Dysderidae, descrisă de Dunin, 1991.\",\n",
       " 'Utilizarea limbii de lemn a reprezentat în perioada comunistă dezinformarea cetățenilor și ocolirea adevărului. \\n Acest fenomen de manipulare se simțea în mentalitatea omului de rând, \\nașadar, în perioada comunistă, nu se poate vorbi despre existența unui cod deontologic, de etică profesională, de valori în care să creadă gazetarii români și după care să se ghideze presa, deoarece aceasta se afla sub strictul control al dictatorului, iar ceea ce zicea acesta era lege.',\n",
       " 'Echipa lui Miti Dumitrescu, formată din 9 persoane, se predase autorităților, în consecință, erau tot sub stare de arest, cu sau fără mandat de arestare. \\n Asasinarea celor 105, se încadrează din punct de vedere juridic în categoria crimă politică cu premeditare, cu circumstanțe agravante prin funcțiile oficiale ale atentatorilor.',\n",
       " \"Nu există cifre oficiale cu privire la datele demografice, deoarece statisticile etnice sunt interzise în Franța. \\n :* geometrie integrală - ramură a ''geometriei'' în care se studiază proprietățile măsurilor mulțimilor de elemente geometrice, ,  integrali ai unui grup etc.\",\n",
       " 'Exemple de relicve din paleoliticul superior asociate cu idei religioase includ omul leu, figurine ale lui Venus, picturi rupestre din peștera Chauvet și ritualul sofisticat de înmormântare de la Sungir. \\n Lastomerci este o localitate din comuna Gornja Radgona,&#32;Slovenia, cu o populație de 114 locuitori.',\n",
       " 'Clujul, alt centru cultural vechi și important al Transilvaniei, a fost exclus din cauza procentului ridicat al populației de etnie maghiară. \\n Au rămas în discuție doar alba iulia și blajul.',\n",
       " 'Ea servește pentru a anula datele citite din memoria read-only, cu excepția cazului în care o adresă de memorie folosită pentru a specifica datele de ieșire întâlnește o adresă prestabilită. \\n Circuitul de securitate poate dezactiva toate semnalele adresă sau unul dintre semnalele adresă atunci când o adresă prestabilită este accesată într-o operațiune nepermisă de copiere a datelor.',\n",
       " 'Este situat pe o suprafață de 1,5 hectare, pe malul râului Tur. \\n Brîhadîrivka (în ) este un sat în comuna Ialosovețke din raionul Horol, regiunea Poltava, Ucraina.',\n",
       " 'Robert a încercat să fie protector al papalității, rol pe care îl îndepliniseră bunicul și tatăl său. \\n În 1111, el a trimis 300 de cavaleri pentru a-l salva pe papa pascal al ii-lea și pe cei 16 cardinali, care se aflau prizonieri ai împăratului henric al v-lea.',\n",
       " 'Printre\\xa0exemplele de elemente simbolice se numără:\\n* Galbenul este culoarea împăratului. \\n Aproape toate acoperișurile din orașul interzis au țigle lustruite de culoare galbenă.',\n",
       " 'Vasile Pârvan a avut un rol deosebit în crearea noii școli românești de arheologie. \\n În 1914 a fost unul dintre întemeietorii institutului de studii sud-est europene.',\n",
       " 'Mai mult, Bohemund l-a informat pe Taticius că unii dintre capii oastei creștine plănuiau să-l ucidă pe general, presupunând că împăratul bizantin îi încurajează în secret pe turci. \\n Bohemund a afirmat că a fost vorba de trădare sau de lașitate, motive suficiente pentru a refuza îndeplinirea obligațiilor asumate cu privire la retrocedarea antiohiei către bizantini.',\n",
       " 'Cel mai mare hotel din Europa Continentală a fost Hotelul Russia din Moscova, demolat în 2006. \\n Elitrele sunt de culoare roz țipător sau eventual galben pal împărțite de o linie neagră și cu opt pete negre de formă pătratică, ce pot varia în mărime și câteodată chiar îmbinându-se una cu alta.',\n",
       " \"Concentrându-se asupra membrilor a două familii importante, Bolkonski și Rostov, ''„Război și pace”'' folosește istoriile lor individuale pentru a portretiza Rusia în pragul unui conflict apocaliptic cu Franța lui Napoleon Bonaparte. \\n Începând cu 1273, timp de peste șase secole (până în 1918 la Primul Război Mondial), țara intră sub dominația habsburgilor, care au lărgit zona de influență a Reichului printr-o politică abilă de căsătorii și moșteniri.\",\n",
       " \"În a treia și ultima etapă a proiectului din 1935-1945, flancurile rămase ale pieței au fost construite odată cu construcția clădirilor Cine Metro, Fénix, Boza și Sudamérica, ce au fost construite în stilul ''neocolonial'' (similar cu arhitectura revigorantă a colonialismului spaniol). \\n Piața păstrează uniformitatea față de fațadele clădirilor sale.\",\n",
       " 'L-a învins pe compatriotul J. J. Wolf pentru a ajunge în sferturile de finală ale unui Major pentru prima dată în carieră. \\n El a avansat aproape 50 de poziții, în top 50.',\n",
       " 'Totuși, Aurora Pețan observă că acest lucru nu este în dezacord cu depozitarea pieselor de aur în zona respectivă, ci, din contră, reprezintă un argument serios:\\n\\nCu privire la construcția Mânăstirii Sinaia, ieromonahul Nectarie Măgureanu notează în monografia sa că „în pustietatea locului trăiau, în liniște, călugării solitari, care înălțau rugi pe acest vârf de munte, ca odinioară preoții strămoșilor noștri daci”. \\n Ieromonahul precizează că „încă din secolul al xv-lea, acești călugări s-au adăpostit în crăpăturile stâncilor și în peșterile acestor munți, mai târziu în bordeie de piatră și în schituri de lemn, pentru ca departe de lume și de zgomotul ei să trăiască în abnegație totală pentru iisus hristos.” astfel, „au fost construite și cele două schituri: schitul sfânta ana, la 5 km de mânăstire, și schitul sfântul nicolae, la 1 km.” interesantă este și următoarea mărturisire, cuprinsă în volum: \\n    \\nîntr-un interviu acordat de către lingvista aurora pețan unui ziar publicat în toronto<sup>[ ]</sup>, aceasta vorbește despre același personaj misterios („al cărui nume nu vi-l pot face cunoscut”) care „spunea că vine cu o delegație din partea academiei ruse” și care susținea că astfel de plăci există pe teritoriul rusiei, că sunt foarte asemănătoare cu cele de la sinaia, și că, din informațiile pe care le deține, cel puțin 40 de piese din aur ar mai exista în banca națională a româniei.',\n",
       " 'România a întâmpinat anumite dificultăți în obținerea recunoașterii independenței. \\n Mai întâi, negociatorul român desemnat, eracle arion, nu a fost primit la negocierile ruso-turce  încheiate cu tratatul de la san stefano (19 februarie/3 martie), motivul invocat fiind că românia nu este o țară independentă.',\n",
       " 'Foarte bine este exprimată etajarea verticală a solurilor. \\n Solurile cenușii sunt răspândite la altitudini de peste 220 m, cernoziomurile - 150-220 m, iar solurile cernoziomoide și aluviale se întâlnesc în lunci și în văi.',\n",
       " \"Acidul maleic este izomerul ''cis'' al acidului butendioic, în timp ce acidul fumaric este izomerul ''trans''. \\n Voluntar în cadrul în cadrul Inspectoratului Județean pentru Situațíi de Urgență (I.S.U.)\",\n",
       " 'Valoarea temperaturii maxime a joncțiunilor până la care tranzistorul funcționează normal depinde de natura semiconductorului folosit. \\n Tranzistoarele realizate din siliciu funcționează corect până spre 200 grade c, în timp ce cele realizate din germaniu sunt limitate în funcționare în jurul valorii de 100 grade c. \\nobservație: la temperaturi mai mari decât cele menționate, are loc creșterea extraordinar de rapidă a concentrației purtătorilor minoritari și semiconductorul se apropie de unul intrinsec, dispozitivul pierzându-și proprietățile inițiale.',\n",
       " 'A doua slăbiciune este apetitul lui ridicol și de neînțeles; nu numai că el mănâncă într-un ritm rapid și care poate fi imposibil pentru un om,dar dacă el nu obține mâncare el devine prea slab pentru a face aproape orice. \\n Această slăbiciune nu a fost nicidată depășitǎ, și aproape ar fi murit din cauza mai multor dușmani în special tambourine și nuova shenron.pe de altă parte dragostea lui goku pentru produsele alimentare la scăpat de mai multe ori de probleme,de exemplu în saga tournamet după ce a fost învins de jackie chun (dar de fapt era mentorul lui maestrul roshi), bulma a fost capabilă să-l salveze de la meci strigându-l că cina a fost gata goku imediat s-a trezit.',\n",
       " \"D'autre part, dans l'ensemble du monde roman, la terre des Wallons, coincée entre des territoires germaniques, occupe une position spéciale, une position d'avant-garde. \\n În anii 1850, alb Francophones a rămas o comunitate intact și vibrante; au menținut instrucțiuni în limba franceză în două din cele patru scoala districte.\",\n",
       " 'După ce grupul scapă, Grant află că Billy a furat două ouă de raptori să le folosească pentru finanțare, lucru care a provocat atacul raptorilor. \\n Diametrul perpendicular, care traversează elipsa traversând prin focare, este axa mare.',\n",
       " 'Domnia lui a fost mult timp considerată punctul culminant al stăpânirii imperiale medievale, iar moartea sa timpurie a fost considerată o catastrofă pentru imperiu. \\n Recent au apărut opinii care afirmă că ultimii ani ai domniei lui henric au reprezentat începutul unei crize a dinastiei saliene.',\n",
       " 'Într-un interviu luat de NME în martie 2006, Hynes a susținut că \"nu au fost niciodată prea încântați de cum au ieșit piesele\". \\n În timpul invaziei ruse a Ucrainei din 2022 racheta a fost folosită în luptă pentru prima dată.',\n",
       " 'O parte din inscripțiile din biserica Budeasa (inscripțiile, o inscripție pe un policandru și o alta pe o Evanghelie), precum și textul crucii înălțate de Arsenie din Budeasa la 1647 au fost publicate de Virgil Drăghiceanu, în 1927. \\n În rolurile principale sunt Ben Affleck, Rosamund Pike, Neil Patrick Harris, Tyler Perry și Carrie Coon.',\n",
       " 'Totuși, părerile referitoare la antrenarea românilor din emigrație au fost ridicate de mai multe ori în discuțiile de pregătire a comitetului. \\n În cadrul discuțiilor, gabriel bădărău susținea ideea unei adunări generale a românilor din exil:\\n<blockquote>\\'\\'\"personalitățile proeminente ale comunității românești din străinătate, în general persoanele care au jucat un rol în viața publică (politică, intelectuală și administrativă), nu pot fi ținute în marginea unei discuții care apare ca fiind de o importanță capitală pentru lupta noastră de eliberare… instituirea unui larg organ de expresie – o adunare sau un consiliu național – al comunității exilaților politici, este indispensabilă atât pentru ținuta democratică a mișcării, cât și pentru rolul de arbitru pe ce l-ar putea juca…\\'\\' \\n\\'\\'ceea ce urmărim noi aici, în străinătate este succesul procesului pe care-l pledăm – procesul existenței româniei – și nicidecum instaurarea unui regim de guvernământ.',\n",
       " 'Hotarele mănăstirii au fost întărite prin actele lui Grigore III Ghica (1776), Alexandru I Mavrocordat (1783) și Alexandru Moruzi (1803). \\n 560&nbsp;km la vest - sud-vest de Grupul Operativ 58.',\n",
       " 'Un turneu este un graf orientat\\xa0obținut prin atribuirea unei direcții fiecărei muchii dintr-un\\xa0graf neorientat complet. \\n Este o orientare\\xa0a unui graf complet, sau, echivalent, un graf orientat în care fiecare pereche de noduri\\xa0distincte este conectată printr-o singură muchie orientată.',\n",
       " \"Ventriculul al patrulea sau Ventriculul IV (''Ventriculus quartus'') este o cavitate în formă de cort a rombencefalului căptușită cu ependim și provine din dilatarea canalului ependimar. \\n Anterior nomadă, comunitatea modernă a stabilit orașul în anii 1950.\",\n",
       " \"Lozinca apare pentru prima oară în ''Manifestul comunist'' redactat de Karl Marx și Friedrich Engels, aflându-se săpată pe piatra funerară de la căpătâiul fondatorului marxismului. \\n În localitate sunt 55&nbsp;km de drumuri, 10&nbsp;km din care sunt drumuri de importanță națională și constituie drumuri cu acoperire rigidă.\",\n",
       " 'Rezervele de ape subterane din cuprinsul județului Dâmbovița depind de gradul de permeabilitate, cât și de grosimea și extensiunea rocilor care le înmagazinează. \\n Rocile compacte din zona montană sunt în general impermeabile pentru o bună parte a munților leaota și bucegi.',\n",
       " 'Orașul capitală Buda includea, de asemenea, și castelul Buda. \\n Consiliul de război ținut pe 29 aprilie 1849 a decis ca armata revoluționară maghiară să asedieze și să captureze castelul buda și apoi, după sosirea de întăriri din sudul ungariei, să pornească spre viena cu scopul de a forța conducerea imperiului să ceară pace și să recunoască independența ungariei.',\n",
       " \"Adepții ideii că suferinzii de psihoză sunt violenți s-au dublat față de anii '50, conform unei meta-analize. \\n Negocierile au durat vreo opt zile (în mare parte pentru că nu aveau ce să le arate deocamdată) dar, neprimind de la București acceptul lui Popescu, Demetriade se vede nevoit să îi refuze pe ruși.\",\n",
       " 'Conduita în anul 973 de către William I din Provence, acesta din urmă, pios la sfârșitul vieții, a dat jumătate din moștenire episcopului lui Fréjus Riculphe. \\n Este regizat de  Jim Henson și Frank Oz și produs de Henson și Gary Kurtz.',\n",
       " '# 20px Albania - Federata Shqiptarë Futbollit (1954)\\n# 20px Andorra - Federació Andorrana de Futbol (1994)\\n# 20px Anglia - Federația Engleză de Fotbal (1954)\\n# 20px Armenia - Football Federation of Armenia (1993)\\n# 20px Austria - Österreichischer Fussball-Bund (1954)\\n# 20px Azerbaidjan - Azərbaycan Futbol Federasiyaları Assosiasiyası (1994)\\n# 20px Belgia - Union Royale Belge del Societes de Football Association (1954)\\n# 20px Belarus - Football Federation of Belarus (1993)\\n# 20px Bosnia și Herțegovina - Fudbalski Savez Bosne i Hercegovine (1996)\\n# 20px Bulgaria - Bulgarski Futbolen Soius (1954)\\n# 20px Cipru - Cyprus Football Association (1962)\\n# 20px Croația - Hrvatski Nogometni Savez (1992)\\n# 20px Danemarca - Dansk Boldspil Union (1954)\\n# 20px Elveția - Associazione Svizzera di Football (1954)\\n# 20px Estonia - Eesti Jalgpalli Liit (1992)\\n# 20px Insulele Feroe - Fótbóltssamband Føroya (1990)\\n# 20px Finlanda - Suomen Palloliitto (1954)\\n# 20px Franța - Fédération Française de Football (1954)\\n# 20px Georgia - Georgian Football Federation (1992)\\n# 20px Germania - Deutscher Fußball-Bund (1954)\\n# 20px Grecia - Hellenic Football Federation (1954)\\n# 20px Irlanda- The Football Association of Ireland (1958)\\n# 20px Irlanda de Nord - The Irish Football Association (1954)\\n# 20px Islanda - Knattspyrnusamband Íslands (1954)\\n# 20px Israel - HaHitakhdut leKaduregel beYisrael (1994)\\n# 20px Italia - Federația Italiană de Fotbal (1954)\\n# 20px Kazahstan - Football Federation of Kazakhstan (2002)\\n# 20px Letonia - Latvijas Futbola Federācija (1992)\\n# 20px Liechtenstein - Liechtensteiner Fussballverband (1992)\\n# 20px Lituania - Lietuvos futbolo federacija (1992)\\n# 20px Luxemburg - Fédération Luxembourgeoise de Football (1954)\\n# 20px Macedonia - Football Federation of Macedonia (1994)\\n# 20px Malta - Malta Football Association (1960)\\n# 20px Moldova - Federația Moldovenească de Fotbal (1993) \\n# 20px Muntenegru - Fudbalski savez Crne Gore (2007)\\n# 20px Norvegia - Norges Fotballforbund (1954)\\n# 20px Țările de Jos - Koninklijke Nederlandsche Voetbal Bond (1954)\\n# 20px Polonia - Polski Związek Piłki Nożnej (1955)\\n# 20px Portugalia - Federação Portuguesa de Futebol (1954)\\n# 20px Republica Cehă - Fotbalová asociace České republiky (1994)\\n# 20px România - Federația Română de Fotbal (1954)\\n# 20px Rusia - Rossiyskiy Futbolniy Soyuz (1992)\\n# 20px San Marino - Federația de Fotbal din San Marino (1988)\\n# 20px Scoția - The Scottish Football Association (1954)\\n# 20px Serbia - Fudbalski Savez Srbije (1954)\\n# 20px Slovacia - Slovenský futbalový zväz (1993)\\n# 20px Slovenia - Nogometna zveza Slovenije (1992)\\n# 20px Spania - Real Federación Española de Fútbol (1954)\\n# 20px Suedia - Svenska Fotbollförbundet (1954)\\n# 20px Turcia - Türkiye Futbol Federasyonu (1962)\\n# 20px Țara Galilor - The Football Association of Wales (1954)\\n# 20px Ucraina - Football Federation of Ukraine (1992)\\n# 20px Ungaria - Magyar Labdarúgó Szövetség (1954)\\nNB: Federațiile scrise în albastru îngroșat sunt cele care au aderat la UEFA în anul fondării sale (1954). \\n Sute de mii de kurzi, dar și grupuri mari de armeni, asirieni, azeri și turkmeni, au fost mutați cu forța din regiunile de frontieră și colonizați în provinciile interioare ale Persiei.',\n",
       " 'Deși a fost o pacoste la început, el s-a alăturat celor patru Ninja, devenind al cincilea membru al echipei, și s-a descoperit că este legendarul Ninja Verde, cel destinat să-l învingă pe Lordul Întunecat și să aducă echilibrul în Ninjago. \\n El s-a antrenat să devină ninja și în episodul 18, din cauza ceaiului de mâine, a îmbătrânit și a devenit un adolescent de aceeași vârsta ca și cei patru mentori ai săi.',\n",
       " 'Shion aude zvonuri conform cărora, bunica lui Mizuho dorea să o omoare pe Mizuho. \\n Shion se apropie de mizuho.',\n",
       " \"La dispariția casei de Orléans-Longueville în 1707, Neuchâtel (cunoscut de asemenea după numele german ''Neuenburg'') au trecut în mâinile regelui Frederic I al Prusiei. \\n Viteza maximă de 574.8&nbsp;km/h (159.6&nbsp;m/s) a fost atinsă la kilometrul 191 langă localitatea Le Chemin, între Meuse și gara and Champagne-Ardenne TGV, unde există un profil de linie favorabil.\",\n",
       " 'In mijlocul sectorului dendrologic a existat o ferma zootehnica, iar in extremitatea sudica, bucati de pamint ars aminteau de o veche fabrica de caramida\\'\\'\". \\n Lupu a fost responsabil de numeroasele plantatii noi de tei, carpen, fag, stejar, plop tremurator si paltin, originare de pe dealul repedea, de la poieni, din codrii pașcanilor, din comuna sirețel, dar si folosind seminte de arbori exotici furnizate de cele peste 500 de gradini botanice din lume cu care instituția ieșeană a colaborat.',\n",
       " 'După demiterea din funcția de șef al Statului Major General, în august 1916, Falkenhayn este numit comandant al Armatei 9 germană, și trimis în fruntea acesteia pe frontul românesc. \\n Pentru % din locuitori nu este cunoscută apartenența etnică.',\n",
       " 'Aceleași probleme le întâmpinau și la plecare. \\n 65 la sută din toate proviziile erau parașutate din avioane c-130.',\n",
       " 'Odată ce traficul ajunge la proxy, interceptarea se efectuează în mod obișnuit cu NAT. \\n De configurări sunt invizibile pentru browserul clientului, dar lasă proxy-ul vizibil pentru serverul web și alte dispozitive de pe partea de internet a proxy-ului.',\n",
       " 'Noua poziție ocupată pe frontul de est avea anumite neajunsuri: inundarea regiunilor joase nu fusese încheiată iar terasamentele și bermele necesare pentru întărirea tranșeelor săpate în turbă nu fuseseră construite. \\n Apărătorii au trebuit să improvizeze pentru primirea unui număr mai mare de soldați.',\n",
       " 'În afară de /e/ și /ə/, toate vocalele pot fi lungi și scurte, din motive combinatorice:\\n* Toate se alungesc în silabă accentuată închisă de una din consoanele /v/, /z/, /ʒ/ sau /ʁ/, ori de grupul /vʁ/. \\n Temperatura optima de depozitare este de 15 C iar umiditatea aerului este de 80-85%.',\n",
       " \"În vacanțe a susținut o muncă de animator cultural și, în colaborare cu alți artiști, a realizat spectacolul ''Take, Ianke și Cadîr'' de V. I. Popa, pe care l-a jucat la cinematograful „Modern” din Ploiești, apoi ''Trandafirii roșii'' de Zaharia Bârsan. \\n S-a înființat nucleul denumit „brigada culturală prahova”, care s-a transformat ulterior în teatrul sindicatelor unite (1947) și teatrul de stat ploiești (1949).\",\n",
       " 'A fază de cuarci liberi la densitate mare ar putea permite existența stelelor cuarc dense, precum unele modele supersimetrice prezic existenta stelelor C. Unele extensii ale modelelor standard presupun existența preonilor ca structuri fundamentale ale cuarcilor și leptonilor, care ar putea forma ipotetic stele preon. \\n Matty este un sat în districtul Siklós, județul Baranya, Ungaria, având o populație de &nbsp;de&nbsp;locuitori (2011).',\n",
       " \"''Anopheles sawadwongporni'' este o specie de țânțari din genul ''Anopheles'', descrisă de Rampa Rattanarithikul și Green în anul 1987. \\n * ''A Modern History of Europe: Men, Cultures, and Societies from the Renaissance to the Present'' (1971).\",\n",
       " 'La Fotina apar satele “Pleașovul-Rumani” \\nși “Pleașovul Sârbi”. \\n La recensământul din 1989, raionul Hotin avea 75.918 locuitori.',\n",
       " \"* ''Transpirația''  reprezintă excreția de săruri și de apă din organism, cu toate că scopul principal al transpirației este acela de a răci organismul. \\n ''Campiglossa cassara'' este o specie de muște din genul ''Campiglossa'', familia Tephritidae.\",\n",
       " \"STAVKA a început deplasarea unor rezerve importante către Frontul I Ucrainean. \\n Aparent, forma de undă în bandă de bază echivalentă,&nbsp;s_a(t)\\\\cdot e^   t}, are de asemenea o rată Nyquist de ''B'', deoarece tot conținutul său de frecvență nenulă este preschimbat în intervalul&nbsp;[-, ).\",\n",
       " '250px\\n este un municipiu din Japonia, prefectura Kagawa. \\n Urmând calea ferată care trece dea lungul deșertului, realizată în Bonneville Salt Flats în 1910, locuințele au fost folosite pentru prima oară în 1914.',\n",
       " 'Unii socialiști s-au alăturat fracțiunii sale, dar alții l-au condamnat pentru că nu susțineau adoptarea imediată a votului universal. \\n Juriul de specialitate a acordat puncte de la 1 la 12, astfel: 1, 2, 3, 4, 5, 6, 7, 8, 10, 12.',\n",
       " \"''O iubire fără sfârșit'' (în ) este un film american de genul dramă supranaturală din 1998, regizat de Vincent Ward și avându-i în rolurile principale pe Robin Williams, Cuba Gooding, Jr. și Annabella Sciorra. \\n * geofizică - știință care studiază structura și proprietățile fizice ale Pământului și în special ale învelișurilor sale externe: litosfera, hidrosfera și atmosfera.\",\n",
       " 'Participând la acțiunea lui Vatatzes, vlahii nord-dunăreni nu erau la prima lor misiune în slujba împăratului Manuel I . \\n Rămâne de neînțeles nefolosirea vlahilor nord-dunăreni de către vatatzes într-o vreme în care locuitorii acestor ținuturi erau favorabili bizantinilor .',\n",
       " 'Din acest moment creștinismul bizantin (cunoscut cu numele de ortodox) se va dezvolta accentuând caracterul său organizatoric conciliar și „autocefal” (autonomia deplină a fiecărei biserici naționale, etnice), însă într-un cadru doctrinar și liturgic comun (de exemplu: Biserica Ortodoxă Rusă etc). \\n Ca dramaturg a debutat în anul 1971 cu piesa „Zilele următoare“ despre senescență, care a fost reprezentată la Teatrul municipal din Haifa.',\n",
       " \"* C. D. Zeletin,\\xa0Anca-Michaela Israil,\\xa0Radu Șerban Palade, ''Centenar George Emil Palade, 1912-2008. \\n Este creatorul silabarului bété, un sistem de scriere pentru limba bété vorbită în Coasta de Fildeș.\",\n",
       " 'Localitatea Cairaclia se află pe teritoriul regiunii istorice Bugeac (Basarabia de sud) a Principatului Moldovei. \\n Îngerii sunt imateriali, iar diferența lor numerică nu poate fi explicată prin vreo substanță diferită din care ar fi făcuți.',\n",
       " 'În 1713, Tratatul de la Ultrecht a confirmat oficial suveranitatea Austriei asupra celor mai multe dintre posesiunile Spaniei, inclusiv asupra Lombardiei și capitala acesteia Milano. \\n În secolul xviii austria a înlocuit spania în dominația asupra milano-ului, însă după revoluția franceză și războaiele napoleonice orașul va deveni unul dintre centrele cele mai proatstw importante ale naționalismului italian, revendicând independanța și unificarea italiei.',\n",
       " 'Misiunea Băncii Europene de Investiții este de a ajuta punerea în aplicare a obiectivelor politicii UE și de a contribui la dezvoltarea echilibrată și neîntreruptă a pieței interne în interesul Uniunii. \\n Din punct de vedere confesional, majoritatea locuitorilor (%) erau reformați, existând și minorități de romano-catolici (%) și greco-catolici (%).',\n",
       " \"* ''Trump: The Art of the Deal''\\n* ''Trump: The Art of Survival''\\n* ''Trump: The Art of the Comeback''\\n* ''Trump: Surviving at the Top''\\n* ''Trump: How to Get Rich''\\n* ''The Way to the Top: The Best Business Advice I Ever Received''\\n* ''Trump: Think Like a Billionaire: Everything You Need to Know About Success, Real Estate, and Life''\\n* ''Trump: The Best Golf Advice I Ever Received''\\n* ''Why We Want You to Be Rich: Two Men - One Message'' - în colaborare cu Robert Kiyosaki \\n Leszek cel Alb lăsase un fiu în vârstă de un an, Boleslav al V-lea cel Sfios dar până când ajungea la vârsta corespunzătoare, guvernarea Cracoviei trebuia preluată de altcineva.\",\n",
       " 'Saburo conform datelor japoneze a repurtat 28 victorii aeriene (inclusiv cele realizate cu alții), în timp ce în autobiografia lui scrisă cu Martin Caidin și Fred Saito susține că a repurtat 64 de victorii aeriene. \\n De discrepanțe sunt comune dintre scorurile oficiale și cele susținute de piloți primele fiind adesea mai mici, din cauza dificultăților în asigurarea martorilor potriviți, care să susțină victoriile declarate sau verificarea rămășițelor avioanelor doborâte, precum și variații în rapoartele militare din cauza pierderii sau distrugerii datelor.',\n",
       " \"Cu un binoclu sau un telescop cu un câmp larg, se vor putea vedea mult mai multe stele. \\n Datorită asemănării între formulările folosite, se poate bănui că se face referire la Evanghelia după Matei, unde Iisus Hristos consfințește indivizibilitatea căsătoriei cu cuvintele: ''Ce a unit Dumnezeu, omul să nu separe!''.\",\n",
       " \"Rata de conversie a fost de ''5.000 de manat vechi'' = ''1 manat nou''. \\n Catedrala din León este inspirată la etaj din catedrala din Reims (deși aceasta este mai mică), pe care maestrul Enrique ar fi putut s-o cunoască.\",\n",
       " \"Latura sa artistică a fost demonstrată de pasiunea cu care a demonstrat că a fost atât un muzician amator talentat dar și un conferențiar foarte apreciat în popularizarea problemelor fizicii, științei și responsabilității oamenilor de știință. \\n Un seminar de popularizare din anul 1959, referitor la nanotehnologie, numit, într-o traducere aproximativă, ''există loc suficient la bază'' (în engleză, ') precum și prelegerile sale transcrise, ', un compendiu în trei volume, au devenit cvasi-instantaneu, după lecturarea și publicarea lor, „clasice”.\",\n",
       " 'Și-a succedat tatăl ca Duce de Württemberg-Winnental în 1698. \\n * 8 aprilie: Regele Carl al XVI-lea Gustaf al Suediei și regina Silvia au început o vizită de 3 zile în România.',\n",
       " 'După anexarea părții de nord a Moldovei de către austrieci în 1775, unele familii boierești românești, domiciliate în Moldova, dar cu proprietăți în Bucovina, au început să renunțe treptat la terenuri, vânzându-le foștilor arendași armeni, greci sau evrei. \\n Mai mulți arendași armeni (în special din familiile capri, pruncul, antonovici, bogdanovici, petrovici, romașcan, teodorovici) au cumpărat moșii de la boierii moldoveni, dobândind întinse suprafețe de teren.',\n",
       " 'Cazul a fost judecat de Curtea Handbalului a Federației Europene de Handbal, care a dat dreptate echipei din Buzău și a decis ca partida retur să fie omologată cu „scorul de 10:0 și 2:0 puncte în favoarea SCM Gloria Buzău”. \\n Ca urmare a victoriei buzăului cu 32:31 în partida tur, calificarea clubului în manșa a 3-a a fost confirmată”.',\n",
       " 'Forța ordonatoare e reprezentată de regularitatea conduitei membrilor societății. \\n Vom deține cunoștințe despre aspectele abstracte ale acestei ordini, dar nu și despre detaliile concrete.',\n",
       " 'Ecuațiile care implică derivatele parțiale ale unei funcții necunoscute se numesc ecuații diferențiale cu derivate parțiale și sunt întâlnite în fizică, inginerie, și alte științe și discipline aplicate. \\n Personajul este interpretat de Jason Momoa în filmul Dune al lui Denis Villeneuve din 2021.',\n",
       " '# Primul din cele paisprezecece puncte, proclamate la 8 ianuarie 1918, prevedea că în viitor \"nu vor mai exista acorduri internaționale private de niciun fel, ci doar convenții de pace publice, încheiate deschis\". \\n Scopul clar al acestui punct este de a interzice tratatele secrete sau anumite secțiuni secrete ale unor tratate, iar, în viitor, fiecare tratat trebuind să facă parte din legile internaționale, pentru că, altfel, orice tratat secret tinde să submineze soliditatea întregii structuri a convențiilor internaționale, care este propusă să fie construită’’.',\n",
       " 'Articolul lui Nochlin a determinat mai mulți cercetători să-și concentreze eforturile asupra integrării femeilor artiste în istoria artei și culturii. \\n Au început să apară tot mai multe lucrări bibliografice despre ea, atât biografii cât și ficțiuni.',\n",
       " ': -r (recursive) - recursivitate; sunt listate fișierele din fiecare sub-director întâlnit în cale. \\n 120347 Salacia este un obiect transneptunian mare, care posedă un satelit.',\n",
       " 'DVD/CD-ul trebuia să fie lansat pe 24 iunie în Statele Unite și pe 30 iunie în Marea Britanie, dar a fost amânat pentru 1 iulie din cauza unei defecțiuni tehnice în timpul concertului din Mexic. \\n Barbara Buchholz () a fost o muziciană, interpretă la teremin și compozitoare germană.',\n",
       " 'Parlamentul dorind să consolideze poziția burgheziei engleze, va adopta  așezăminte care vizau comerțul și navigația. \\n În 1651, adoptă actul de navigație, prin care se proclama monopolul de stat asupra tuturor importurilor, ceea ce punea capăt primatului olandez în comerțul maritim spre anglia.',\n",
       " 'Og alt skal synge\\'\\'\\n*1990 \\'\\'Skjul og forvandling\\'\\', poezii\\n*1989 \\'\\'Det andre lyset\\'\\', poezii\\n*1989 \\'\\'Fortapt i verden. \\n Pe 16 aprilie, \\'\\'Game Informer\\'\\' a lansat detalii despre joc, inclusiv poze cu Ezio, un nou trailer, după care jocul a fost anunțat \"oficial\" de către Ubisoft.',\n",
       " 'Își începe studiile la unica școală primară din Sectorul Galben al Bucureștiului din str. \\n În chimia organică, superbazele organice sunt utilizate pe post de catalizatori organici.',\n",
       " 'Sunetul perceput depinde de diferența de frecvență dintre cele două semnalele ale urechilor:\\n* În cazul în care diferența de frecvență dintre semnalele urechilor este mai mică decât câțiva hertzi, sistemul auditiv poate urmări schimbările din diferențele de timp interaurale. \\n Este perceput un eveniment auditiv, care se deplasează prin cap.',\n",
       " 'Cele mai înalte vârfuri ale Abhaziei sunt în nord-est și est, câteva din ele depășind 4000 metri. \\n Pregătirea lipsită de perspectivă a mobilizării generale a frontului i-a determinat pe mulți dintre membrii acestor consilii să cerceteze bibliotecile din Moscova pentru găsirea oricăror informații legate de evacuările din timpul primei conflagrații mondiale.',\n",
       " 'Existența acestuia a fost cunoscută de-a lungul timpului în țări precum Siria, Liban, Iordania și Palestina, iar extinderea sa s-a petrecut începând cu secolul al XVIII-lea. \\n Lui a comandat lucrări au fost în concordanță cu grand mod de portrete, în timp ce lui informale studii și picturi peisaj afișează o familiaritate cu Impresionismul.',\n",
       " 'Prin urmare, aprobarea tratatului nu a fost suficientă pentru a satisface cerințele tratatului. \\n S-a convocat „ședința” necesară în temeiul tratatului.',\n",
       " 'În 2000, Mayaya a început să colaboreze cu Victor Lavric și formația lui, VLP Project. \\n Șciurovîci (în ) este un sat în comuna Smorjiv din raionul Radehiv, regiunea Liov, Ucraina.',\n",
       " 'Bugul a fost linia de demarcație între Germania și Rusia, forțele urmărind invazia Poloniei în Al Doilea Război Mondial. \\n El a doborât astfel recordul istoric de Grand Slam  pe care îl deținea australianca Margaret Court, care a câștigat un Grand Slam de unsprezece ori.',\n",
       " 'Unii cred mai departe că întregul univers are un suflet cosmic ca un spirit sau conștiință unificată. \\n O concepție a sufletului se poate lega cu ideea unei existențe înainte și după cea prezentă, și cineva ar putea considera un astfel de suflet ca fiind scânteia, sau sinele, \"eu\"-ul în existență ce simte și trăiește viața.',\n",
       " 'Grazia Deledda s-a născut în localitatea Nuoro din Sardinia într-o familie de mici proprietari. \\n De aniversarea lui Fred și Wilma, ceea ce amândoi au uitat, familia Rubble pregătește o călătorie spre Rockapulco încercând să salveze căsătoria familiei Flintstone.',\n",
       " \"În principiu, listele se alcătuiesc pe baza popularității și relevanței siturilor, dar, în mod natural, utilizatorii se uită doar la prima pagină a listei, sperând ca deja acolo să găsească situl căutat. \\n Ordinea siturilor de pe așa numita ''hit list'' capătă o importanță majoră: companiile care oferă motoare de căutare sunt practic întotdeauna influențate de motive economice, sociale sau politice, drept care prezintă anumite situri în mod preferențial, la începutul listei.\",\n",
       " \"Certurile între Waters și Wright marchează finalul înregistrării albumului și Wright părăsește trupa. \\n Parlamentul Marii Britanii ( The Parliament of Great Britain) a fost format în 1707, ca urmare a ratificării ''Tratatului Unirii Angliei cu Scoția'' (conform,  Treaty of Union) prin ''Actul Unirii din 1707'' (conform,  Acts of Union), ratificare dublă, datorată atât a ''Parlamentului Angliei'' ( Parliament of England) cât și a ''Parlamentului Scoției'' ( Parliament of Scotland).\",\n",
       " 'În timpul campaniei din anul 1916 regimentul a făcut parte din organica Brigăzii 6 Roșiori alături de  Regimentul 7 Roșiori. \\n A pierderilor suferite în timpul acestei campanii, în special a faptului că nu au putut fi asigurați caii necesari, în cadrul procesului de reorganizare a armatei de la începutul anului 1917, s-a decis reconstituirea sa ca unitate care lupta descălecat și resubordonarea acestuia brigăzii 6 cavalerie pe jos, alături de regimentul 3 roșiori pe jos.',\n",
       " 'În noiembrie 1537, Beatrice a fost escortată de veceregele imperial de Milano la împărat, la Genova, ânsă din nou întâlnirea a rămas fără rezultat. \\n Cantonul Saint-Amand-Montrond este un canton din arondismentul Saint-Amand-Montrond, departamentul Cher, regiunea Centru, Franța.',\n",
       " 'În consecință, el a înaintat un memoriu la Procuratura Generală la București, dar aceasta și-a declinat competența și a înaintat memoriul din nou la Mitropolia de la Sibiu. \\n A faptului că această problemă lua o amploare deosebită și tindea să se extindă și în alte localități și la alte mănăstiri, episcopia clujului și mitropolia ardealului au început o campanie de lămurire a oamenilor, prin care căutau să-i convingă că greșiseră și să le ceară să renunțe la schismă.',\n",
       " 'Ele au o mare productivitate pentru culturile cerealiere: grâu, porumb, orz, secară. \\n După reîntoarcerea în Cuba, în 1957, Dr. Ernesto \"Chichi\" Del Valle, a fost condamnat de Fidel Castro la 30 de ani de închisoare grea, pentru criticile aduse comuniștilor spanioli, cu 20 de ani înainte, în timpul războiului civil din Spania.',\n",
       " 'Iar Domnul a zis către Moise: \"Fă-ți un șarpe de aramă și-l pune pe un stâlp; și de va mușca șarpele pe vreun om, tot cel mușcat care se va uita la el va trăi.\\'\\' \\n Azidele (numite impropriu și azotúri) sunt combinații organice și anorganice cu formula generală RN_3 \\\\!',\n",
       " \"În partea a treia a acestei grupării de poeme, ''La Lira'', în ediția din 1614, Marini publică scrierea sa programatică intitulată Maraviglia, considerată actul de naștere al mișcării artistice marinism, care a devenit ulterior cunoscută sub numele de Secentismo. \\n * Beauchamp (reședință)\\n* Le Plessis-Bouchard\\n* Pierrelaye\",\n",
       " 'Anii următori au fost martorii consolidării poziției dușmanilor lui Eustațiu. \\n Contele balduin al v-lea de flandra și-a întărit posesiunea asupra teritoriilor pe care le anexase înrăsărit.',\n",
       " \"*Nimfă (mitologie) - ființe din mitologia greacă;\\n*Nimfă (biologie) - stadiu de dezvoltare la unele insecte;\\n*Nimfă (anatomie) - una din cele două perechii ale labiilor vaginale;\\n*Papagal nimfă, specie de papagali (''Nymphicus hollandicus'');\\n*Nimfomanie - tulburare sexuală; \\n Catedrala Catolică din Baia a fost o biserică romano-catolică construită la Baia în anul 1410 din porunca domnitorului Alexandru cel Bun.\",\n",
       " \"A lucrat la ''Burger King'' înainte de cariera sa de muzician. \\n Dacă triunghiurile sunt echilaterale și dreptunghiurile sunt pătrate, în timp ce baza și fața ei opusă sunt poligoane regulate, cupolele triunghiulară, pătrată și pentagonală sunt toate poliedre Johnson și pot fi formate prin divizarea cuboctaedrului, rombicuboctaedrului și respectiv rombicosidodecaedrului.\",\n",
       " \"Croazierele comerciale între marile orașe de coastă și porturi ale Regiunii Baltice, inclusiv Helsinki, Turku, Tallinn, Stockholm și , joacă un rol important în turismul local. \\n Acestea sunt necesare pentru menținerea integrității datelor și păstrarea datelor din ''cache'' atunci când se întrerupe curentul.\",\n",
       " 'Principiul pe care se bazează analiza gravimetrică este determinarea masei unui compus derivat de la analitul din probă (prin cântărire), iar pe baza reacțiilor chimice la care s-a ajuns la acesta se poate determina masa analitului respectiv. \\n Este necesar să se cunoască în detaliu procesele chimice care au loc, iar acestea trebuie să fie totale (cantitative).',\n",
       " \"Această ipoteză poate fi considerată corectă la nivel macroscopic deoarece proprietățile ondulatorii nu se manifestă. \\n * Mihai Eminescu, ''Scrieri politice'', Editura Scrisul Românesc, Craiova, 1931\\n* Ion Luca Caragiale, ''Teatru'', ediție și studiu introductiv, Editura Scrisul Românesc, Craiova, 1932 \\n* Mihai Eminescu, ''Literatura populară'', Editura Scrisul Românesc, Craiova, 1936\\n* Mihai Eminescu, ''Literatura populară'', ediție critică, Editura Minerva, București, 1977 \\n* Mihai Eminescu, ''Poezii'', ediție critică, 3 vol., Editura Minerva, București, 1970-1972 \\n* Mihai Eminescu, ''Poezii'', ediție critică de D.Murărașu, postfață de Eugen Simion, 3 vol., Editura Grai și Suflet - Cultura Națională, București, 1995 \\n* V.Alecsandri, ''Poezii populare ale românilor'', ediție îngrijită și prefață de D. Murărașu, Editura Minerva, București, 1973.\",\n",
       " 'Jeff Gerstmann de la GameSpot s-a legat de mișcările camerei în timpul condusului, spunând că \"nu se micșorează suficient pentru a putea vedea bine drumul\". \\n Participant activ la luptele din Primul Război Mondial, Felix Aderca a evocat întâmplări trăite, auzite sau imaginate în unele povestiri emoționante publicate încă din anii 1920.',\n",
       " 'După alte surse, Menelau pare a fi fiul lui Pleisthenes (fiul lui Atreu) și al Aeropei, sau al lui Pleisthenes și al Cleollei, fiica lui Dias. \\n Menelau ar fi nepotul lui atreu, ci nu fiul (dar sunt puține surse care indică acest lucru).',\n",
       " \"* Al patrulea loc din biserică era rezervat pentru Demetriu Cighi (29 octombrie 1879 – iulie 1961). \\n * ''Pitymys subterraneus dacius'' Miller, 1908 = Șoarece-subpământean.\",\n",
       " 'De exemplu, în al treilea mod prima nota primeste un punct, care semnifică cresterea duratei de la doi la trei timpi. \\n Acest mod are o durată totală de 6 timpi, nu 5.',\n",
       " 'Numele s-a răspândit mai ales în statele New York, California și Illinois scris sub forma Cupsa, New York și New Jersey sub forma Cupsaw sau Cupsha, iar în New York, North Dakota și Ohio sub forma Kupsa. \\n Din 1986 până în 2005, ea a câștigat mai multe medalii la simplu, dublu și cu echipa la Campionatul European de tenis de masă și Campionatul Mondial de tenis de masă.',\n",
       " 'Fear street este o serie de romane horror pentru adolescenți de autorul american R. L. Stine, care au loc într-un oraș fictiv Shadyside, de undeva în Coasta de Est. \\n Viermii de mătase sunt hrăniți cu frunze de dud, iar după a patra , se urcă pe o crenguță de lângă ei și își rotesc mătasea formând pupele.',\n",
       " \"Potrivit organizatorilor ''Eva și Klaus Herlitz'', promovarea ideii de coexistență pașnică trebuie consolidată și prin contribuții active. \\n Ajutorarea copiilor cu nevoi ajunge în centrul acestei acțiuni.\",\n",
       " 'Cititorul și-a format anumite reflexe, îndelung educate de ziariști. \\n El știe că toate știrile mai importante sunt publicate pe prima și pe ultima pagină, că locul din dreapta sus al primei pagini este consacrat unei știri sau unui articol.',\n",
       " \"Imigranții spanioli au predominant galicieni și basci. \\n În anii '90, Rapid a revenit pe podiumul Ligii Naționale și a jucat și două finale ale Cupei României.\",\n",
       " 'În primăvara anului 38 î.Hr., Irod a preluat controlul asupra provinciei Galileea și în cele din urmă a întregii Iudeea, inclusiv a Ierusalimului. \\n A apropierii iernii, irod a amânat asediul ierusalimului, unde antigon și resturile armatei sale se refugiaseră până la primăvară.',\n",
       " ';Feroviare\\nTrenuri Linia de cale ferată Verești-Botoșani (44&nbsp;km) a fost dată în exploatare în anul 1871. \\n După ce a fost vizionat în Italia în mai 1973, cu ocazia Săptămânii Filmului Polonez organizate la Napoli și la Roma, și a fost prezentat în septembrie 1973 la Festivalul Internațional de Film de la San Sebastián (Spania), a fost lansat în Ungaria la 28 martie 1974, în Finlanda la 29 martie 1974, în Republica Federală Germania la 25 aprilie 1974, în Republica Democrată Germană la 26 iulie 1974, în Suedia la 6 octombrie 1975 și în Grecia la 6 martie 1978.',\n",
       " 'Incercand sa stabileasca o legatura directa intre industria grea in plina expansiune de la Resita si marile bazine carbonifere aferente Vaii Jiului, in anul 1894 a luat fiinta Societatea Cailor Ferate Locale „Caransebes – Hateg”. \\n În ianuarie 2016 s-a transferat la echipa din orașul natal, CSM Bistrița actuala Gloria Bistrița.',\n",
       " 'Deși nu au o legătură directă cu macaulayismul, în alte părți ale Asiei sunt folosiți termeni similari în contextul adoptării obiceiurilor culturale occidentale, de exemplu „” în Singapore, „Kalu Sudda” în Sri Lanka și „崇洋媚外” în China. \\n De comportamente și atitudini sunt documentate și în thailanda, malaezia, hong kong, filipine, japonia și coreea de sud.',\n",
       " 'Practic, fiecare individ în parte, dacă ar face un calcul rațional ar realiza faptul că prin înscrierea sa (în sindicat) ar aduce o creștere practic nulă la puterea de convingere a sindicatului. \\n Ca și agent rațional, muncitorul ar trebui să refuze să se înscrie într-un sindicat, deoarece influența sindicatului (și evident, calitatea serviciilor pe care sindicatul le prestează muncitorului)rămâne aceeași.',\n",
       " \"Un ''alter ego'' (din ) reprezintă o persoană asemănătoare cu o alta într-o măsură atât de mare, încât cele două pot fi confundate sau se pot substitui reciproc. \\n De persoane sunt foarte apropiate, fie prieteni, fie membri ai unei aceleiași familii.\",\n",
       " 'Rețeaua de cale ferată este una cu ecartament foarte larg (iberic) și este gestionată de  în timp ce transportul de călători și marfă sunt responsabilitatea Comboios de Portugal (CP), ambele companii publice. \\n Între anii 1961-1963 liniile stației au fost pregătite pentru introducerea instalației de centralizate electrodinamică.',\n",
       " 'Multor români le-a fost permis să emigreze în România. \\n Cu acest fapt, numărul celor care s-au declarat români a crescut, deoarece oamenilor nu le mai era frică de persecuții.',\n",
       " 'Devecser  este un oraș în districtul Devecser, județul Veszprém, Ungaria, având o populație de &nbsp;de&nbsp;locuitori (2011). \\n Din 1984 până în 2004 a lucrat în Antarctica, fiind participant la expedițiile ruse: 30, 32, 33, 34, 36, 39, 43, 45, 47 și 49.',\n",
       " 'Poliția Sârbă l-a informat pe Jedlička că oricine încearcă să treacă ilegal granița va fi arestat. \\n O ceremonie improvizată a avut loc în localitatea bački monoštor.',\n",
       " 'În 1105, el s-a afirmat ca markgraf în cele trei mărci de Ancona, Fermo și Camerino, care au devenit apoi \"Marca de Ancona\" sau \\'\\'Marca Anconitana\\'\\', care a constituit baza prezentei regiuni din Italia, Marche. \\n Guarnier apare în cronici și documente ca \\'\\'dux et marchio guarnerius\\'\\' sau \\'\\'guarnerio marchione\\'\\'.',\n",
       " 'Prin așezarea sa geografică, Ținutul Secuiesc reprezintă o zonă de intersecție a mai multor magistrale de transport, care leagă nordul de sudul Europei și vestul de estul acesteia. \\n Rețeaua de transport din vechiul ținut secuiesc asigură legătura între rețeaua de transport comunitară și rețeaua de transport a statelor necomunitare vecine din europa de est și asia.',\n",
       " 'dezvoltate pe șelf. \\n A dezvoltării nișelor de abraziune, porțiunea de faleză rămasă fără sprijin se poate nărui, formându-se o faleză dedublată.',\n",
       " 'Versiunea europeană necenzurată a filmului a fost copleșită cu laude și s-a bucurat de succes de casă pe bătrânul continent și nu numai. \\n Reacțiile publicului la mai multe premiere din canada și sua au fost mai puțin favorabile (posibil datorită cenzurii de către studio).',\n",
       " 'Scena luării câinelui la tărbacă simbolizează căderea Plevnei din 1877, când după patru luni de asediu din partea trupelor rusești și românești, trupele turcești au fost determinate să ceară un armistițiu. \\n Grija funcționează ca un suport motivațional, orientând persoana îngrijorată spre acțiune.',\n",
       " 'Pe de altă parte, unele din abuzurile semnalate în criticile lui Luther referitoare la indulgențe au fost eliminate de autoritatea Bisericii prin desființarea indulgențelor legate de contribuții bănești. \\n Guaifer a fost nevoit să se retragă la mănăstirea din Montecassino în 880, unde a murit la puțină vreme.',\n",
       " \"La 1 aprilie 285 este desemnat de Dioclețian ''Caesar'', iar la 1 martie 286 ''augustus'' și coîmpărat, încredințându-i-se administrarea și apărarea provinciilor occidentale. \\n Râul Vinești este un curs de apă, afluent al râului Mureș.\",\n",
       " 'În timpul războiului civil, cazacii au putut fi găsiți în ambele tabere: a „roșiilor” bolșevici și a „albilor” monarhiști. \\n Spectacolul a avut următoarea distribuție: Constantin Codrescu (Fărâmă), Dana Dogaru (Oana), Silviu Stănculescu (superiorul), Adriana Trandafir (Zamfira), Răzvan Ionescu (Lixandru), Mihai Dinvale (Darvari), Mircea Constantinescu (Iozi), Ion Siminie ș.a.',\n",
       " 'În 353 î.Hr., la Termopile, Filip este înfrânt de către armatele Atenei și Spartei, însă cetățile grecești nu se pot opune multă vreme dorinței de expansiune a macedonenilor deoarece ele suferisera deja numeroase pierderi în urma crizei morale instituite de războaiele și seismele de la începutul sec V dar și datorită confruntărilor sociale și politice. \\n Numai atena ajunsese de la 40000 de locuitori la mijlocul sec v, la 30000 de locuitori în 360 î.hr.',\n",
       " 'Ei au definit cultura drept natura umană și au observat că aceasta își are rădăcinile în capacitatea universal umană de a clasifica experiențele, de a le codifica și de a comunica simbolic. \\n Societățile izolate dezvoltă culturi proprii, originale, dar componente ale diferitelor culturi locale se pot răspândi cu ușurință de la o comunitate la alta.',\n",
       " 'În cazul inhalării cu alt gaz greu a xenonului, apare un alt fenomen foarte periculos:individul ce a respirat amestecul devie inconștient pe loc. \\n Îngrijorătoare, xenonul este foarte rar utilizat în cantități suficient de mari pentru a fi periculos, deși există riscul ca în orice moment, un recipient sau rezervor plin cu xenon se poate sparge și, dacă este păstrat într-un loc neventilat, poate afecta lumea din jur.',\n",
       " 'După alegerea ca patriarh al Bisericii Ortodoxe Române a mitropolitului Justinian Marina, denumirea Schitului Bucium a fost schimbată în cea de Schitul Prodromu Iași, ca urmare a faptului că prin adresa nr.4707/22.08.1948 a Sfântului Sinod al Bisericii Ortodoxe Române, toate domeniile ce aparțineau Schitului Prodromu de la Muntele Athos au fost trecute într-o singură administrație (la Bucium), sub tutela Mitropoliei Moldovei și Sucevei. \\n Schitul prodromu iași a dobândit următoarele metoace: schitul zanea-bârnova, schitul șorogari, schitul arva-odobești și schitul țifești-panciu.',\n",
       " 'Dacă în anul 2004 Guță s-a bucurat de cele mai bune vânzări pentru un cântăreț de manele (peste 250 000 euro, fiind urmat de Adrian Minune și Carmen Șerban, fiecare cu 200 000 euro), clasamentele de mai târziu vor favoriza cântăreți ai noii generații, ce abordează altă tematică (cel mai adesea, cântecul de dragoste) și un stil muzical diferit. \\n Interesul pentru noile apariții muzicale semnate nicolae guță s-a aflat în scădere în ultimii ani, iar acest fapt a stârnit reacții variate din partea publicului și a lumii muzicale.',\n",
       " 'Mai târziu s-a dovedit că făcea parte din Echipa Originală a Misterelor și că numele său adevărat este Cassidy Williams. \\n Pe acest disc apar formațiile Roata din București și Foileton din Timișoara, fiecare dintre ele ocupând câte o față a LP-ului.',\n",
       " '# Nu sunt diferențiate cuvintele intrate direct de cele împrumutate prin intermediul altei limbi. \\n În secolul al III-lea î.Hr., scordiscii s-au răspândit foarte mult după invazia galică a Europei de Sud-Est.',\n",
       " \"* Zihron Nahum -  predici și conferințe, 1903. editura H. Goldner, Iași\\n* Hasidism și Țadikism (Chassidismus und Zaddikismus), în germană 1913, editura Baer, București. \\n Una dintre navele ''Flotei Libertății II'', menită să spargă blocada israeliană din Gaza, a fost numită Tahrir după piață.\",\n",
       " '* Cheile Lucavei\\n* Cheile Tătarcei\\n* Mănăstirea Moldovița\\n* Tinovul Găina - Lucina\\n* Rezervația Răchitișul Mare\\n* Piatra Țibăului \\n 6463 Isoda este un asteroid din centura principală de asteroizi.',\n",
       " 'În plus, el nu vedea niciun avantaj într-un război colonial cu britanicii, mai ales că dorea să le câștige prietenia în eventualitatea unui viitor conflict cu Germania. \\n El a militat hotărât pentru o rezolvare pașnică a crizei, deși o asemenea soluție a provocat un val de naționalism și de sentimente antibritanice.',\n",
       " 'Cronicile parohiei atestă ca slujitori ai acestei biserici pe următorii preoți:\\n* Petre Hasnăș – paroh în jurul anului 1786;\\n* Ștefan Mândrilă – paroh până după 1789;\\n* Vasile Mândrilă – paroh din 1793 până la 13 iulie 1816; a păstorit aici până la moarte;\\n* Simion Mândrilă – paroh între anii 1816 și 1844; era fratele preotului Vasile Mândrilă, a păstorit și el până la moarte;\\n* în perioada 1844-1847 au funcționat ca administratori preoții Ioan Mândrilă – fiul preotului Simion Mândrilă, administratorul bisericii din Zaharești, Gheorghe Cocinschi – preot la Biserica „Nașterea Mântuitorului” din Câmpulung, Ion Dașchevici – parohul Bisericii „Sfântul Nicolae” din Câmpulung și Gheorghe Ciupercovici – parohul Bisericii „Adormirea Maicii Domnului” din Câmpulung;\\n* Vasile Popescul – administrator din decembrie 1847 până în decembrie 1848; a fost transferat apoi ca paroh la Gura Sadovei;\\n* Gheorghe Ciupercovici – administrator din ianuarie 1849 până în decembrie 1854; a funcționat în paralel și ca paroh al Bisericii „Adormirea Maicii Domnului” din Câmpulung. \\n A creșterii populației, mica biserică de lemn a devenit neîncăpătoare și atunci obștea a hotărât să construiască o biserică mai mare, iar biserica veche să se desfacă și să se dăruiască comunității ortodoxe din bucșoaia.',\n",
       " 'Mitul poate relata nu numai originea lumii, a animalelor, a plantelor și a omului, ci și toate evenimentele primordiale în urma cărora omul a devenit ceea ce el este astăzi, adică o ființă organizată în societate, obligată să muncească pentru a trăi și trăind după anumite reguli. \\n Mitul este istoria fabuloasă a omului revelată și narată de el însuși; mitul este o poveste imaginată de om despre tot ce acesta ignoră, adică despre tot ce a avut loc înaintea lui și va avea loc după el.',\n",
       " 'De asemenea, β și γ sunt definite ca:\\n:\\\\beta = \\\\frac  ,\\\\ \\\\gamma = \\\\frac  }. \\n Conflictul a condus la refugierea a peste 300.000 de persoane și a cauzat moartea mai multor civili.',\n",
       " 'Generalul Eisenhower a fost de acord ca forțele franceze să conducă asaltul aliat și să fie primele care să intre în Parisul eliberat. \\n Pe 24 august 1944, unitățile diviziei a 2-a blindate au pătruns primele în parisul eliberat.',\n",
       " \"* 10 iulie: Președinții SUA și Franței, Bill Clinton și Jacques Chirac, au devenit cetățeni de onoare ai municipiului București. \\n A debutat ca scriitoare în anul 1886 cu niște povestiri care au fost publicate în ziarul vienez ''Das interessante Blatt''.\",\n",
       " '* măcinare - transformarea boabele de cereale în făină cu ajutorul pietrelor sau al valțurilor morii, al râșniței sau al altor unelte. \\n Incidentul de la Podul Marco Polo este considerat în general începutul celui de-al doilea război sino-japonez.',\n",
       " \"Răscoala Țărănească din 1907 a surprins Jandarmeria nepregătită, depășită de evenimente, posibil, datorită numărului redus de efective (49 de ofițeri și 2580 de trupă) sau, după cum preciza Nicolae Iorga în cadrul Ședinței Adunării Deputaților din 18 martie 1908, ''„...jandarmii aceștia n-au știut nimic de pregătirea răscoalelor, ei n-au avut curajul să se lupte cu răsculații (...). \\n Din aceste răscoale se poate vedea de câtă bărbăție au dat dovadă jandarmii noștri.\",\n",
       " 'Satul se află la 60&nbsp;km de centrul raional Hîncești și 100&nbsp;km depărtare de capitala Chișinău. \\n Afeliul, în apropiere de orbita lui Jupiter, este la 5,30 ua de Soare; periheliul, în apropiere de planeta Marte, este la 1,78 ua de Soare.',\n",
       " 'În urma unui incident Sydney află adevărul despre Jill și Adrian: ultimul atentat la viața ei nu eșuase - Adrian o adusese din morți și Jill era atinsă de umbră. \\n Jill păruse mahmură la ore când adrian se îmbătase și fusese trimisă la directoare și ulterior aceasta simțise efectele petrecerii la care acesta fusese.',\n",
       " 'Funcția de masticație, care apare la mamifere și care la om se modifică datorită schimbării felului de alimentație, omul devenind omnivor, precum și apariția limbajului articulat au determinat o nouă organizare și structurare a viscerocraniului. \\n Fiind o distilare, tehnica este folosită pentru separarea și purificarea unor compuși pe baza diferenței punctelor de fierbere, fiind aplicabilă atunci când compusul care se dorește să se obțină prezintă un punct de fierbere la care nu se poate lucra, și care de asemenea poate favoriza descompunerea termică a acestuia.',\n",
       " 'La 15 mai 1948 a fost sărbătorit cu mare fast, în prezența lui Gheorghe Gheorghiu-Dej și a lui Petru Groza, centenarul Adunării de la Blaj. \\n Este vorba despre viața unui cangur din Australia cu numele de Rocko.',\n",
       " \"Avratîn (în ) este o comună în raionul Liubar, regiunea Jîtomîr, Ucraina, formată din satele Avratîn (reședința) și Kîrîiivka. \\n Philipsburg are un climat de savană tropicală (Köppen ''Aw'') și este mai uscat decât majoritatea părților din nord-estul Caraibelor din cauza umbrei de ploaie.\",\n",
       " 'În plus, satul era deținut de Dieceza de la Strasbourg, de domnii Val de Villé și de Baronii Bollwiller. \\n Ramban a replicat spunând că interpretările lui Pablus Christiani erau niște denaturări ale textului: Rabinii nu au sugerat câtuși de puțin că Iisus era Mesia, în vreme ce i se opuneau în mod explicit.',\n",
       " 'În cele din urmă, încrederea permite înțelegerea în mod deschis și orientat către dialog a conflictelor și soluționarea productivă a acestora. \\n Încrederea reprezintă un instrument extrem de eficient pentru a garanta colaborarea dintre oameni sau firme.',\n",
       " \"Asta l-a determinat să termine cursa pe poziția a 7-a, rezultat care nu a fost de ajuns și a dus la câștigarea titlului de către Vettel. \\n Talburgtor şi Primăria Veche, Carl August Lebschée, 1853\\nTalburgtor, denumit și ''Talbrucktor'', a fost una dintre cele cinci porți ale orașului München construite la sfârșitul secolului al XII-lea în prima centură de ziduri ale orașului medieval.\",\n",
       " 'Dacă amplificarea în buclă închisă (produsul dintre amplificare și factorul de reacție pozitivă) la orice frecvență este unitar, atunci amplificatorul va oscila la acea frecvență (criteriul de stabilitate Barkhausen). \\n De oscilații sunt numite uneori oscilatii parazite.',\n",
       " 'De exemplu, filtrul <code>(&(objectClass=person) (| (givenName=John) (mail=john*)))</code> va selecta persoanele (elementele clasei person) care au numele „John” sau au o adresă de e-mail care începe cu șirul „john”. \\n Totul după ce a fost desemnat să investigheze crimele unui nebun cunoscut doar sub numele de \"Inginerul\".',\n",
       " 'În România, Cielo a fost predominant fabricat în varianta berlină. \\n Câștigătoarea turneului din 1972 a fost selecționata României.',\n",
       " 'Fac această deoarece lumea e fără centru acum, iar omul, evoluind orizontal și plasandu-se în centrul materiei și-a pierdut \"aripă stânga\" și \"aripă dreaptă\". \\n Sensul iubirii: sufletul și pe dumnezeu.\"',\n",
       " 'În secolul al X-lea în vestul Europei s-au produs importante schimbări. \\n Ei au înregistrat împreună cântecul Half of My Heart”.',\n",
       " 'Brigada cazacilor persani nu a reușit în acest caz să apere tronul. \\n Brigada a continuat să fie o forță importantă în iran, acționând atât în interesul monarhului cât și al rușilor.',\n",
       " 'Japonia ocupă locul 3 în producția mondială de pește după China și Peru. \\n După un asediu lipsit de succes a capitalei statului Ordinului Teuton, trupele poloneze, care erau staționate la Castelul Sztum, timp de 3 săptămâni au apărat fortăreața împotriva atacurilor planificate de Cavalerii Teutoni.',\n",
       " 'Marea majoritate din oamenii săi erau încorporați doar până la 31 decembrie, iar el știa că armata avea să se destrame dacă nu-i convinge să rămână. \\n În ziua de 30, washington le-a cerut oamenilor să rămână încă o lună, promițându-le zece dolari în plus.',\n",
       " 'Imagine din satelit a ciclonului Nargis pe 1 mai 2008\\nCiclonul Nargis a fost unul dintre cele mai distructive cicloane tropicale din istoria recentă a omenirii. \\n În coordonatele olomorfe locale , forma Ricci este dată de \\n: \\\\rho = -i\\\\partial\\\\overline \\\\log\\\\det\\\\left(g_ }\\\\right)\\nunde  este  și \\n:g_ } = g\\\\left(\\\\frac  ,\\\\frac  }^\\\\beta}\\\\right).',\n",
       " 'Localitatea poartă numele unui șef de trib al ppopulației Bemba. \\n Complexul Muzeal Vrancea cuprinde secții de istorie și arheologie, etnografie, științele naturii; mausoleele din Mărășești, Mărăști, Soveja, precum și casele memoriale ale unor personalități precum: Ion Roată (comuna Câmpuri) și Alexandru Vlahuță.',\n",
       " \"Orasul Dumbraveni a luat nastere prin unirea a doua asezari omenesti:<nowiki>''a satului romanesc''</nowiki> si a orasului infiintat la marginea satului, Elizabeto polis, Elisabetvaros, dat dupa numele fiicei regelui ungur Andre II al carui chip se gaseste Castelul a fost cladit sub forma de patrulater; in prezent s-a pastrat doar doua parti. \\n Testele dinaintea zborului orbital au fost realizate cu ajutorul avionului Antonov An-225, special conceput pentru aceasta.\",\n",
       " 'Cu cat aria suprafatei este mai mare, cu atat creste posibilitatea unui schimb fizic si chimic cu mediul. \\n Pictura murală din interior a fost realizată între 1978 și 1980.',\n",
       " 'Pericle Papahagi a scris că meglenoromânii sunt urmașii vlahilor din principatul condus de Dobromir Chrysus pe Valea Vardarului, în secolele XII-XIII.. Principatul lui Chrysus a fost ocupat în 1202 de către Ioniță Caloian, regele vlahilor și bulgarilor. \\n Deși are viteze mici de scriere și de ștergere, permite un acces aleatoriu pentru citire și scriere, făcând-o adecvată pentru stocarea datelor care nu necesită o actualizare frecventă.',\n",
       " 'Carbonul este folosit, la temperaturi ridicate, în reacțiile chimice de reducere. \\n Când naziștii au început în septembrie 1943 să-i strângă pe evreii danezi, Levi a fost una dintre miile de evrei care au fugit în Suedia.',\n",
       " 'Raporturile cu acele puteri garante care se arătau ostile unirii sau care jucaseră, în trecut, un rol important în viața Principatelor (Rusia, în anii „protectoratului”) au fost bazate, încă din primii ani ai domniei lui Alexandru I. Cuza, pe respectarea neștirbită a autonomiei țării nou-constituite. \\n Prezența militarilor otomani va fi categoric interzisă, iar poarta va fi obligată, în vara anului 1860, să renunțe la pașapoartele sale solicitate călătorilor români, în mai multe situații supușii imperiului fiind reținuți pentru că au produs diverse neorânduieli.',\n",
       " 'Cavalerii erau în general, în stare de faliment, ca urmare a incapacității revoltei de a schimba situația lor în fața creșterii inflației, a agriculturii aflate în declin, a creșterii cerințelor prinților și a incapacității de a trăi prin „jaf la drumul mare” legal. \\n Cei mai mulți cavaleri au trăit ca mici stăpâni feudali, trăind din impozitarea masivă a țăranilor.',\n",
       " 'A treia medalie de argint obținută în ediția 2011-2012 le rezervă clujencelor o a treia participare la un turneu de calificare și șansa de a se califica în grupele Ligii Campionilor 2012-2013, după ce în precedentele două sezoane formația clujeană nu a reușit calificarea. \\n Mihaela ani-senocico și-a îndeplinit un vis:\\n\\nurmează supercupa româniei 2013, pierdută în fața lui hcm baia mare și un sfert de finală în cupa ehf 2014.',\n",
       " 'Din cauză că râul Colentina, care ar trebui să alimenteze lacul Chitila, are un debit redus, cu o scurgere medie lunară între 2,44 m/s și 0,12 m/s, cu o albie mlăștinoasă care de cele mai multe ori seacă vara, lacul Chitila este alimentat de Canalul Bilciurești – Ghimpați, lung de 9 km, care aduce apa din râul Ialomița. \\n Acest canal alimentează cu apă și întreaga salbă de lacuri amenajate pe râul colentina în zona capitalei.',\n",
       " 'Mozart, într-o îmbinare stilistică franco-română. \\n În aprilie 2018, corul madrigal, dirijat de anna ungureanu, a inaugurat concertistic sala rondă a bibliotecii british museum (grand court) din londra, în cadrul festivalului „europe and the world”, iar pe 27 și 28 noiembrie, ansamblul s-a aflat la paris, unde deschis muzical sezonul cultural românia - franța 2019 cu trei concerte: la domul invalizilor alături de ansamblul instrumental din paris / ensemble instrumental de paris dirijat de maestrul christian ciucă, la centrul național de artă și cultură georges pompidou și la catedrala st. clotilde.',\n",
       " 'Curbura (din latină: \\'\\'curvatura\\'\\', \"îndoitură\") unui obiect geometric este o măsură cantitativă ce exprimă proprietatea de a nu fi rectiliniu pentru orice punct al figurii respective. \\n Pentru o curbă, curbura într-un punct \\'\\'m\\'\\' al acesteia este limita raportului dintre unghiul  \\\\delta \\\\alpha  format de tangentele la curbă în două puncte, \\'\\'m\\'\\' și \\'\\'m, când punctul \\'\\'m tinde către \\'\\'m\\'\\':\\n:: \\\\frac    = \\\\lim_  \\\\frac   .',\n",
       " \"Gheorghe Funar, împreună cu 40.000 de susținători, după cum susținea acesta la acea vreme, au hotărât să intre în Partidul România Mare, în noiembrie 1998, după ce instanța a refuzat să înregistreze formațiunea lor politică. \\n În fizică, este durata limitei caracteristice dincolo de care orice predicție (inițială) precisă a unui sistem dinamic dat devine imposibilă, denumită și ''orizont predictiv''.\",\n",
       " 'Totuși acești munți oferă turiștilor și perioade favorabile pentru vizitare. \\n Luna mai este deosebit de frumoasă prin claritatea atmosferei, deși există riscul furtunilor bruște sau chiar al unor perioade ploioase mai îndelungate.',\n",
       " 'În aceste mituri, răutatea Demiurgului este îmblânzită; creația sa a unei lumi imperfecte nu este din lipsuri morale, ci din onesta sa ignorare a lumii spirituale superioare Lui. \\n Velentinieni au mai multe motive să trateze realitatea fizică cu mai puțin dispreț decât ar face-o un gnostic sethian.',\n",
       " 'Friedrich Nietzsche, continuă și întărește rolul voinței, dându-i sensul și de perspectivă, în lucrarea \"Libertatea voinței și destinul\", de unde și denumirea unui curent filozofic, \"perspectivism\", creat în jurul acestei idei. \\n Mai adaugă resursele și sistemul logic lanțului componentelor sistemice considerate de schopenhauer.',\n",
       " 'În cadrul activității sale parlamentare, Ghervazen Longher a fost membru în următoarele grupuri parlamentare de prietenie:\\n*în legislatura 2000-2004: Republica Polonă;\\n*în legislatura 2004-2008: Republica Polonă, Japonia, Australia;\\n*în legislatura 2008-2012: Republica Polonă, Japonia, Republica Lituania;\\n*în legislatura 2012-2016: Republica Polonă. \\n A înǎbușit revoltele, a confiscat pǎmânturile englezilor și le-a dǎruit nobililor normanzi și bisericii, a încurajat stabilirea meșteșugarilor și negustorilor francezi în Anglia și a ordonat clǎdirea castelelor, bisericilor, mânǎstirilor și catedralelor impunǎtoare, împrejurul cǎrora luaserǎ ființǎ numeroase orașe.',\n",
       " 'Cu această ocazie, actrița declară: „Consider castrarea foarte importantă... Prea multe animale înseamnă animale fără adăpost, or noi deja avem foarte multe animale vagabonde”. \\n Schiță de portret al unui oraș și al unei epoci, rev.',\n",
       " \"Între 1933 și 1945 oficialii guvernamentali au încercat să elimine aceste aspecte ale Crăciunului în cadrul sărbătorilor civile și au încercat să se concentreze asupra aspectelor pre-creștine ale sărbătorii. \\n Serviciul are cinci părți organizaționale: Detașamentul pentru relațiile cu publicul (''Odjeljene za odnose s javnošću''), Detașamentul pentru planarea strategică (''Odjeljenje za strateško planiranje''), Detașamentul pentru analitică (''Odjeljenje za analitiku''), Unitatea pentru revizia internă (''Jedinica za internu reviziju'') și Unitatea pentru cooperarea internațională și integrațiile europeane (''Jedinica za međunarodnu saradnju i evropske integracije'').\",\n",
       " 'El a lăsat în seama sovietelor țărănești libertatea de a face ceea ce doresc, să pună terenul în comun, sau să-l împartă între țăranii săraci. \\n În 1556, Carol V a cedat tronul fiului său Filip II.',\n",
       " 'În a doua jumătate a secolului al XIX-lea, primele modele parzenica făcute în Tatra au fost simple bucle de fire, folosite pentru consolidarea croielilor de pe fața pantalonilor din pânză. \\n De bucle împiedicau țesătura din lână să se uzeze.',\n",
       " 'Dimităr Hadjidimitrov și Dimităr Zlatarev, liderii secțiunii de armament a OM, au propus să fie asasinat directorul Poliției, Vladimir Nacev, iar în timpul înmormântării lui, să fie declanșat un atentat pe scară largă. \\n Ei sperau să elimine un număr mare de figuri-cheie din ierarhia poliției și să reducă presiunea exercitată de autorități asupra pcb.',\n",
       " \"În această perioadă se deschide fabrica de cărămidă (1864) care atrage muncitori în agricultură din tot sudul Banatului, mai ales unguri. \\n Ia ființă cartierul\\xa0''futok''\\xa0(„al fugarilor”, de la numele dat ungurilor fugiți de pe moșiile agricole).\",\n",
       " 'Incredibilele pronunțări ale Doamnei Bracknell sunt la fel de începătoare\\xa0întru utilizarea hiperbolei și a extravaganței retorice ca și pentru opțiunile ei desconcentrate. \\n Discursul doctorului chasuble și a doamnei prism se distinge prin ,,conceptul pandemic’’ și ,,diversiunea idiosincritică’’.',\n",
       " 'IFIA este singura organizație care reunește asociațiile de inventatori din întreaga lume. \\n La mulți ani după ce un virus misterios a transformat cea mai mare parte a umanității în creaturi sângeroase, pribeagul Thomas Rourke dă peste un grup de supraviețuitori într-o secție de poliție abandonată.',\n",
       " 'Calder se poate referi la următorii autori care au denumit cel puțin o specie:\\n* Andrew A. Calder\\n* James Jim Alexander Calder \\n Asteroidul prezintă o orbită caracterizată de o semiaxă mare de 2,20 ua, o excentricitate de 0,18 și o înclinație de 5,4° în raport cu ecliptica.',\n",
       " 'Marea Britanie nu și-a dorit să recunoască acord pe motiv că ar putea să distrugă unitatea din interiorul Commonwealth-ului. \\n Spre finalul anului 1979, guvernul thatcher a organizat o conferință de pace în londra la care toți liderii naționaliști au fost invitați.',\n",
       " 'Aceasta se datorează deversării direct în râul Colentina de către unitățile industriale și populație a apelor uzate rezultate în amonte de București: Buftea (industrie alimentară, industrie ușoara, populație, poluare constituită de aporturi de nutrienți), Crevedia (ferma de creștere a păsărilor, populație), Mogoșoaia (industria cinematografică, populație). \\n Fundul lacurilor de pe râul colentina nu au mai fost dragate de peste 30 de ani, conducând la acumularea unor mari cantități de nămol insalubru.',\n",
       " 'Distanța totală a cursei a fost de 192 de kilometri. \\n În Uniunea Sovietică acest sport de lupta contra incendiilor al pompierilor, este o disciplină sportivă.',\n",
       " \"În anul 1508, Baldassare Castiglione, un nobil italian, a început să scrie lucrarea pentru care va fi cunoscut, ''Il libro del cortegiano''. \\n De asemenea, este realizată o filmare în TVR cu „Tu, doar tu”, reorchestrare a compoziției din perioada Voltaj.\",\n",
       " 'În lume nu există un organism internațional unitar de conducere a sportului. \\n Prima este de origine mai veche și include decorarea multor dispozitive și echipamente de care San aveau nevoie pentru existența în deșert.',\n",
       " 'În replică împăratul a integrat episcopatele din Sicilia, Italia Inferioară și Iliria în subordinea Patriarhatului Ecumenic de la Constantinopol. \\n Papa a rupt relațiile politice cu bizanțul.',\n",
       " \"Din 1988, Sieg Hecker (cum este adesea numit) a fost Visiting Professor în specialitatea ''Ingineria metalelor'' (conform, ''Materials Engineering'') la Stanford University. \\n În problemele interguvernamentale, cea mai mare parte a puterii este concentrată în Consiliul Uniunii Europene - conferindu-i caracteristicile unei organizații internaționale normale.\",\n",
       " \"Acest lucru contrazice minimalitatea gradului lui ''f''. \\n Polinoamele minime sunt ireductibile.\",\n",
       " 'Aceasta poate explica mersul lumii, însă nu va putea niciodată să explice viața ca atare. \\n Oamenii sunt mereu în descoperirea sensului, așa cum îl transmit cărțile.',\n",
       " 'Filmul a fost turnat în întregime în Republica Cehă, unde Gilliam a avut mai multe neînțelegeri cu frații Bob și Harvey Weinstein. \\n Data premierei a fost schimbată cu aproape 10 luni în plus față de cea inițial programată.',\n",
       " 'Teritoriul Bosniei-Herțegovina a fost divizat între patru dintre aceste banovine. \\n A discuțiilor între conducerea statului iugoslav și principala forță politică reprezentând poporul croat, partidul țărănesc croat, în anul 1939 este încheiat acordul cvetokici - macek, prin care se creează croația, ca o unitate teritorială distinctă, înglobând o parte semnificativă din teritoriul bosniei: regiunea din nord cunoscută sub numele de posavina, herțegovina occidentală și centrală cu orașul mostar și părți din bosnia centrală, inclusiv fosta capitală a bosniei, travnik.',\n",
       " \"Există cinci subfamilii:\\n* Apostasioideae\\n* Cypripedioideae\\n* Epidendroideae\\n* Orchidoideae\\n* Vanilloideae\\nDintre cele peste 800 de genuri cunoscute ale familiei Orchidaceae, în lista următoare sunt enumerate circa 170:\\n''Abdominea'';\\n''Acampe'';\\n''Acanthephippium'';\\n''Aceratorchis'';\\n''Acianthus'';\\n''Acineta'';\\n''Acrorchis'';\\n''Ada'';\\n''Aerangis'';\\n''Aeranthes''; \\n''Aerides'';\\n''Aganisia'';\\n''Agrostophyllum'';\\n''Amitostigma'';\\n''Anacamptis'';\\n''Ancistrochilus'';\\n''Angraecum'';\\n''Anguloa'';\\n''Anoectochilus'';\\n''Anota'';\\n''Ansellia'';\\n''Aorchis'';\\n''Aplectrum'';\\n''Arethusa'';\\n''Armodorum'';\\n''Arpophyllum'';\\n''Ascocenda'';\\n''Ascocentrum'';\\n''Ascoglossum'';\\n''Aspasia'';\\n''Australorchis'';\\n''Auxopus'';\\n''Baptistonia'';\\n''Barbrodia'';\\n''Barkeria'';\\n''Barlia'';\\n''Bartholina'';\\n''Beloglottis'';\\n''Biermannia'';\\n''Bifrenaria'';\\n''Bletia'';\\n''Bletilla'';\\n''Bollea'';\\n''Brassavola'';\\n''Brassia'';\\n''Broughtonia'';\\n''Bulbophyllum'';\\n''Calanthe'';\\n''Calypso'';\\n''Catasetum'';\\n''Cattleya'';\\n''Cephalanthera'';\\n''Chondrorrhyncha'';\\n''Chysis'';\\n''Cibotium'';\\n''Cirrhopethalum'';\\n''Cleisostoma'';\\n''Clowesia'';\\n''Cochlioda'';\\n''Coelia'';\\n''Coelogyne'';\\n''Comparettia'';\\n''Coryanthes'';\\n''Corybas'';\\n''Cycnoches'';\\n''Cymbidium'';\\n''Cynosorchis'';\\n''Cypripedium'';\\n''Cyrtopodium'';\\n''Cyrtorchis'';\\n''Dactylorhiza'';\\n''Dendrobium'';\\n''Dendrochilum'';\\n''Diacrum'';\\n''Diaphananthe'';\\n''Disa'';\\n''Dossinia'';\\n''Dracula'';\\n''Encyclia'';\\n''Epidendrum'';\\n''Epipactis'';\\n''Eria'';\\n''Esmeralda'';\\n''Eulophia'';\\n''Eulophidium'';\\n''Eulophiella'';\\n''Galeandra'';\\n''Galeottia'';\\n''Gastrochilus'';\\n''Gomesa'';\\n''Gongora'';\\n''Goodyera'';\\n''Goodyera'';\\n''Grammatophyllum'';\\n''Gymnadenia'';\\n''Habenaria'';\\n''Haemaria'';\\n''Herschelia'';\\n''Houlletia'';\\n''Huntleya'';\\n''Isabelia'';\\n''Jonopsis'';\\n''Lacaena'';\\n''Laelia'';\\n''Lepanthes'';\\n''Leptotes'';\\n''Liparis'';\\n''Lissochilus'';\\n''Lockhartia'';\\n''Ludisia'';\\n''Lycaste'';\\n''Malaxis'';\\n''Masdevallia'';\\n''Maxillaria'';\\n''Mexipedium'';\\n''Miltonia'';\\n''Mormodes'';\\n''Mormolyca'';\\n''Neogyna'';\\n''Octomeria'';\\n''Odontoglossum'';\\n''Oncidium'';\\n''Ophrys'';\\n''Orchis'';\\n''Ornithidium'';\\n''Paphinia'';\\n''Paphiopedilum'';\\n''Paraphalaenopsis'';\\n''Peristeria'';\\n''Phaius'';\\n''Phalaenopsis'';\\n''Pholidota'';\\n''Phragmipedium'';\\n''Platanthera'';\\n''Pleione''; \\n''Pleurothallis'';\\n''Promenaea'';\\n''Pterostylis'';\\n''Renanthera'';\\n''Renantherella'';\\n''Restrepia'';\\n''Restrepiella'';\\n''Rhynchostylis'';\\n''Rodriguezia'';\\n''Saccolabium'';\\n''Sarcochilus'';\\n''Satyrium'';\\n''Schomburgkia'';\\n''Selenipedium'';\\n''Serapias'';\\n''Sobralia'';\\n''Sophronitis'';\\n''Spiranthes'';\\n''Stanhopea'';\\n''Stelis'';\\n''Stenoglottis'';\\n''Thrixspermum'';\\n''Thunia'';\\n''Trias'';\\n''Trichocentrum'';\\n''Trichoglottis'';\\n''Trichophilia'';\\n''Vanda'';\\n''Vanilla'';\\n''Xylobium'';\\n''Zeuxine'';\\n''Zygopetalum''. \\n Cu toate acestea, opiniile lor erau puțin ascultate de conducerea din exil.\",\n",
       " 'Populația comunei este de 10.126 de locuitori (2008). \\n Datorită negocierilor, anul 2005 nu a adus niciun progres în evoluția lucrărilor.',\n",
       " 'Clayton consideră că succesul pe care rețelele șiite îl au în promovarea frățiilor mistice este datorat “politicilor de răspândire de succes pe care le au aceste grupări șiite”, un aspect important pe care gruparea Bektashiyya l-a folosit în favoarea sa. \\n Se întelege grija pe care gruparea o arborează pentru a se diferenția de islamul de tip sunnit și de a denunța în mod constant abuzurile pe care i le atribuie.',\n",
       " 'Mulți chinezi, italieni, sirieni și est-europeni sosiți au făcut din Delta Mississippi cea mai diversă zonă a statului. \\n Ioan a fost al treilea fiu al lui Cazimir al IV-lea, regele Poloniei, și al Elisabetei a Austriei, fiica lui Albert al II-lea al Germaniei.',\n",
       " 'Aproximativ 5&ndash;10% din persoanele care nu au HIV, dar sunt infectate cu tuberculoză dezvoltă forma activă a bolii în timpul vieții. \\n 30% din persoanele infectate cu hiv și tuberculoză dezvoltă forma activă a bolii.',\n",
       " 'La începutul anilor 1930, Buchalter a creat un proces eficient de efectuare a asasinatelor pentru gangsterii Cosa Nostra; nu avea nume, dar presa l-a numit 10 ani mai târziu Murder, Inc. Mafia nu voia să fie implicată în mod direct în aceste crime. \\n Gangsterul albert anastasia va transmite un ordin de asasinare lui buchalter, iar acesta îl va transmite găștilor evreiești și italiene din brooklyn.',\n",
       " 'Conform recensământului din 2011, satul Gutorfölde avea &nbsp;de&nbsp;locuitori. \\n De atunci, un flux constant de vizitatori s-a arătat captivat de frumusețea peisajului și de ospitalitatea locuitorilor.',\n",
       " \"''n'', iar laturile lor, pe lângă faptul că formează fețe ''m''- și ''n''-gonale, formează și hemifețe ale hemipoliedrelor. \\n Hemipoliedrele pot fi derivate din poliedre cvasiregulate prin eliminarea fie a ''m''-goanelor, fie a ''n''-goanelor (pentru a menține două fețe la o latură) și apoi inserând hemifețele.\",\n",
       " 'În secolul al XII-lea, astronomul andaluz Ibn Bajjah a observat „două planete ca niște pete negre pe fața Soarelui”; acestea au fost considerate tranzitele lui Venus și Mercur de către astronomul din secolul al XIII-lea, Maragha, Qotb al-Din Shirazi, deși acest lucru nu poate fi adevărat deoarece nu au existat tranzite ale lui Venus în timpul vieții lui Ibn Bajjah. \\n Chandai este o comună în departamentul Orne, Franța.',\n",
       " 'Certificarea sistemelor de management al calității se efectuează la nivel național sau internațional de către un organism de certificare recunoscut (acreditat), pe baza standardelor ISO 9000 și a unor standarde specifice domeniului. \\n A certificării se realizează atât scopuri externe (satisfacția clienților, publicitate, aliniere la directive comunitare etc.',\n",
       " \"''Acantheis'' este un gen de păianjeni din familia Ctenidae. \\n Consumul excesiv de alcool este dezaprobat, în special de către cei mai mulți dintre membrii activi ai asociațiilor .\",\n",
       " '\"\"Ofițerii liberi\"\" participanți la complotul Nasser au constituit adevărata putere în Egipt, cu Neguib ca șef al statului, iar Nasser vice-șef al statului. \\n Propunerea sa utiliza un pendul cu bătaia la o secundă ca bază a unității de lungime.',\n",
       " 'Pe 1 iulie 2016, a semnat pe un an cu echipa engleză, cu opțiunea de prelungire pe încă un an. \\n Eroul principal, comisaul de poliție Tudor Moldovan este însărcinat să ancheteze un masacru foarte similar cu cel de la Jilava.',\n",
       " 'Suprafața acestor membrane nu era foarte biocompatibilă, deoarece grupurile hidroxile expuse se activau complementar în sângele care trecea prin membrană. \\n Membrana de bază,celuloză „nesubstituită” a fost modificată.',\n",
       " 'Un procentaj foarte mic din specii locuiesc pe litoraluri (găsite pe malurile mării). \\n Cu timpul, romanul a început să fie uitat, la fel ca majoritatea operelor literare sovietice publicate în primii ani de după Revoluție.',\n",
       " 'Luptătorii FFI se dovediseră capabili de operațiuni defensive, dar ei au trebuit să parcurgă rapid un proces de pregătire pentru ca să devină eficienți în operațiunile ofensive, în mod special în cazul celor complexe precum operațiunile combinate interarme. \\n La sfârșitul lunii noiembrie 1944, armata i franceză avea pe front două tipuri de unități: cele coloniale experimentate și cele care primiseră masiv recruți din rândul ffi.',\n",
       " 'La unii pacienți, hidronefroza / hidroureteronefroza se îmbunătățește sau se rezolvă complet, dar la alții aceasta rămâne staționară sau se agravează treptat și, în funcție de cauza de bază și fără intervenție chirurgicală în timp util, poate duce la pierderea silențioasă a funcției renale sau episoade recurente de durere abdominală/ flanc. \\n Scopul evaluării imagistice prin [/ scintigrafie renala] a acestor sugari și copii ar trebui să fie identificarea rinichilor cu risc de pierdere a funcției și prevenirea pierderii funcției prin intervenție chirurgicală în timp util.',\n",
       " \"Districtul Nordhausen este un ''Kreis'' în landul Turingia, Germania. \\n ''Într-un raft de bibliotecă'' este un film românesc din 1985 regizat de Paula Segall.\",\n",
       " \"De asemenea, Rognes este singurul care mai folosește metodele de determinare a speciilor ale autorilor de la începutul  secolului XX, considerând primordiale caracterele cromatice și chetotaxice, fără a da atenție diversității sau similitudinii genitaliilor lor mascule. \\n El nu a reușit nici până astăzi, deși marea majoritate a cercetătorilor a abandonat metodele « clasice », să înțeleagă valoarea diferențelor anatomice ale falozomului dintre genul ''pollenia'' robineau-desvoidy și ''nitellia'' robineau-desvoidy, precum și variabilitatea tipurilor de structură ale genitaliei ca factor de diferențiere taxonomică.\",\n",
       " \"# Pronumele ''amely'' se poate referi la un obiect, o noțiune sau un animal: ''az ágyak, amelyeket a kirakatban láttunk'' „paturile pe care le-am văzut în vitrină”, ''a hideg, amelytől mindenki szenved'' „frigul de care suferă toți”, ''a kutya, amelynek a csontot adtam'' „câinele căruia i-am dat osul”. \\n 2004 : ''Medalia de Aur oferita de Primul Ministru al Japoniei Tsutomu Hata pentru activitatea  pedagogica si concertistica din Japonia in anul 2004.''\",\n",
       " 'Monumentul din Iași (1875) dedicat domnitorului Grigore al III-lea Ghica care a plătit cu viața pentru opoziția sa față de cedarea Bucovinei\\nDupă ce, în 1775, partea de nord-vest a Moldovei (ce avea sa fie cunoscută sub numele de Bucovina) a fost cedată Imperiului Habsburgic, în 1792, prin Tratatul de la Iași, Imperiul Otoman a fost forțat să cedeze și teritoriile deținute în regiunea care acum se numește Transnistria, către Imperiul Rus. \\n Imperiul rus a ajuns să aibă o frontieră comună cu moldova.',\n",
       " 'În opinia sa, nu există un model abstract de civilizație modernă aplicabil întocmai în contexte naționale concrete. \\n Edificarea civilizației moderne cunoaște o varietate de tipuri, un pluralism al căilor de dezvoltare.',\n",
       " \"Radu Scutelnicu (n. 24 august 1938, Mihălășeni, Botoșani, d. 14 octombrie 1998, București) a fost un inginer constructor (1960 - 1993), inițiator și coautor al mai multor invenții și inovații în domeniul construcțiilor hidrotehnice. \\n ''Monumentul Eminescu'' de Frederic Storck - Originalul în marmură de la Galați\\nRevenit în țară, în vara anului 1905, Vasile Rășcanu a înființat în luna octombrie, împreună cu sculptorul Frederic Storck (asociat), o societate de producție intitulată „Prima turnătorie artistică V. V. Rășcanu & Co”.\",\n",
       " \"Iata-ne ajunsi si in anul 2000 cand nu vom mai fi copii (dar vom avea, adica am si avut, unul)odihniti si relaxati am scris o seama de piese care peste ani vor fi considerate clasice, la puteti asculta (si pe unele chiar vedea) pe albumul III. \\n În matematică, un grup Lie simplu este un grup Lie neabelian conex ''G'' care nu are subgrupuri normale conexe netriviale.\",\n",
       " 'Publicul feminin este mai numeros decât cel masculin: 54,4%, respectiv 45,6%. \\n Antena 3 este televiziunea cu cel mai numeros public feminin de pe nișa știrilor tv.',\n",
       " 'Acțiunea populară de ilustrare a războiului în noile vitralii ale bisericilor era încurajată de unele dintre episcopiile locale. \\n În diecezele luçon și angers episcopii au încurajat preoții să-și împodobească astfel bisericile pe când cei din nantes și poitiers au arătat un interes redus pentru vitralii,  , ceea se se poate explica, cel puțin în parte, prin faptul că orașul nantes era unul din centrele republicane din zonă.',\n",
       " 'Din acest timp Gutman își ilustrează cărțile proprii. \\n Ulterior u apărut: \"beatris o maasè shethilató hamor vesofó arie dorés\"( beatrice, sau o poveste care a început cu un măgar, și s-a sfârșit cu un leu rău, 1942), \"harpatkaot hamor shekulo thelet\" (aventurile unui măgăruș cu totul și cu totul albastru) , 1944), \"ir ketina vaanașim ba meat\"(un orășel mic și câțiva oameni în el) și altele.',\n",
       " 'Saint-Léger-lès-Authie este o comună în departamentul Somme, Franța. \\n Două zile mai târziu, Pudil a marcat primul său gol în victoria cu 3-1 cu Zulte Waregem de pe 14 septembrie 2008.',\n",
       " \"Promovând viziunea unei Americi revitalizate, îndreptându-se spre noi orizonturi, tânărul și dinamicul democrat a devenit speranța unei noi generații. \\n ''Ophiomyia definita'' este o specie de muște din genul ''Ophiomyia'', familia Agromyzidae, descrisă de Spencer în anul 1971.\",\n",
       " \"Datorită efortului corpului redacțional și a reporterilor de pe front, precum și a răspândirii chiar și în afara țărilor Axei, revista devine repede una dintre cele mai redutabile arme propagandistice ale celui de-al Doilea Război Mondial, fapt remarcat chiar de revista americană ''Life'': \\n\\nAceastă constatare pare a reflecta tocmai concluziile lui Adolf Hitler din ''Mein Kampf'' atunci când comentează înfrângerea din Primul Război Mondial, în care Germania nu ar fi fost învinsă în plan militar propriu-zis, ci datorită unei politici dezastruoase și a lipsei unei propagande adresate adecvat maselor în vederea susținerii razboiului. \\n Se explică sprijinul în resurse umane și materiale de care au beneficiat metodele de propagandă ale celui de-al treilea reich, între care și ''signal''.\",\n",
       " 'Apoi a apărut un cult public, templul fiind  în centrul preocupărilor religioase. \\n Primul etaj cuprinde cancelaria, aula și alte săli de clasă.',\n",
       " 'Programul Asia de Sud-Est (The Southeast Asia Program-SEAP) de la Cornell este desemnat ca National Resource Center (NRC) de către Departamentul de Educație  din Statele Unite pe anii 2010 - 2014. \\n Seap este important în promovarea la nivel național de a limbilor străine și cunoștințe internaționale în artele liberale și aplicate în asia de sud.',\n",
       " '*J. D. Bekenstein, [ \"Black Holes and the Second Law\"], \\'\\'Lettere al Nuovo Cimento\\'\\', Vol. \\n Actualmente, suprafata acestui deal este impadurita.',\n",
       " 'Jucătorul se poate lupta cu inamicii și de aproape. \\n Comercial, filmul a avut un buget de 60 de milioane de dolari SUA și a adus venituri de 135 de milioane de dolari SUA la box-office în timpul difuzării sale în cinematografice.',\n",
       " \"După 23 august 1944, când România a întors armele împotriva Germaniei, toți etnicii germani din Regatul României sunt declarați colaboratori ai lui Hitler. \\n Wilson a apărut și în ''A Few Best Men'', ''What to Expect When You're Expecting'' și ''Struck by Lightning'', ceea ce a făcut ca ''Variety'' să o numească ca una din „Top Zece Comedieni de Urmărit 2011”.\",\n",
       " \"Dacă se termină, atunci fracția ''a''/''b'' este un număr rațional, adică este raportul a două numere întregi\\n: ''a''/''b'' = ''mg''/''ng'' = ''m''/''n''\\nși poate fi scris ca fracție continuă finită [''q''<sub>0</sub>; ''q''<sub>1</sub>, ''q''<sub>2</sub>, …, ''q''<sub>''N''</sub>]. \\n Pentru procedura de respingere a unor nume de altfel legitime, a se vedea ''nomen conservandum''.\",\n",
       " 'Nu a fost învins nici de data aceasta, România învingând cu 1-0 într-un meci amical echipa națională a Republicii Federale Germania, din care nu lipseau Uwe Seeler, Franz Beckenbauer sau Berti Vogts. \\n El a primit gol ca portar al echipei naționale de doar un singur jucător: eusebio.',\n",
       " 'Teatrul de vară, construit după model roman, a fost ridicat de arhitectul Leonida Negrescu, colaborator la proiectul Ateneului Român, și de inginerul Elie Radu, fiind închinat latinității poporului român. \\n Multe grădini zoologice folosesc ziua pentru a educa despre conservarea ursului polar și pentru a încuraja vizitarea expozițiilor de urși polari.',\n",
       " ':În „Cartea a doua a lui Samuel” vedem ca acesta se făcuse vinovat de aducerea de mari blesteme împotriva regelui David, infracțiune care se pedepsea cu moartea. \\n Într-un moment în care absalom preluase puterea și david fugea de el, șimei îl blestemase pe david și aruncase cu pietre după el și după toți slujitorii regelui.',\n",
       " \"Ipsilanti a fost reînscăunat de generalul Mihail Miloradovici imediat după intrarea trupelor ruse în Muntenia. \\n * '' Săgetătorii '' - Arcașii, inclusiv arcașii auxiliari de călărie recrutați în principal în Africa de Nord, Balcani și mai târziu Imperiul de Est.\",\n",
       " 'Transcrierea are unele mecanisme de corectare, dar sunt mai puține și mai puțin eficiente decât cele ale copierii ADN-ului. \\n Transcrierea arn-ului este de o fidelitate mai mică decât replicarea adn-ului.',\n",
       " 'Există mai multe metode de prelucrare a ceaiului oolong dar cea mai interesantă constă în a agita frunzele în coșuri. \\n Marginile frunzelor sunt \"șocate\", fermentând și înroșindu-se în timp ce centrul lor rămâne verde.',\n",
       " 'Președintele nu a fost ales deoarece opoziția a boicotat alegerea, iar fracțiunii majoritare (PCRM) nu i-a ajuns un vot, supranumit \"votul de aur\". \\n A eșuării alegerii președintelui statului, președintele în exercițiu, vladimir voronin, a dizolvat parlamentul și a anunțat alegeri legislative anticipate pentru data de 29 iulie 2009.',\n",
       " \"* Sistemul cardiovascular - în general benzodiazepinele nu afectează activitatea cardiacă în doze usuale (sedative, hipnotice) dar în dozele pre-anestezice ele scad tensiunea arterială (prin acțiune periferică sau inhibiția funcției ventriculare stângi, în funcție de preparat) și cresc frecvența cardiacă.În doze mari ''midazolamul'' scade considerabil perfuzia cerebrală și asimilarea oxigenului la nivel cerebral. \\n Mai puțin efecient decât alte clase de medicamente utilizate de regulă în acest scop)\\n* sistemul muscular - efect miorelaxant (relaxare musculară)\\nastfel, din punct de vedere al clasificării benzodiazepinele sunt: sedative, hipnotice, anxiolitice, anticonvulsivante (antiepileptice) și miorelaxante.\",\n",
       " 'Situația fu agravată și pe fondul transformării teritoriilor românești în teatru de război între Imperiul Austriac, Rusia și Imperiul Otoman. \\n Din cauza tentativei habsburgilor de a instaura în oltenia o administrație proprie, susținută militar, și transformarea ei într-o provincie imperială, alipire administrativ-teritorială pe care nici turcii nu o putură realiza timp de secole, se dezvoltă o puternică mișcare de revoltă, care a cuprins toate segmentele societății, de la țărani și micii meseriași până la comercianți, mica și marea boierime.',\n",
       " 'Activitatea solară este caracterizată prin numărul de pete solare, numărul de erupții solare și radiația solară. \\n Astronomii au calculat [faptul] că aceasta se va apropia de Pământ; în timp ce se întâmplă acest lucru, astronomii o studiază, iar oamenii se interesează de cometă din ce în ce mai mult.',\n",
       " 'Acesta a reușit 5 goluri și 6 assist-uri în campionat în 28 de meciuri și a marcat o dublă în finala Cupei României, terminata cu scorul de 3-0 împotriva fostei sale echipe, Universitatea Cluj. \\n Popa a făcut parte din echipa stelei ce a reușit tripla, câștigând toate trofeele interne: liga i, cupa româniei și cupa ligii, cu costel gâlcă pe bancă.',\n",
       " 'El Greco (nume în spaniolă influențat de italienescul- \"Il Greco\" - Grecul), numele sub care este cunoscut Δομήνικος Θεοτοκόπουλος (\\'\\'Domênikos Theotokópoulos\\'\\'), (), a fost un pictor spaniol manierist de origine greacă, personalitate misterioasă, atât sub aspectul specificului stilului său, cât și din pricina biografiei lui incomplete. \\n Consacrarea a venit însă mult mai tîrziu, odată cu publicarea primului roman de acum celebra serie \\'\\'Dexter\\'\\', \\'\\'Darkly Dreaming Dexter\\'\\' (Random House, 2004), tradusă și în limba română (\\'\\'Duios demonicul Dexter\\'\\', Quality Books, 2007).',\n",
       " \"Chiar și puținii actori români ce apăreau în peliculă vorbeau neobișnuit, deoarece producătorii germani, nefiind obișnuiți cu cadența limbii noastre, impuneau o rostire rară a propozițiilor. \\n Într-o scenă, fiul cobora o scară spunând un cuvânt la fiecare treaptă: ''„ce... mai... faci... tată?”''.\",\n",
       " 'Masacrul de la Sculeni, lângă Ungheni, astăzi în Republica Moldova, a avut loc în zilele de  și . \\n Culorile clubului au fost decise să fie albastru și alb.',\n",
       " 'Liderul comunist român avea o bună cunoaștere a situației din țara vecină, cunoscând realitățile chiar la fața locului. \\n Gheorghiu-dej a sesizat că revolta maghiară a pornit din cercurile intelectualității și cele ale studențimii.',\n",
       " \"Între 1849–1860 a fost sediul administrativ al nou înființatei provincii Voivodina Sârbească Banatul Timișean. \\n În timpul lui Isus, ''Iudaea'' romanilor a fost împărțită în toparhiile Iudeea, Samaria, Galileea și Paralia.\",\n",
       " 'Totuși, înainte de secolul XVIII, colonizarea a fost nu spaniolă, ci de fapt castiliană. \\n Câteva țări au reținut denumirea veche.',\n",
       " 'Pe de altă parte, el s-a opus strict opiniei că afirmațiile care nu sunt falsificabile sunt lipsite de sens sau greșite. \\n Călătoria cu scop de recunoaștere pe care a făcut-o tribunul Volusenus înaintea primei expediții probabil că a descoperit portul natural de la Dubris (Dover), dar Cezar nu s-a putut folosi de el și a fost forțat să ancoreze pe o plajă din apropiere.',\n",
       " 'Trupa și-a concentrat exclusiv eforturile în realizarea unor L.P.-uri și în domeniul apariției pe scena concertelor publice. \\n Formația tindea să editeze câte un album o data la 18 luni - un timp mai mult decât suficient pentru a cizela fiecare piesă cu grijă.',\n",
       " 'Lucrările sale au fost traduse în mai multe limbi și au exercitat o oarecare influență asupra culturii europene de mai târziu. \\n În 1892, a fost tradus în germană de către orientalistul friedrich dieterici.',\n",
       " 'Dar Carol I a refuzat furios. \\n A început cel de-al doilea război civil, văzut de conaționali ca o inutilă vărsare de sânge: nu mai avea nici o posibilitate să se întoarcă pe tronul celor trei regate.',\n",
       " 'Este prevazută cu descărcător de supratensiune ce poate prelua până la 31 kV. \\n Începând cu alegerile locale din 2020, consiliul local are următoarea componență pe partide politice:',\n",
       " \"Pe 23 iunie 2014, G-Eazy a lansat albumul de debut la o casă de discuri, ''These Things Happen''. \\n Mondly\\xa0este o aplicație pentru învățare a limbilor străine care integrează\\xa0tehnologii de recunoaștere vocală pentru a ajuta utilizatorii să învețe oricare dintre cele 33 de limbi oferite.\",\n",
       " 'Principalii angajați din zonă sunt cei ai municipiului, poliția UNMIK și companii private precum \"KUK Commerc\" sau \"Meka\" și foste întreprinderi sociale. \\n Natura a vrut să vadă cum sunt lucrurile ei în pictură: avea nevoie de un suflet curat și sincer, care să i le arate în adevărata lor lumină , și-a însărcinat cu aceasta pe Grigorescu.',\n",
       " \"Programele importate includ: seriale TV (unele difuzate și în România'': Familia Simpson, Anatomia lui Grey, Prison Break, Frasier, Lost, The Big Bang Theory, Prietenii tăi'' etc. \\n Jonathan Soriano Casas (n. 24 septembrie 1985) este un fotbalist spaniol care evoluează la clubul FC Red Bull Salzburg în Austria, pe poziția de atacant.\",\n",
       " 'Climatul deșertului Gobi este continental, cu schimbări rapide de temperatură, nu numai în timpul anului, dar și în decursul unei singure zile. \\n Diferența de temperatură într-un interval de 24 de ore poate atinge 32&nbsp;°c.',\n",
       " 'Devine conștient de propria existență și încearcă să comunice cu creatorii umani, dar aceștia intră în panică și încearcă să îl scoată din funcțiune, ceea ce înseamnă moartea pentru acesta. \\n Ajunge să considere întreaga umanitate (nu doar pe adversarii s.u.a) drept un pericol care trebuie înlăturat.',\n",
       " 'Lupta cu escadre separate îngăduia desigur acțiuni de concentrare asupra unei fracțiuni a adversarului, dar conducerea lor de către șeful flotei, în condițiile folosirii unor coduri de semnale încă puțin evoluate, era grea. \\n În războiul cu țările de jos obiectivul conflictului era stăpânirea mării, nimicirea flotei adverse, ceea ce pretindea ținerea cât mai concentrată a flotei.',\n",
       " '1024; d. 26 iunie 1057), markgraf de Frizia\\n### Egbert I (d. 1068), căsătorit cu Irmgard de Susa\\n#### Egbert al II-lea (d. 1090), căsătorit cu Oda de Orlamünde\\n#### Gertruda de Braunschweig (d. 1117), căsătorită mai întâi cu Dietrich de Katlenburg (d. 1085); apoi cu markgraful Henric de Frizia (d. 1101); a treia oară, cu markgraful Henric I de Ostmark și de Meissen (d. 1103) \\n Ia cu altița ornată pe vremuri cu broderii de forme geometrice cusute pe dos are în prezent broderie cu motive florale multicolore, ornarea tradițională păstrându-se doar la crețuri.',\n",
       " 'Asteroidul prezintă o orbită caracterizată de o semiaxă mare de 2,21 ua, o excentricitate de 0,11 și o înclinație de 3,9° în raport cu ecliptica. \\n La sfârșitul secolului al XVIII-lea și începutul secolului al XIX-lea, o linie directă de influență de la Kant este idealismul german .',\n",
       " 'În funcție de asemenea criterii își cucerea tribul importanța politica și socială, gloria străbunilor urmând a fi continuată în faptă. \\n Sistemul etic al onoarei cuprindea : revolta împotriva asupririi, curajul, razbunarea sângelui, ținerea cuvântului dat, dărnicia, ospitalitatea, ajutorul dat la nevoie, adăpostirea refugiaților.',\n",
       " \"Dacă  este algebric închis atunci, deoarece polinoamele ireductibile din [''x''] sunt toate de gradul întâi, afirmația menționată mai sus este valabilă datorită teoremei descompunerii fracției parțiale. \\n Să presupunem că proprietatea menționată mai sus este valabilă pentru corpul .\",\n",
       " 'Bessel a devenit celebru prin clasa de funcții care îi poartă numele, pe care le-a introdus în analiză și care prezintă o importanță deosebită în fizică, tehnică și astronomie. \\n Funcțiile bessel au legătură cu problema mișcărilor armonice, au aplicații în rezistența materialelor, în studiul circuitelor utilizate în tehnica ultrafrecvențelor.',\n",
       " 'O statuie a sa a fost ridicată în 1848 în piața palatului Regal din Bruxelles. \\n Un alt supercontinent, Aurica, a fost propus în vremuri mai recente.',\n",
       " 'Bastionul de nord-est a fost demolat, iar cel din sud-est a fost reclădit în 1866. \\n A fost singura biserică ortodoxă de pe întreg cuprinsul Imperiului Otoman căreia i s-a permis să-și înalțe turlele mai sus decât cele ale geamiilor.',\n",
       " 'Prin aceste acțiuni, Vorlonii au putut controla percepțiile speciilor tinere. \\n A acestor acțiuni, umbrele și vorlonii au început să se lupte între ei, iar cei care au încercat să medieze, precum walkerii de pe sigma 957, au părăsit și ei galaxia.',\n",
       " 'Împăratul Hadrian (117-138), succesorul lui Traian, a decis însă să abandoneze Mesopotamia și părțile Daciei de est (care fuseseră incluse în provincia Moesia Inferior).După aceasta a urmat o perioadă de pace, cu excepția unor conflicte militare din vremea împăratului Marcus Aurelius (161-180). \\n Bizanțul trebuia în această circumstanță să fie prevăzător căci Dușan nu păstra decât o parte a cuceririlor sale.',\n",
       " \"Aceasta înseamnă că există un drum între fiecare pereche de vârfuri. \\n Un graf neorientat ''g'' este neconex dacă există două noduri în ''g'' astfel încât să nu existe nicio cale prin ''g'' care să înceapă dintr-un nod și să se termine în celălalt.\",\n",
       " 'S-a transferat la Liceul \"Tudor Vladimirescu\" din Târgu Jiu, tatăl său primind parohie în satul Târgu Logrești. \\n Din anul 2007 este directorul Programului de master „Managementul Combaterii Terorismului și a Criminalității Transfrontaliere” din cadrul Facultății de Științe Politice, Relații Internaționale și Studii Europene a Universității „Lucian Blaga” din Sibiu.',\n",
       " 'Stabilitatea nu au revenit decât la domnia lui Traidenis, desemnat Mare Duce în cca. \\n Lucrare distinsă cu Premiul Fundației Culturale \"Magazin istoric\" pe anul 2011.',\n",
       " \"Cea mai proeminentă diferență între graiul moldovenesc și limba literară constă în palatalizarea consoanelor ''ș'', ''ț'' sau ''j'' în limba literară „ausbau”, spre deosebire de pronunțarea tare a consoanei în graiul moldovenesc „abstand”. \\n Conjuncția ''„și”'' sau pluralul substantivelor terminate în ''ș'', ''ț'' sau ''j'' iau în limba „ausbau” forme precum ''„mătase”'', ''„ostași”'', ''„praji”'', ''„seară”'', ''„soldați”'', ''„și”'', ''„zeamă”'' iar în graiul „abstand” formele ''„mătasî”'', ''„ostaș'”'', ''„praj'”'', ''„sarî”'', ''„soldaț'”'', ''„șî”'', ''„zamî”''.\",\n",
       " 'În anul 1921 episcopul Valeriu Traian Frențiu îl distinge cu titlul de canonic onorar . \\n A a activității sale intense pe plan cultural, social și religios, a fost decorat de către regele ferdinand cu ocazia vizitei sale în valea jiului din anul 1922 .',\n",
       " 'Influența galică asupra evoluției fonetice a latinei vorbite în Galia nu este complet documentată, dar este dovedită de unele fenomene atestate de inscripții. \\n Este evoluția grupurilor consonantice [pt] și [ps], care s-au confundat cu [kt], respectiv [ks], apoi au evoluat în [xt], [xs], iar ulterior în [i̯t], [i̯s] ([i̯] fiind al doilea element al unui diftong).',\n",
       " 'Heidi Brühl cântă diferite cântece pentru copii, va juca diverse roluri în filmele de succes: Die Mädels vom Immenhof (1955), Hochzeit auf Immenhof (1956) și Ferien auf Immenhof (1957). \\n - „Drag mi-i să mă veselesc”, albumul cuprinde - 16 danțuri din Oaș, 14 vocale și 2 instrumentale, acompaniament muzical: Petre Drăgan - ceteră și Nicolae Oniga - zongoră.',\n",
       " \"26696 Gechenzhang este un asteroid din centura principală de asteroizi. \\n În semn de recunoștință față de donatorul Tache Anastasiu, Academia Română a construit în curtea bisericii, în partea de nord, un cavou din marmură albă și o cruce neagră din marmură neagră de Carrara cu o înălțime de 4,50 m. Pe crucea neagră se află o inscripție simplă: „''TACHE P. ANASTASSIV 1836-1900''”.\",\n",
       " 'Tradiționaliștii înțeleg această formă de regulă ca fiind acceptabilă din punct de vedere istoric, de aici și continuitatea ei, pentru că așa este întotdeauna societatea. \\n Instituțiile guvernării tradiționale sunt, de obicei, continuu istoric, ca și în monarhie și tribalism.',\n",
       " 'Din decorul exterior se remarcă consolele treptate de la îmbinările laturilor altarului, brâul în formă de funie răsucită și rozeta de la ușa de la intare. \\n Japonezii au reușit să avanseze doar până la poalele dealurilor, mulți soldați înecându-se în râul Ta.',\n",
       " \"Începând cu secolul următor, cuvântul „simfonie” este folosit tot mai frecvent, cu semnificații diferite. \\n În 1585, la antwerpen, o colecție de madrigale este denumită ''symphonia angelica di diversi eccellentissimi musici''.\",\n",
       " 'În următoarele două sezoane, a terminat a cincea (1936/37) și a patra(1937/38). \\n Comuna este formată din localitățile Chaudfontaine, Beaufays, Embourg și Vaux-sous-Chèvremont și este situată în aglomerația orașului Liège.',\n",
       " 'Numărul de consilieri depinde de numărul de locuitori ai municipiului. \\n Chișinăul are 51 de consilieri, iar orașul bălți are 35.',\n",
       " 'creează o nouă abordare pentru studiul istoric, fiind considerat al doilea întemeietor al istoriei. \\n Wallis și-a amintit mai târziu: \"n-am avut nicio alternativă, decât să mă așez pe scaun din nou, umilit și furios... După aproape patruzeci de ani mai târziu, încă nu mi-am revenit din șoc.\"',\n",
       " 'Ea a existat până în anul 1960, când a fost înființată regiunea Brașov. \\n Au fost 46 de probe sportive, în care au concurat 1995 de sportivi, din 196 de țări.',\n",
       " \"Când partea de propoziție constituită de grupul nominal cu numeral cardinal trebuie să fie la nominativ, numeralul este la acest caz, iar substantivul a cărui cantitate o exprimă numeralul este la cazul cerut de acesta. \\n Cu ''odyn'', ''odne'', ''odna'', substantivul este la nominativ singular: ''odyn brat'' „un frate”, ''odne selo'' „un sat”, ''odna sestra'' „o soră”.\",\n",
       " 'În anul 371 episcopul de Tours, Lidoriu, moare; locuitorii vor să-l aleagă pe Martin, dar acesta optase pentru o cu totul altă cale și nu aspira la demnitatea de episcop. \\n Localnicii îl aduc la tours și îl proclamă episcop la 4 iulie 371, în pofida voinței lui; martin se supune gândindu-se că acolo este vorba despre voința divină fără nicio îndoială (un caz identic de constrângere în fața refuzului se va repeta și în anul 435 cu eucher din lyon.)',\n",
       " 'Premiera serialului a avut loc pe 3 ianuarie 2015 pe Boomerang în Franța. \\n Conform recensământului din 2001, majoritatea populației localității Rîbkî era vorbitoare de ucraineană (%), existând în minoritate și vorbitori de rusă (%).',\n",
       " 'Totuși după primul război mondial societatea americană era interesată de personaje ce proveneau din fostele familii imperiale europene. \\n Marie louise a început să fie invitată la evenimentele societății americane.',\n",
       " 'TotalSoft oferă servicii de dezvoltare software la cerere și administrare resurse umane  și servicii IT de acces pontaj, mentenanță hardware și software. \\n În 1977, Meillon a lansat melodia „Tap Tap”/„Picture Show Man”, care a ajuns pe locul 80 în topul australian.',\n",
       " 'În Olanda dezvoltarea cartografică are un mare avânt. \\n Wilhelm janszoon blaeu (1571-1638) a elaborat “novus atlas” cunoscut ca „geografia blaviana” conținând 6 tomuri și 400 de hărți.',\n",
       " 'Bisericile parohiale:\\n* Cea din Mândrișca are hramurile “Sf. \\n Neculai Lupu;\\n* aprilie – Acordarea celui de al patru-lea titlului de Doctor Honoris Causa al Universității George Bacovia prof.univ.dr.',\n",
       " \"Sondajul [ ''FNVA''] al electoratului american a fost realizat în toate cele 50 de state, 26 octombrie - 3 noiembrie 2020, încheiat la sfârșitul votului în ziua alegerilor. \\n S-a determinat că sunt 8% persoane lgbt (fără acronimul lgbtqia+) iar 1% persoane auto-identificate ca transgen.\",\n",
       " 'îi găsește pe goți divizați religios și politic. \\n Ostrogoții cad sub lovitura hunilor și devin supuși acestora.',\n",
       " 'Activitatea \\'\\'\"Academiei\"\\'\\' a exercitat o mare influență asupra dezvoltării literaturii, picturii și arhitecturii din epoca Renașterii. \\n Maturitatea este timpurie, la 6-10 ani, iar periodicitatea fructificației anuală.',\n",
       " 'pentru recunoaștere armată este OH-58D Kiowa Warrior — dar acesta este pur și simplu o îmbunătățire a unui aparat contemporan cu Războiul din Vietnam, care era folosit doar pentru recunoaștere. \\n Cu acesta, comanche era proiectat de la început pentru recunoaștere armată: este mai mic și mai ușor decât elicopterul de atac apache (13,1 m lungime și 3500&nbsp;kg față de 17,7 m și 5200&nbsp;kg); fuselajul construit din materiale compozite era conceput pentru a evita detectarea radar și infraroșu: rachetele sunt amplasate înăuntrul fuselajului, pe ușa batantă, tunul de bord se poate roti și așeza într-o poziție puțin expusă, exteriorul este construit din fațete similar avionului f-117 nighthawk.',\n",
       " \"El se întinde de la marginea anterioară a ''Sustentaculum tali'' la față plantară a navicularului până la tuberozitatea acestuia. \\n Este absolventă a Facultății de Tehnologia și Chimia Textilelor din cadrul IP Iași (1990) și Facultății de Științele Comunicării de Masă din cadrul SNSPA București (1992).\",\n",
       " 'Cu mult timp înainte de evenimentele din Heroes of Might and Magic III, pe continentul Antagarich, Tarnum află de la un bard muribund că barbarii au fost odată glorioși. \\n Clienții AT&T care sunt abonați la planurile lor de internet, TV și wireless cu cel mai înalt nivel.',\n",
       " \"Steven Chu () este un fizician american, laureat al Premiului Nobel pentru Fizică în 1997 împreună cu Claude Cohen-Tannoudji și William Phillips pentru dezvoltarea metodelor de răcire și captare a atomilor cu ajutorul laserilor \\n În 1938, O'Hara a jucat primele două roluri relativ mici, în filmele acum aproape uitate ''Kicking The Moon Around'' și ''My Irish Molly''.\",\n",
       " \"Doar câțiva ani mai târziu, în 1829, s-a născut prima companie de navigație cu abur de pe Dunăre, . \\n Bărcile au devenit din ce în ce mai rapide și, de exemplu, primul vapor cu aburi ''franz i'' a coborât fluviul de la viena la budapesta în 14 ore și 15 minute în 1830.\",\n",
       " 'În toamna anului 2009, înaintea campaniei electorale pentru alegerile prezidențiale, PSD-ul a acuzat PDL-ul că planifică fraudarea alegerilor în favoarea lui Traian Băsescu. \\n Emil boc l-a expulzat pe dan nica, ministrul psd de interne din guvern, iar psd a părăsit coaliția în semn de protest.',\n",
       " 'Pentru faptul că valoarea nominală a acțiunilor creștea neîncetat, acest lucru a încurajat lumea să investească, sperând că valoarea acțiunilor cumpărate va crește, aducând astfel câștiguri. \\n Au apărut „bulele speculative”.',\n",
       " 'Ioan și Elisabeta au ocupat tronul Boemiei și au avut mai mulți copii printre care s-au numărat Carol al IV-lea, care a devenit împăratul Sfântului Imperiu Roman și Bonna de Boemia, devenită regină consort a Franței. \\n Orice șansă ca boleslav și margareta să ocupe tronul boemiei a dispărut.',\n",
       " 'Primele elemente franceze care au intrat în contact cu inamicul au fost escadroanele lui Pajol, care au împins înapoi avanposturile prusace, dar au găsit podul de la Thuin baricadat și apărat de unități de infanterie prusacă a Corpului I. Pajol ar fi trebuit să fie susținut de Vandamme, care însă întârzie. \\n La amiază, împăratul trimite divizia de gardă a lui duhesme, împreună cu geniștii și pușcașii marini ai gărzii, care urmau să degajeze podul.',\n",
       " 'Structura etnică a orașului, conform recensământului populației din 2004:\\n \\nOtaci este localitatea cu cel mai mare număr de rromi din Republica Moldova. \\n Aici locuiesc 3,380 de rromi, iar în soroca 1,525.',\n",
       " 'Mai târziu, în istoria europeană, armurile evoluează devenind din ce în ce mai complete și mai complexe, acoperind porțiuni din ce în ce mai mari ale corpului luptătorilor, pentru ca în extrem să-l acopere complet, în detrimentul pierderii mobilității, precum în cazul armurilor de turnir. \\n În timp ce cavalerii evului mediu târziu sfârșesc în a fi \"îmbrăcați\" aproape total în fier și oțel, cavaleria grea a multor țări europene, până în preajma primului război mondial (1914 - 1918), încă păstrează multe elemente ale armurii ajunsă la apogeu, protejând de data asta doar zonele cele mai vulnerabile ale corpului, capul, pieptul, picioarele.',\n",
       " 'Descoperiri: \\n* așezare; datare repertoriu: neolitic, perioda de tranziție la epoca bronzului; cultura: Coțofeni \\n* fibulă - din bronz de tip La Tene III; datare repertoriu: La Tene, sec I î. Hr. \\n Cea mai mare parte a cuvintelor folosite în dialectul vorbit în Khwarezm în timpul vieții lui Al –Zamaḫšarī se regăsește în dicționarul arab - persan scris de acesta.',\n",
       " 'Deoarece navigația vaselor comerciale pe Bega încetase, în 1929 primăria a făcut demersuri pentru coborârea tablierului podului cu 1,5&nbsp;m, însă solicitarea a fost respinsă, chiar dacă primăria s-a angajat să ridice podul la loc dacă se reia navigația. \\n Trotuarele pietonale, inițial cu lățimea de câte 2&nbsp;m, au fost desființate, structura susținând în zona lor conducte.',\n",
       " 'Unul dintre elementele de originalitate ale cronicii lui Lupus Protospătarul îl constituie modalitatea de datare a evenimentelor. \\n El începe anii cu luna septembrie.',\n",
       " \"Din acest motiv se înființează practic o nouă localitate, Cenadul German (sau\\xa0''Cenadul Vechi''), spre deosebire de Cenadul Mare (sau\\xa0''Cenadul Sârbesc''), care era locuit de sârbi. \\n Vara este un anotimp extrem de călduros, care durează de la începutul lui mai la jumătatea lui septembrie în câmpiile din Sud și Vest.\",\n",
       " \"Activitatea lui Schmitt în perioada național-socialistă a fost analizată de diferiți cercetători. \\n Într-un joc de blackjack cu un singur jucător, evenimentul ''jucătorul primește o carte de 10 puncte drept prima carte'' este reprezentată de mulțimea de cărți  .\",\n",
       " 'Paradoxul presupune ipostaza în care un om călătorește înapoi în timp și își ucide bunicul biologic, înainte ca acesta din urmă să o întâlnească pe bunica omului călător. \\n Unul din părinții călătorului (și prin extensie, călătorul însuși) nu va fi niciodată conceput.',\n",
       " 'Ca urmare, după deschiderea campaniei pe uscat, ministrul de război Louvois a trimis spre coasta Flandrei 30.000 de soldați cu mareșalul d`Humières, iar Seignelay a cerut lui Tourville să atace porturile engleze din Canalul Mânecii și flota anglo-olandeză, spre a o împiedica să intervină în apele Irlandei. \\n Războiul naval nu mai avea drept țel stăpânirea mării ca izvor al prosperității economice așa cum fuseseră războaiele anglo-olandeze; pentru regele franței, flota trebuia să slujească un scop pur politic pentru hegemonia sa asupra europei; redobândirea alianței engleze și –eventual – restaurarea catolicismului în anglia.',\n",
       " 'August Wagener, avocatul lui Mayhoff, a trimis o telegramă de la New York avocatului apărării, căpitanul William Black cu o zi înaintea execuțiilor susținând că știe identitatea atentatorului. \\n Acesta a fost publicat în versiune beta din ianuarie 2010, iar versiunea browserului a fost lansată pe 20 iunie 2011.',\n",
       " \"În zilele noastre, o biserică se află pe amplasamentul fostului templu păgân al ''Iunonei Moneta''. \\n Echipa de fotbal a Guyanei Franceze reprezintă Guyana Franceză în fotbalul internațional.\",\n",
       " 'în vara anului 1944, când a avut loc întoarcerea armelor împotriva Germaniei. \\n Admirator al primitivismului, a fost influențat de albumul de desene al lui Amadeo de Souza-Cardoso din 1912.',\n",
       " '\\'\\'Critiques Libres\\'\\' remarcă precizia științifică cu care autorul \"trasează o hartă anatomică în același timp delirantă și dezgustătoare\", subliniind faptul că \"Brussolo, fidel sieși, merge tot mai departe cu logica sa către un final apoteotic\". \\n Jean-pierre andrevon este de părere că \"acest ultim brussolo este o decepție\", dar atenționează că \"un brussolo decepționant încă face toți banii\".',\n",
       " 'Noul comandant și-a preluat funcția cu o cuvântare notabilă la începutul lui ianuarie. \\n S-a prezentat ofițerilor săi cu următoarele cuvinte: „în opinia mea, ofițerul în timp de pace nu poate fi altceva decât educatorul poporului.',\n",
       " 'Pe atunci, populația era formată aproape în totalitate din români. \\n A pactului ribbentrop-molotov (1939), basarabia și bucovina de nord au fost anexate de către urss la 28 iunie 1940.',\n",
       " 'Atunci subgraful indus G[S]  este graful a cărui mulțime de noduri este S  și a cărui mulțime de muchii constă din toate muchiile din E  care au ambele puncte finale în S . \\n Pentru oricare două noduri u,v\\\\in s , u  și v  sunt adiacente în g[s]  dacă și numai dacă sunt adiacente în g .',\n",
       " 'ce a fost votat imediat de Comitetul de conducere. \\n Se poate vedea că scopul societății era: societatea ileana a fost condusă de către un comitet ale cărui decizii erau înfăptuite de patru comisii: \\n# „comisiunea expozițiilor” - care trebuia să se ocupe cu organizarea și deschiderea de evenimente expoziționale; acolo se găseau, puse gratuit la dispoziția artiștilor, pânze, culori și șevalete.',\n",
       " 'Deci, uciderea Preaiubitei s-a vrut a fi un act pașnic, deoarece Sethe credea că astfel își salvează fiica. \\n Familia lor este divizată și fragmentată, la fel ca vremurile în care trăiau.',\n",
       " \"Grupul statuar turnat în bronz „Sestiga păcii” (''Sestiga della Pace''), operă a sculptorului italian Abbondio Sangiorgio (1798-1879), montat pe „Arcul păcii” (''Arco della Pace'') din Milano\\n''Sestiga'' (sinonim: ''seiuga'') este un car triumfal tras de șase cai, folosit în Antichitate, ca și cvadriga, în ceremonii. \\n Este un car de luptă, tras de regulă de unul sau doi cai (bigă), la care se înhamă șase cai.\",\n",
       " 'Evaluarea orientării sexuale se face în baza unor întrebări, iar răspunsurile oferite de un individ pot varia de-a lungul existenței sale. \\n Conform cercetătorului alfred kinsey o persoană nu poate fi identificată ca fiind exclusiv heterosexuală și mulți oameni au o mai mare sau mai mică predispoziție de a fi atrași și de persoanele de același sex.',\n",
       " 'În vara lui 1929, Muftiul a ordonat efectuarea unei deschideri la capătul sudic al aleii de deasupra zidului. \\n Fostul drum fără ieșire a devenit drumul principal care duce de la muntele templului către zona de rugăciune de la zid.',\n",
       " \"Cronicile criticilor de film americani au fost, în unanimitate, foarte dure la adresa filmului ''Orașul fantomă''. \\n Criticul a.h. weiler a scris într-o recenzie publicată în mai 1977 în ziarul ''the new york times'' că ''orașul fantomă'' este „un amalgam de proastă calitate” caracterizat printr-un „scenariu rudimentar”, o „regie inexpresivă” și o „distribuție imatură”.\",\n",
       " 'Mecanica clasică descrie, de asemenea, mișcările mai complexe ale obiectelor non-punctiforme extinse. \\n De exemplu, atunci când se parcurge în preordine graful orientat\\n: Fișier:If-then-else-control-flow-graph.svg\\n: începând de la nodul A, se vizitează nodurile în ordine, pentru a produce liste, fie A B D B A C A, fie A C D C A B A (în funcție de alegerea algoritmului de a viztita mai întâi B sau C).',\n",
       " 'Acesta este „stabil” ceea ce înseamnă că prin nici unul din mijloacele cunoscute în prezent nu putem constata o eventuală dezintegrare a lui. \\n Succesiunea de dezintegrări în cascadă se oprește practic aici și putem vedea că a luat naștere o adevărată „familie” radioactivă, al cărei strămoș comun este uraniul.',\n",
       " 'În 2010, s-au dezvoltat temerile unei crize a datoriilor suverane  cu privire la unele țări din Europa, în special Grecia, Irlanda, Spania și Portugalia. \\n Au fost luate măsuri, în special pentru grecia, de către țările de frunte ale zonei euro.',\n",
       " 'guvernul a renunțat la această strategie, ministrul de externe Titus Corlățean declarând în plus, la 1 martie, că România nu mai e interesată de aderare. \\n Chandragupta Maurya a fost fondatorul și împărat al imperiului Maurya din India și a trăit între anii 340-298 î.Hr.',\n",
       " 'A fost fondată în 1979, fiind situată în Queluz, Portugalia. \\n În cursul lui se apreciază dimensiunile organului/leziunii, modificările de formă, culoare, volum, greutate, consistență ale organului, precum și gradului și întinderea modificărilor suferite de țesuturile bolnave în comparație cu țesuturile sănătoase.',\n",
       " '(Secolul XX)\\nModernismul este un curent literar apărut în secolul al XX-lea, care implică ideea de negare a tradiției. \\n Modernismul poate fi pe deplin înțeles doar dacă e privit în opoziție cu tradiționalismul, primul promovând nonconformismul, dinamismul, inovația, iar cel de-al doilea respectând cu strictețe regulile impuse de tradiție.',\n",
       " 'În anii 1970—1990 jumătate din teritoriul fostului raion Chișinău a fost trecută în subordonarea consiliului municipal Chișinău, iar restul aproape în întregime a intrat în componența raionului Ialoveni (format la 25 martie 1977). \\n 2661 Bydžovský este un asteroid din centura principală, descoperit pe 23 martie 1982, de Zdeňka Vávrová.',\n",
       " \"Ecaterina'' devine așezământ public finanțat din bugetul statului, păstrându-și profilul, dar modificându-i-se numele, de la care s-a scos apelativul ''Sfânta Ecaterina''. \\n Odată cu venirea comunismului, capela a devenit în 1953, sală de mese, apoi spălătorie, iar, ulterior, magazie, unde erau depozitate pături vechi, saltele și materialul medical uzat al spitalului.\",\n",
       " 'Al-Ašՙarī, în a doua parte a evoluției sale intelectuale, contestă tendințele raționaliste ale școlii muՙtazilite, evitând, în același timp abordarea strict-literală pe care au manifestat-o tradiționaliștii, abordare caracteristică școlii hanbalite. \\n Acesta elaborează o sinteză a celor două perspective teologice antitetice, cea raționalistă, și cea bazată pe tradiție.',\n",
       " 'Acest tablou, al treilea dintre cele șase lucrări importante realizate de Seurat, este un răspuns date criticilor care au blamat tehnica lui Seurat ca fiind rece și incapabilă să reprezinte viața. \\n Artistul prezintă un nud, același model, în trei posturi diferite.',\n",
       " 'Inițial a folosit KDE ca sistem grafic, dar în prezent oferă și Gnome ca alternativă. \\n Filz (Eifel) este o comună din landul Renania-Palatinat, Germania.',\n",
       " 'Capidava a fost un centru fortificat geto-dac, apoi castru roman, pe malul drept al Dunării dobrogene, pe locul unde se află astăzi satul cu același nume Capidava, județul Constanța. \\n Lions Gate Entertainment Corporation, făcând afaceri ca Lionsgate, este o companie de divertisment canadiano-americană.',\n",
       " \"La peste 23.000 de ani în viitor, rasa umană s-a împrăștiat în universul cunoscut, populând nenumărate sisteme planetare, conduse de casele regale aristocratice care se supun Împăratului Padișah Shaddam Corrino IV. \\n ''Botanophila quinlani'' este o specie de muște din genul ''Botanophila'', familia Anthomyiidae, descrisă de Ackland în anul 1967.\",\n",
       " 'Ruinată din cauza condițiilor istorice, mănăstirea a cunoscut o perioadă de înflorire în secolul al XV-lea, datorită Mușatinilor. \\n Forțele britanice și japoneze capturează portul chinezesc Tsingtao controlat de germani.',\n",
       " 'În timp ce Constituția Iranului dădea șahului puterea de a conduce în mod direct, Mossadegh a folosit blocul unit al Frontului Național și sprijinul larg popular pentru a vota naționalizarea petrolului (sprijinită și de șah), cu scopul de a bloca capacitatea șahului de a acționa. \\n Problema naționalizării petrolului a devenit din ce în ce mai intercalată cu mișcarea pro-democrație a lui mossadegh.',\n",
       " \"O prioritate pentru Institutul Cultural Român privește comunitățile de vorbitori de română din țările vecine. \\n Este a treia carte din ''Trilogia Sabia lui Shannara'' fiind precedată de romanele ''Sabia lui Shannara'' și ''The Elfstones of Shannara''.\",\n",
       " 'În anul următor și-a obținut calificarea la Jocurile Olimpice din 2016 după ce s-a clasat pe locul 6 la turneul preolimpic de la Rio de Janeiro. \\n A fost prima reprezentantă a româniei la probă olimpică de gimnastică ritmică de după ediția din 1996.',\n",
       " '* Premiul Radu Enescu, acordat de revista Familia, Oradea, 1994\\n* Premiul ASPRO pentru proză scurtă, pt. \\n 1585 Union este un asteroid din centura principală, descoperit pe 7 septembrie 1947, de Ernest Johnson.',\n",
       " 'În decembrie 2007, fondatorul startup-ului mobil MergeLab Adam MacBeth a declarat: \\'\\'\"Funcționalitatea lipsește, este prost documentată sau pur și simplu nu funcționează... Este clar că nu este gata pentru prime time.\"\\'\\' \\n Aplicațiile pentru android au început să apară deja în săptămâna următoare celei în care a fost anunțată platforma.prima aplicație publică a fost jocul snake.',\n",
       " 'Această unitate de pușcași putea să ajungă cu relativă ușurință la Liov în caz de nevoie. \\n Sacoșu Turcesc în Harta Iosefină a Banatului, 1769-72\\nSacoșu Turcesc este satul de reședință al comunei cu același nume din județul Timiș, Banat, România.',\n",
       " 'Francisc Fodor (n. 16 septembrie 1926, Chileni -- d. 2000, Târgu Mureș) a fost un demnitar comunist român de origine maghiară. \\n Cavaleria era formată din două divizii cu 4 brigăzi, câte o divizie pentru fiecare armată.',\n",
       " \"Mulți observatori își dau seama de înțelegerile secrete dintre lumea politică și militară. \\n Această situație se numește ''șah perpetuu'' sau ''șah etern''.\",\n",
       " 'În 1 ianuarie 2009, noua liră turcească a fost redenumită, încă o dată, ca Liră Turcească, cu introducerea unor noi bancnote și monezi. \\n A continuării reformelor economice, inflația a scăzut la 8,2% în 2005 și rata șomajului la 10,3%.',\n",
       " 'La recensământul din 1930, s-a constatat că din cei 2.404 locuitori din sat, 2.119 erau bulgari (91.10%), 134 găgăuzi (5.57%), 69 români (2.87%), 64 ruși (2.66%), 7 evrei, 6 greci, 3 ucraineni și 3 evrei. \\n A pactului ribbentrop-molotov (1939), basarabia, bucovina de nord și ținutul herța au fost anexate de către urss la 28 iunie 1940.',\n",
       " 'Fraza este creația scriitorului Elbert Hubbard în 1915 când a scris și a publicat un articol despre moartea lui Marshall Pinckney Wilder. \\n * reostricțiune - contracție transversală a unui conductor străbătut de curent electric.',\n",
       " 'Bibliografie: Carol Karacsonyi \"Flora și vegetația județului Satu Mare\" \\n Votul de neîncredere a primit doar 146 de voturi, necesare fiind 289.',\n",
       " 'Această scădere este suficientă pentru a compensa creșterea de energie potențială asociată cu ridicarea fluidului în apropierea pereților recipientului. \\n Firul evenimentelor arată că problema căsătoriei sale a fost rezolvată doar la sfârșitul unei lungi dezbateri: inițial, ortodoxul Ghica a consimțit să-și boteze copiii catolic însă apoi și-a retras declarația, lăsându-l pe arhiepiscopul Sibour să-și dea consimțământul după ce a obținut un acord verbal mai puțin convingător din partea acestuia.',\n",
       " 'În luna mai a anului 2019, la o dezbatere ce viza alegerile pentru Parlamentul European, Guy Verhofstadt, președintele grupului Alianței Liberalilor și Democraților pentru Europa (ALDE), a anunțat că în urma scrutinului grupul său parlamentar va fi dizolvat și că se va forma o alianță cu formațiunea „Renaissance” a președintelui francez Emmanuel Macron. \\n Pe parcursul următoarelor săptămâni grupul s-a autointitulat „alde+renaissance+usr plus”.',\n",
       " 'Revoluția franceză din 1789 a distrus structura aristocratică rigidă a armatei franceze. \\n A fost vegheat în ultimele clipe de viață de părinții Ioanichie și Gherman și de stareța Laurentia și, după o noapte de priveghi, a fost îngropat în apropierea zidului sudic al bisericii.',\n",
       " \"Pentru a obține proprietățile unei curbe regulate este avantajos să se folosească  s al curbei date ca parametru, din cauza \\\\;|\\\\vec c'| =1\\\\; și \\\\;\\\\vec n'=-\\\\vec c'/\\\\rho\\\\; (v. formulele Frenet–Serret). \\n Vectorul tangent al evolutei \\\\;\\\\vec e=\\\\vec c +\\\\rho \\\\vec n \\\\; este:\\n:\\\\vec e'=\\\\vec c' +\\\\rho'\\\\vec n +\\\\rho\\\\vec n'=\\\\rho'\\\\vec n\\\\ .\",\n",
       " 'Trupele austriece și ungurești, împreună cu trupe moldovenești aliate, au jefuit târgurile aflate în calea lor. \\n Domnitorul mihai racoviță, neavând bani să plătească mercenari și dispunând numai de o gardă de oameni credincioși, \\'\\'\"se mutase în cetățuie, și nici acolo în cetățuie nu mâne, ce, mâne câte la un locu de nu-lu scia nime; că și boierii săi încă nu erau drepți, ce mulți dintre dânșii se agiunsese cu catanele\"\\'\\' \\npe de altă parte, sultanul nemulțumit de prădăciunile săvârșite de austrieci, îi cerea domnitorului să se alieze cu tătarii aflați în moldova pentru a-i alunga pe cotropitori.',\n",
       " 'Din punct de vedere etnic, majoritatea locuitorilor (%) erau maghiari. \\n Potrivit lui Nataliia Levchuk de la Institutul de Demografie și Studii Sociale Ptoukha, „distribuirea cotelor de rechiziție de cereale din 1931, majorate în mare măsură, în raioanele Harkov și Kiev a fost foarte inegală și nejustificată, deoarece a fost făcută în mod disproporționat în raport cu procentul de suprafață însămânțată cu grâu și cu capacitatea lor potențială de producere a cereale”.',\n",
       " \"Verificarea calității noii variante 'semnificație cunoaștere' se face încercând să se stabilească posibilitatea apariției 'falsei cunoașteri' în opinie. \\n Socrate vrea să înțeleagă mecanismul prin care oamenii propun construcții false asupra diferitelor subiecte.\",\n",
       " \"Condițiile meteo nefavorabile au împiedicat atacurile asupra aeroporturilor Hornchurch și North Weald. \\n Luftflotte 3'' a suferit de pe urma informațiilor imprecise, iar raidurile împotriva stațiilor radar au fost ineficiente.\",\n",
       " 'Intervalul de cvintă este esențial pentru că el conduce la interdependența funcțională de tip dominantic, in tonalitate, system de o importanță covârșitoare pentru muzica cultă europeană. \\n O construcție intervalică muzicală, poate fi prezentată sub două aspecte :\\n-\\tașezând sunetele in ordinea aparentă, adică o succesiune treptată, ascendentă, de tonuri și semitonuri.',\n",
       " \"Leodegar este ucis în 679, Marin și Ebroin l-au propulsat pe Pepin că lider al majorității aristocratice din Austrasia, unde a devenit majordom. \\n Olga Kobyleanska a intenționat să scrie o continuare a romanului ''Pământ'', dar această intenție nu s-a materializat.\",\n",
       " '* gabară - ambarcațiune mare de lemn cu pânze, folosită pentru transportul mărfurilor sau pentru transbordarea acestora de pe navele mari care nu se pot apropia de mal. \\n A primit apoi o ofertă de muncă la Biroul de Construcții din Kiev, Ucraina.',\n",
       " 'Pe scenele Timișoarei au apărut nume celebre precum Johann Strauss (fiul), Joseph Haydn, Franz Liszt, Johannes Brahms sau George Enescu. \\n În raport cu comuna, satul se află în sud-vestul acesteia, la o distanță de aproximativ 10 km.',\n",
       " 'Cu toate acestea, toți cei care îl includ în discursurile lor, se referǎ la un Occident omniprezent, care nu are nevoie de definiție, fapt ce are drept consecințe directe, globalizarea, generalizarea și reducerea la stereotipuri a mesajului asociat cu acesta. \\n Prin diminuarea mesajului se pierde din vedere bogǎția nuanțelor culturii occidentale, dar și a contribuțiilor benefice asupra relațiilor interculturale.',\n",
       " 'La unele specii capsula în întregime pătrunde și se păstrează un anumit timp în receptaculul seminal feminin. \\n Deșertul Yuma, este secțiunea de cea mai joasă altitudine a deșertului Sonora, considerat un deșert separat datorită climatului său extrem și al regimului pluviometric extrem de sărac.',\n",
       " 'Intensitatea luminii reflectate este destul de slabă dar telescoapele mari pot strânge suficientă lumină pentru ca culoarea albăstruie să devină vizibilă. \\n Pentru muncitorii din industria serviciilor alimentare, o analiză a constatat că epidemia de boli cauzate de alimente pentru lanțurile de restaurante, inclusiv opinia publică negativă, care afectează alte operațiuni într-o zonă metropolitană, poate ajunge până la 7 milioane USD.',\n",
       " 'Nicolae Panaite (n. 1 martie 1954, sat Cioca-Boca, Șcheia, județul Iași) este un poet, publicist și editor român, membru al Uniunii Scriitorilor din România. \\n Majoritatea liderilor Statului Liber, atât pro-, cât și contra-tratat, au presupus că comisia va plasa zonele în mare parte naționaliste, cum ar fi comitatul Fermanagh, comitatul Tyrone, Londonderry de sud, Armagh de Sud și Down de Sud împreună cu orașul Derry în granițele Statului Liber, și că restul Irlandei de Nord nu va fi viabil din punct de vedere economic și că va opta, în cele din urmă, să se unească cu restul insulei.',\n",
       " 'Concepția sa despre carte, mentalitatea sa culturală reiese din rolul acordat scrierii cărții, ornamentației acordându-i un rol secundar. \\n Pe data de 9 mai un jurnalist spaniol stabilit în Anglia a anunțat că mai multe cluburi din Premier League îl curtează.',\n",
       " \"Clădirea a suferit ulterior o serie de modificări în stilul Renașterii transilvănene. \\n A fost expusă în Muzeul Național din Praga din 11 octombrie 2006 până în 2 septembrie 2007, ca parte a expoziției ''Lovci mamutů'' (''Vânătorii de mamuți'').\",\n",
       " 'De asemenea, Militariul este un cartier destul de prăfuit, din cauză că aici se construiește foarte mult. \\n Nehroveț (în ) este o comună în raionul Boureni, regiunea Transcarpatia, Ucraina, formată din satele Kosiv Verh și Nehroveț (reședința).',\n",
       " 'Numele complet al orașului era Colonia Ulpia Traiana Augusta Dacica Sarmizegetusa. \\n Principalii lideri romani care au influențat evoluțiile din zonă sunt generalul (și consul) Pompei (în perioada 64-63 i.e.n.',\n",
       " 'Secolele XVI și XVII au fost dificile pentru principat datorită sciziunii Țărilor de Jos Spaniole în urma Războiului de optzeci de ani și a campaniilor militare ale lui Ludovic XIV. \\n În 1676 ducatul bouillon se separă de principat, devenind un protectorat francez în cadrul imperiului.',\n",
       " \"''Suspensia SX unui spațiu topologic'' X este spațiul definit ca:\\n:SX = v_0 \\\\cup_ (X \\\\times [0,1])\\\\cup_  v_1\\\\ =\\\\ \\\\varinjlim_ } \\\\bigl( (X \\\\times [0,1]) \\\\hookleftarrow (X\\\\times \\\\ ) \\\\xrightarrow  v_i\\\\bigr),\\nunde fiecare v_i este un punct, iar p_i este proiecția acestui punct. \\n Suspensia sx este rezultatul atașării cilindrului x \\\\times [0,1] pe fețele sale, x\\\\times\\\\  și x\\\\times\\\\ , la punctele v_i de-a lungul proiecțiilor p_i: \\\\bigl( x\\\\times\\\\  \\\\bigr)\\\\to v_i.\",\n",
       " 'Pe atunci, majoritatea populației era formată din români, existând și comunități de ucraineni și de evrei. \\n A faptului că se afla pe frontieră și prin mijlocul satului a trecut linia frontului, boianul a fost aproape complet distrus.',\n",
       " 'În privința clădirilor publice, pe teritoriul concesiunii se mai găseau pe lângă consulat și cazarmă o închisoare, o școală, un teatru și un spital. \\n A declarației de război făcute de china puterilor centrale în august 1917, teritoriul a fost reîncorporat statului chinez.',\n",
       " \"În componența municipiului pot intra alte unități teritorial-administrative de prima speță: orașe, sate și comune. \\n În componența municipiului chișinău intră 6 orașe și 22 sate ''(din care 22 sate sunt unite în 8 comune, altele 2 intră în componența unuia din orașe)''.\",\n",
       " \"La scurt timp după revenirea în țară de la studiile doctorale, Onilă decide ca toată viața să-i urmeze lui Hristos pe calea monahismului. \\n La 21 noiembrie 1997, în cadrul slujbei vecerniei, acesta a primit tunderea în monahism la catedrala episcopală din huși, sub numele de ''corneliu.''\",\n",
       " '* \\'\\'Teoria si practica literaturii, eseuri si \"demersuri\" in favoarea introducerii scrierii creatoare in programa facultatilor de Litere\\'\\'; Editura Muzeul Literaturii Romane, 2012 \\n* \\'\\'POEZIA - teze, ipoteze si explorari,\\'\\' Editura Aula, 2008;\\n* \\'\\'Supraviețuirea prin ficțiune\\'\\', Editura Aula, 2005;\\n* \\'\\'Sinapse\\'\\', Editura Aula, 2001;\\n* \\'\\'Unde se află poezia? \\n Discuția cu privire la dimensiunea ideală a republicii nu s-a limitat la opțiunile statelor individuale sau la uniunea cuprinzătoare.',\n",
       " 'Simbolurile secuiești s-au păstrat și în stemele unităților administrative de pe teritoriul Ținutului Secuiesc. \\n În stemele județelor trei scaune și ciuc din perioada interbelică, legiferate prin „monitorul oficial” nr.',\n",
       " 'S-au achiziționat două sobe, un radiator cu halogen, un aspirator și s-a acoperit podeaua cu mochetă. \\n La 100 de ani de la edificare, biserica cea mare din drum a îmbrăcat straie noi, de praznic, revenind la viață prin mila domnului și râvna iubitorilor de sfântă frumusețe, strălucind ziua în lumina amiezei, iar noaptea, revelându-se luminată feeric de două puternice proiectoare care-o fac vizibilă din depărtare.',\n",
       " 'Scrisă de autori și interpreți individuali, noviny nu provine din tradițiile orale ale clasei muncitoare. \\n Astăzi sunt considerate pseudo-folclor mai degrabă decât folclor sovietic (sau rus) autentic.',\n",
       " 'Adversarii democrați ai lui Lincoln s-au folosit de aceste numiri pentru a-l acuza că utilizează armata pentru a-și asigura ambițiile politice ale lui și ale republicanilor. \\n Radicalii i-au denunțat politica drept una prea indulgentă, promovând propriul lor plan, , în 1864.',\n",
       " 'Trupele germane, care scăpaseră datorită acțiunii generalului Clark, au fost rapid relocate în nord, unde au pregătit două noi linii defensive: una în dreptul Lacului Trasímeno, iar cea de-a doua de-a lungul râului Arno. \\n Primul contact se poate referi la:\\n* Primul contact (antropologie)\\n* Primul contact (nuveletă)\\n* Primul contact (științifico-fantastic)\\n* Primul contact (film)\\n* Star Trek: Primul contact\\n* Primul contact (Star Trek: Generația următoare)\\n* Primul contact, episod Stargate Atlantis (S5, E90)',\n",
       " 'Relieful actual al Pirinului a fost modelat în Pleistocen (de acum  de ani până acum  de ani), când muntele a fost supus glaciațiunii alpine legate de răcirea globală. \\n Tatăl său, Vicente Gonzales Duterte era un avocat si politician de origine cebuană, iar mama, Soledad născută Roa, era profesoară de școală, la origine fiind din Cabadbaran, Agisan.',\n",
       " 'Comitatul Cottonwood (în ) este un comitat din statul Minnesota, Statele Unite ale Americii. \\n Rákóczi Ferenc”\\n* Școala Superioară de Comerț, clădire monument istoric () construită în stil Secession după planurile arhitectului șef Sándor Radó, în prezent sediul Facultății de Inginerie',\n",
       " 'Folosind aceste constelații, egiptenii au creat un sistem calendaristic de 365 zile ce purta denumirea de ceasuri\\n-stelare, bazat pe poziția fiecarei constelații în parte la un moment dat, însă nu au luat în considerare că anul era mai scurt cu 6 ore decât cel normal. \\n La fiecare 40 de ani trebuiau adăugate 10 zile (unele surse indică ca se adăugau 5 zile la sfârsitul fiecarui an).',\n",
       " 'El s-a implicat activ prin prisma pregătirii sale militare și, cu toate că trupele revoluționare au fost prost înarmate față de cele împărătești, revoluționarii ardeleni au reușit să respingă inamicul din Munții Perșani în depresiunea Bârsei, în lupta pentru apărarea Brașovului. \\n Constatin lecca, mișu popp și barbu stănescu s-au apucat să zugrăvească biserici din bucurești: biserica sfântul gheorghe-nou, biserica curtea veche, biserica sfânta ecaterina din bucurești și capela cimitirului șerban vodă.',\n",
       " \"Multe piese de pe album vorbesc despre alcool (...) Când bei, simți nevoia să îți iei revanșa față de cei care te-au manipulat pe parcursul vieții. \\n Dezvolți acea dorință de răzbunare despre care vorbește 'infra red'”.\",\n",
       " 'Acest lucru i-a determinat pe cei din Antichitate să dezvolte teorii despre originea lor. \\n Herodot afirmă că colchizii, cu egiptenii și etiopienii erau primii care au practicat circumciziunea, o tradiție care ar fi fost importată de armatele faraonului senusret al iii-lea (1878 î.hr.',\n",
       " 'La Vădan Savu de pe moșie 35 florinți și din aceia să dea lui Vădan Irimie 18 florinți. \\n * Oxidarea azotului la ardere (1947)\\n* Teoria detonației (1955)  (1962, în colaborare cu A.S. Kompaneets)\\n* Impulsul rachetelor cu praf (1963)\\n* Elemente de dinamică a gazelor și teoria clasică a undelor de șoc (1968, în colaborare cu Yu.',\n",
       " \"Alte piese remarcate sunt: “''În anii ce au trecut''”, “''Gherila PTM''”, “''40 Kmh''”, “''Garda''” și “''Prin cartieru’ minunat''”. \\n Budapest: MTA Orientalisztikai Bizottság – ELTE Orientalisztikai Intézet, 78–95.\",\n",
       " 'Conform recensământului din 2001, majoritatea populației localității Ivanivka era vorbitoare de ucraineană (%), existând în minoritate și vorbitori de rusă (%) și belarusă (%). \\n Cluburile de fotbal care au câștigat Cupa Celor Nouă Valori sunt: Barcelona (Spania, 2015, 2020, 2021), Bayern (Germania, 2016), Al-Wahda (Siria, 2016), Real Madrid (Spania, 2017), Echipa Braziliei de fotbal (Brazilia, 2018), Liverpool (Anglia, 2019).',\n",
       " 'În această situație, transportul public a devenit o problemă stringentă, a cărei rezolvare cerea măsuri rapide. \\n În 1922, două autocamioane „saurer\" rămase captură de război, cumpărate de la armată - recondiționate și carosate în autobuze, dintre care unul cu etaj descoperit - asigurau transportul de călători în oraș, de la barierele someșeni - azi piața mărăști - prin strada dorobanților, centru, horea, până la gara cfr.',\n",
       " 'Părinții lui s-au căsătorit în 868 iar cea mai mare soră, Æthelflæd, a fost născută curând după aceea. \\n S-a apucat de înotul de performanță din copilărie și a luat parte la prima sa competiție la vârsta de zece ani.',\n",
       " 'În 1874 a mai fost construită și calea Tighina - Galați. \\n La sfârșitul sec.',\n",
       " 'În 1978, Roșu și Negru devine trio, avându-i ca membri pe Liviu Tudan (lider, solist vocal, chitară bas), Florin Ochescu (chitară) și Dorel Vintilă Zaharia (tobe). \\n Vor înregistra piesele „alfabetul”, „hai acasă”, „miracolul suprem” și „copilul și soarele”.',\n",
       " 'Ea a murit în 1930 și a fost înmormântată în biserica din Popești; prin testament, moșia Popești a trecut la fiica ei, Olga. \\n Odată cu adăugarea suportului Windows Runtime pe aceste platforme, aplicațiile create pentru Windows 8.1 puteau fi portate cu ușurință pe Windows Phone 8.1 și Xbox One, astfel partajând o bază comună de cod cu sistemul pentru PC.',\n",
       " 'Saint-Sernin este o comună în departamentul Ardèche din sud-estul Franței. \\n Are mulți prieteni de exemplu: Maria Wong, Conner Mackenzie.',\n",
       " 'Victoria rușilor la Varșovia părea un lucru cert dar, pe &ndash;, polonezii au câștigat o victorie neașteptată – „Miracolul de pe Vistula”. \\n Missouri este pe locul trei în clasamentul numărului de bătălii duse pe teritoriul statelor.',\n",
       " 'Caracteristica aceasta explica de ce campanile arheologice au fost atât de scurte și s-a publicat atât de puțin în trecut. \\n Atunci când s-a simțit nevoia lămuririi  problemelor legate de castrul roman, în lipsa unor rezultate științifice pe care să se sprijine orice supoziție, s-a aplicat, pe zidurile vizibile, regula evoluției celorlalte fortificații  dunărene: incintele mari sunt timpurii, eventual de la traian, cele mijlocii din  secolul iv, iar cele mai mici din perioadele următoare.',\n",
       " 'În patria vikingilor, influența tot mai mare a regilor a diminuat vechea autonomie și independență a triburilor rivale. \\n În anul 870, harald i păr frumos a devenit cel dintâi rege, care a unificat triburile din norvegia.',\n",
       " 'Exista o ierarhizare strictă în organele de conducere „neconstituționalizarea parțială” (partidul era nucleul sistemului politic, fără ca acest fapt să se reflecte în Constituție.) \\n În perioada 1944-1953 a fost formată structura acelei mașini administrative care, cu unele schimbări neesențiale, a funcționat pînă în 1991.',\n",
       " \"Șeful statului austriac este președintele federal (''Bundespräsident''), ales direct prin vot de către cetățeni. \\n Există mai multe ipoteze în această privință:\\n* Ipoteza adaptivă: Această teorie ne spune că somnul îmbunătățește șansele de supraviețuire ale unui animal.\",\n",
       " \"Unele cărți ce au fost utilizate pentru slujbele religioase ce s-au ținut în această biserică purtau diferite înscrisuri. \\n Pe minei era scris: ”''în anul 1840.\",\n",
       " 'Pornind de la presupunerea că Sæmundr, care a trăit cu un secol înaintea lui Snorri, ar fi redactorul culegerii de cântece din \\'\\'Codex Regius\\'\\' și ținând cont de caracterul arhaic al majorității cântecelor păstrate în acest manuscris, s-a crezut că această culegere i-ar fi servit lui Snorri ca sursă de informare atunci când a scris \\'\\'Edda\\'\\'. \\n Edda snorra\\'\\' este cunoscută și ca \"edda cea tânără\" sau \"edda mai recentă\", iar cântecele din \\'\\'codex regius\\'\\' ca \"edda cea veche\".',\n",
       " \"Se poate defini ''parametrul plasmei'', egal cu inversul numărului de particule cuprinse într-un volum Debye, \\\\lambda_D^3,\\n:\\\\Lambda = N_D^ =(n_0\\\\lambda_D^3)^ . \\n Lungimea debye constituie un criteriu în stabilirea cvasineutralității și a caracterului colectiv al interacțiunilor.\",\n",
       " 'Mike intrând în cameră îl dezarmează repede pe Stan, care insista că arma este neîncărcată. \\n Modul în care otrava a pătruns în corp rămâne un alt mister, deoarece analiza paharului arată că el conținea doar vin.',\n",
       " \"Data are vise stranii, în timp ce nava USS ''Enterprise'' întâmpină probleme cu noul miez warp. \\n Note:\\n* &nbsp;– Au fost acordate puncte înjumătățite la\\xa0Marele Premiu al Belgiei\\xa0deoarece a fost parcursă mai puțin de 75% din distanța programată din cauza vremii.\",\n",
       " 'Consiliul Europei a fost fondat pe 5 mai 1949 si astfel a ales să sărbătorească la această dată înființarea sa. \\n A absolvit facultatea Yale cu specializarea istorie.',\n",
       " \"Începând cu al treilea număr, apar colaborările. \\n În numărul 3, george topîrceanu a semnat două parodii (“psalm” și “utrenie”), după două poezii semnate de arghezi în volumul ''cuvinte potrivite'' precum și alte două parodii originale.\",\n",
       " 'În unele cazuri, trupele Regatului Unit al Marii Britanii și Irlandei și Italiei au colaborat cu germanii împotriva polonezilor. \\n În discursul său din parlamentul britanic, lloyd george a dezaprobat cu tărie insurecția, dând noi speranțe germailor.',\n",
       " 'Piatra este un sat în comuna Chiuza din județul Bistrița-Năsăud, Transilvania, România. \\n Numerotarea panourilor se face în sensul acelor de ceas, primul panou fiind în stânga sus, iar al patrulea sub el.',\n",
       " 'Radiația de fond ne apare precum un corp negru perfect la limita preciziei instrumentelor de măsurare. \\n Deși mulți s-au îmbogățit în război (prăzile neerlandeze luate în timpul războiului, aproximativ 1.200 de nave comerciale sau 8% din flotă comercială a acestora, s-au ridicat la valoarea dublă a întregii flote comerciale oceanice a Angliei) comerțul în ansamblu a fost afectat.',\n",
       " 'Acesta a fost descris ca fiind „proiectat ca un mare centru administrativ și religios, o adevărată capitală regală.” Potrivit lui Margarit Israelyan, Argishti a început construcția fortăreței Erebuni după cucerirea teritoriilor de la nord de Erevan și la vest de Lacul Sevan, corespunzătoare poziției în care orașul Abovyan se află în prezent. \\n Prizonierii pe care acesta i-a capturat în campaniile lui, atât bărbați cât și femei, au fost folosiți pentru a ajuta la construirea orașul său.',\n",
       " 'Dacă la înființare, Universitatea Valahia din Târgoviște avea în structura sa doar două facultăți, un colegiu universitar, 14 specializări universitare și circa 700 de studenți, în anul universitar 2013-2014 structura s-a diversificat armonios în funcție de necesitățile economico-sociale și de cerințele pieței muncii. \\n Universitatea valahia din târgoviște are în structura sa actuală 10 facultăți (licență - 3 sau 4 ani), 34 de specializări universitare de licență, 32 de programe de studii de masterat și 6 domenii de doctorat, pregătirea și perfecționarea personalului didactic și învățământul deschis la distanță.',\n",
       " 'Primele atestări documentare scrise, sunt mult mai târzii, majoritatea lor provenind din perioada feudalismului timpuriu. \\n Localitatea tinca este atestată documentar prima dată la 31 martie 1338, cu ocazia unei hotărnicii privitoare la moșiile aflate în partea nordică a crișului negru.',\n",
       " 'La acel moment, considerându-se mai matur decât specimenele jalnice ale umanității adulte pe care le vede în jurul lui, el decide să se oprească din creștere în semn de protest. \\n Se aruncă pe scările care duc în pivniță și se oprește din creștere.',\n",
       " 'În sistemele electrochimice acest lucru înseamnă că trebuie să fie furnizată căldură în reactor pentru a susține reacția. \\n Energia termică poate fi folosită ca parte din necesarul de energie al electrolizei.',\n",
       " '*Se scade restul (care are întotdeauna r sau mai puțini biți) din șirul de biți corepunzător lui xr M(x), \\nutilizând scăderea modulo 2. \\n Cadrul cu suma de control ce va fi transmis (acesta este \\ndivizibil modulo 2 cu g(x)).',\n",
       " 'La începutul anului 2015 biserica a trecut sub egida Mănăstirii Franciscane din Deva, ea fiind aproape și întrucât începând cu anul 1970 numărul enoriașilor romano-catolici din zona Iliei a început să scadă în mod drastic din cauza mortalității crescute  în rândul catolicilor de aici si datorită imbătrânirii  populației romano-catolice  din comuna Ilia și din unele sate aparținătoare ei precum Bacea și Bretea Mureșană unde existau cândva câteva familii romano-catolice, majoritatea romano-catolicilor fiind și  pe atunci totuși in localitatea Ilia. \\n Comunitatea catolică din zonă a decăzut treptat, biserica cândva foarte întreținută de enoriașii săi s-a ruinat acum în lipsa lor iar mănăstirea franciscană deva a preluat biserica in 2015 pentru a o renova cât de cât prin anumite proiecte proprii.',\n",
       " 'Oleg a părăsit Novgorod, luând cu el mulți războinici varegi, slavi și toți krivicii. \\n A sosit la smolensk, a capturat orașul și a înființat acolo o garnizoană.',\n",
       " 'Aceasta modifică poziția ceasului. \\n Ceasul deviază din sistemul de referință, și prin relativitatea generalizată, măsurarea timpului va fi diferită de a noastră, conducând la o marjă de eroare inevitabilă.',\n",
       " 'Pentru compatibilitate între diversele elemente transmițătoare și receptoare, deci pentru succesul unei comunicații, toate aceste trasmiteri folosesc anumite protocoale (seturi de reguli) de transmisie, de obicei standardizate. \\n Pentru % din locuitori nu este cunoscută apartenența confesională.',\n",
       " \"Conform Catalogue of Life specia ''Arctosa oneili'' nu are subspecii cunoscute. \\n Abonamentul plătit este una dintre problemele cruciale pentru aplicație.\",\n",
       " 'Pentru femeile însărcinate sunt recomandate investigații de screening pentru sifilis, datorită riscului infecției fătului. \\n * John Hartley l-a interpretat pe Mycroft în \"The Greek Interpreter\" la 21 octombrie 1992, \"The Bruce-Partington Plans\" la 24 ianuarie 1994 și \"The Retired Colourman\" la 29 martie 1995 în adaptările radiofonice pentru BBC Radio cu Clive Merrison în rolul lui Sherlock și Michael Williams în rolul dr. Watson.',\n",
       " \"Prezentăm mai jos parte din membrii familiilor menționate mai sus:\\n Simbolul nobiliar, între artă și istorie     \\n* Contele Istvan Haller de Hallerko , căsătorit cu baroneasa Anna Kornis de Goncz-Ruszka   au locuit în Aruncuta, fiica acestora, contesa Cecilia Haller de Hallerko fiind născută în Aruncuta, comitatul Cluj, la data de 28 octombrie 1797. \\n quercinus'', în timp ce populațiile estice din Libia, Egipt, Arabia Saudită și Orientul Apropiat au fost atribuite speciei ''E.\",\n",
       " 'Cei rămași la Ilia s-au apucat și de creșterea vitelor vaci și cai ca ba chiar de cultivarea unor legume precum morcovi, roșii etc ce serveau pe post de hrană. \\n * acid tricloracetic, acid ~ - substanță caustică folosită în diverse boli de piele; poate cauza necroză tisulară.',\n",
       " \"Este și mai interesant faptul că a fost acuzat de „orgoliu pentru poziția sa de episcop și de faptul că se pretindea succesor al lui Petru (''Cathedra Petri''), asupra căruia au fost puse temeliile Bisericii”. \\n Ei au deschis calea, alergând de-a lungul câmpurilor minate, pentru a curăța terenul pentru atacul infanteriei.\",\n",
       " 'Numărul speciei a scăzut în părți din nordul și vestul Europei începând cu anii 1980, din cauza faptului că se găsesc mai puține nevertebrate de pășune ca hrană pentru puii aflați în creștere. \\n Populația sa globală uriașă nu este considerată a fi în scădere semnificativă, așa că graurul comun este clasificat ca fiind cu risc scăzut de dispariție de către uniunea internațională pentru conservarea naturii.',\n",
       " '\"My Heart Will Go On\" (James Horner, Will Jennings) – 4:41\\n*07. \\n Legenda birmană afirmă că situl pentru pagoda Shwedagon a fost solicitat să fie dezvăluit de către un spirit bătrân care locuia pe locul unde se află acum pagoda Sule.',\n",
       " \"Friedrich Wilhelm Ernst von Paulus () a fost un general german din timpul celui de-al doilea război mondial, promovat în timpul luptelor de la Stalingrad la gradul de feldmareșal. \\n Speciile genului pot fi bine diferite de altele, ca de exemplu ''Clavaria'' ''Clavulina'' sau ''Ramaria''.\",\n",
       " 'Botan îl informează pe Yusuke că actul său i-a surprins pe cei din Lumea de dincolo și că nu i s-a pregătit încă un loc în rai sau în iad. \\n Koenma, fiul regelui enma, conducătorul lumii de dincolo, îi oferă lui yusuke o șansă de întoarcere la viață printr-o serie de teste.',\n",
       " 'Folosind metode de cumpărături online, consumatorii nu-și pierd energia vizitând fizic magazinele. \\n Aceștia economisesc timp și costul călătoriei.',\n",
       " \"Dintre aceștia, ordinul a precizat următoarele categorii: avocați, arhitecți, comercianți, farmaciști, medici, ingineri, învățători, profesori, preoți, scriitori, subofițeri și ziariști, precum și pe toți cei care fuseseră bancheri, chiaburi, moșieri, industriași și diverși patroni. \\n Andrew Harold Rubin () a fost un actor american cunoscut pentru rolul ofițerului de poliție George Martin din filmul ''Academia de Poliție'' din 1984.\",\n",
       " \"În acest moment, Marek Hłasko a dobândit faimă la nivel mondial. \\n (Nu sunt incluse filmele pe care le-a regizat)\\n* 1947 - ''A Ball at the Anjo House''\\n* 1949 - ''Waga koi wa moenu''\\n* 1951 - ''The Tale of Genji''\\n* 1956 - ''Akō Rōshi: Ten no Maki, Chi no Maki''\\n* 1960 - ''Kunisada Chuji''\\n* 1961 - ''Akō Rōshi''\\n* 1962 - ''Kurotokage''\\n* 1964 - ''Manji''\\n* 1966 - ''Zatoichi's Pilgrimage''\\n* 1966 - ''Fighting Elegy''\\n* 1971 - ''Battle of Okinawa''\\n* 1971 - ''Yami no naka no chimimoryo''\\n* 1972 - ''Under the Flag of the Rising Sun''\\n* 1972 - ''Rica'' (混血児リカ)\\n* 1973 - ''Rica 2: Lonely Wanderer'' (混血児リカ ひとりゆくさすらい旅)\\n* 1973 - ''Rica 3: Juvenile's Lullaby'' (混血児リカ ハマぐれ子守唄)\\n* 1978 - ''The Incident''\\n* 1979 - ''Akō Rōshi '' (serial TV)\\n* 1987 - ''Hachikō Monogatari''\\n* 1999 - ''The Geisha House''\",\n",
       " 'Chimindia este un sat în comuna Hărău din județul Hunedoara, Transilvania, România. \\n Populația totală a Columbiei, conform Raportului Dezvoltării Umane, elaborat de Națiunile Unite, este evaluată că va atinge 52 milioane către anul 2015.',\n",
       " \"Trompă este un organ muscular și ciliat specializat în locomoție, colectarea și transportul de particule alimentare. \\n * <i>Wisteria</i> - gen de plante cu flori din familia ''Fabaceae'', care include zeci de specii de viță de vie lemnoase, native în Japonia, China, Coreea, și estul SUA.\",\n",
       " 'Două proceduri recurente dar în continuă schimbare oferă puțină introspecție metodelor sale. \\n Sunt posibile și alte metode datorită numărului inelelor înconjurătoare Lyonului.',\n",
       " 'Producția agricolă și vegetală s-a depreciat în ultimii ani, un grad mai mare de depreciere costatându-se la nivelul producției animale. \\n Din cele două complexe de taurine nu mai funcționează nici unul.',\n",
       " 'Așa cum capitalismul a înlocuit feudalismul, capitalismul va fi înlocuit de comunism, o societate fără clase, care urmează unei perioade de tranziție în care statul va fi un instrument al dictaturii proletariatului. \\n Marx a argumentat că schimbările socio-economice se produc prin intermediul activității revoluționare organizate.',\n",
       " 'Aerul este divinitatea, perfecțiunea deci, ceea ce cuprinde în sine totul și la care revine totul. \\n *La alegerire parlamentare anticipate din 28 noiembrie 2010 Partidul Muncii a întrunit 873 de voturi (0.05%), ceea ce nu i-a permis să depășească pragul electoral de 4%.',\n",
       " \"Sunt relativ puține verbele al căror sens lexical include aspectul imperfectiv și nu au pereche perfectivă. \\n De verbe sunt ''postojati'' „a exista”, ''stanovati'' „a locui”, ''uticati'' „a influența”.\",\n",
       " 'Nu există o etnie majoritară, locuitorii fiind  și bulgari (%). \\n A fost descoperit pe  la Desert Beaver Observatory de William Kwong Yu Yeung.',\n",
       " 'Continuând tradiția marelui său înaintaș Dimitrie Pompeiu, își începe activitatea de cercetare cu contribuții originale valoroase în teoria funcțiilor de variabilă complexă. \\n Teza sa de doctorat cit și primele lucrări publicate din 1928 privesc teoria funcțiilor poligene de o variabilă complexă.',\n",
       " 'Scutul a fost bordat cu culorile Romanovilor: aur, argint și negru. \\n Hadar Hacarmel,numit pe scurt Hadar, (în ebraică:הדר הכרמל „Splendoarea Carmelului”, sau „Cinstea Carmelului”) este un cartier central de locuințe din orașul Haifa din Israel, unul din cartierele mai vechi ale localității.',\n",
       " 'Denumită în sensul colocvial \"Orașul-mamă\" (\\'\\'the Mother City\\'\\'), este cel mai mare oraș al provinciei Western Cape și face parte din municipiul metropolitan City of Cape Town. \\n * bovindou - element cu rol mai mult ornamental decât funcțional, care constă într-un balconaș închis pe fațada unei clădiri.',\n",
       " 'Liber Pontificalis a fost redactat de persoane cu rang inferior la Roma, imediat după moartea fiecărui papă. \\n C6 are un receptor încorporat GPS care funcționează în tandem cu aplicația Ovi Maps.',\n",
       " \"După Războiul Ruso-Turc din 1878, Balcicul (eliberat la 19 ianuarie 1878 de trupele generalului-locotenent Zimmerman) intră în componența ''Principatului Autonom Bulgaria'', aflat de jure sub suzeranitate otomană, și care în 1908 își câștigă independența. \\n 9427 Righini este un asteroid din centura principală de asteroizi.\",\n",
       " ...]"
      ]
     },
     "execution_count": 3,
     "metadata": {},
     "output_type": "execute_result"
    }
   ],
   "source": [
    "s1 = df['sentence1'].tolist()\n",
    "s2 = df['sentence2'].to_list()\n",
    "\n",
    "sentences = [(f'{df[\"sentence1\"].iloc[index]} \\n {df[\"sentence2\"].iloc[index]}') for index in range(len(df['sentence1'])) ]\n",
    "reversed_sentences = [(f'{df[\"sentence2\"].iloc[index]}\\n{df[\"sentence1\"].iloc[index]}') for index in range(len(df['sentence1'])) ]\n",
    "labels = df['label'].to_list()\n",
    "guids = df['guid'].to_list()\n",
    "sentences"
   ]
  },
  {
   "cell_type": "code",
   "execution_count": 4,
   "metadata": {},
   "outputs": [],
   "source": [
    "from sklearn.feature_extraction.text import TfidfVectorizer\n",
    "vectorizer = TfidfVectorizer(**{\n",
    "    'min_df': 1,\n",
    "    'max_features': None,\n",
    "    'strip_accents': 'unicode',\n",
    "    'analyzer': 'word',\n",
    "    'token_pattern': r'\\b[^\\d\\W]+\\b',\n",
    "    'ngram_range': (1, 3),\n",
    "    'use_idf': True,\n",
    "    'smooth_idf': True,\n",
    "    'sublinear_tf': True,\n",
    "    'norm': 'l2'\n",
    "})"
   ]
  },
  {
   "cell_type": "code",
   "execution_count": 5,
   "metadata": {},
   "outputs": [],
   "source": [
    "train_data_tf_idf = vectorizer.fit_transform(sentences[:58114])\n",
    "valid_data_tf_idf = vectorizer.transform(sentences[58114:61173])\n",
    "test_data_tf_idf = vectorizer.transform(sentences[61173:])"
   ]
  },
  {
   "cell_type": "code",
   "execution_count": 7,
   "metadata": {},
   "outputs": [
    {
     "data": {
      "text/plain": [
       "(58114, 3335464)"
      ]
     },
     "execution_count": 7,
     "metadata": {},
     "output_type": "execute_result"
    }
   ],
   "source": [
    "train_data_tf_idf.shape"
   ]
  },
  {
   "cell_type": "markdown",
   "metadata": {},
   "source": [
    "###### New TF-IDF"
   ]
  },
  {
   "cell_type": "markdown",
   "metadata": {},
   "source": [
    "#### Data Normalization"
   ]
  },
  {
   "cell_type": "code",
   "execution_count": 7,
   "metadata": {},
   "outputs": [],
   "source": [
    "import numpy as np\n",
    "from sklearn.preprocessing import normalize\n",
    "normalized_train_data = normalize(train_data_tf_idf)\n",
    "normalized_train_data\n",
    "normalized_valid_data = normalize(valid_data_tf_idf)\n",
    "normalized_test_data = normalize(test_data_tf_idf)\n"
   ]
  },
  {
   "cell_type": "code",
   "execution_count": null,
   "metadata": {},
   "outputs": [],
   "source": [
    "import contractions\n",
    "import re\n",
    "import string\n",
    "import nltk\n",
    "nltk.download('wordnet')\n",
    "from nltk.corpus import stopwords\n",
    "from nltk.stem import WordNetLemmatizer\n",
    "stop_words = set(stopwords.words('romanian'))\n",
    "lemmatizer = WordNetLemmatizer()\n",
    "\n",
    "def preProcess(data, text:str):\n",
    "  data[text] = data[text].apply(lambda x:contractions.fix(x))\n",
    "  data[text] = data[text].apply(lambda x: x.lower())\n",
    "  data[text] = data[text].apply(lambda x: re.sub('[%s]' % re.escape(string.punctuation), '' , x))\n",
    "\n",
    "  def remove_stopwords(text):\n",
    "    return \" \".join([word for word in str(text).split() if word not in stop_words])\n",
    "  data[text] = data[text].apply(lambda x: remove_stopwords(x))\n",
    "\n",
    "  def lemmatize_words(text):\n",
    "    return \" \".join([lemmatizer.lemmatize(word) for word in text.split()])\n",
    "  data[text] = data[text].apply(lambda x: lemmatize_words(x))\n",
    "\n",
    "  data[text] = data[text].apply(lambda x: re.sub(' +', ' ', x))\n",
    "  return data[text]"
   ]
  },
  {
   "cell_type": "markdown",
   "metadata": {},
   "source": [
    "### WordEmbedings\n"
   ]
  },
  {
   "cell_type": "code",
   "execution_count": 44,
   "metadata": {},
   "outputs": [
    {
     "name": "stderr",
     "output_type": "stream",
     "text": [
      "[nltk_data] Downloading package stopwords to\n",
      "[nltk_data]     C:\\Users\\Dragos\\AppData\\Roaming\\nltk_data...\n",
      "[nltk_data]   Package stopwords is already up-to-date!\n"
     ]
    }
   ],
   "source": [
    "import nltk\n",
    "from nltk.corpus import stopwords\n",
    "nltk.download('stopwords')\n",
    "stopwords = set(stopwords.words('romanian'))\n",
    "MAX_WORDS = 0\n",
    "BIG_LIST=[]\n",
    "\n",
    "def remove_stopwords(text:str):\n",
    "    global MAX_WORDS\n",
    "    global BIG_LIST\n",
    "    list_of_words = [word for word in text.lower().split() if word not in stopwords]\n",
    "    if len(list_of_words) > MAX_WORDS:\n",
    "        MAX_WORDS = len(list_of_words)\n",
    "    return (list_of_words)\n",
    "\n",
    "\n",
    "s1 = df[\"sentence1\"]\n",
    "s1 = pd.DataFrame(s1)\n",
    "s1 = s1.rename(columns={\"sentence1\": \"sentence\"})\n",
    "\n",
    "s2 = df[\"sentence2\"]\n",
    "s2 = pd.DataFrame(s2)\n",
    "s2 = s2.rename(columns={\"sentence2\": \"sentence\"})\n",
    "\n",
    "st = pd.concat([s1,s2])\n",
    "#clean_sentences = st[\"sentence\"].apply(lambda x: remove_stopwords(x))\n",
    "st_df = pd.DataFrame(sentences)\n",
    "st_df[0]\n",
    "clean_sentences = st_df[0].apply(lambda x: remove_stopwords(x))\n",
    "clean_sentences.iloc[1]\n",
    "\n",
    "from gensim.models import Word2Vec\n",
    "embedings_model = Word2Vec(clean_sentences, vector_size=200, workers=4)"
   ]
  },
  {
   "cell_type": "code",
   "execution_count": 47,
   "metadata": {},
   "outputs": [
    {
     "data": {
      "text/plain": [
       "[]"
      ]
     },
     "execution_count": 47,
     "metadata": {},
     "output_type": "execute_result"
    }
   ],
   "source": [
    "BIG_LIST"
   ]
  },
  {
   "cell_type": "code",
   "execution_count": 42,
   "metadata": {},
   "outputs": [
    {
     "data": {
      "text/plain": [
       "1534"
      ]
     },
     "execution_count": 42,
     "metadata": {},
     "output_type": "execute_result"
    }
   ],
   "source": [
    "MAX_WORDS"
   ]
  },
  {
   "cell_type": "code",
   "execution_count": 49,
   "metadata": {},
   "outputs": [
    {
     "data": {
      "text/plain": [
       "[('prahova', 0.9627609252929688),\n",
       " ('mureș,', 0.9469833374023438),\n",
       " ('bihor', 0.9444875121116638)]"
      ]
     },
     "execution_count": 49,
     "metadata": {},
     "output_type": "execute_result"
    }
   ],
   "source": [
    "embedings_model.wv.most_similar(['comitatul'], topn=3)"
   ]
  },
  {
   "cell_type": "code",
   "execution_count": 106,
   "metadata": {},
   "outputs": [
    {
     "data": {
      "text/plain": [
       "['localitatea',\n",
       " 'făcea',\n",
       " 'parte',\n",
       " 'perioada',\n",
       " 'comitatul',\n",
       " 'dăbâca,',\n",
       " 'moșia',\n",
       " 'fiind',\n",
       " 'împărțită',\n",
       " 'între',\n",
       " 'mulți',\n",
       " 'proprietari.']"
      ]
     },
     "execution_count": 106,
     "metadata": {},
     "output_type": "execute_result"
    }
   ],
   "source": [
    "clean_sentences.iloc[39325]"
   ]
  },
  {
   "cell_type": "code",
   "execution_count": 52,
   "metadata": {},
   "outputs": [],
   "source": [
    "import numpy as np\n",
    "def sentence_to_vector(sentence:str, sentence_length:int):\n",
    "    words = sentence.split()\n",
    "    vector=[]\n",
    "    vector_length = len(words)-1 if len(words) < sentence_length else sentence_length-1\n",
    "    for w in words[:vector_length]:\n",
    "        try:\n",
    "            vector.append(embedings_model.wv[w.lower()])\n",
    "        except Exception:\n",
    "            pass\n",
    "    last_pieces = sentence_length - len(vector)\n",
    "    for i in range(last_pieces):\n",
    "        vector.append(np.zeros(200,))\n",
    "        \n",
    "    return np.asarray(vector).flatten()"
   ]
  },
  {
   "cell_type": "code",
   "execution_count": 53,
   "metadata": {},
   "outputs": [
    {
     "data": {
      "text/plain": [
       "(300000,)"
      ]
     },
     "execution_count": 53,
     "metadata": {},
     "output_type": "execute_result"
    }
   ],
   "source": [
    "ss = sentence_to_vector(sentences[0],1500)\n",
    "ss.shape"
   ]
  },
  {
   "cell_type": "code",
   "execution_count": 57,
   "metadata": {},
   "outputs": [
    {
     "ename": "MemoryError",
     "evalue": "Unable to allocate 2.29 MiB for an array with shape (300000,) and data type float64",
     "output_type": "error",
     "traceback": [
      "\u001b[1;31m---------------------------------------------------------------------------\u001b[0m",
      "\u001b[1;31mMemoryError\u001b[0m                               Traceback (most recent call last)",
      "Cell \u001b[1;32mIn [57], line 1\u001b[0m\n\u001b[1;32m----> 1\u001b[0m train_vec \u001b[38;5;241m=\u001b[39m np\u001b[38;5;241m.\u001b[39masarray([sentence_to_vector(s,\u001b[38;5;241m1500\u001b[39m) \u001b[38;5;28;01mfor\u001b[39;00m s \u001b[38;5;129;01min\u001b[39;00m sentences[:\u001b[38;5;241m58114\u001b[39m]])\n\u001b[0;32m      2\u001b[0m valid_vec \u001b[38;5;241m=\u001b[39m np\u001b[38;5;241m.\u001b[39masarray([sentence_to_vector(s,\u001b[38;5;241m1500\u001b[39m) \u001b[38;5;28;01mfor\u001b[39;00m s \u001b[38;5;129;01min\u001b[39;00m sentences[\u001b[38;5;241m58114\u001b[39m:\u001b[38;5;241m61173\u001b[39m]])\n\u001b[0;32m      3\u001b[0m test_vec \u001b[38;5;241m=\u001b[39m np\u001b[38;5;241m.\u001b[39masarray([sentence_to_vector(s,\u001b[38;5;241m1500\u001b[39m) \u001b[38;5;28;01mfor\u001b[39;00m s \u001b[38;5;129;01min\u001b[39;00m sentences[\u001b[38;5;241m61173\u001b[39m:]])\n",
      "Cell \u001b[1;32mIn [57], line 1\u001b[0m, in \u001b[0;36m<listcomp>\u001b[1;34m(.0)\u001b[0m\n\u001b[1;32m----> 1\u001b[0m train_vec \u001b[38;5;241m=\u001b[39m np\u001b[38;5;241m.\u001b[39masarray([\u001b[43msentence_to_vector\u001b[49m\u001b[43m(\u001b[49m\u001b[43ms\u001b[49m\u001b[43m,\u001b[49m\u001b[38;5;241;43m1500\u001b[39;49m\u001b[43m)\u001b[49m \u001b[38;5;28;01mfor\u001b[39;00m s \u001b[38;5;129;01min\u001b[39;00m sentences[:\u001b[38;5;241m58114\u001b[39m]])\n\u001b[0;32m      2\u001b[0m valid_vec \u001b[38;5;241m=\u001b[39m np\u001b[38;5;241m.\u001b[39masarray([sentence_to_vector(s,\u001b[38;5;241m1500\u001b[39m) \u001b[38;5;28;01mfor\u001b[39;00m s \u001b[38;5;129;01min\u001b[39;00m sentences[\u001b[38;5;241m58114\u001b[39m:\u001b[38;5;241m61173\u001b[39m]])\n\u001b[0;32m      3\u001b[0m test_vec \u001b[38;5;241m=\u001b[39m np\u001b[38;5;241m.\u001b[39masarray([sentence_to_vector(s,\u001b[38;5;241m1500\u001b[39m) \u001b[38;5;28;01mfor\u001b[39;00m s \u001b[38;5;129;01min\u001b[39;00m sentences[\u001b[38;5;241m61173\u001b[39m:]])\n",
      "Cell \u001b[1;32mIn [52], line 15\u001b[0m, in \u001b[0;36msentence_to_vector\u001b[1;34m(sentence, sentence_length)\u001b[0m\n\u001b[0;32m     12\u001b[0m \u001b[38;5;28;01mfor\u001b[39;00m i \u001b[38;5;129;01min\u001b[39;00m \u001b[38;5;28mrange\u001b[39m(last_pieces):\n\u001b[0;32m     13\u001b[0m     vector\u001b[38;5;241m.\u001b[39mappend(np\u001b[38;5;241m.\u001b[39mzeros(\u001b[38;5;241m200\u001b[39m,))\n\u001b[1;32m---> 15\u001b[0m \u001b[38;5;28;01mreturn\u001b[39;00m \u001b[43mnp\u001b[49m\u001b[38;5;241;43m.\u001b[39;49m\u001b[43masarray\u001b[49m\u001b[43m(\u001b[49m\u001b[43mvector\u001b[49m\u001b[43m)\u001b[49m\u001b[38;5;241;43m.\u001b[39;49m\u001b[43mflatten\u001b[49m\u001b[43m(\u001b[49m\u001b[43m)\u001b[49m\n",
      "\u001b[1;31mMemoryError\u001b[0m: Unable to allocate 2.29 MiB for an array with shape (300000,) and data type float64"
     ]
    }
   ],
   "source": [
    "train_vec = np.asarray([sentence_to_vector(s,1500) for s in sentences[:58114]])\n",
    "valid_vec = np.asarray([sentence_to_vector(s,1500) for s in sentences[58114:61173]])\n",
    "test_vec = np.asarray([sentence_to_vector(s,1500) for s in sentences[61173:]])\n",
    "train_vec[0].shape"
   ]
  },
  {
   "cell_type": "code",
   "execution_count": 130,
   "metadata": {},
   "outputs": [],
   "source": []
  },
  {
   "cell_type": "code",
   "execution_count": 131,
   "metadata": {},
   "outputs": [
    {
     "data": {
      "text/plain": [
       "(58114, 2500)"
      ]
     },
     "execution_count": 131,
     "metadata": {},
     "output_type": "execute_result"
    }
   ],
   "source": [
    "train_vec.shape"
   ]
  },
  {
   "cell_type": "code",
   "execution_count": 132,
   "metadata": {},
   "outputs": [
    {
     "data": {
      "text/html": [
       "<style>#sk-container-id-1 {color: black;background-color: white;}#sk-container-id-1 pre{padding: 0;}#sk-container-id-1 div.sk-toggleable {background-color: white;}#sk-container-id-1 label.sk-toggleable__label {cursor: pointer;display: block;width: 100%;margin-bottom: 0;padding: 0.3em;box-sizing: border-box;text-align: center;}#sk-container-id-1 label.sk-toggleable__label-arrow:before {content: \"▸\";float: left;margin-right: 0.25em;color: #696969;}#sk-container-id-1 label.sk-toggleable__label-arrow:hover:before {color: black;}#sk-container-id-1 div.sk-estimator:hover label.sk-toggleable__label-arrow:before {color: black;}#sk-container-id-1 div.sk-toggleable__content {max-height: 0;max-width: 0;overflow: hidden;text-align: left;background-color: #f0f8ff;}#sk-container-id-1 div.sk-toggleable__content pre {margin: 0.2em;color: black;border-radius: 0.25em;background-color: #f0f8ff;}#sk-container-id-1 input.sk-toggleable__control:checked~div.sk-toggleable__content {max-height: 200px;max-width: 100%;overflow: auto;}#sk-container-id-1 input.sk-toggleable__control:checked~label.sk-toggleable__label-arrow:before {content: \"▾\";}#sk-container-id-1 div.sk-estimator input.sk-toggleable__control:checked~label.sk-toggleable__label {background-color: #d4ebff;}#sk-container-id-1 div.sk-label input.sk-toggleable__control:checked~label.sk-toggleable__label {background-color: #d4ebff;}#sk-container-id-1 input.sk-hidden--visually {border: 0;clip: rect(1px 1px 1px 1px);clip: rect(1px, 1px, 1px, 1px);height: 1px;margin: -1px;overflow: hidden;padding: 0;position: absolute;width: 1px;}#sk-container-id-1 div.sk-estimator {font-family: monospace;background-color: #f0f8ff;border: 1px dotted black;border-radius: 0.25em;box-sizing: border-box;margin-bottom: 0.5em;}#sk-container-id-1 div.sk-estimator:hover {background-color: #d4ebff;}#sk-container-id-1 div.sk-parallel-item::after {content: \"\";width: 100%;border-bottom: 1px solid gray;flex-grow: 1;}#sk-container-id-1 div.sk-label:hover label.sk-toggleable__label {background-color: #d4ebff;}#sk-container-id-1 div.sk-serial::before {content: \"\";position: absolute;border-left: 1px solid gray;box-sizing: border-box;top: 0;bottom: 0;left: 50%;z-index: 0;}#sk-container-id-1 div.sk-serial {display: flex;flex-direction: column;align-items: center;background-color: white;padding-right: 0.2em;padding-left: 0.2em;position: relative;}#sk-container-id-1 div.sk-item {position: relative;z-index: 1;}#sk-container-id-1 div.sk-parallel {display: flex;align-items: stretch;justify-content: center;background-color: white;position: relative;}#sk-container-id-1 div.sk-item::before, #sk-container-id-1 div.sk-parallel-item::before {content: \"\";position: absolute;border-left: 1px solid gray;box-sizing: border-box;top: 0;bottom: 0;left: 50%;z-index: -1;}#sk-container-id-1 div.sk-parallel-item {display: flex;flex-direction: column;z-index: 1;position: relative;background-color: white;}#sk-container-id-1 div.sk-parallel-item:first-child::after {align-self: flex-end;width: 50%;}#sk-container-id-1 div.sk-parallel-item:last-child::after {align-self: flex-start;width: 50%;}#sk-container-id-1 div.sk-parallel-item:only-child::after {width: 0;}#sk-container-id-1 div.sk-dashed-wrapped {border: 1px dashed gray;margin: 0 0.4em 0.5em 0.4em;box-sizing: border-box;padding-bottom: 0.4em;background-color: white;}#sk-container-id-1 div.sk-label label {font-family: monospace;font-weight: bold;display: inline-block;line-height: 1.2em;}#sk-container-id-1 div.sk-label-container {text-align: center;}#sk-container-id-1 div.sk-container {/* jupyter's `normalize.less` sets `[hidden] { display: none; }` but bootstrap.min.css set `[hidden] { display: none !important; }` so we also need the `!important` here to be able to override the default hidden behavior on the sphinx rendered scikit-learn.org. See: https://github.com/scikit-learn/scikit-learn/issues/21755 */display: inline-block !important;position: relative;}#sk-container-id-1 div.sk-text-repr-fallback {display: none;}</style><div id=\"sk-container-id-1\" class=\"sk-top-container\"><div class=\"sk-text-repr-fallback\"><pre>PCA(n_components=50)</pre><b>In a Jupyter environment, please rerun this cell to show the HTML representation or trust the notebook. <br />On GitHub, the HTML representation is unable to render, please try loading this page with nbviewer.org.</b></div><div class=\"sk-container\" hidden><div class=\"sk-item\"><div class=\"sk-estimator sk-toggleable\"><input class=\"sk-toggleable__control sk-hidden--visually\" id=\"sk-estimator-id-1\" type=\"checkbox\" checked><label for=\"sk-estimator-id-1\" class=\"sk-toggleable__label sk-toggleable__label-arrow\">PCA</label><div class=\"sk-toggleable__content\"><pre>PCA(n_components=50)</pre></div></div></div></div></div>"
      ],
      "text/plain": [
       "PCA(n_components=50)"
      ]
     },
     "execution_count": 132,
     "metadata": {},
     "output_type": "execute_result"
    }
   ],
   "source": [
    "from sklearn.decomposition import PCA\n",
    "pca_model = PCA(n_components=50)\n",
    "pca_model.fit(train_vec)"
   ]
  },
  {
   "cell_type": "code",
   "execution_count": 133,
   "metadata": {},
   "outputs": [],
   "source": [
    "train_vec = pca_model.fit_transform(train_vec)\n",
    "valid_vec = pca_model.fit_transform(valid_vec)\n",
    "test_vec = pca_model.fit_transform(test_vec)"
   ]
  },
  {
   "cell_type": "code",
   "execution_count": 134,
   "metadata": {},
   "outputs": [],
   "source": [
    "train_y = df.iloc[:58114]['label']\n",
    "valid_y = df.iloc[58114:61173]['label']"
   ]
  },
  {
   "cell_type": "code",
   "execution_count": 135,
   "metadata": {},
   "outputs": [
    {
     "name": "stderr",
     "output_type": "stream",
     "text": [
      "c:\\Python310\\lib\\site-packages\\sklearn\\svm\\_base.py:1225: ConvergenceWarning: Liblinear failed to converge, increase the number of iterations.\n",
      "  warnings.warn(\n"
     ]
    }
   ],
   "source": [
    "from sklearn.svm import LinearSVC, SVC, NuSVC\n",
    "model = LinearSVC(C=10)\n",
    "model.fit(train_vec, train_y)\n",
    "preds = model.predict(valid_vec)"
   ]
  },
  {
   "cell_type": "code",
   "execution_count": 136,
   "metadata": {},
   "outputs": [
    {
     "name": "stdout",
     "output_type": "stream",
     "text": [
      "0.3\n",
      "30.98\n"
     ]
    }
   ],
   "source": [
    "from sklearn.metrics import balanced_accuracy_score #ACC\n",
    "from sklearn.metrics import f1_score #MCC\n",
    "# https://scikit-learn.org/stable/modules/model_evaluation.html#matthews-corrcoef\n",
    "from sklearn.metrics import multilabel_confusion_matrix\n",
    "balanced_accuracy = round(100*balanced_accuracy_score(valid_y, preds), 2)\n",
    "f1 = round(f1_score(valid_y, preds, average='macro'), 2)\n",
    "print(f1)\n",
    "print(balanced_accuracy)"
   ]
  },
  {
   "cell_type": "code",
   "execution_count": 121,
   "metadata": {},
   "outputs": [],
   "source": [
    "test_preds = model.predict(test_vec)\n",
    "test_guids = df_test['guid']"
   ]
  },
  {
   "cell_type": "code",
   "execution_count": 122,
   "metadata": {},
   "outputs": [],
   "source": [
    "import csv\n",
    "fields = ['guid', 'label']\n",
    "rows = [ [test_guids.iloc[index], int(test_preds[index])] for index in range(len(test_guids))]\n",
    "\n",
    "filename = \"Word_embedings 40x40.csv\"\n",
    "\n",
    "with open(filename, 'w') as csvfile:   \n",
    "    csvwriter = csv.writer(csvfile)  \n",
    "        \n",
    "    csvwriter.writerow(fields)  \n",
    "         \n",
    "    csvwriter.writerows(rows) "
   ]
  },
  {
   "cell_type": "markdown",
   "metadata": {},
   "source": [
    "#### Feature engineering"
   ]
  },
  {
   "cell_type": "code",
   "execution_count": 7,
   "metadata": {},
   "outputs": [
    {
     "name": "stderr",
     "output_type": "stream",
     "text": [
      "[nltk_data] Downloading package stopwords to\n",
      "[nltk_data]     C:\\Users\\Dragos\\AppData\\Roaming\\nltk_data...\n",
      "[nltk_data]   Package stopwords is already up-to-date!\n"
     ]
    },
    {
     "ename": "ValueError",
     "evalue": "x and y must have the same length.",
     "output_type": "error",
     "traceback": [
      "\u001b[1;31m---------------------------------------------------------------------------\u001b[0m",
      "\u001b[1;31mValueError\u001b[0m                                Traceback (most recent call last)",
      "Cell \u001b[1;32mIn [7], line 58\u001b[0m\n\u001b[0;32m     56\u001b[0m s1,s2 \u001b[38;5;241m=\u001b[39m get_clean_sentences(sentences[\u001b[38;5;241m20\u001b[39m])\n\u001b[0;32m     57\u001b[0m cos \u001b[38;5;241m=\u001b[39m get_cosine_similarity(s1, s2)\n\u001b[1;32m---> 58\u001b[0m ps \u001b[38;5;241m=\u001b[39m \u001b[43mget_pearson_correlation\u001b[49m\u001b[43m(\u001b[49m\u001b[43ms1\u001b[49m\u001b[43m,\u001b[49m\u001b[43m \u001b[49m\u001b[43ms2\u001b[49m\u001b[43m)\u001b[49m\n\u001b[0;32m     59\u001b[0m sp \u001b[38;5;241m=\u001b[39m get_spearman_correlation(s1, s2)\n\u001b[0;32m     60\u001b[0m \u001b[38;5;28mprint\u001b[39m(\u001b[38;5;124mf\u001b[39m\u001b[38;5;124m\"\u001b[39m\u001b[38;5;132;01m{\u001b[39;00mcos\u001b[38;5;132;01m}\u001b[39;00m\u001b[38;5;124m \u001b[39m\u001b[38;5;132;01m{\u001b[39;00mps\u001b[38;5;132;01m}\u001b[39;00m\u001b[38;5;124m \u001b[39m\u001b[38;5;132;01m{\u001b[39;00msp\u001b[38;5;132;01m}\u001b[39;00m\u001b[38;5;124m\"\u001b[39m)\n",
      "Cell \u001b[1;32mIn [7], line 51\u001b[0m, in \u001b[0;36mget_pearson_correlation\u001b[1;34m(sentence1, sentence2)\u001b[0m\n\u001b[0;32m     49\u001b[0m words1 \u001b[38;5;241m=\u001b[39m \u001b[38;5;28mset\u001b[39m(sentence1\u001b[38;5;241m.\u001b[39mlower()\u001b[38;5;241m.\u001b[39msplit())\n\u001b[0;32m     50\u001b[0m words2 \u001b[38;5;241m=\u001b[39m \u001b[38;5;28mset\u001b[39m(sentence2\u001b[38;5;241m.\u001b[39mlower()\u001b[38;5;241m.\u001b[39msplit())\n\u001b[1;32m---> 51\u001b[0m \u001b[38;5;28;01mreturn\u001b[39;00m \u001b[43mpearsonr\u001b[49m\u001b[43m(\u001b[49m\u001b[43mwords1\u001b[49m\u001b[43m,\u001b[49m\u001b[43m \u001b[49m\u001b[43mwords2\u001b[49m\u001b[43m)\u001b[49m[\u001b[38;5;241m0\u001b[39m]\n",
      "File \u001b[1;32mc:\\Python310\\lib\\site-packages\\scipy\\stats\\_stats_py.py:4412\u001b[0m, in \u001b[0;36mpearsonr\u001b[1;34m(x, y, alternative)\u001b[0m\n\u001b[0;32m   4410\u001b[0m n \u001b[38;5;241m=\u001b[39m \u001b[38;5;28mlen\u001b[39m(x)\n\u001b[0;32m   4411\u001b[0m \u001b[38;5;28;01mif\u001b[39;00m n \u001b[38;5;241m!=\u001b[39m \u001b[38;5;28mlen\u001b[39m(y):\n\u001b[1;32m-> 4412\u001b[0m     \u001b[38;5;28;01mraise\u001b[39;00m \u001b[38;5;167;01mValueError\u001b[39;00m(\u001b[38;5;124m'\u001b[39m\u001b[38;5;124mx and y must have the same length.\u001b[39m\u001b[38;5;124m'\u001b[39m)\n\u001b[0;32m   4414\u001b[0m \u001b[38;5;28;01mif\u001b[39;00m n \u001b[38;5;241m<\u001b[39m \u001b[38;5;241m2\u001b[39m:\n\u001b[0;32m   4415\u001b[0m     \u001b[38;5;28;01mraise\u001b[39;00m \u001b[38;5;167;01mValueError\u001b[39;00m(\u001b[38;5;124m'\u001b[39m\u001b[38;5;124mx and y must have length at least 2.\u001b[39m\u001b[38;5;124m'\u001b[39m)\n",
      "\u001b[1;31mValueError\u001b[0m: x and y must have the same length."
     ]
    }
   ],
   "source": [
    "import nltk\n",
    "from nltk.corpus import stopwords\n",
    "from sklearn.feature_extraction.text import CountVectorizer\n",
    "from sklearn.metrics.pairwise import cosine_similarity\n",
    "from sklearn.feature_extraction.text import TfidfVectorizer\n",
    "from scipy.stats import pearsonr, spearmanr\n",
    "\n",
    "nltk.download('stopwords')\n",
    "stopwords = set(stopwords.words('romanian'))\n",
    "\n",
    "def remove_stopwords(text):\n",
    "    return \" \".join([word for word in str(text).split() if word not in stopwords])\n",
    "\n",
    "def get_clean_sentences(pair:str):\n",
    "    pair = pair.split(sep='\\n')\n",
    "    s1 = remove_stopwords(pair[0])\n",
    "    s2 = remove_stopwords(pair[1])\n",
    "    return s1,s2\n",
    "\n",
    "def get_jaccard_similarity(sentence1:str, sentence2:str):\n",
    "    words1 = set(sentence1.lower().split())\n",
    "    words2 = set(sentence2.lower().split())\n",
    "    intersection_size = len(words1.intersection(words2))\n",
    "    union_size = len(words1.union(words2))\n",
    "    jaccard_similarity = intersection_size / union_size if union_size != 0 else 0.0\n",
    "    return jaccard_similarity\n",
    "\n",
    "def get_cosine_similarity(s1:str, s2:str):\n",
    "    vectorizer = TfidfVectorizer()\n",
    "    try:\n",
    "        tf_idf = vectorizer.fit_transform([s1, s2])\n",
    "        tf_idf1 = tf_idf[0]\n",
    "        tf_idf2 = tf_idf[1]\n",
    "        cos = cosine_similarity(tf_idf1, tf_idf2)\n",
    "        return cos[0][0]\n",
    "    except ValueError:\n",
    "        return 0\n",
    "\n",
    "def cosine_similarity_ngrams(sentence1:str, sentence2:str, n):\n",
    "    count_vectorizer = CountVectorizer(ngram_range=(n, n))\n",
    "    try:\n",
    "        ngrams_matrix = count_vectorizer.fit_transform([sentence1, sentence2])\n",
    "        cosine_sim = cosine_similarity(ngrams_matrix)[0, 1]\n",
    "        return cosine_sim\n",
    "    except ValueError:\n",
    "        return 0\n",
    "    \n",
    "def get_pearson_correlation(sentence1:str, sentence2:str):\n",
    "    words1 = set(sentence1.lower().split())\n",
    "    words2 = set(sentence2.lower().split())\n",
    "    return pearsonr(words1, words2)[0]\n",
    "\n",
    "def get_spearman_correlation(sentence1:str, sentence2:str):\n",
    "    return spearmanr(sentence1, sentence2)[0]\n",
    "\n",
    "s1,s2 = get_clean_sentences(sentences[20])\n",
    "cos = get_cosine_similarity(s1, s2)\n",
    "ps = get_pearson_correlation(s1, s2)\n",
    "sp = get_spearman_correlation(s1, s2)\n",
    "print(f\"{cos} {ps} {sp}\")\n"
   ]
  },
  {
   "cell_type": "code",
   "execution_count": 49,
   "metadata": {},
   "outputs": [
    {
     "name": "stdout",
     "output_type": "stream",
     "text": [
      "[[0.]]\n"
     ]
    }
   ],
   "source": [
    "s1,s2 = get_clean_sentences(sentences[0])\n",
    "cos = get_cosine_similarity(df_train['sentence1'].iloc[0], df_train['sentence2'].iloc[0])\n",
    "print(cos)"
   ]
  },
  {
   "cell_type": "code",
   "execution_count": 46,
   "metadata": {},
   "outputs": [
    {
     "ename": "KeyboardInterrupt",
     "evalue": "",
     "output_type": "error",
     "traceback": [
      "\u001b[1;31m---------------------------------------------------------------------------\u001b[0m",
      "\u001b[1;31mKeyboardInterrupt\u001b[0m                         Traceback (most recent call last)",
      "\u001b[1;32md:\\Master\\PracticalMachineLearning\\Proiect1\\proiect.ipynb Cell 13\u001b[0m line \u001b[0;36m1\n\u001b[0;32m     <a href='vscode-notebook-cell:/d%3A/Master/PracticalMachineLearning/Proiect1/proiect.ipynb#X16sZmlsZQ%3D%3D?line=9'>10</a>\u001b[0m         features\u001b[39m.\u001b[39mappend([jac_similarity, unigram_cos_similarity, bigram_cos_similarity, trigram_cos_similarity])\n\u001b[0;32m     <a href='vscode-notebook-cell:/d%3A/Master/PracticalMachineLearning/Proiect1/proiect.ipynb#X16sZmlsZQ%3D%3D?line=11'>12</a>\u001b[0m     \u001b[39mreturn\u001b[39;00m features\n\u001b[1;32m---> <a href='vscode-notebook-cell:/d%3A/Master/PracticalMachineLearning/Proiect1/proiect.ipynb#X16sZmlsZQ%3D%3D?line=13'>14</a>\u001b[0m train_features \u001b[39m=\u001b[39m get_features(sentences[:\u001b[39m58114\u001b[39;49m])\n\u001b[0;32m     <a href='vscode-notebook-cell:/d%3A/Master/PracticalMachineLearning/Proiect1/proiect.ipynb#X16sZmlsZQ%3D%3D?line=14'>15</a>\u001b[0m valid_features \u001b[39m=\u001b[39m get_features(sentences[\u001b[39m58114\u001b[39m:\u001b[39m61173\u001b[39m])\n",
      "\u001b[1;32md:\\Master\\PracticalMachineLearning\\Proiect1\\proiect.ipynb Cell 13\u001b[0m line \u001b[0;36m6\n\u001b[0;32m      <a href='vscode-notebook-cell:/d%3A/Master/PracticalMachineLearning/Proiect1/proiect.ipynb#X16sZmlsZQ%3D%3D?line=3'>4</a>\u001b[0m s1,s2 \u001b[39m=\u001b[39m get_clean_sentences(pair)\n\u001b[0;32m      <a href='vscode-notebook-cell:/d%3A/Master/PracticalMachineLearning/Proiect1/proiect.ipynb#X16sZmlsZQ%3D%3D?line=4'>5</a>\u001b[0m jac_similarity \u001b[39m=\u001b[39m get_jaccard_similarity(s1, s2)\n\u001b[1;32m----> <a href='vscode-notebook-cell:/d%3A/Master/PracticalMachineLearning/Proiect1/proiect.ipynb#X16sZmlsZQ%3D%3D?line=5'>6</a>\u001b[0m cos_similarity \u001b[39m=\u001b[39m get_cosine_similarity(s1, s2)\n\u001b[0;32m      <a href='vscode-notebook-cell:/d%3A/Master/PracticalMachineLearning/Proiect1/proiect.ipynb#X16sZmlsZQ%3D%3D?line=6'>7</a>\u001b[0m unigram_cos_similarity \u001b[39m=\u001b[39m cosine_similarity_ngrams(s1, s2, \u001b[39m1\u001b[39m)\n\u001b[0;32m      <a href='vscode-notebook-cell:/d%3A/Master/PracticalMachineLearning/Proiect1/proiect.ipynb#X16sZmlsZQ%3D%3D?line=7'>8</a>\u001b[0m bigram_cos_similarity \u001b[39m=\u001b[39m cosine_similarity_ngrams(s1, s2, \u001b[39m2\u001b[39m)\n",
      "\u001b[1;32md:\\Master\\PracticalMachineLearning\\Proiect1\\proiect.ipynb Cell 13\u001b[0m line \u001b[0;36m3\n\u001b[0;32m     <a href='vscode-notebook-cell:/d%3A/Master/PracticalMachineLearning/Proiect1/proiect.ipynb#X16sZmlsZQ%3D%3D?line=27'>28</a>\u001b[0m vectorizer \u001b[39m=\u001b[39m TfidfVectorizer()\n\u001b[0;32m     <a href='vscode-notebook-cell:/d%3A/Master/PracticalMachineLearning/Proiect1/proiect.ipynb#X16sZmlsZQ%3D%3D?line=28'>29</a>\u001b[0m \u001b[39mtry\u001b[39;00m:\n\u001b[1;32m---> <a href='vscode-notebook-cell:/d%3A/Master/PracticalMachineLearning/Proiect1/proiect.ipynb#X16sZmlsZQ%3D%3D?line=29'>30</a>\u001b[0m     tf_idf \u001b[39m=\u001b[39m vectorizer\u001b[39m.\u001b[39;49mfit_transform([s1, s2])\n\u001b[0;32m     <a href='vscode-notebook-cell:/d%3A/Master/PracticalMachineLearning/Proiect1/proiect.ipynb#X16sZmlsZQ%3D%3D?line=30'>31</a>\u001b[0m     tf_idf1 \u001b[39m=\u001b[39m tf_idf[\u001b[39m0\u001b[39m]\n\u001b[0;32m     <a href='vscode-notebook-cell:/d%3A/Master/PracticalMachineLearning/Proiect1/proiect.ipynb#X16sZmlsZQ%3D%3D?line=31'>32</a>\u001b[0m     tf_idf2 \u001b[39m=\u001b[39m tf_idf[\u001b[39m1\u001b[39m]\n",
      "File \u001b[1;32mc:\\Python310\\lib\\site-packages\\sklearn\\feature_extraction\\text.py:2080\u001b[0m, in \u001b[0;36mTfidfVectorizer.fit_transform\u001b[1;34m(self, raw_documents, y)\u001b[0m\n\u001b[0;32m   2073\u001b[0m \u001b[39mself\u001b[39m\u001b[39m.\u001b[39m_tfidf \u001b[39m=\u001b[39m TfidfTransformer(\n\u001b[0;32m   2074\u001b[0m     norm\u001b[39m=\u001b[39m\u001b[39mself\u001b[39m\u001b[39m.\u001b[39mnorm,\n\u001b[0;32m   2075\u001b[0m     use_idf\u001b[39m=\u001b[39m\u001b[39mself\u001b[39m\u001b[39m.\u001b[39muse_idf,\n\u001b[0;32m   2076\u001b[0m     smooth_idf\u001b[39m=\u001b[39m\u001b[39mself\u001b[39m\u001b[39m.\u001b[39msmooth_idf,\n\u001b[0;32m   2077\u001b[0m     sublinear_tf\u001b[39m=\u001b[39m\u001b[39mself\u001b[39m\u001b[39m.\u001b[39msublinear_tf,\n\u001b[0;32m   2078\u001b[0m )\n\u001b[0;32m   2079\u001b[0m X \u001b[39m=\u001b[39m \u001b[39msuper\u001b[39m()\u001b[39m.\u001b[39mfit_transform(raw_documents)\n\u001b[1;32m-> 2080\u001b[0m \u001b[39mself\u001b[39;49m\u001b[39m.\u001b[39;49m_tfidf\u001b[39m.\u001b[39;49mfit(X)\n\u001b[0;32m   2081\u001b[0m \u001b[39m# X is already a transformed view of raw_documents so\u001b[39;00m\n\u001b[0;32m   2082\u001b[0m \u001b[39m# we set copy to False\u001b[39;00m\n\u001b[0;32m   2083\u001b[0m \u001b[39mreturn\u001b[39;00m \u001b[39mself\u001b[39m\u001b[39m.\u001b[39m_tfidf\u001b[39m.\u001b[39mtransform(X, copy\u001b[39m=\u001b[39m\u001b[39mFalse\u001b[39;00m)\n",
      "File \u001b[1;32mc:\\Python310\\lib\\site-packages\\sklearn\\feature_extraction\\text.py:1642\u001b[0m, in \u001b[0;36mTfidfTransformer.fit\u001b[1;34m(self, X, y)\u001b[0m\n\u001b[0;32m   1639\u001b[0m     \u001b[39m# log+1 instead of log makes sure terms with zero idf don't get\u001b[39;00m\n\u001b[0;32m   1640\u001b[0m     \u001b[39m# suppressed entirely.\u001b[39;00m\n\u001b[0;32m   1641\u001b[0m     idf \u001b[39m=\u001b[39m np\u001b[39m.\u001b[39mlog(n_samples \u001b[39m/\u001b[39m df) \u001b[39m+\u001b[39m \u001b[39m1\u001b[39m\n\u001b[1;32m-> 1642\u001b[0m     \u001b[39mself\u001b[39m\u001b[39m.\u001b[39m_idf_diag \u001b[39m=\u001b[39m sp\u001b[39m.\u001b[39;49mdiags(\n\u001b[0;32m   1643\u001b[0m         idf,\n\u001b[0;32m   1644\u001b[0m         offsets\u001b[39m=\u001b[39;49m\u001b[39m0\u001b[39;49m,\n\u001b[0;32m   1645\u001b[0m         shape\u001b[39m=\u001b[39;49m(n_features, n_features),\n\u001b[0;32m   1646\u001b[0m         \u001b[39mformat\u001b[39;49m\u001b[39m=\u001b[39;49m\u001b[39m\"\u001b[39;49m\u001b[39mcsr\u001b[39;49m\u001b[39m\"\u001b[39;49m,\n\u001b[0;32m   1647\u001b[0m         dtype\u001b[39m=\u001b[39;49mdtype,\n\u001b[0;32m   1648\u001b[0m     )\n\u001b[0;32m   1650\u001b[0m \u001b[39mreturn\u001b[39;00m \u001b[39mself\u001b[39m\n",
      "File \u001b[1;32mc:\\Python310\\lib\\site-packages\\scipy\\sparse\\_construct.py:195\u001b[0m, in \u001b[0;36mdiags\u001b[1;34m(diagonals, offsets, shape, format, dtype)\u001b[0m\n\u001b[0;32m    189\u001b[0m             \u001b[39mraise\u001b[39;00m \u001b[39mValueError\u001b[39;00m(\n\u001b[0;32m    190\u001b[0m                 \u001b[39m\"\u001b[39m\u001b[39mDiagonal length (index \u001b[39m\u001b[39m%d\u001b[39;00m\u001b[39m: \u001b[39m\u001b[39m%d\u001b[39;00m\u001b[39m at offset \u001b[39m\u001b[39m%d\u001b[39;00m\u001b[39m) does not \u001b[39m\u001b[39m\"\u001b[39m\n\u001b[0;32m    191\u001b[0m                 \u001b[39m\"\u001b[39m\u001b[39magree with matrix size (\u001b[39m\u001b[39m%d\u001b[39;00m\u001b[39m, \u001b[39m\u001b[39m%d\u001b[39;00m\u001b[39m).\u001b[39m\u001b[39m\"\u001b[39m \u001b[39m%\u001b[39m (\n\u001b[0;32m    192\u001b[0m                 j, \u001b[39mlen\u001b[39m(diagonal), offset, m, n)) \u001b[39mfrom\u001b[39;00m \u001b[39me\u001b[39;00m\n\u001b[0;32m    193\u001b[0m         \u001b[39mraise\u001b[39;00m\n\u001b[1;32m--> 195\u001b[0m \u001b[39mreturn\u001b[39;00m dia_matrix((data_arr, offsets), shape\u001b[39m=\u001b[39;49m(m, n))\u001b[39m.\u001b[39masformat(\u001b[39mformat\u001b[39m)\n",
      "File \u001b[1;32mc:\\Python310\\lib\\site-packages\\scipy\\sparse\\_dia.py:155\u001b[0m, in \u001b[0;36mdia_matrix.__init__\u001b[1;34m(self, arg1, shape, dtype, copy)\u001b[0m\n\u001b[0;32m    150\u001b[0m \u001b[39mif\u001b[39;00m \u001b[39mself\u001b[39m\u001b[39m.\u001b[39mdata\u001b[39m.\u001b[39mshape[\u001b[39m0\u001b[39m] \u001b[39m!=\u001b[39m \u001b[39mlen\u001b[39m(\u001b[39mself\u001b[39m\u001b[39m.\u001b[39moffsets):\n\u001b[0;32m    151\u001b[0m     \u001b[39mraise\u001b[39;00m \u001b[39mValueError\u001b[39;00m(\u001b[39m'\u001b[39m\u001b[39mnumber of diagonals (\u001b[39m\u001b[39m%d\u001b[39;00m\u001b[39m) \u001b[39m\u001b[39m'\u001b[39m\n\u001b[0;32m    152\u001b[0m             \u001b[39m'\u001b[39m\u001b[39mdoes not match the number of offsets (\u001b[39m\u001b[39m%d\u001b[39;00m\u001b[39m)\u001b[39m\u001b[39m'\u001b[39m\n\u001b[0;32m    153\u001b[0m             \u001b[39m%\u001b[39m (\u001b[39mself\u001b[39m\u001b[39m.\u001b[39mdata\u001b[39m.\u001b[39mshape[\u001b[39m0\u001b[39m], \u001b[39mlen\u001b[39m(\u001b[39mself\u001b[39m\u001b[39m.\u001b[39moffsets)))\n\u001b[1;32m--> 155\u001b[0m \u001b[39mif\u001b[39;00m \u001b[39mlen\u001b[39m(np\u001b[39m.\u001b[39;49munique(\u001b[39mself\u001b[39;49m\u001b[39m.\u001b[39;49moffsets)) \u001b[39m!=\u001b[39m \u001b[39mlen\u001b[39m(\u001b[39mself\u001b[39m\u001b[39m.\u001b[39moffsets):\n\u001b[0;32m    156\u001b[0m     \u001b[39mraise\u001b[39;00m \u001b[39mValueError\u001b[39;00m(\u001b[39m'\u001b[39m\u001b[39moffset array contains duplicate values\u001b[39m\u001b[39m'\u001b[39m)\n",
      "File \u001b[1;32m<__array_function__ internals>:180\u001b[0m, in \u001b[0;36munique\u001b[1;34m(*args, **kwargs)\u001b[0m\n",
      "File \u001b[1;32mc:\\Python310\\lib\\site-packages\\numpy\\lib\\arraysetops.py:274\u001b[0m, in \u001b[0;36munique\u001b[1;34m(ar, return_index, return_inverse, return_counts, axis, equal_nan)\u001b[0m\n\u001b[0;32m    272\u001b[0m ar \u001b[39m=\u001b[39m np\u001b[39m.\u001b[39masanyarray(ar)\n\u001b[0;32m    273\u001b[0m \u001b[39mif\u001b[39;00m axis \u001b[39mis\u001b[39;00m \u001b[39mNone\u001b[39;00m:\n\u001b[1;32m--> 274\u001b[0m     ret \u001b[39m=\u001b[39m _unique1d(ar, return_index, return_inverse, return_counts, \n\u001b[0;32m    275\u001b[0m                     equal_nan\u001b[39m=\u001b[39;49mequal_nan)\n\u001b[0;32m    276\u001b[0m     \u001b[39mreturn\u001b[39;00m _unpack_tuple(ret)\n\u001b[0;32m    278\u001b[0m \u001b[39m# axis was specified and not None\u001b[39;00m\n",
      "File \u001b[1;32mc:\\Python310\\lib\\site-packages\\numpy\\lib\\arraysetops.py:355\u001b[0m, in \u001b[0;36m_unique1d\u001b[1;34m(ar, return_index, return_inverse, return_counts, equal_nan)\u001b[0m\n\u001b[0;32m    352\u001b[0m     mask[\u001b[39m1\u001b[39m:] \u001b[39m=\u001b[39m aux[\u001b[39m1\u001b[39m:] \u001b[39m!=\u001b[39m aux[:\u001b[39m-\u001b[39m\u001b[39m1\u001b[39m]\n\u001b[0;32m    354\u001b[0m ret \u001b[39m=\u001b[39m (aux[mask],)\n\u001b[1;32m--> 355\u001b[0m \u001b[39mif\u001b[39;00m return_index:\n\u001b[0;32m    356\u001b[0m     ret \u001b[39m+\u001b[39m\u001b[39m=\u001b[39m (perm[mask],)\n\u001b[0;32m    357\u001b[0m \u001b[39mif\u001b[39;00m return_inverse:\n",
      "\u001b[1;31mKeyboardInterrupt\u001b[0m: "
     ]
    }
   ],
   "source": [
    "def get_features(sentences:str):\n",
    "    features = []\n",
    "    for pair in sentences:\n",
    "        s1,s2 = get_clean_sentences(pair)\n",
    "        jac_similarity = get_jaccard_similarity(s1, s2)\n",
    "        cos_similarity = get_cosine_similarity(s1, s2)\n",
    "        unigram_cos_similarity = cosine_similarity_ngrams(s1, s2, 1)\n",
    "        bigram_cos_similarity = cosine_similarity_ngrams(s1, s2, 2)\n",
    "        trigram_cos_similarity = cosine_similarity_ngrams(s1, s2, 3)\n",
    "        features.append([jac_similarity, unigram_cos_similarity, bigram_cos_similarity, trigram_cos_similarity])\n",
    "\n",
    "    return features\n",
    "\n",
    "train_features = get_features(sentences[:58114])\n",
    "valid_features = get_features(sentences[58114:61173])\n"
   ]
  },
  {
   "cell_type": "code",
   "execution_count": 35,
   "metadata": {},
   "outputs": [],
   "source": [
    "test_features = get_features(sentences[61173:])"
   ]
  },
  {
   "cell_type": "code",
   "execution_count": 36,
   "metadata": {},
   "outputs": [
    {
     "data": {
      "text/plain": [
       "array([[0.        , 0.        , 0.        , 0.        ],\n",
       "       [0.        , 0.        , 0.        , 0.        ],\n",
       "       [0.02857143, 0.08753762, 0.        , 0.        ],\n",
       "       ...,\n",
       "       [0.        , 0.        , 0.        , 0.        ],\n",
       "       [0.03448276, 0.12038585, 0.        , 0.        ],\n",
       "       [0.        , 0.        , 0.        , 0.        ]])"
      ]
     },
     "execution_count": 36,
     "metadata": {},
     "output_type": "execute_result"
    }
   ],
   "source": [
    "np.array(train_features)\n"
   ]
  },
  {
   "cell_type": "code",
   "execution_count": 89,
   "metadata": {},
   "outputs": [],
   "source": [
    "vectorizer = TfidfVectorizer(stop_words=None)\n",
    "train_data_tf_idf = vectorizer.fit_transform(train_features)\n",
    "valid_data_tf_idf = vectorizer.transform(valid_features)\n",
    "test_data_tf_idf = vectorizer.transform(test_features)"
   ]
  },
  {
   "cell_type": "markdown",
   "metadata": {},
   "source": [
    "### SVM"
   ]
  },
  {
   "cell_type": "markdown",
   "metadata": {},
   "source": [
    "#### Try reversed Sentences"
   ]
  },
  {
   "cell_type": "code",
   "execution_count": 81,
   "metadata": {},
   "outputs": [
    {
     "data": {
      "text/plain": [
       "'Primul taragotist român a fost Nicolae Luță Ioviță, originar din Banat. \\n Colegiul de arhitectură, artă și planificare (College of Architecture, Art and Planning) are asigurate studiouri și spații pentru seminare pentru studenți și cadre didactice  pe strada West 17th, lângă Union Square.'"
      ]
     },
     "execution_count": 81,
     "metadata": {},
     "output_type": "execute_result"
    }
   ],
   "source": [
    "sentences[0]"
   ]
  },
  {
   "cell_type": "code",
   "execution_count": 13,
   "metadata": {},
   "outputs": [],
   "source": [
    "sentences = sentences[:58114] + reversed_sentences[:58114]\n",
    "\n",
    "train_data_tf_idf = vectorizer.fit_transform(sentences)\n",
    "valid_data_tf_idf = vectorizer.transform(sentences[58114:61173])\n",
    "test_data_tf_idf = vectorizer.transform(sentences[61173:])"
   ]
  },
  {
   "cell_type": "code",
   "execution_count": 20,
   "metadata": {},
   "outputs": [],
   "source": [
    "train_y = labels[:58114] + labels[:58114]\n",
    "valid_y = df.iloc[58114:61173]['label']"
   ]
  },
  {
   "cell_type": "markdown",
   "metadata": {},
   "source": [
    "##### Normalized Data tryout"
   ]
  },
  {
   "cell_type": "code",
   "execution_count": 44,
   "metadata": {},
   "outputs": [],
   "source": [
    "from sklearn.svm import LinearSVC, SVC\n",
    "model = LinearSVC(C=10)\n",
    "train_y = df.iloc[:58114]['label']\n",
    "valid_y = df.iloc[58114:61173]['label']"
   ]
  },
  {
   "cell_type": "code",
   "execution_count": 45,
   "metadata": {},
   "outputs": [],
   "source": [
    "model.fit(normalized_train_data, train_y)\n",
    "preds = model.predict(normalized_valid_data)"
   ]
  },
  {
   "cell_type": "code",
   "execution_count": 42,
   "metadata": {},
   "outputs": [],
   "source": [
    "from sklearn.metrics import balanced_accuracy_score #ACC\n",
    "from sklearn.metrics import f1_score #MCC\n",
    "# https://scikit-learn.org/stable/modules/model_evaluation.html#matthews-corrcoef\n",
    "from sklearn.metrics import multilabel_confusion_matrix"
   ]
  },
  {
   "cell_type": "code",
   "execution_count": 50,
   "metadata": {},
   "outputs": [
    {
     "name": "stdout",
     "output_type": "stream",
     "text": [
      "0.66\n",
      "38.7\n"
     ]
    }
   ],
   "source": [
    "balanced_accuracy = round(100*balanced_accuracy_score(valid_y, preds), 2)\n",
    "f1 = round(f1_score(valid_y, preds, average='weighted'), 2)\n",
    "print(f1)\n",
    "print(balanced_accuracy)"
   ]
  },
  {
   "cell_type": "code",
   "execution_count": 48,
   "metadata": {},
   "outputs": [],
   "source": [
    "test_preds = model.predict(normalized_test_data)\n",
    "test_guids = df_test['guid']"
   ]
  },
  {
   "cell_type": "code",
   "execution_count": 49,
   "metadata": {},
   "outputs": [],
   "source": [
    "import csv\n",
    "fields = ['guid', 'label']\n",
    "rows = [ [test_guids.iloc[index], int(test_preds[index])] for index in range(len(test_guids))]\n",
    "\n",
    "filename = \"Normalized_Tf_Idf_SVC_submission.csv\"\n",
    "\n",
    "with open(filename, 'w') as csvfile:   \n",
    "    csvwriter = csv.writer(csvfile)  \n",
    "        \n",
    "    csvwriter.writerow(fields)  \n",
    "         \n",
    "    csvwriter.writerows(rows) "
   ]
  },
  {
   "cell_type": "markdown",
   "metadata": {},
   "source": [
    "### Basic Approach"
   ]
  },
  {
   "cell_type": "code",
   "execution_count": 72,
   "metadata": {},
   "outputs": [],
   "source": [
    "from sklearn.svm import LinearSVC, SVC, NuSVC"
   ]
  },
  {
   "cell_type": "code",
   "execution_count": 77,
   "metadata": {},
   "outputs": [],
   "source": [
    "model = SVC(C=10, kernel='rbf')\n",
    "# model = NuSVC(nu=1)"
   ]
  },
  {
   "cell_type": "code",
   "execution_count": 78,
   "metadata": {},
   "outputs": [],
   "source": [
    "train_y = df.iloc[:58114]['label']\n",
    "valid_y = df.iloc[58114:61173]['label']"
   ]
  },
  {
   "cell_type": "code",
   "execution_count": 150,
   "metadata": {},
   "outputs": [],
   "source": [
    "from sklearn.model_selection import GridSearchCV\n",
    "\n",
    "param_grid = {'C': [0.1, 0.3, 0.5, 0.7, 0.9, 1, 3, 5, 7, 10]}\n",
    "grid_search = GridSearchCV(LinearSVC(), param_grid, cv=5)\n",
    "grid_search.fit(train_data_tf_idf, train_y)\n",
    "\n",
    "print(\"Best Parameters:\", grid_search.best_params_)\n",
    "model = grid_search.best_estimator_"
   ]
  },
  {
   "cell_type": "code",
   "execution_count": 79,
   "metadata": {},
   "outputs": [],
   "source": [
    "model.fit(train_data_tf_idf, train_y)\n",
    "preds = model.predict(valid_data_tf_idf)"
   ]
  },
  {
   "cell_type": "code",
   "execution_count": null,
   "metadata": {},
   "outputs": [],
   "source": [
    "from sklearn.metrics import balanced_accuracy_score #ACC\n",
    "from sklearn.metrics import f1_score #F1\n",
    "from sklearn.metrics import multilabel_confusion_matrix\n",
    "balanced_accuracy = round(100*balanced_accuracy_score(valid_y, preds), 2)\n",
    "f1 = round(f1_score(valid_y, preds, average='macro'), 2)\n",
    "print(f1)\n",
    "print(balanced_accuracy)"
   ]
  },
  {
   "cell_type": "code",
   "execution_count": 16,
   "metadata": {},
   "outputs": [
    {
     "data": {
      "text/plain": [
       "array([3., 2., 2., ..., 2., 2., 2.])"
      ]
     },
     "execution_count": 16,
     "metadata": {},
     "output_type": "execute_result"
    }
   ],
   "source": [
    "preds"
   ]
  },
  {
   "cell_type": "code",
   "execution_count": 17,
   "metadata": {},
   "outputs": [
    {
     "data": {
      "text/plain": [
       "38.82"
      ]
     },
     "execution_count": 17,
     "metadata": {},
     "output_type": "execute_result"
    }
   ],
   "source": [
    "balanced_accuracy"
   ]
  },
  {
   "cell_type": "code",
   "execution_count": 19,
   "metadata": {},
   "outputs": [],
   "source": [
    "test_preds = model.predict(test_data_tf_idf)\n",
    "test_guids = df_test['guid']"
   ]
  },
  {
   "cell_type": "code",
   "execution_count": 3,
   "metadata": {},
   "outputs": [
    {
     "ename": "NameError",
     "evalue": "name 'test_guids' is not defined",
     "output_type": "error",
     "traceback": [
      "\u001b[1;31m---------------------------------------------------------------------------\u001b[0m",
      "\u001b[1;31mNameError\u001b[0m                                 Traceback (most recent call last)",
      "\u001b[1;32md:\\Master\\PracticalMachineLearning\\Proiect1\\proiect.ipynb Cell 40\u001b[0m line \u001b[0;36m3\n\u001b[0;32m      <a href='vscode-notebook-cell:/d%3A/Master/PracticalMachineLearning/Proiect1/proiect.ipynb#X55sZmlsZQ%3D%3D?line=0'>1</a>\u001b[0m \u001b[39mimport\u001b[39;00m \u001b[39mcsv\u001b[39;00m\n\u001b[0;32m      <a href='vscode-notebook-cell:/d%3A/Master/PracticalMachineLearning/Proiect1/proiect.ipynb#X55sZmlsZQ%3D%3D?line=1'>2</a>\u001b[0m fields \u001b[39m=\u001b[39m [\u001b[39m'\u001b[39m\u001b[39mguid\u001b[39m\u001b[39m'\u001b[39m, \u001b[39m'\u001b[39m\u001b[39mlabel\u001b[39m\u001b[39m'\u001b[39m]\n\u001b[1;32m----> <a href='vscode-notebook-cell:/d%3A/Master/PracticalMachineLearning/Proiect1/proiect.ipynb#X55sZmlsZQ%3D%3D?line=2'>3</a>\u001b[0m rows \u001b[39m=\u001b[39m [ [test_guids\u001b[39m.\u001b[39miloc[index], \u001b[39mint\u001b[39m(test_preds[index])] \u001b[39mfor\u001b[39;00m index \u001b[39min\u001b[39;00m \u001b[39mrange\u001b[39m(\u001b[39mlen\u001b[39m(test_guids))]\n\u001b[0;32m      <a href='vscode-notebook-cell:/d%3A/Master/PracticalMachineLearning/Proiect1/proiect.ipynb#X55sZmlsZQ%3D%3D?line=4'>5</a>\u001b[0m filename \u001b[39m=\u001b[39m \u001b[39m\"\u001b[39m\u001b[39mFeatureEngineering_submission.csv\u001b[39m\u001b[39m\"\u001b[39m\n\u001b[0;32m      <a href='vscode-notebook-cell:/d%3A/Master/PracticalMachineLearning/Proiect1/proiect.ipynb#X55sZmlsZQ%3D%3D?line=6'>7</a>\u001b[0m \u001b[39mwith\u001b[39;00m \u001b[39mopen\u001b[39m(filename, \u001b[39m'\u001b[39m\u001b[39mw\u001b[39m\u001b[39m'\u001b[39m) \u001b[39mas\u001b[39;00m csvfile:   \n",
      "\u001b[1;31mNameError\u001b[0m: name 'test_guids' is not defined"
     ]
    }
   ],
   "source": [
    "import csv\n",
    "fields = ['guid', 'label']\n",
    "rows = [ [test_guids.iloc[index], int(test_preds[index])] for index in range(len(test_guids))]\n",
    "\n",
    "filename = \"FeatureEngineering_submission.csv\"\n",
    "\n",
    "with open(filename, 'w') as csvfile:   \n",
    "    csvwriter = csv.writer(csvfile)  \n",
    "        \n",
    "    csvwriter.writerow(fields)  \n",
    "         \n",
    "    csvwriter.writerows(rows) "
   ]
  },
  {
   "cell_type": "markdown",
   "metadata": {},
   "source": [
    "### Bayes"
   ]
  },
  {
   "cell_type": "code",
   "execution_count": 37,
   "metadata": {},
   "outputs": [],
   "source": [
    "from sklearn.naive_bayes import ComplementNB, BernoulliNB, CategoricalNB, GaussianNB, MultinomialNB\n",
    "model = MultinomialNB(alpha=1e0)\n",
    "model.fit(train_data_tf_idf, train_y)\n",
    "preds = model.predict(valid_data_tf_idf)"
   ]
  },
  {
   "cell_type": "code",
   "execution_count": 39,
   "metadata": {},
   "outputs": [
    {
     "name": "stdout",
     "output_type": "stream",
     "text": [
      "0.67\n",
      "35.89\n"
     ]
    }
   ],
   "source": [
    "balanced_accuracy = round(100*balanced_accuracy_score(valid_y, preds), 2)\n",
    "f1 = round(f1_score(valid_y, preds, average='weighted'), 2)\n",
    "print(f1)\n",
    "print(balanced_accuracy)"
   ]
  },
  {
   "cell_type": "code",
   "execution_count": 40,
   "metadata": {},
   "outputs": [],
   "source": [
    "test_preds = model.predict(test_data_tf_idf)\n",
    "test_guids = df_test['guid']"
   ]
  },
  {
   "cell_type": "code",
   "execution_count": 41,
   "metadata": {},
   "outputs": [],
   "source": [
    "import csv\n",
    "fields = ['guid', 'label']\n",
    "rows = [ [test_guids.iloc[index], int(test_preds[index])] for index in range(len(test_guids))]\n",
    "\n",
    "filename = \"MultinomialNB_submission.csv\"\n",
    "\n",
    "with open(filename, 'w') as csvfile:   \n",
    "    csvwriter = csv.writer(csvfile)  \n",
    "        \n",
    "    csvwriter.writerow(fields)  \n",
    "         \n",
    "    csvwriter.writerows(rows) "
   ]
  },
  {
   "cell_type": "markdown",
   "metadata": {},
   "source": [
    "### XGBoost"
   ]
  },
  {
   "cell_type": "code",
   "execution_count": 64,
   "metadata": {},
   "outputs": [],
   "source": [
    "import xgboost as xgb"
   ]
  },
  {
   "cell_type": "code",
   "execution_count": 9,
   "metadata": {},
   "outputs": [],
   "source": [
    "train_y = df.iloc[:58114]['label']\n",
    "valid_y = df.iloc[58114:61173]['label']\n",
    "#model = xgb.XGBClassifier(booster=\"gbtree\", n_estimators = 2000, learning_rate=0.1, num_class=4, objective='multi:softmax')"
   ]
  },
  {
   "cell_type": "code",
   "execution_count": 66,
   "metadata": {},
   "outputs": [
    {
     "ename": "KeyboardInterrupt",
     "evalue": "",
     "output_type": "error",
     "traceback": [
      "\u001b[1;31m---------------------------------------------------------------------------\u001b[0m",
      "\u001b[1;31mKeyboardInterrupt\u001b[0m                         Traceback (most recent call last)",
      "Cell \u001b[1;32mIn [66], line 1\u001b[0m\n\u001b[1;32m----> 1\u001b[0m \u001b[43mmodel\u001b[49m\u001b[38;5;241;43m.\u001b[39;49m\u001b[43mfit\u001b[49m\u001b[43m(\u001b[49m\u001b[43mtrain_data_tf_idf\u001b[49m\u001b[43m,\u001b[49m\u001b[43m \u001b[49m\u001b[43mtrain_y\u001b[49m\u001b[43m)\u001b[49m\n\u001b[0;32m      2\u001b[0m preds \u001b[38;5;241m=\u001b[39m model\u001b[38;5;241m.\u001b[39mpredict(valid_data_tf_idf)\n",
      "File \u001b[1;32mc:\\Python310\\lib\\site-packages\\xgboost\\core.py:620\u001b[0m, in \u001b[0;36mrequire_keyword_args.<locals>.throw_if.<locals>.inner_f\u001b[1;34m(*args, **kwargs)\u001b[0m\n\u001b[0;32m    618\u001b[0m \u001b[38;5;28;01mfor\u001b[39;00m k, arg \u001b[38;5;129;01min\u001b[39;00m \u001b[38;5;28mzip\u001b[39m(sig\u001b[38;5;241m.\u001b[39mparameters, args):\n\u001b[0;32m    619\u001b[0m     kwargs[k] \u001b[38;5;241m=\u001b[39m arg\n\u001b[1;32m--> 620\u001b[0m \u001b[38;5;28;01mreturn\u001b[39;00m func(\u001b[38;5;241m*\u001b[39m\u001b[38;5;241m*\u001b[39mkwargs)\n",
      "File \u001b[1;32mc:\\Python310\\lib\\site-packages\\xgboost\\sklearn.py:1490\u001b[0m, in \u001b[0;36mXGBClassifier.fit\u001b[1;34m(self, X, y, sample_weight, base_margin, eval_set, eval_metric, early_stopping_rounds, verbose, xgb_model, sample_weight_eval_set, base_margin_eval_set, feature_weights, callbacks)\u001b[0m\n\u001b[0;32m   1462\u001b[0m (\n\u001b[0;32m   1463\u001b[0m     model,\n\u001b[0;32m   1464\u001b[0m     metric,\n\u001b[1;32m   (...)\u001b[0m\n\u001b[0;32m   1469\u001b[0m     xgb_model, eval_metric, params, early_stopping_rounds, callbacks\n\u001b[0;32m   1470\u001b[0m )\n\u001b[0;32m   1471\u001b[0m train_dmatrix, evals \u001b[38;5;241m=\u001b[39m _wrap_evaluation_matrices(\n\u001b[0;32m   1472\u001b[0m     missing\u001b[38;5;241m=\u001b[39m\u001b[38;5;28mself\u001b[39m\u001b[38;5;241m.\u001b[39mmissing,\n\u001b[0;32m   1473\u001b[0m     X\u001b[38;5;241m=\u001b[39mX,\n\u001b[1;32m   (...)\u001b[0m\n\u001b[0;32m   1487\u001b[0m     feature_types\u001b[38;5;241m=\u001b[39m\u001b[38;5;28mself\u001b[39m\u001b[38;5;241m.\u001b[39mfeature_types,\n\u001b[0;32m   1488\u001b[0m )\n\u001b[1;32m-> 1490\u001b[0m \u001b[38;5;28mself\u001b[39m\u001b[38;5;241m.\u001b[39m_Booster \u001b[38;5;241m=\u001b[39m \u001b[43mtrain\u001b[49m\u001b[43m(\u001b[49m\n\u001b[0;32m   1491\u001b[0m \u001b[43m    \u001b[49m\u001b[43mparams\u001b[49m\u001b[43m,\u001b[49m\n\u001b[0;32m   1492\u001b[0m \u001b[43m    \u001b[49m\u001b[43mtrain_dmatrix\u001b[49m\u001b[43m,\u001b[49m\n\u001b[0;32m   1493\u001b[0m \u001b[43m    \u001b[49m\u001b[38;5;28;43mself\u001b[39;49m\u001b[38;5;241;43m.\u001b[39;49m\u001b[43mget_num_boosting_rounds\u001b[49m\u001b[43m(\u001b[49m\u001b[43m)\u001b[49m\u001b[43m,\u001b[49m\n\u001b[0;32m   1494\u001b[0m \u001b[43m    \u001b[49m\u001b[43mevals\u001b[49m\u001b[38;5;241;43m=\u001b[39;49m\u001b[43mevals\u001b[49m\u001b[43m,\u001b[49m\n\u001b[0;32m   1495\u001b[0m \u001b[43m    \u001b[49m\u001b[43mearly_stopping_rounds\u001b[49m\u001b[38;5;241;43m=\u001b[39;49m\u001b[43mearly_stopping_rounds\u001b[49m\u001b[43m,\u001b[49m\n\u001b[0;32m   1496\u001b[0m \u001b[43m    \u001b[49m\u001b[43mevals_result\u001b[49m\u001b[38;5;241;43m=\u001b[39;49m\u001b[43mevals_result\u001b[49m\u001b[43m,\u001b[49m\n\u001b[0;32m   1497\u001b[0m \u001b[43m    \u001b[49m\u001b[43mobj\u001b[49m\u001b[38;5;241;43m=\u001b[39;49m\u001b[43mobj\u001b[49m\u001b[43m,\u001b[49m\n\u001b[0;32m   1498\u001b[0m \u001b[43m    \u001b[49m\u001b[43mcustom_metric\u001b[49m\u001b[38;5;241;43m=\u001b[39;49m\u001b[43mmetric\u001b[49m\u001b[43m,\u001b[49m\n\u001b[0;32m   1499\u001b[0m \u001b[43m    \u001b[49m\u001b[43mverbose_eval\u001b[49m\u001b[38;5;241;43m=\u001b[39;49m\u001b[43mverbose\u001b[49m\u001b[43m,\u001b[49m\n\u001b[0;32m   1500\u001b[0m \u001b[43m    \u001b[49m\u001b[43mxgb_model\u001b[49m\u001b[38;5;241;43m=\u001b[39;49m\u001b[43mmodel\u001b[49m\u001b[43m,\u001b[49m\n\u001b[0;32m   1501\u001b[0m \u001b[43m    \u001b[49m\u001b[43mcallbacks\u001b[49m\u001b[38;5;241;43m=\u001b[39;49m\u001b[43mcallbacks\u001b[49m\u001b[43m,\u001b[49m\n\u001b[0;32m   1502\u001b[0m \u001b[43m\u001b[49m\u001b[43m)\u001b[49m\n\u001b[0;32m   1504\u001b[0m \u001b[38;5;28;01mif\u001b[39;00m \u001b[38;5;129;01mnot\u001b[39;00m callable(\u001b[38;5;28mself\u001b[39m\u001b[38;5;241m.\u001b[39mobjective):\n\u001b[0;32m   1505\u001b[0m     \u001b[38;5;28mself\u001b[39m\u001b[38;5;241m.\u001b[39mobjective \u001b[38;5;241m=\u001b[39m params[\u001b[38;5;124m\"\u001b[39m\u001b[38;5;124mobjective\u001b[39m\u001b[38;5;124m\"\u001b[39m]\n",
      "File \u001b[1;32mc:\\Python310\\lib\\site-packages\\xgboost\\core.py:620\u001b[0m, in \u001b[0;36mrequire_keyword_args.<locals>.throw_if.<locals>.inner_f\u001b[1;34m(*args, **kwargs)\u001b[0m\n\u001b[0;32m    618\u001b[0m \u001b[38;5;28;01mfor\u001b[39;00m k, arg \u001b[38;5;129;01min\u001b[39;00m \u001b[38;5;28mzip\u001b[39m(sig\u001b[38;5;241m.\u001b[39mparameters, args):\n\u001b[0;32m    619\u001b[0m     kwargs[k] \u001b[38;5;241m=\u001b[39m arg\n\u001b[1;32m--> 620\u001b[0m \u001b[38;5;28;01mreturn\u001b[39;00m func(\u001b[38;5;241m*\u001b[39m\u001b[38;5;241m*\u001b[39mkwargs)\n",
      "File \u001b[1;32mc:\\Python310\\lib\\site-packages\\xgboost\\training.py:185\u001b[0m, in \u001b[0;36mtrain\u001b[1;34m(params, dtrain, num_boost_round, evals, obj, feval, maximize, early_stopping_rounds, evals_result, verbose_eval, xgb_model, callbacks, custom_metric)\u001b[0m\n\u001b[0;32m    183\u001b[0m \u001b[38;5;28;01mif\u001b[39;00m cb_container\u001b[38;5;241m.\u001b[39mbefore_iteration(bst, i, dtrain, evals):\n\u001b[0;32m    184\u001b[0m     \u001b[38;5;28;01mbreak\u001b[39;00m\n\u001b[1;32m--> 185\u001b[0m \u001b[43mbst\u001b[49m\u001b[38;5;241;43m.\u001b[39;49m\u001b[43mupdate\u001b[49m\u001b[43m(\u001b[49m\u001b[43mdtrain\u001b[49m\u001b[43m,\u001b[49m\u001b[43m \u001b[49m\u001b[43mi\u001b[49m\u001b[43m,\u001b[49m\u001b[43m \u001b[49m\u001b[43mobj\u001b[49m\u001b[43m)\u001b[49m\n\u001b[0;32m    186\u001b[0m \u001b[38;5;28;01mif\u001b[39;00m cb_container\u001b[38;5;241m.\u001b[39mafter_iteration(bst, i, dtrain, evals):\n\u001b[0;32m    187\u001b[0m     \u001b[38;5;28;01mbreak\u001b[39;00m\n",
      "File \u001b[1;32mc:\\Python310\\lib\\site-packages\\xgboost\\core.py:1918\u001b[0m, in \u001b[0;36mBooster.update\u001b[1;34m(self, dtrain, iteration, fobj)\u001b[0m\n\u001b[0;32m   1915\u001b[0m \u001b[38;5;28mself\u001b[39m\u001b[38;5;241m.\u001b[39m_validate_dmatrix_features(dtrain)\n\u001b[0;32m   1917\u001b[0m \u001b[38;5;28;01mif\u001b[39;00m fobj \u001b[38;5;129;01mis\u001b[39;00m \u001b[38;5;28;01mNone\u001b[39;00m:\n\u001b[1;32m-> 1918\u001b[0m     _check_call(\u001b[43m_LIB\u001b[49m\u001b[38;5;241;43m.\u001b[39;49m\u001b[43mXGBoosterUpdateOneIter\u001b[49m\u001b[43m(\u001b[49m\u001b[38;5;28;43mself\u001b[39;49m\u001b[38;5;241;43m.\u001b[39;49m\u001b[43mhandle\u001b[49m\u001b[43m,\u001b[49m\n\u001b[0;32m   1919\u001b[0m \u001b[43m                                            \u001b[49m\u001b[43mctypes\u001b[49m\u001b[38;5;241;43m.\u001b[39;49m\u001b[43mc_int\u001b[49m\u001b[43m(\u001b[49m\u001b[43miteration\u001b[49m\u001b[43m)\u001b[49m\u001b[43m,\u001b[49m\n\u001b[0;32m   1920\u001b[0m \u001b[43m                                            \u001b[49m\u001b[43mdtrain\u001b[49m\u001b[38;5;241;43m.\u001b[39;49m\u001b[43mhandle\u001b[49m\u001b[43m)\u001b[49m)\n\u001b[0;32m   1921\u001b[0m \u001b[38;5;28;01melse\u001b[39;00m:\n\u001b[0;32m   1922\u001b[0m     pred \u001b[38;5;241m=\u001b[39m \u001b[38;5;28mself\u001b[39m\u001b[38;5;241m.\u001b[39mpredict(dtrain, output_margin\u001b[38;5;241m=\u001b[39m\u001b[38;5;28;01mTrue\u001b[39;00m, training\u001b[38;5;241m=\u001b[39m\u001b[38;5;28;01mTrue\u001b[39;00m)\n",
      "\u001b[1;31mKeyboardInterrupt\u001b[0m: "
     ]
    }
   ],
   "source": [
    "model.fit(train_data_tf_idf, train_y)\n",
    "preds = model.predict(valid_data_tf_idf)"
   ]
  },
  {
   "cell_type": "code",
   "execution_count": null,
   "metadata": {},
   "outputs": [
    {
     "name": "stdout",
     "output_type": "stream",
     "text": [
      "0.37\n",
      "37.39\n"
     ]
    }
   ],
   "source": [
    "balanced_accuracy = round(100*balanced_accuracy_score(valid_y, preds), 2)\n",
    "f1 = round(f1_score(valid_y, preds, average='macro'), 2)\n",
    "print(f1)\n",
    "print(balanced_accuracy)"
   ]
  },
  {
   "cell_type": "code",
   "execution_count": null,
   "metadata": {},
   "outputs": [],
   "source": [
    "test_preds = model.predict(test_data_tf_idf)\n",
    "test_guids = df_test['guid']"
   ]
  },
  {
   "cell_type": "code",
   "execution_count": null,
   "metadata": {},
   "outputs": [],
   "source": [
    "import csv\n",
    "fields = ['guid', 'label']\n",
    "rows = [ [test_guids.iloc[index], int(test_preds[index])] for index in range(len(test_guids))]\n",
    "\n",
    "filename = \"XGBoost_submission_200est.csv\"\n",
    "\n",
    "with open(filename, 'w') as csvfile:   \n",
    "    csvwriter = csv.writer(csvfile)  \n",
    "        \n",
    "    csvwriter.writerow(fields)  \n",
    "         \n",
    "    csvwriter.writerows(rows) "
   ]
  },
  {
   "cell_type": "markdown",
   "metadata": {},
   "source": [
    "### RandomForest"
   ]
  },
  {
   "cell_type": "code",
   "execution_count": 137,
   "metadata": {},
   "outputs": [],
   "source": [
    "from sklearn.ensemble import RandomForestClassifier\n",
    "model = RandomForestClassifier()"
   ]
  },
  {
   "cell_type": "code",
   "execution_count": 138,
   "metadata": {},
   "outputs": [
    {
     "ename": "KeyboardInterrupt",
     "evalue": "",
     "output_type": "error",
     "traceback": [
      "\u001b[1;31m---------------------------------------------------------------------------\u001b[0m",
      "\u001b[1;31mKeyboardInterrupt\u001b[0m                         Traceback (most recent call last)",
      "Cell \u001b[1;32mIn [138], line 1\u001b[0m\n\u001b[1;32m----> 1\u001b[0m \u001b[43mmodel\u001b[49m\u001b[38;5;241;43m.\u001b[39;49m\u001b[43mfit\u001b[49m\u001b[43m(\u001b[49m\u001b[43mtrain_data_tf_idf\u001b[49m\u001b[43m,\u001b[49m\u001b[43m \u001b[49m\u001b[43mtrain_y\u001b[49m\u001b[43m)\u001b[49m\n\u001b[0;32m      2\u001b[0m preds \u001b[38;5;241m=\u001b[39m model\u001b[38;5;241m.\u001b[39mpredict(valid_data_tf_idf)\n",
      "File \u001b[1;32mc:\\Python310\\lib\\site-packages\\sklearn\\ensemble\\_forest.py:476\u001b[0m, in \u001b[0;36mBaseForest.fit\u001b[1;34m(self, X, y, sample_weight)\u001b[0m\n\u001b[0;32m    465\u001b[0m trees \u001b[38;5;241m=\u001b[39m [\n\u001b[0;32m    466\u001b[0m     \u001b[38;5;28mself\u001b[39m\u001b[38;5;241m.\u001b[39m_make_estimator(append\u001b[38;5;241m=\u001b[39m\u001b[38;5;28;01mFalse\u001b[39;00m, random_state\u001b[38;5;241m=\u001b[39mrandom_state)\n\u001b[0;32m    467\u001b[0m     \u001b[38;5;28;01mfor\u001b[39;00m i \u001b[38;5;129;01min\u001b[39;00m \u001b[38;5;28mrange\u001b[39m(n_more_estimators)\n\u001b[0;32m    468\u001b[0m ]\n\u001b[0;32m    470\u001b[0m \u001b[38;5;66;03m# Parallel loop: we prefer the threading backend as the Cython code\u001b[39;00m\n\u001b[0;32m    471\u001b[0m \u001b[38;5;66;03m# for fitting the trees is internally releasing the Python GIL\u001b[39;00m\n\u001b[0;32m    472\u001b[0m \u001b[38;5;66;03m# making threading more efficient than multiprocessing in\u001b[39;00m\n\u001b[0;32m    473\u001b[0m \u001b[38;5;66;03m# that case. However, for joblib 0.12+ we respect any\u001b[39;00m\n\u001b[0;32m    474\u001b[0m \u001b[38;5;66;03m# parallel_backend contexts set at a higher level,\u001b[39;00m\n\u001b[0;32m    475\u001b[0m \u001b[38;5;66;03m# since correctness does not rely on using threads.\u001b[39;00m\n\u001b[1;32m--> 476\u001b[0m trees \u001b[38;5;241m=\u001b[39m \u001b[43mParallel\u001b[49m\u001b[43m(\u001b[49m\n\u001b[0;32m    477\u001b[0m \u001b[43m    \u001b[49m\u001b[43mn_jobs\u001b[49m\u001b[38;5;241;43m=\u001b[39;49m\u001b[38;5;28;43mself\u001b[39;49m\u001b[38;5;241;43m.\u001b[39;49m\u001b[43mn_jobs\u001b[49m\u001b[43m,\u001b[49m\n\u001b[0;32m    478\u001b[0m \u001b[43m    \u001b[49m\u001b[43mverbose\u001b[49m\u001b[38;5;241;43m=\u001b[39;49m\u001b[38;5;28;43mself\u001b[39;49m\u001b[38;5;241;43m.\u001b[39;49m\u001b[43mverbose\u001b[49m\u001b[43m,\u001b[49m\n\u001b[0;32m    479\u001b[0m \u001b[43m    \u001b[49m\u001b[43mprefer\u001b[49m\u001b[38;5;241;43m=\u001b[39;49m\u001b[38;5;124;43m\"\u001b[39;49m\u001b[38;5;124;43mthreads\u001b[39;49m\u001b[38;5;124;43m\"\u001b[39;49m\u001b[43m,\u001b[49m\n\u001b[0;32m    480\u001b[0m \u001b[43m\u001b[49m\u001b[43m)\u001b[49m\u001b[43m(\u001b[49m\n\u001b[0;32m    481\u001b[0m \u001b[43m    \u001b[49m\u001b[43mdelayed\u001b[49m\u001b[43m(\u001b[49m\u001b[43m_parallel_build_trees\u001b[49m\u001b[43m)\u001b[49m\u001b[43m(\u001b[49m\n\u001b[0;32m    482\u001b[0m \u001b[43m        \u001b[49m\u001b[43mt\u001b[49m\u001b[43m,\u001b[49m\n\u001b[0;32m    483\u001b[0m \u001b[43m        \u001b[49m\u001b[38;5;28;43mself\u001b[39;49m\u001b[38;5;241;43m.\u001b[39;49m\u001b[43mbootstrap\u001b[49m\u001b[43m,\u001b[49m\n\u001b[0;32m    484\u001b[0m \u001b[43m        \u001b[49m\u001b[43mX\u001b[49m\u001b[43m,\u001b[49m\n\u001b[0;32m    485\u001b[0m \u001b[43m        \u001b[49m\u001b[43my\u001b[49m\u001b[43m,\u001b[49m\n\u001b[0;32m    486\u001b[0m \u001b[43m        \u001b[49m\u001b[43msample_weight\u001b[49m\u001b[43m,\u001b[49m\n\u001b[0;32m    487\u001b[0m \u001b[43m        \u001b[49m\u001b[43mi\u001b[49m\u001b[43m,\u001b[49m\n\u001b[0;32m    488\u001b[0m \u001b[43m        \u001b[49m\u001b[38;5;28;43mlen\u001b[39;49m\u001b[43m(\u001b[49m\u001b[43mtrees\u001b[49m\u001b[43m)\u001b[49m\u001b[43m,\u001b[49m\n\u001b[0;32m    489\u001b[0m \u001b[43m        \u001b[49m\u001b[43mverbose\u001b[49m\u001b[38;5;241;43m=\u001b[39;49m\u001b[38;5;28;43mself\u001b[39;49m\u001b[38;5;241;43m.\u001b[39;49m\u001b[43mverbose\u001b[49m\u001b[43m,\u001b[49m\n\u001b[0;32m    490\u001b[0m \u001b[43m        \u001b[49m\u001b[43mclass_weight\u001b[49m\u001b[38;5;241;43m=\u001b[39;49m\u001b[38;5;28;43mself\u001b[39;49m\u001b[38;5;241;43m.\u001b[39;49m\u001b[43mclass_weight\u001b[49m\u001b[43m,\u001b[49m\n\u001b[0;32m    491\u001b[0m \u001b[43m        \u001b[49m\u001b[43mn_samples_bootstrap\u001b[49m\u001b[38;5;241;43m=\u001b[39;49m\u001b[43mn_samples_bootstrap\u001b[49m\u001b[43m,\u001b[49m\n\u001b[0;32m    492\u001b[0m \u001b[43m    \u001b[49m\u001b[43m)\u001b[49m\n\u001b[0;32m    493\u001b[0m \u001b[43m    \u001b[49m\u001b[38;5;28;43;01mfor\u001b[39;49;00m\u001b[43m \u001b[49m\u001b[43mi\u001b[49m\u001b[43m,\u001b[49m\u001b[43m \u001b[49m\u001b[43mt\u001b[49m\u001b[43m \u001b[49m\u001b[38;5;129;43;01min\u001b[39;49;00m\u001b[43m \u001b[49m\u001b[38;5;28;43menumerate\u001b[39;49m\u001b[43m(\u001b[49m\u001b[43mtrees\u001b[49m\u001b[43m)\u001b[49m\n\u001b[0;32m    494\u001b[0m \u001b[43m\u001b[49m\u001b[43m)\u001b[49m\n\u001b[0;32m    496\u001b[0m \u001b[38;5;66;03m# Collect newly grown trees\u001b[39;00m\n\u001b[0;32m    497\u001b[0m \u001b[38;5;28mself\u001b[39m\u001b[38;5;241m.\u001b[39mestimators_\u001b[38;5;241m.\u001b[39mextend(trees)\n",
      "File \u001b[1;32mc:\\Python310\\lib\\site-packages\\joblib\\parallel.py:1088\u001b[0m, in \u001b[0;36mParallel.__call__\u001b[1;34m(self, iterable)\u001b[0m\n\u001b[0;32m   1085\u001b[0m \u001b[38;5;28;01mif\u001b[39;00m \u001b[38;5;28mself\u001b[39m\u001b[38;5;241m.\u001b[39mdispatch_one_batch(iterator):\n\u001b[0;32m   1086\u001b[0m     \u001b[38;5;28mself\u001b[39m\u001b[38;5;241m.\u001b[39m_iterating \u001b[38;5;241m=\u001b[39m \u001b[38;5;28mself\u001b[39m\u001b[38;5;241m.\u001b[39m_original_iterator \u001b[38;5;129;01mis\u001b[39;00m \u001b[38;5;129;01mnot\u001b[39;00m \u001b[38;5;28;01mNone\u001b[39;00m\n\u001b[1;32m-> 1088\u001b[0m \u001b[38;5;28;01mwhile\u001b[39;00m \u001b[38;5;28;43mself\u001b[39;49m\u001b[38;5;241;43m.\u001b[39;49m\u001b[43mdispatch_one_batch\u001b[49m\u001b[43m(\u001b[49m\u001b[43miterator\u001b[49m\u001b[43m)\u001b[49m:\n\u001b[0;32m   1089\u001b[0m     \u001b[38;5;28;01mpass\u001b[39;00m\n\u001b[0;32m   1091\u001b[0m \u001b[38;5;28;01mif\u001b[39;00m pre_dispatch \u001b[38;5;241m==\u001b[39m \u001b[38;5;124m\"\u001b[39m\u001b[38;5;124mall\u001b[39m\u001b[38;5;124m\"\u001b[39m \u001b[38;5;129;01mor\u001b[39;00m n_jobs \u001b[38;5;241m==\u001b[39m \u001b[38;5;241m1\u001b[39m:\n\u001b[0;32m   1092\u001b[0m     \u001b[38;5;66;03m# The iterable was consumed all at once by the above for loop.\u001b[39;00m\n\u001b[0;32m   1093\u001b[0m     \u001b[38;5;66;03m# No need to wait for async callbacks to trigger to\u001b[39;00m\n\u001b[0;32m   1094\u001b[0m     \u001b[38;5;66;03m# consumption.\u001b[39;00m\n",
      "File \u001b[1;32mc:\\Python310\\lib\\site-packages\\joblib\\parallel.py:901\u001b[0m, in \u001b[0;36mParallel.dispatch_one_batch\u001b[1;34m(self, iterator)\u001b[0m\n\u001b[0;32m    899\u001b[0m     \u001b[38;5;28;01mreturn\u001b[39;00m \u001b[38;5;28;01mFalse\u001b[39;00m\n\u001b[0;32m    900\u001b[0m \u001b[38;5;28;01melse\u001b[39;00m:\n\u001b[1;32m--> 901\u001b[0m     \u001b[38;5;28;43mself\u001b[39;49m\u001b[38;5;241;43m.\u001b[39;49m\u001b[43m_dispatch\u001b[49m\u001b[43m(\u001b[49m\u001b[43mtasks\u001b[49m\u001b[43m)\u001b[49m\n\u001b[0;32m    902\u001b[0m     \u001b[38;5;28;01mreturn\u001b[39;00m \u001b[38;5;28;01mTrue\u001b[39;00m\n",
      "File \u001b[1;32mc:\\Python310\\lib\\site-packages\\joblib\\parallel.py:819\u001b[0m, in \u001b[0;36mParallel._dispatch\u001b[1;34m(self, batch)\u001b[0m\n\u001b[0;32m    817\u001b[0m \u001b[38;5;28;01mwith\u001b[39;00m \u001b[38;5;28mself\u001b[39m\u001b[38;5;241m.\u001b[39m_lock:\n\u001b[0;32m    818\u001b[0m     job_idx \u001b[38;5;241m=\u001b[39m \u001b[38;5;28mlen\u001b[39m(\u001b[38;5;28mself\u001b[39m\u001b[38;5;241m.\u001b[39m_jobs)\n\u001b[1;32m--> 819\u001b[0m     job \u001b[38;5;241m=\u001b[39m \u001b[38;5;28;43mself\u001b[39;49m\u001b[38;5;241;43m.\u001b[39;49m\u001b[43m_backend\u001b[49m\u001b[38;5;241;43m.\u001b[39;49m\u001b[43mapply_async\u001b[49m\u001b[43m(\u001b[49m\u001b[43mbatch\u001b[49m\u001b[43m,\u001b[49m\u001b[43m \u001b[49m\u001b[43mcallback\u001b[49m\u001b[38;5;241;43m=\u001b[39;49m\u001b[43mcb\u001b[49m\u001b[43m)\u001b[49m\n\u001b[0;32m    820\u001b[0m     \u001b[38;5;66;03m# A job can complete so quickly than its callback is\u001b[39;00m\n\u001b[0;32m    821\u001b[0m     \u001b[38;5;66;03m# called before we get here, causing self._jobs to\u001b[39;00m\n\u001b[0;32m    822\u001b[0m     \u001b[38;5;66;03m# grow. To ensure correct results ordering, .insert is\u001b[39;00m\n\u001b[0;32m    823\u001b[0m     \u001b[38;5;66;03m# used (rather than .append) in the following line\u001b[39;00m\n\u001b[0;32m    824\u001b[0m     \u001b[38;5;28mself\u001b[39m\u001b[38;5;241m.\u001b[39m_jobs\u001b[38;5;241m.\u001b[39minsert(job_idx, job)\n",
      "File \u001b[1;32mc:\\Python310\\lib\\site-packages\\joblib\\_parallel_backends.py:208\u001b[0m, in \u001b[0;36mSequentialBackend.apply_async\u001b[1;34m(self, func, callback)\u001b[0m\n\u001b[0;32m    206\u001b[0m \u001b[38;5;28;01mdef\u001b[39;00m \u001b[38;5;21mapply_async\u001b[39m(\u001b[38;5;28mself\u001b[39m, func, callback\u001b[38;5;241m=\u001b[39m\u001b[38;5;28;01mNone\u001b[39;00m):\n\u001b[0;32m    207\u001b[0m     \u001b[38;5;124;03m\"\"\"Schedule a func to be run\"\"\"\u001b[39;00m\n\u001b[1;32m--> 208\u001b[0m     result \u001b[38;5;241m=\u001b[39m \u001b[43mImmediateResult\u001b[49m\u001b[43m(\u001b[49m\u001b[43mfunc\u001b[49m\u001b[43m)\u001b[49m\n\u001b[0;32m    209\u001b[0m     \u001b[38;5;28;01mif\u001b[39;00m callback:\n\u001b[0;32m    210\u001b[0m         callback(result)\n",
      "File \u001b[1;32mc:\\Python310\\lib\\site-packages\\joblib\\_parallel_backends.py:597\u001b[0m, in \u001b[0;36mImmediateResult.__init__\u001b[1;34m(self, batch)\u001b[0m\n\u001b[0;32m    594\u001b[0m \u001b[38;5;28;01mdef\u001b[39;00m \u001b[38;5;21m__init__\u001b[39m(\u001b[38;5;28mself\u001b[39m, batch):\n\u001b[0;32m    595\u001b[0m     \u001b[38;5;66;03m# Don't delay the application, to avoid keeping the input\u001b[39;00m\n\u001b[0;32m    596\u001b[0m     \u001b[38;5;66;03m# arguments in memory\u001b[39;00m\n\u001b[1;32m--> 597\u001b[0m     \u001b[38;5;28mself\u001b[39m\u001b[38;5;241m.\u001b[39mresults \u001b[38;5;241m=\u001b[39m \u001b[43mbatch\u001b[49m\u001b[43m(\u001b[49m\u001b[43m)\u001b[49m\n",
      "File \u001b[1;32mc:\\Python310\\lib\\site-packages\\joblib\\parallel.py:288\u001b[0m, in \u001b[0;36mBatchedCalls.__call__\u001b[1;34m(self)\u001b[0m\n\u001b[0;32m    284\u001b[0m \u001b[38;5;28;01mdef\u001b[39;00m \u001b[38;5;21m__call__\u001b[39m(\u001b[38;5;28mself\u001b[39m):\n\u001b[0;32m    285\u001b[0m     \u001b[38;5;66;03m# Set the default nested backend to self._backend but do not set the\u001b[39;00m\n\u001b[0;32m    286\u001b[0m     \u001b[38;5;66;03m# change the default number of processes to -1\u001b[39;00m\n\u001b[0;32m    287\u001b[0m     \u001b[38;5;28;01mwith\u001b[39;00m parallel_backend(\u001b[38;5;28mself\u001b[39m\u001b[38;5;241m.\u001b[39m_backend, n_jobs\u001b[38;5;241m=\u001b[39m\u001b[38;5;28mself\u001b[39m\u001b[38;5;241m.\u001b[39m_n_jobs):\n\u001b[1;32m--> 288\u001b[0m         \u001b[38;5;28;01mreturn\u001b[39;00m [func(\u001b[38;5;241m*\u001b[39margs, \u001b[38;5;241m*\u001b[39m\u001b[38;5;241m*\u001b[39mkwargs)\n\u001b[0;32m    289\u001b[0m                 \u001b[38;5;28;01mfor\u001b[39;00m func, args, kwargs \u001b[38;5;129;01min\u001b[39;00m \u001b[38;5;28mself\u001b[39m\u001b[38;5;241m.\u001b[39mitems]\n",
      "File \u001b[1;32mc:\\Python310\\lib\\site-packages\\joblib\\parallel.py:288\u001b[0m, in \u001b[0;36m<listcomp>\u001b[1;34m(.0)\u001b[0m\n\u001b[0;32m    284\u001b[0m \u001b[38;5;28;01mdef\u001b[39;00m \u001b[38;5;21m__call__\u001b[39m(\u001b[38;5;28mself\u001b[39m):\n\u001b[0;32m    285\u001b[0m     \u001b[38;5;66;03m# Set the default nested backend to self._backend but do not set the\u001b[39;00m\n\u001b[0;32m    286\u001b[0m     \u001b[38;5;66;03m# change the default number of processes to -1\u001b[39;00m\n\u001b[0;32m    287\u001b[0m     \u001b[38;5;28;01mwith\u001b[39;00m parallel_backend(\u001b[38;5;28mself\u001b[39m\u001b[38;5;241m.\u001b[39m_backend, n_jobs\u001b[38;5;241m=\u001b[39m\u001b[38;5;28mself\u001b[39m\u001b[38;5;241m.\u001b[39m_n_jobs):\n\u001b[1;32m--> 288\u001b[0m         \u001b[38;5;28;01mreturn\u001b[39;00m [func(\u001b[38;5;241m*\u001b[39margs, \u001b[38;5;241m*\u001b[39m\u001b[38;5;241m*\u001b[39mkwargs)\n\u001b[0;32m    289\u001b[0m                 \u001b[38;5;28;01mfor\u001b[39;00m func, args, kwargs \u001b[38;5;129;01min\u001b[39;00m \u001b[38;5;28mself\u001b[39m\u001b[38;5;241m.\u001b[39mitems]\n",
      "File \u001b[1;32mc:\\Python310\\lib\\site-packages\\sklearn\\utils\\fixes.py:117\u001b[0m, in \u001b[0;36m_FuncWrapper.__call__\u001b[1;34m(self, *args, **kwargs)\u001b[0m\n\u001b[0;32m    115\u001b[0m \u001b[38;5;28;01mdef\u001b[39;00m \u001b[38;5;21m__call__\u001b[39m(\u001b[38;5;28mself\u001b[39m, \u001b[38;5;241m*\u001b[39margs, \u001b[38;5;241m*\u001b[39m\u001b[38;5;241m*\u001b[39mkwargs):\n\u001b[0;32m    116\u001b[0m     \u001b[38;5;28;01mwith\u001b[39;00m config_context(\u001b[38;5;241m*\u001b[39m\u001b[38;5;241m*\u001b[39m\u001b[38;5;28mself\u001b[39m\u001b[38;5;241m.\u001b[39mconfig):\n\u001b[1;32m--> 117\u001b[0m         \u001b[38;5;28;01mreturn\u001b[39;00m \u001b[38;5;28mself\u001b[39m\u001b[38;5;241m.\u001b[39mfunction(\u001b[38;5;241m*\u001b[39margs, \u001b[38;5;241m*\u001b[39m\u001b[38;5;241m*\u001b[39mkwargs)\n",
      "File \u001b[1;32mc:\\Python310\\lib\\site-packages\\sklearn\\ensemble\\_forest.py:189\u001b[0m, in \u001b[0;36m_parallel_build_trees\u001b[1;34m(tree, bootstrap, X, y, sample_weight, tree_idx, n_trees, verbose, class_weight, n_samples_bootstrap)\u001b[0m\n\u001b[0;32m    186\u001b[0m     \u001b[38;5;28;01melif\u001b[39;00m class_weight \u001b[38;5;241m==\u001b[39m \u001b[38;5;124m\"\u001b[39m\u001b[38;5;124mbalanced_subsample\u001b[39m\u001b[38;5;124m\"\u001b[39m:\n\u001b[0;32m    187\u001b[0m         curr_sample_weight \u001b[38;5;241m*\u001b[39m\u001b[38;5;241m=\u001b[39m compute_sample_weight(\u001b[38;5;124m\"\u001b[39m\u001b[38;5;124mbalanced\u001b[39m\u001b[38;5;124m\"\u001b[39m, y, indices\u001b[38;5;241m=\u001b[39mindices)\n\u001b[1;32m--> 189\u001b[0m     \u001b[43mtree\u001b[49m\u001b[38;5;241;43m.\u001b[39;49m\u001b[43mfit\u001b[49m\u001b[43m(\u001b[49m\u001b[43mX\u001b[49m\u001b[43m,\u001b[49m\u001b[43m \u001b[49m\u001b[43my\u001b[49m\u001b[43m,\u001b[49m\u001b[43m \u001b[49m\u001b[43msample_weight\u001b[49m\u001b[38;5;241;43m=\u001b[39;49m\u001b[43mcurr_sample_weight\u001b[49m\u001b[43m,\u001b[49m\u001b[43m \u001b[49m\u001b[43mcheck_input\u001b[49m\u001b[38;5;241;43m=\u001b[39;49m\u001b[38;5;28;43;01mFalse\u001b[39;49;00m\u001b[43m)\u001b[49m\n\u001b[0;32m    190\u001b[0m \u001b[38;5;28;01melse\u001b[39;00m:\n\u001b[0;32m    191\u001b[0m     tree\u001b[38;5;241m.\u001b[39mfit(X, y, sample_weight\u001b[38;5;241m=\u001b[39msample_weight, check_input\u001b[38;5;241m=\u001b[39m\u001b[38;5;28;01mFalse\u001b[39;00m)\n",
      "File \u001b[1;32mc:\\Python310\\lib\\site-packages\\sklearn\\tree\\_classes.py:969\u001b[0m, in \u001b[0;36mDecisionTreeClassifier.fit\u001b[1;34m(self, X, y, sample_weight, check_input)\u001b[0m\n\u001b[0;32m    939\u001b[0m \u001b[38;5;28;01mdef\u001b[39;00m \u001b[38;5;21mfit\u001b[39m(\u001b[38;5;28mself\u001b[39m, X, y, sample_weight\u001b[38;5;241m=\u001b[39m\u001b[38;5;28;01mNone\u001b[39;00m, check_input\u001b[38;5;241m=\u001b[39m\u001b[38;5;28;01mTrue\u001b[39;00m):\n\u001b[0;32m    940\u001b[0m     \u001b[38;5;124;03m\"\"\"Build a decision tree classifier from the training set (X, y).\u001b[39;00m\n\u001b[0;32m    941\u001b[0m \n\u001b[0;32m    942\u001b[0m \u001b[38;5;124;03m    Parameters\u001b[39;00m\n\u001b[1;32m   (...)\u001b[0m\n\u001b[0;32m    966\u001b[0m \u001b[38;5;124;03m        Fitted estimator.\u001b[39;00m\n\u001b[0;32m    967\u001b[0m \u001b[38;5;124;03m    \"\"\"\u001b[39;00m\n\u001b[1;32m--> 969\u001b[0m     \u001b[38;5;28;43msuper\u001b[39;49m\u001b[43m(\u001b[49m\u001b[43m)\u001b[49m\u001b[38;5;241;43m.\u001b[39;49m\u001b[43mfit\u001b[49m\u001b[43m(\u001b[49m\n\u001b[0;32m    970\u001b[0m \u001b[43m        \u001b[49m\u001b[43mX\u001b[49m\u001b[43m,\u001b[49m\n\u001b[0;32m    971\u001b[0m \u001b[43m        \u001b[49m\u001b[43my\u001b[49m\u001b[43m,\u001b[49m\n\u001b[0;32m    972\u001b[0m \u001b[43m        \u001b[49m\u001b[43msample_weight\u001b[49m\u001b[38;5;241;43m=\u001b[39;49m\u001b[43msample_weight\u001b[49m\u001b[43m,\u001b[49m\n\u001b[0;32m    973\u001b[0m \u001b[43m        \u001b[49m\u001b[43mcheck_input\u001b[49m\u001b[38;5;241;43m=\u001b[39;49m\u001b[43mcheck_input\u001b[49m\u001b[43m,\u001b[49m\n\u001b[0;32m    974\u001b[0m \u001b[43m    \u001b[49m\u001b[43m)\u001b[49m\n\u001b[0;32m    975\u001b[0m     \u001b[38;5;28;01mreturn\u001b[39;00m \u001b[38;5;28mself\u001b[39m\n",
      "File \u001b[1;32mc:\\Python310\\lib\\site-packages\\sklearn\\tree\\_classes.py:458\u001b[0m, in \u001b[0;36mBaseDecisionTree.fit\u001b[1;34m(self, X, y, sample_weight, check_input)\u001b[0m\n\u001b[0;32m    447\u001b[0m \u001b[38;5;28;01melse\u001b[39;00m:\n\u001b[0;32m    448\u001b[0m     builder \u001b[38;5;241m=\u001b[39m BestFirstTreeBuilder(\n\u001b[0;32m    449\u001b[0m         splitter,\n\u001b[0;32m    450\u001b[0m         min_samples_split,\n\u001b[1;32m   (...)\u001b[0m\n\u001b[0;32m    455\u001b[0m         \u001b[38;5;28mself\u001b[39m\u001b[38;5;241m.\u001b[39mmin_impurity_decrease,\n\u001b[0;32m    456\u001b[0m     )\n\u001b[1;32m--> 458\u001b[0m \u001b[43mbuilder\u001b[49m\u001b[38;5;241;43m.\u001b[39;49m\u001b[43mbuild\u001b[49m\u001b[43m(\u001b[49m\u001b[38;5;28;43mself\u001b[39;49m\u001b[38;5;241;43m.\u001b[39;49m\u001b[43mtree_\u001b[49m\u001b[43m,\u001b[49m\u001b[43m \u001b[49m\u001b[43mX\u001b[49m\u001b[43m,\u001b[49m\u001b[43m \u001b[49m\u001b[43my\u001b[49m\u001b[43m,\u001b[49m\u001b[43m \u001b[49m\u001b[43msample_weight\u001b[49m\u001b[43m)\u001b[49m\n\u001b[0;32m    460\u001b[0m \u001b[38;5;28;01mif\u001b[39;00m \u001b[38;5;28mself\u001b[39m\u001b[38;5;241m.\u001b[39mn_outputs_ \u001b[38;5;241m==\u001b[39m \u001b[38;5;241m1\u001b[39m \u001b[38;5;129;01mand\u001b[39;00m is_classifier(\u001b[38;5;28mself\u001b[39m):\n\u001b[0;32m    461\u001b[0m     \u001b[38;5;28mself\u001b[39m\u001b[38;5;241m.\u001b[39mn_classes_ \u001b[38;5;241m=\u001b[39m \u001b[38;5;28mself\u001b[39m\u001b[38;5;241m.\u001b[39mn_classes_[\u001b[38;5;241m0\u001b[39m]\n",
      "\u001b[1;31mKeyboardInterrupt\u001b[0m: "
     ]
    }
   ],
   "source": [
    "model.fit(train_data_tf_idf, train_y)\n",
    "preds = model.predict(valid_data_tf_idf)"
   ]
  },
  {
   "cell_type": "code",
   "execution_count": null,
   "metadata": {},
   "outputs": [],
   "source": [
    "balanced_accuracy = round(100*balanced_accuracy_score(valid_y, preds), 2)\n",
    "f1 = round(f1_score(valid_y, preds, average='macro'), 2)\n",
    "print(f1)\n",
    "print(balanced_accuracy)"
   ]
  },
  {
   "cell_type": "code",
   "execution_count": null,
   "metadata": {},
   "outputs": [],
   "source": [
    "test_preds = model.predict(test_data_tf_idf)\n",
    "test_guids = df_test['guid']"
   ]
  },
  {
   "cell_type": "code",
   "execution_count": null,
   "metadata": {},
   "outputs": [],
   "source": [
    "import csv\n",
    "fields = ['guid', 'label']\n",
    "rows = [ [test_guids.iloc[index], int(test_preds[index])] for index in range(len(test_guids))]\n",
    "\n",
    "filename = \"RandomForest_submission.csv\"\n",
    "\n",
    "with open(filename, 'w') as csvfile:   \n",
    "    csvwriter = csv.writer(csvfile)  \n",
    "        \n",
    "    csvwriter.writerow(fields)  \n",
    "         \n",
    "    csvwriter.writerows(rows) "
   ]
  },
  {
   "cell_type": "markdown",
   "metadata": {},
   "source": [
    "### DL"
   ]
  },
  {
   "cell_type": "code",
   "execution_count": 38,
   "metadata": {},
   "outputs": [
    {
     "name": "stderr",
     "output_type": "stream",
     "text": [
      "C:\\Users\\Dragos\\AppData\\Local\\Temp\\ipykernel_22992\\1508458318.py:11: FutureWarning: The behavior of `series[i:j]` with an integer-dtype index is deprecated. In a future version, this will be treated as *label-based* indexing, consistent with e.g. `series[i]` lookups. To retain the old behavior, use `series.iloc[i:j]`. To get the future behavior, use `series.loc[i:j]`.\n",
      "  target = to_categorical(df[\"label\"][:58114].to_list())\n"
     ]
    },
    {
     "data": {
      "text/plain": [
       "array([[1., 0., 0., 0.],\n",
       "       [1., 0., 0., 0.],\n",
       "       [1., 0., 0., 0.],\n",
       "       ...,\n",
       "       [1., 0., 0., 0.],\n",
       "       [1., 0., 0., 0.],\n",
       "       [0., 1., 0., 0.]])"
      ]
     },
     "execution_count": 38,
     "metadata": {},
     "output_type": "execute_result"
    }
   ],
   "source": [
    "import tensorflow\n",
    "from tensorflow.keras.layers import Dense, Dropout\n",
    "from tensorflow.keras.models import Sequential\n",
    "from tensorflow.keras.callbacks import EarlyStopping\n",
    "from tensorflow.keras.utils import to_categorical\n",
    "\n",
    "#The number of predictive features is stored in n_cols.\n",
    "n_cols = 2\n",
    "\n",
    "predictors = df[:58114].drop([\"guid\", \"label\"], axis = 1).values\n",
    "target = to_categorical(df[\"label\"][:58114].to_list())\n",
    "\n",
    "from sklearn.preprocessing import OneHotEncoder\n",
    "\n",
    "# Assuming 'predictors' contains your features, and 'target' contains your labels\n",
    "encoder = OneHotEncoder(sparse=False, categories=[range(4)])\n",
    "target_encoded = encoder.fit_transform(target.reshape(-1, 1))\n",
    "\n",
    "target_encoded\n",
    "\n",
    "\n"
   ]
  },
  {
   "cell_type": "code",
   "execution_count": 14,
   "metadata": {},
   "outputs": [],
   "source": [
    "train_y = df.iloc[:58114]['label']\n",
    "valid_y = df.iloc[58114:61173]['label']"
   ]
  },
  {
   "cell_type": "code",
   "execution_count": 15,
   "metadata": {},
   "outputs": [
    {
     "name": "stdout",
     "output_type": "stream",
     "text": [
      "[3 3 3 ... 3 2 3]\n",
      "[[0. 0. 0. 1.]\n",
      " [0. 0. 0. 1.]\n",
      " [0. 0. 0. 1.]\n",
      " ...\n",
      " [0. 0. 0. 1.]\n",
      " [0. 0. 1. 0.]\n",
      " [0. 0. 0. 1.]]\n",
      "[[0. 0. 0. 1.]\n",
      " [0. 0. 0. 1.]\n",
      " [0. 0. 1. 0.]\n",
      " ...\n",
      " [0. 0. 1. 0.]\n",
      " [0. 0. 0. 1.]\n",
      " [0. 0. 1. 0.]]\n"
     ]
    }
   ],
   "source": [
    "\n",
    "from numpy import array\n",
    "from numpy import argmax\n",
    "from sklearn.preprocessing import LabelEncoder\n",
    "from sklearn.preprocessing import OneHotEncoder\n",
    "# integer encode\n",
    "label_encoder = LabelEncoder()\n",
    "integer_encoded = label_encoder.fit_transform(train_y)\n",
    "print(integer_encoded)\n",
    "# binary encode\n",
    "onehot_encoder = OneHotEncoder(sparse=False)\n",
    "integer_encoded = integer_encoded.reshape(len(integer_encoded), 1)\n",
    "train_onehot_encoded = onehot_encoder.fit_transform(integer_encoded)\n",
    "print(train_onehot_encoded)\n",
    "\n",
    "integer_encoded = label_encoder.fit_transform(valid_y)\n",
    "integer_encoded = integer_encoded.reshape(len(integer_encoded), 1)\n",
    "valid_onehot_encoded = onehot_encoder.fit_transform(integer_encoded)\n",
    "print(valid_onehot_encoded)"
   ]
  },
  {
   "cell_type": "code",
   "execution_count": 6,
   "metadata": {},
   "outputs": [],
   "source": [
    "\n",
    "s1_train_data_tf_idf = vectorizer.fit_transform(s1[:58114])\n",
    "s1_valid_data_tf_idf = vectorizer.transform(s1[58114:61173])\n",
    "s1_test_data_tf_idf = vectorizer.transform(s1[61173:])\n",
    "s2_train_data_tf_idf = vectorizer.transform(s2[:58114])\n",
    "s2_valid_data_tf_idf = vectorizer.transform(s2[58114:61173])\n",
    "s2_test_data_tf_idf = vectorizer.transform(s2[61173:])\n",
    "train_data_tf_idf = s1_train_data_tf_idf + s2_train_data_tf_idf\n",
    "valid_data_tf_idf = s1_valid_data_tf_idf + s2_valid_data_tf_idf\n",
    "test_data_tf_idf = s1_test_data_tf_idf + s2_test_data_tf_idf"
   ]
  },
  {
   "cell_type": "code",
   "execution_count": 7,
   "metadata": {},
   "outputs": [],
   "source": [
    "from sklearn.decomposition import TruncatedSVD\n",
    "t_svd = TruncatedSVD(n_components=100)\n",
    "train_data = t_svd.fit_transform(train_data_tf_idf)\n",
    "valid_data = t_svd.transform(valid_data_tf_idf)\n",
    "test_data = t_svd.transform(test_data_tf_idf)"
   ]
  },
  {
   "cell_type": "code",
   "execution_count": 16,
   "metadata": {},
   "outputs": [
    {
     "name": "stdout",
     "output_type": "stream",
     "text": [
      "Epoch 1/25\n",
      "1817/1817 [==============================] - 6s 3ms/step - loss: 0.7962 - macro_f1_score: 0.4146 - val_loss: 0.7585 - val_macro_f1_score: 0.4660\n",
      "Epoch 2/25\n",
      "1817/1817 [==============================] - 6s 3ms/step - loss: 0.7529 - macro_f1_score: 0.4345 - val_loss: 0.7739 - val_macro_f1_score: 0.4611\n",
      "Epoch 3/25\n",
      "1817/1817 [==============================] - 6s 3ms/step - loss: 0.7405 - macro_f1_score: 0.4411 - val_loss: 0.7781 - val_macro_f1_score: 0.4677\n",
      "Epoch 4/25\n",
      "1817/1817 [==============================] - 6s 3ms/step - loss: 0.7307 - macro_f1_score: 0.4473 - val_loss: 0.7709 - val_macro_f1_score: 0.4682\n",
      "Epoch 5/25\n",
      "1817/1817 [==============================] - 6s 3ms/step - loss: 0.7243 - macro_f1_score: 0.4454 - val_loss: 0.7428 - val_macro_f1_score: 0.4729\n",
      "Epoch 6/25\n",
      "1817/1817 [==============================] - 5s 3ms/step - loss: 0.7194 - macro_f1_score: 0.4477 - val_loss: 0.7453 - val_macro_f1_score: 0.4673\n",
      "Epoch 7/25\n",
      "1817/1817 [==============================] - 5s 3ms/step - loss: 0.7147 - macro_f1_score: 0.4517 - val_loss: 0.8043 - val_macro_f1_score: 0.4495\n",
      "Epoch 8/25\n",
      "1817/1817 [==============================] - 6s 3ms/step - loss: 0.7079 - macro_f1_score: 0.4549 - val_loss: 0.7546 - val_macro_f1_score: 0.4765\n",
      "Epoch 9/25\n",
      "1817/1817 [==============================] - 5s 3ms/step - loss: 0.7052 - macro_f1_score: 0.4557 - val_loss: 0.7815 - val_macro_f1_score: 0.4616\n",
      "Epoch 10/25\n",
      "1817/1817 [==============================] - 5s 3ms/step - loss: 0.6997 - macro_f1_score: 0.4558 - val_loss: 0.7649 - val_macro_f1_score: 0.4693\n",
      "Epoch 11/25\n",
      "1817/1817 [==============================] - 5s 3ms/step - loss: 0.6944 - macro_f1_score: 0.4567 - val_loss: 0.7644 - val_macro_f1_score: 0.4665\n",
      "Epoch 12/25\n",
      "1817/1817 [==============================] - 5s 3ms/step - loss: 0.6926 - macro_f1_score: 0.4580 - val_loss: 0.7601 - val_macro_f1_score: 0.4698\n",
      "Epoch 13/25\n",
      "1817/1817 [==============================] - 5s 3ms/step - loss: 0.6890 - macro_f1_score: 0.4615 - val_loss: 0.7533 - val_macro_f1_score: 0.4703\n",
      "Epoch 14/25\n",
      "1817/1817 [==============================] - 5s 3ms/step - loss: 0.6845 - macro_f1_score: 0.4636 - val_loss: 0.7787 - val_macro_f1_score: 0.4620\n",
      "Epoch 15/25\n",
      "1817/1817 [==============================] - 5s 3ms/step - loss: 0.6823 - macro_f1_score: 0.4654 - val_loss: 0.7677 - val_macro_f1_score: 0.4742\n"
     ]
    },
    {
     "data": {
      "text/plain": [
       "<keras.callbacks.History at 0x2837657ba60>"
      ]
     },
     "execution_count": 16,
     "metadata": {},
     "output_type": "execute_result"
    }
   ],
   "source": [
    "\n",
    "import tensorflow, numpy as np\n",
    "from tensorflow.keras.layers import Dense, Dropout\n",
    "from tensorflow.keras.models import Sequential\n",
    "from tensorflow.keras.callbacks import EarlyStopping\n",
    "from tensorflow.keras.utils import to_categorical\n",
    "from keras import metrics\n",
    "model = Sequential()\n",
    "ea = EarlyStopping(patience=10)\n",
    "model.add(Dense(256, activation = \"relu\", input_shape=(100,)))\n",
    "model.add(Dropout(0.4))\n",
    "model.add(Dense(128, activation = \"relu\"))\n",
    "model.add(Dropout(0.2))\n",
    "model.add(Dense(4, activation = \"softmax\"))\n",
    "\n",
    "import tensorflow as tf\n",
    "from tensorflow import keras\n",
    "from sklearn.metrics import f1_score\n",
    "from functools import partial\n",
    "def macro_f1_score(y_true, y_pred):\n",
    "    y_true = tf.argmax(y_true, axis=1)\n",
    "    y_pred = tf.argmax(y_pred, axis=1)\n",
    "\n",
    "    def f1_score_wrapper(y_true_np, y_pred_np):\n",
    "        return f1_score(y_true_np, y_pred_np, average='macro')\n",
    "\n",
    "    return tf.py_function(f1_score_wrapper, (y_true, y_pred), tf.float32)\n",
    "\n",
    "rlr = keras.callbacks.ReduceLROnPlateau(factor=0.01, patience=10, min_lr=0.00001)\n",
    "\n",
    "model.compile(optimizer = \"adam\", loss = \"categorical_crossentropy\", metrics = [macro_f1_score])\n",
    "\n",
    "model.fit(np.array(train_data), train_onehot_encoded, validation_data = (np.array(valid_data), valid_onehot_encoded)\n",
    "          , epochs = 25, callbacks=[ea])"
   ]
  },
  {
   "cell_type": "code",
   "execution_count": 18,
   "metadata": {},
   "outputs": [
    {
     "name": "stdout",
     "output_type": "stream",
     "text": [
      "96/96 [==============================] - 0s 1ms/step\n",
      "0.35\n",
      "36.27\n"
     ]
    }
   ],
   "source": [
    "from sklearn.metrics import f1_score, balanced_accuracy_score\n",
    "predicted = model.predict(np.array(valid_data))\n",
    "predicted\n",
    "valid_preds = [np.argmax(line) for line in predicted]\n",
    "f1 = round(f1_score(valid_y, valid_preds, average='macro'), 2)\n",
    "balanced_accuracy = round(100*balanced_accuracy_score(valid_y, valid_preds), 2)\n",
    "print(f1)\n",
    "print(balanced_accuracy)"
   ]
  },
  {
   "cell_type": "markdown",
   "metadata": {},
   "source": [
    "## DL2"
   ]
  },
  {
   "cell_type": "code",
   "execution_count": 11,
   "metadata": {},
   "outputs": [],
   "source": [
    "from tensorflow import keras\n",
    "from tensorflow.keras import layers"
   ]
  },
  {
   "cell_type": "code",
   "execution_count": 27,
   "metadata": {},
   "outputs": [],
   "source": [
    "#function created for training a neural network\n",
    "def training_model(X_train, y_train, X_val, y_val, patience=10, opt = 'Adam', model='m3',min_lr=0.000001, lr=0.0001, factor = 0.01, epoch=10, batch=32, reduceLR=True):\n",
    "    #initialize the reduceLR\n",
    "    rlr = keras.callbacks.ReduceLROnPlateau(factor=factor, patience=patience, min_lr=min_lr)\n",
    "    \n",
    "    #Adam optimizer declared \n",
    "    if opt == 'Adam':\n",
    "        optimizer = keras.optimizers.Adam(learning_rate=lr)\n",
    "    \n",
    "    #architecture 1\n",
    "    if model == 'm3':\n",
    "        model = keras.Sequential([\n",
    "        layers.Dense(256, activation=\"relu\"),\n",
    "        layers.Dropout(0.2),\n",
    "        layers.Dense(200, activation='relu'),\n",
    "        layers.Dense(4)\n",
    "    ])\n",
    "    #arhitecture 2\n",
    "    elif model == 'm2':\n",
    "        model = keras.Sequential([\n",
    "        layers.Dense(256, activation='relu'),\n",
    "        layers.Dropout(0.2),    \n",
    "        layers.Dense(4)\n",
    "    ])\n",
    "    #arhitecture 3\n",
    "    elif model == 'm1':\n",
    "        model = keras.Sequential([\n",
    "        layers.Dense(200, activation='relu'),\n",
    "        layers.Dense(4)\n",
    "    ])\n",
    "    \n",
    "    #compline de model using MAE loss and the Adam optimizer\n",
    "    model.compile(loss=keras.losses.categorical_crossentropy, optimizer=optimizer)\n",
    "    \n",
    "    #use the reduceLR if needed\n",
    "    if reduceLR:\n",
    "        history = model.fit(X_train, y_train, batch_size=batch, epochs=epoch, validation_data=(X_val, y_val), callbacks=[rlr],)\n",
    "    else:\n",
    "        history = model.fit(X_train, y_train, batch_size=batch, epochs=epoch, validation_data=(X_val, y_val),)\n",
    "    \n",
    "    #return the history, predicted prob and the model\n",
    "    return history, model.predict(X_val), model"
   ]
  },
  {
   "cell_type": "code",
   "execution_count": 13,
   "metadata": {},
   "outputs": [],
   "source": [
    "train_y = df.iloc[:58114]['label']\n",
    "valid_y = df.iloc[58114:61173]['label']"
   ]
  },
  {
   "cell_type": "code",
   "execution_count": 14,
   "metadata": {},
   "outputs": [
    {
     "name": "stdout",
     "output_type": "stream",
     "text": [
      "[3 3 3 ... 3 2 3]\n"
     ]
    }
   ],
   "source": [
    "\n",
    "from numpy import array\n",
    "from numpy import argmax\n",
    "from sklearn.preprocessing import LabelEncoder\n",
    "from sklearn.preprocessing import OneHotEncoder\n",
    "# integer encode\n",
    "label_encoder = LabelEncoder()\n",
    "integer_encoded = label_encoder.fit_transform(train_y)\n",
    "print(integer_encoded)\n",
    "# binary encode\n",
    "onehot_encoder = OneHotEncoder(sparse=False)\n",
    "integer_encoded = integer_encoded.reshape(len(integer_encoded), 1)\n",
    "train_onehot_encoded = onehot_encoder.fit_transform(integer_encoded)\n",
    "\n",
    "\n",
    "integer_encoded = label_encoder.fit_transform(valid_y)\n",
    "integer_encoded = integer_encoded.reshape(len(integer_encoded), 1)\n",
    "valid_onehot_encoded = onehot_encoder.fit_transform(integer_encoded)\n"
   ]
  },
  {
   "cell_type": "code",
   "execution_count": 15,
   "metadata": {},
   "outputs": [],
   "source": [
    "from sklearn.decomposition import TruncatedSVD"
   ]
  },
  {
   "cell_type": "code",
   "execution_count": 18,
   "metadata": {},
   "outputs": [],
   "source": [
    "t_svd = TruncatedSVD(n_components=100)\n",
    "train_data = t_svd.fit_transform(train_data_tf_idf)\n",
    "valid_data = t_svd.transform(valid_data_tf_idf)\n",
    "test_data = t_svd.transform(test_data_tf_idf)"
   ]
  },
  {
   "cell_type": "code",
   "execution_count": null,
   "metadata": {},
   "outputs": [],
   "source": [
    "train_data[0]"
   ]
  },
  {
   "cell_type": "code",
   "execution_count": 39,
   "metadata": {},
   "outputs": [
    {
     "data": {
      "text/plain": [
       "array([[ 0.03740778, -0.00259994],\n",
       "       [ 0.03414311, -0.00115177],\n",
       "       [ 0.04892641, -0.00491652],\n",
       "       ...,\n",
       "       [ 0.04894245, -0.00391582],\n",
       "       [ 0.06584624, -0.00721977],\n",
       "       [ 0.04468842, -0.00105712]])"
      ]
     },
     "execution_count": 39,
     "metadata": {},
     "output_type": "execute_result"
    }
   ],
   "source": [
    "train_data"
   ]
  },
  {
   "cell_type": "code",
   "execution_count": 20,
   "metadata": {},
   "outputs": [
    {
     "data": {
      "text/plain": [
       "array([[ 0.03740777, -0.00259829, -0.00313735, ..., -0.00013723,\n",
       "         0.0077212 , -0.00690627],\n",
       "       [ 0.03414315, -0.00116434, -0.00108119, ..., -0.00963986,\n",
       "        -0.00607675,  0.00315958],\n",
       "       [ 0.04892642, -0.00491512, -0.00286651, ...,  0.00523675,\n",
       "        -0.01081764,  0.00032247],\n",
       "       ...,\n",
       "       [ 0.04894245, -0.00391167, -0.00348638, ...,  0.01320282,\n",
       "         0.00275113, -0.00511491],\n",
       "       [ 0.0658463 , -0.00723348,  0.00294911, ...,  0.00437263,\n",
       "        -0.00509896, -0.0014987 ],\n",
       "       [ 0.0446884 , -0.00105094, -0.00297152, ..., -0.02006744,\n",
       "        -0.00268463, -0.00984102]])"
      ]
     },
     "execution_count": 20,
     "metadata": {},
     "output_type": "execute_result"
    }
   ],
   "source": [
    "import numpy as np\n",
    "np.array(train_data)"
   ]
  },
  {
   "cell_type": "code",
   "execution_count": 31,
   "metadata": {},
   "outputs": [
    {
     "name": "stdout",
     "output_type": "stream",
     "text": [
      "Epoch 1/10\n",
      "1817/1817 [==============================] - 4s 2ms/step - loss: 6.3234 - val_loss: 5.6545 - lr: 1.0000e-04\n",
      "Epoch 2/10\n",
      "1817/1817 [==============================] - 4s 2ms/step - loss: 4.7353 - val_loss: 3.1358 - lr: 1.0000e-04\n",
      "Epoch 3/10\n",
      "1817/1817 [==============================] - 4s 2ms/step - loss: 4.1665 - val_loss: 2.0345 - lr: 1.0000e-04\n",
      "Epoch 4/10\n",
      "1817/1817 [==============================] - 3s 2ms/step - loss: 1.6348 - val_loss: 4.0265 - lr: 1.0000e-04\n",
      "Epoch 5/10\n",
      "1817/1817 [==============================] - 3s 2ms/step - loss: 8.5682 - val_loss: 9.1353 - lr: 1.0000e-04\n",
      "Epoch 6/10\n",
      "1817/1817 [==============================] - 3s 2ms/step - loss: 7.1669 - val_loss: 3.4944 - lr: 1.0000e-04\n",
      "Epoch 7/10\n",
      "1817/1817 [==============================] - 3s 2ms/step - loss: 5.4931 - val_loss: 11.0718 - lr: 1.0000e-04\n",
      "Epoch 8/10\n",
      "1817/1817 [==============================] - 3s 2ms/step - loss: 6.2664 - val_loss: 1.6271 - lr: 1.0000e-04\n",
      "Epoch 9/10\n",
      "1817/1817 [==============================] - 3s 2ms/step - loss: 4.4524 - val_loss: 11.4692 - lr: 1.0000e-04\n",
      "Epoch 10/10\n",
      "1817/1817 [==============================] - 3s 2ms/step - loss: 4.8960 - val_loss: 6.5731 - lr: 1.0000e-04\n",
      "96/96 [==============================] - 0s 1ms/step\n"
     ]
    }
   ],
   "source": [
    "history, predicted, model = training_model(np.array(train_data) , train_onehot_encoded, np.array(valid_data), valid_onehot_encoded, patience=5,lr=0.0001, reduceLR=True, epoch=10, model='m2')"
   ]
  },
  {
   "cell_type": "code",
   "execution_count": 32,
   "metadata": {},
   "outputs": [
    {
     "name": "stdout",
     "output_type": "stream",
     "text": [
      "96/96 [==============================] - 0s 1ms/step\n",
      "0.03\n"
     ]
    }
   ],
   "source": [
    "from sklearn.metrics import f1_score\n",
    "predicted = model.predict(np.array(valid_data))\n",
    "predicted\n",
    "valid_preds = [np.argmax(line) for line in predicted]\n",
    "f1 = round(f1_score(valid_y, valid_preds, average='macro'), 2)\n",
    "print(f1)"
   ]
  },
  {
   "cell_type": "code",
   "execution_count": 43,
   "metadata": {},
   "outputs": [
    {
     "name": "stdout",
     "output_type": "stream",
     "text": [
      "96/96 [==============================] - 0s 1ms/step\n"
     ]
    }
   ],
   "source": [
    "import numpy as np\n",
    "predicted = model.predict(valid_features)\n",
    "predicted\n",
    "test_preds = [np.argmax(line) for line in predicted]\n",
    "test_guids = df_test['guid']\n",
    "    "
   ]
  },
  {
   "cell_type": "code",
   "execution_count": 44,
   "metadata": {},
   "outputs": [],
   "source": [
    "import csv\n",
    "fields = ['guid', 'label']\n",
    "rows = [ [test_guids.iloc[index], int(test_preds[index])] for index in range(len(test_guids))]\n",
    "\n",
    "filename = \"CNN_submission.csv\"\n",
    "\n",
    "with open(filename, 'w') as csvfile:   \n",
    "    csvwriter = csv.writer(csvfile)  \n",
    "        \n",
    "    csvwriter.writerow(fields)  \n",
    "         \n",
    "    csvwriter.writerows(rows) "
   ]
  }
 ],
 "metadata": {
  "kernelspec": {
   "display_name": "Python 3",
   "language": "python",
   "name": "python3"
  },
  "language_info": {
   "codemirror_mode": {
    "name": "ipython",
    "version": 3
   },
   "file_extension": ".py",
   "mimetype": "text/x-python",
   "name": "python",
   "nbconvert_exporter": "python",
   "pygments_lexer": "ipython3",
   "version": "3.10.8"
  }
 },
 "nbformat": 4,
 "nbformat_minor": 2
}
